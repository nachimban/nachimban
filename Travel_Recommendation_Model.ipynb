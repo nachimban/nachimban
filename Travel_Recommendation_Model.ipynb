{
  "cells": [
    {
      "cell_type": "markdown",
      "metadata": {
        "id": "MUEg3hxhIlmp"
      },
      "source": [
        "# **여행지 및 관광지 추천 인공지능**"
      ]
    },
    {
      "cell_type": "markdown",
      "metadata": {
        "id": "VH1400lyxuj_"
      },
      "source": [
        "# 데이터셋 준비"
      ]
    },
    {
      "cell_type": "markdown",
      "metadata": {
        "id": "9e6GVqURIxWa"
      },
      "source": [
        "## 국내 여행로그 데이터 - AI-Hub\n",
        "\n",
        "- 수도권: https://www.aihub.or.kr/aihubdata/data/view.do?currMenu=&topMenu=&aihubDataSe=data&dataSetSn=71581\n",
        "- 동부권: https://www.aihub.or.kr/aihubdata/data/view.do?currMenu=&topMenu=&aihubDataSe=data&dataSetSn=71585\n",
        "- 서부권: https://www.aihub.or.kr/aihubdata/data/view.do?currMenu=&topMenu=&aihubDataSe=data&dataSetSn=71582\n",
        "- 제주도 및 도서지역: https://www.aihub.or.kr/aihubdata/data/view.do?currMenu=&topMenu=&aihubDataSe=data&dataSetSn=71584"
      ]
    },
    {
      "cell_type": "code",
      "execution_count": 28,
      "metadata": {
        "colab": {
          "base_uri": "https://localhost:8080/"
        },
        "id": "Ds4kvRGrvOJJ",
        "outputId": "0c39b21b-1af8-4c65-b872-ec9629f65658"
      },
      "outputs": [
        {
          "name": "stdout",
          "output_type": "stream",
          "text": [
            "Mounted at /content/gdrive\n"
          ]
        }
      ],
      "source": [
        "from google.colab import drive\n",
        "drive.mount('/content/gdrive')"
      ]
    },
    {
      "cell_type": "code",
      "execution_count": 2,
      "metadata": {
        "id": "oPWv2EO2HOZK"
      },
      "outputs": [],
      "source": [
        "import pandas as pd"
      ]
    },
    {
      "cell_type": "markdown",
      "metadata": {
        "id": "KSnlw1hWG92O"
      },
      "source": [
        "### 방문자 정보"
      ]
    },
    {
      "cell_type": "code",
      "execution_count": 3,
      "metadata": {
        "colab": {
          "base_uri": "https://localhost:8080/",
          "height": 901
        },
        "id": "9pOLvZoxJxdj",
        "outputId": "4a5c4e70-9cb9-43d5-da57-e0dfdb16eca0"
      },
      "outputs": [
        {
          "name": "stderr",
          "output_type": "stream",
          "text": [
            "<ipython-input-3-0db7882039aa>:5: DtypeWarning: Columns (9) have mixed types. Specify dtype option on import or set low_memory=False.\n",
            "  pd.read_csv('/content/gdrive/MyDrive/data/eastern/tn_visit_area_info_방문지정보_B.csv'),\n",
            "<ipython-input-3-0db7882039aa>:6: DtypeWarning: Columns (9) have mixed types. Specify dtype option on import or set low_memory=False.\n",
            "  pd.read_csv('/content/gdrive/MyDrive/data/western/tn_visit_area_info_방문지정보_C.csv'),\n",
            "<ipython-input-3-0db7882039aa>:7: DtypeWarning: Columns (8,9) have mixed types. Specify dtype option on import or set low_memory=False.\n",
            "  pd.read_csv('/content/gdrive/MyDrive/data/islands/tn_visit_area_info_방문지정보_D.csv')\n"
          ]
        },
        {
          "data": {
            "application/vnd.google.colaboratory.intrinsic+json": {
              "type": "dataframe",
              "variable_name": "df_place"
            },
            "text/html": [
              "\n",
              "  <div id=\"df-735a4e20-d812-46f8-b52c-56968281ec01\" class=\"colab-df-container\">\n",
              "    <div>\n",
              "<style scoped>\n",
              "    .dataframe tbody tr th:only-of-type {\n",
              "        vertical-align: middle;\n",
              "    }\n",
              "\n",
              "    .dataframe tbody tr th {\n",
              "        vertical-align: top;\n",
              "    }\n",
              "\n",
              "    .dataframe thead th {\n",
              "        text-align: right;\n",
              "    }\n",
              "</style>\n",
              "<table border=\"1\" class=\"dataframe\">\n",
              "  <thead>\n",
              "    <tr style=\"text-align: right;\">\n",
              "      <th></th>\n",
              "      <th>VISIT_AREA_ID</th>\n",
              "      <th>TRAVEL_ID</th>\n",
              "      <th>VISIT_ORDER</th>\n",
              "      <th>VISIT_AREA_NM</th>\n",
              "      <th>VISIT_START_YMD</th>\n",
              "      <th>VISIT_END_YMD</th>\n",
              "      <th>ROAD_NM_ADDR</th>\n",
              "      <th>LOTNO_ADDR</th>\n",
              "      <th>X_COORD</th>\n",
              "      <th>Y_COORD</th>\n",
              "      <th>...</th>\n",
              "      <th>POI_NM</th>\n",
              "      <th>RESIDENCE_TIME_MIN</th>\n",
              "      <th>VISIT_AREA_TYPE_CD</th>\n",
              "      <th>REVISIT_YN</th>\n",
              "      <th>VISIT_CHC_REASON_CD</th>\n",
              "      <th>LODGING_TYPE_CD</th>\n",
              "      <th>DGSTFN</th>\n",
              "      <th>REVISIT_INTENTION</th>\n",
              "      <th>RCMDTN_INTENTION</th>\n",
              "      <th>SGG_CD</th>\n",
              "    </tr>\n",
              "  </thead>\n",
              "  <tbody>\n",
              "    <tr>\n",
              "      <th>0</th>\n",
              "      <td>2210300006</td>\n",
              "      <td>a_a015688</td>\n",
              "      <td>5</td>\n",
              "      <td>프로방스마을</td>\n",
              "      <td>2022-10-30</td>\n",
              "      <td>2022-10-30</td>\n",
              "      <td>경기 파주시 탄현면 새오리로 77</td>\n",
              "      <td>경기 파주시 탄현면 성동리 82-1</td>\n",
              "      <td>126.685239</td>\n",
              "      <td>37.790405</td>\n",
              "      <td>...</td>\n",
              "      <td>NaN</td>\n",
              "      <td>60.0</td>\n",
              "      <td>7</td>\n",
              "      <td>Y</td>\n",
              "      <td>9.0</td>\n",
              "      <td>NaN</td>\n",
              "      <td>4.0</td>\n",
              "      <td>4.0</td>\n",
              "      <td>4.0</td>\n",
              "      <td>NaN</td>\n",
              "    </tr>\n",
              "    <tr>\n",
              "      <th>1</th>\n",
              "      <td>2208050001</td>\n",
              "      <td>a_a000164</td>\n",
              "      <td>1</td>\n",
              "      <td>친구/친지집</td>\n",
              "      <td>2022-08-05</td>\n",
              "      <td>2022-08-05</td>\n",
              "      <td>NaN</td>\n",
              "      <td>경기도 안산시 단원구 와동</td>\n",
              "      <td>NaN</td>\n",
              "      <td>NaN</td>\n",
              "      <td>...</td>\n",
              "      <td>NaN</td>\n",
              "      <td>NaN</td>\n",
              "      <td>22</td>\n",
              "      <td>NaN</td>\n",
              "      <td>NaN</td>\n",
              "      <td>NaN</td>\n",
              "      <td>NaN</td>\n",
              "      <td>NaN</td>\n",
              "      <td>NaN</td>\n",
              "      <td>41273.0</td>\n",
              "    </tr>\n",
              "    <tr>\n",
              "      <th>2</th>\n",
              "      <td>2210030002</td>\n",
              "      <td>a_a004293</td>\n",
              "      <td>2</td>\n",
              "      <td>병점역 1호선</td>\n",
              "      <td>2022-10-03</td>\n",
              "      <td>2022-10-03</td>\n",
              "      <td>경기 화성시 떡전골로 97</td>\n",
              "      <td>경기 화성시 진안동 824-1</td>\n",
              "      <td>127.0332</td>\n",
              "      <td>37.206753</td>\n",
              "      <td>...</td>\n",
              "      <td>병점역</td>\n",
              "      <td>30.0</td>\n",
              "      <td>9</td>\n",
              "      <td>Y</td>\n",
              "      <td>6.0</td>\n",
              "      <td>NaN</td>\n",
              "      <td>4.0</td>\n",
              "      <td>5.0</td>\n",
              "      <td>5.0</td>\n",
              "      <td>NaN</td>\n",
              "    </tr>\n",
              "    <tr>\n",
              "      <th>3</th>\n",
              "      <td>2208200003</td>\n",
              "      <td>a_a000491</td>\n",
              "      <td>12</td>\n",
              "      <td>더현대서울</td>\n",
              "      <td>2022-08-20</td>\n",
              "      <td>2022-08-20</td>\n",
              "      <td>서울 영등포구 여의대로 108</td>\n",
              "      <td>서울 영등포구 여의도동 22</td>\n",
              "      <td>126.928446</td>\n",
              "      <td>37.525872</td>\n",
              "      <td>...</td>\n",
              "      <td>NaN</td>\n",
              "      <td>180.0</td>\n",
              "      <td>4</td>\n",
              "      <td>N</td>\n",
              "      <td>2.0</td>\n",
              "      <td>NaN</td>\n",
              "      <td>5.0</td>\n",
              "      <td>5.0</td>\n",
              "      <td>5.0</td>\n",
              "      <td>NaN</td>\n",
              "    </tr>\n",
              "    <tr>\n",
              "      <th>4</th>\n",
              "      <td>2208110007</td>\n",
              "      <td>a_a000172</td>\n",
              "      <td>13</td>\n",
              "      <td>강릉중앙시장</td>\n",
              "      <td>2022-08-11</td>\n",
              "      <td>2022-08-11</td>\n",
              "      <td>강원 강릉시 금성로 21</td>\n",
              "      <td>강원 강릉시 성남동 50</td>\n",
              "      <td>128.898624</td>\n",
              "      <td>37.754025</td>\n",
              "      <td>...</td>\n",
              "      <td>신흥수산</td>\n",
              "      <td>30.0</td>\n",
              "      <td>4</td>\n",
              "      <td>N</td>\n",
              "      <td>1.0</td>\n",
              "      <td>NaN</td>\n",
              "      <td>4.0</td>\n",
              "      <td>4.0</td>\n",
              "      <td>4.0</td>\n",
              "      <td>NaN</td>\n",
              "    </tr>\n",
              "    <tr>\n",
              "      <th>...</th>\n",
              "      <td>...</td>\n",
              "      <td>...</td>\n",
              "      <td>...</td>\n",
              "      <td>...</td>\n",
              "      <td>...</td>\n",
              "      <td>...</td>\n",
              "      <td>...</td>\n",
              "      <td>...</td>\n",
              "      <td>...</td>\n",
              "      <td>...</td>\n",
              "      <td>...</td>\n",
              "      <td>...</td>\n",
              "      <td>...</td>\n",
              "      <td>...</td>\n",
              "      <td>...</td>\n",
              "      <td>...</td>\n",
              "      <td>...</td>\n",
              "      <td>...</td>\n",
              "      <td>...</td>\n",
              "      <td>...</td>\n",
              "      <td>...</td>\n",
              "    </tr>\n",
              "    <tr>\n",
              "      <th>62267</th>\n",
              "      <td>2208220008</td>\n",
              "      <td>d_d000761</td>\n",
              "      <td>8</td>\n",
              "      <td>머큐어앰배서더 제주</td>\n",
              "      <td>2022-08-22</td>\n",
              "      <td>2022-08-23</td>\n",
              "      <td>제주특별자치도 서귀포시 안덕면 한창로 365</td>\n",
              "      <td>제주특별자치도 서귀포시 안덕면 상창리 2892</td>\n",
              "      <td>126.3487373</td>\n",
              "      <td>33.29365237</td>\n",
              "      <td>...</td>\n",
              "      <td>NaN</td>\n",
              "      <td>180.0</td>\n",
              "      <td>24</td>\n",
              "      <td>N</td>\n",
              "      <td>7.0</td>\n",
              "      <td>1.0</td>\n",
              "      <td>5.0</td>\n",
              "      <td>5.0</td>\n",
              "      <td>5.0</td>\n",
              "      <td>NaN</td>\n",
              "    </tr>\n",
              "    <tr>\n",
              "      <th>62268</th>\n",
              "      <td>2208280007</td>\n",
              "      <td>d_d000780</td>\n",
              "      <td>2</td>\n",
              "      <td>청주국제공항</td>\n",
              "      <td>2022-08-28</td>\n",
              "      <td>2022-08-28</td>\n",
              "      <td>충북 청주시 청원구 내수읍 오창대로 980</td>\n",
              "      <td>충북 청주시 청원구 내수읍 입상리 88</td>\n",
              "      <td>127.4958529</td>\n",
              "      <td>36.72202246</td>\n",
              "      <td>...</td>\n",
              "      <td>NaN</td>\n",
              "      <td>90.0</td>\n",
              "      <td>9</td>\n",
              "      <td>Y</td>\n",
              "      <td>6.0</td>\n",
              "      <td>NaN</td>\n",
              "      <td>5.0</td>\n",
              "      <td>5.0</td>\n",
              "      <td>5.0</td>\n",
              "      <td>NaN</td>\n",
              "    </tr>\n",
              "    <tr>\n",
              "      <th>62269</th>\n",
              "      <td>2210030006</td>\n",
              "      <td>d_d001455</td>\n",
              "      <td>22</td>\n",
              "      <td>메종글래드제주</td>\n",
              "      <td>2022-10-03</td>\n",
              "      <td>2022-10-04</td>\n",
              "      <td>제주특별자치도 제주시 노연로 80</td>\n",
              "      <td>제주특별자치도 제주시 연동 263-15</td>\n",
              "      <td>126.4885234</td>\n",
              "      <td>33.48527907</td>\n",
              "      <td>...</td>\n",
              "      <td>메종글래드제주호텔</td>\n",
              "      <td>180.0</td>\n",
              "      <td>24</td>\n",
              "      <td>Y</td>\n",
              "      <td>8.0</td>\n",
              "      <td>1.0</td>\n",
              "      <td>3.0</td>\n",
              "      <td>3.0</td>\n",
              "      <td>3.0</td>\n",
              "      <td>NaN</td>\n",
              "    </tr>\n",
              "    <tr>\n",
              "      <th>62270</th>\n",
              "      <td>2209100002</td>\n",
              "      <td>a_a002144</td>\n",
              "      <td>8</td>\n",
              "      <td>옹진농협하나로마트 덕적점</td>\n",
              "      <td>2022-09-10</td>\n",
              "      <td>2022-09-10</td>\n",
              "      <td>인천 옹진군 덕적면 덕적북로 31-22</td>\n",
              "      <td>인천 옹진군 덕적면 진리 87</td>\n",
              "      <td>126.1540897</td>\n",
              "      <td>37.22679959</td>\n",
              "      <td>...</td>\n",
              "      <td>365민박</td>\n",
              "      <td>0.0</td>\n",
              "      <td>10</td>\n",
              "      <td>Y</td>\n",
              "      <td>6.0</td>\n",
              "      <td>NaN</td>\n",
              "      <td>5.0</td>\n",
              "      <td>5.0</td>\n",
              "      <td>5.0</td>\n",
              "      <td>NaN</td>\n",
              "    </tr>\n",
              "    <tr>\n",
              "      <th>62271</th>\n",
              "      <td>2210210006</td>\n",
              "      <td>d_d005392</td>\n",
              "      <td>2</td>\n",
              "      <td>김포국제공항 국내선</td>\n",
              "      <td>2022-10-21</td>\n",
              "      <td>2022-10-21</td>\n",
              "      <td>서울 강서구 하늘길 112</td>\n",
              "      <td>서울 강서구 공항동 1373</td>\n",
              "      <td>126.8028655</td>\n",
              "      <td>37.55894903</td>\n",
              "      <td>...</td>\n",
              "      <td>NaN</td>\n",
              "      <td>60.0</td>\n",
              "      <td>9</td>\n",
              "      <td>Y</td>\n",
              "      <td>6.0</td>\n",
              "      <td>NaN</td>\n",
              "      <td>4.0</td>\n",
              "      <td>4.0</td>\n",
              "      <td>4.0</td>\n",
              "      <td>NaN</td>\n",
              "    </tr>\n",
              "  </tbody>\n",
              "</table>\n",
              "<p>164195 rows × 23 columns</p>\n",
              "</div>\n",
              "    <div class=\"colab-df-buttons\">\n",
              "\n",
              "  <div class=\"colab-df-container\">\n",
              "    <button class=\"colab-df-convert\" onclick=\"convertToInteractive('df-735a4e20-d812-46f8-b52c-56968281ec01')\"\n",
              "            title=\"Convert this dataframe to an interactive table.\"\n",
              "            style=\"display:none;\">\n",
              "\n",
              "  <svg xmlns=\"http://www.w3.org/2000/svg\" height=\"24px\" viewBox=\"0 -960 960 960\">\n",
              "    <path d=\"M120-120v-720h720v720H120Zm60-500h600v-160H180v160Zm220 220h160v-160H400v160Zm0 220h160v-160H400v160ZM180-400h160v-160H180v160Zm440 0h160v-160H620v160ZM180-180h160v-160H180v160Zm440 0h160v-160H620v160Z\"/>\n",
              "  </svg>\n",
              "    </button>\n",
              "\n",
              "  <style>\n",
              "    .colab-df-container {\n",
              "      display:flex;\n",
              "      gap: 12px;\n",
              "    }\n",
              "\n",
              "    .colab-df-convert {\n",
              "      background-color: #E8F0FE;\n",
              "      border: none;\n",
              "      border-radius: 50%;\n",
              "      cursor: pointer;\n",
              "      display: none;\n",
              "      fill: #1967D2;\n",
              "      height: 32px;\n",
              "      padding: 0 0 0 0;\n",
              "      width: 32px;\n",
              "    }\n",
              "\n",
              "    .colab-df-convert:hover {\n",
              "      background-color: #E2EBFA;\n",
              "      box-shadow: 0px 1px 2px rgba(60, 64, 67, 0.3), 0px 1px 3px 1px rgba(60, 64, 67, 0.15);\n",
              "      fill: #174EA6;\n",
              "    }\n",
              "\n",
              "    .colab-df-buttons div {\n",
              "      margin-bottom: 4px;\n",
              "    }\n",
              "\n",
              "    [theme=dark] .colab-df-convert {\n",
              "      background-color: #3B4455;\n",
              "      fill: #D2E3FC;\n",
              "    }\n",
              "\n",
              "    [theme=dark] .colab-df-convert:hover {\n",
              "      background-color: #434B5C;\n",
              "      box-shadow: 0px 1px 3px 1px rgba(0, 0, 0, 0.15);\n",
              "      filter: drop-shadow(0px 1px 2px rgba(0, 0, 0, 0.3));\n",
              "      fill: #FFFFFF;\n",
              "    }\n",
              "  </style>\n",
              "\n",
              "    <script>\n",
              "      const buttonEl =\n",
              "        document.querySelector('#df-735a4e20-d812-46f8-b52c-56968281ec01 button.colab-df-convert');\n",
              "      buttonEl.style.display =\n",
              "        google.colab.kernel.accessAllowed ? 'block' : 'none';\n",
              "\n",
              "      async function convertToInteractive(key) {\n",
              "        const element = document.querySelector('#df-735a4e20-d812-46f8-b52c-56968281ec01');\n",
              "        const dataTable =\n",
              "          await google.colab.kernel.invokeFunction('convertToInteractive',\n",
              "                                                    [key], {});\n",
              "        if (!dataTable) return;\n",
              "\n",
              "        const docLinkHtml = 'Like what you see? Visit the ' +\n",
              "          '<a target=\"_blank\" href=https://colab.research.google.com/notebooks/data_table.ipynb>data table notebook</a>'\n",
              "          + ' to learn more about interactive tables.';\n",
              "        element.innerHTML = '';\n",
              "        dataTable['output_type'] = 'display_data';\n",
              "        await google.colab.output.renderOutput(dataTable, element);\n",
              "        const docLink = document.createElement('div');\n",
              "        docLink.innerHTML = docLinkHtml;\n",
              "        element.appendChild(docLink);\n",
              "      }\n",
              "    </script>\n",
              "  </div>\n",
              "\n",
              "\n",
              "<div id=\"df-20fc5bc0-137c-446b-96d1-bffb4007575f\">\n",
              "  <button class=\"colab-df-quickchart\" onclick=\"quickchart('df-20fc5bc0-137c-446b-96d1-bffb4007575f')\"\n",
              "            title=\"Suggest charts\"\n",
              "            style=\"display:none;\">\n",
              "\n",
              "<svg xmlns=\"http://www.w3.org/2000/svg\" height=\"24px\"viewBox=\"0 0 24 24\"\n",
              "     width=\"24px\">\n",
              "    <g>\n",
              "        <path d=\"M19 3H5c-1.1 0-2 .9-2 2v14c0 1.1.9 2 2 2h14c1.1 0 2-.9 2-2V5c0-1.1-.9-2-2-2zM9 17H7v-7h2v7zm4 0h-2V7h2v10zm4 0h-2v-4h2v4z\"/>\n",
              "    </g>\n",
              "</svg>\n",
              "  </button>\n",
              "\n",
              "<style>\n",
              "  .colab-df-quickchart {\n",
              "      --bg-color: #E8F0FE;\n",
              "      --fill-color: #1967D2;\n",
              "      --hover-bg-color: #E2EBFA;\n",
              "      --hover-fill-color: #174EA6;\n",
              "      --disabled-fill-color: #AAA;\n",
              "      --disabled-bg-color: #DDD;\n",
              "  }\n",
              "\n",
              "  [theme=dark] .colab-df-quickchart {\n",
              "      --bg-color: #3B4455;\n",
              "      --fill-color: #D2E3FC;\n",
              "      --hover-bg-color: #434B5C;\n",
              "      --hover-fill-color: #FFFFFF;\n",
              "      --disabled-bg-color: #3B4455;\n",
              "      --disabled-fill-color: #666;\n",
              "  }\n",
              "\n",
              "  .colab-df-quickchart {\n",
              "    background-color: var(--bg-color);\n",
              "    border: none;\n",
              "    border-radius: 50%;\n",
              "    cursor: pointer;\n",
              "    display: none;\n",
              "    fill: var(--fill-color);\n",
              "    height: 32px;\n",
              "    padding: 0;\n",
              "    width: 32px;\n",
              "  }\n",
              "\n",
              "  .colab-df-quickchart:hover {\n",
              "    background-color: var(--hover-bg-color);\n",
              "    box-shadow: 0 1px 2px rgba(60, 64, 67, 0.3), 0 1px 3px 1px rgba(60, 64, 67, 0.15);\n",
              "    fill: var(--button-hover-fill-color);\n",
              "  }\n",
              "\n",
              "  .colab-df-quickchart-complete:disabled,\n",
              "  .colab-df-quickchart-complete:disabled:hover {\n",
              "    background-color: var(--disabled-bg-color);\n",
              "    fill: var(--disabled-fill-color);\n",
              "    box-shadow: none;\n",
              "  }\n",
              "\n",
              "  .colab-df-spinner {\n",
              "    border: 2px solid var(--fill-color);\n",
              "    border-color: transparent;\n",
              "    border-bottom-color: var(--fill-color);\n",
              "    animation:\n",
              "      spin 1s steps(1) infinite;\n",
              "  }\n",
              "\n",
              "  @keyframes spin {\n",
              "    0% {\n",
              "      border-color: transparent;\n",
              "      border-bottom-color: var(--fill-color);\n",
              "      border-left-color: var(--fill-color);\n",
              "    }\n",
              "    20% {\n",
              "      border-color: transparent;\n",
              "      border-left-color: var(--fill-color);\n",
              "      border-top-color: var(--fill-color);\n",
              "    }\n",
              "    30% {\n",
              "      border-color: transparent;\n",
              "      border-left-color: var(--fill-color);\n",
              "      border-top-color: var(--fill-color);\n",
              "      border-right-color: var(--fill-color);\n",
              "    }\n",
              "    40% {\n",
              "      border-color: transparent;\n",
              "      border-right-color: var(--fill-color);\n",
              "      border-top-color: var(--fill-color);\n",
              "    }\n",
              "    60% {\n",
              "      border-color: transparent;\n",
              "      border-right-color: var(--fill-color);\n",
              "    }\n",
              "    80% {\n",
              "      border-color: transparent;\n",
              "      border-right-color: var(--fill-color);\n",
              "      border-bottom-color: var(--fill-color);\n",
              "    }\n",
              "    90% {\n",
              "      border-color: transparent;\n",
              "      border-bottom-color: var(--fill-color);\n",
              "    }\n",
              "  }\n",
              "</style>\n",
              "\n",
              "  <script>\n",
              "    async function quickchart(key) {\n",
              "      const quickchartButtonEl =\n",
              "        document.querySelector('#' + key + ' button');\n",
              "      quickchartButtonEl.disabled = true;  // To prevent multiple clicks.\n",
              "      quickchartButtonEl.classList.add('colab-df-spinner');\n",
              "      try {\n",
              "        const charts = await google.colab.kernel.invokeFunction(\n",
              "            'suggestCharts', [key], {});\n",
              "      } catch (error) {\n",
              "        console.error('Error during call to suggestCharts:', error);\n",
              "      }\n",
              "      quickchartButtonEl.classList.remove('colab-df-spinner');\n",
              "      quickchartButtonEl.classList.add('colab-df-quickchart-complete');\n",
              "    }\n",
              "    (() => {\n",
              "      let quickchartButtonEl =\n",
              "        document.querySelector('#df-20fc5bc0-137c-446b-96d1-bffb4007575f button');\n",
              "      quickchartButtonEl.style.display =\n",
              "        google.colab.kernel.accessAllowed ? 'block' : 'none';\n",
              "    })();\n",
              "  </script>\n",
              "</div>\n",
              "\n",
              "  <div id=\"id_99459fc0-add9-47f9-ba9b-baa5a0d09df9\">\n",
              "    <style>\n",
              "      .colab-df-generate {\n",
              "        background-color: #E8F0FE;\n",
              "        border: none;\n",
              "        border-radius: 50%;\n",
              "        cursor: pointer;\n",
              "        display: none;\n",
              "        fill: #1967D2;\n",
              "        height: 32px;\n",
              "        padding: 0 0 0 0;\n",
              "        width: 32px;\n",
              "      }\n",
              "\n",
              "      .colab-df-generate:hover {\n",
              "        background-color: #E2EBFA;\n",
              "        box-shadow: 0px 1px 2px rgba(60, 64, 67, 0.3), 0px 1px 3px 1px rgba(60, 64, 67, 0.15);\n",
              "        fill: #174EA6;\n",
              "      }\n",
              "\n",
              "      [theme=dark] .colab-df-generate {\n",
              "        background-color: #3B4455;\n",
              "        fill: #D2E3FC;\n",
              "      }\n",
              "\n",
              "      [theme=dark] .colab-df-generate:hover {\n",
              "        background-color: #434B5C;\n",
              "        box-shadow: 0px 1px 3px 1px rgba(0, 0, 0, 0.15);\n",
              "        filter: drop-shadow(0px 1px 2px rgba(0, 0, 0, 0.3));\n",
              "        fill: #FFFFFF;\n",
              "      }\n",
              "    </style>\n",
              "    <button class=\"colab-df-generate\" onclick=\"generateWithVariable('df_place')\"\n",
              "            title=\"Generate code using this dataframe.\"\n",
              "            style=\"display:none;\">\n",
              "\n",
              "  <svg xmlns=\"http://www.w3.org/2000/svg\" height=\"24px\"viewBox=\"0 0 24 24\"\n",
              "       width=\"24px\">\n",
              "    <path d=\"M7,19H8.4L18.45,9,17,7.55,7,17.6ZM5,21V16.75L18.45,3.32a2,2,0,0,1,2.83,0l1.4,1.43a1.91,1.91,0,0,1,.58,1.4,1.91,1.91,0,0,1-.58,1.4L9.25,21ZM18.45,9,17,7.55Zm-12,3A5.31,5.31,0,0,0,4.9,8.1,5.31,5.31,0,0,0,1,6.5,5.31,5.31,0,0,0,4.9,4.9,5.31,5.31,0,0,0,6.5,1,5.31,5.31,0,0,0,8.1,4.9,5.31,5.31,0,0,0,12,6.5,5.46,5.46,0,0,0,6.5,12Z\"/>\n",
              "  </svg>\n",
              "    </button>\n",
              "    <script>\n",
              "      (() => {\n",
              "      const buttonEl =\n",
              "        document.querySelector('#id_99459fc0-add9-47f9-ba9b-baa5a0d09df9 button.colab-df-generate');\n",
              "      buttonEl.style.display =\n",
              "        google.colab.kernel.accessAllowed ? 'block' : 'none';\n",
              "\n",
              "      buttonEl.onclick = () => {\n",
              "        google.colab.notebook.generateWithVariable('df_place');\n",
              "      }\n",
              "      })();\n",
              "    </script>\n",
              "  </div>\n",
              "\n",
              "    </div>\n",
              "  </div>\n"
            ],
            "text/plain": [
              "       VISIT_AREA_ID  TRAVEL_ID  VISIT_ORDER  VISIT_AREA_NM VISIT_START_YMD  \\\n",
              "0         2210300006  a_a015688            5         프로방스마을      2022-10-30   \n",
              "1         2208050001  a_a000164            1         친구/친지집      2022-08-05   \n",
              "2         2210030002  a_a004293            2        병점역 1호선      2022-10-03   \n",
              "3         2208200003  a_a000491           12          더현대서울      2022-08-20   \n",
              "4         2208110007  a_a000172           13         강릉중앙시장      2022-08-11   \n",
              "...              ...        ...          ...            ...             ...   \n",
              "62267     2208220008  d_d000761            8     머큐어앰배서더 제주      2022-08-22   \n",
              "62268     2208280007  d_d000780            2         청주국제공항      2022-08-28   \n",
              "62269     2210030006  d_d001455           22        메종글래드제주      2022-10-03   \n",
              "62270     2209100002  a_a002144            8  옹진농협하나로마트 덕적점      2022-09-10   \n",
              "62271     2210210006  d_d005392            2     김포국제공항 국내선      2022-10-21   \n",
              "\n",
              "      VISIT_END_YMD              ROAD_NM_ADDR                 LOTNO_ADDR  \\\n",
              "0        2022-10-30        경기 파주시 탄현면 새오리로 77        경기 파주시 탄현면 성동리 82-1   \n",
              "1        2022-08-05                       NaN             경기도 안산시 단원구 와동   \n",
              "2        2022-10-03            경기 화성시 떡전골로 97           경기 화성시 진안동 824-1   \n",
              "3        2022-08-20          서울 영등포구 여의대로 108            서울 영등포구 여의도동 22   \n",
              "4        2022-08-11             강원 강릉시 금성로 21              강원 강릉시 성남동 50   \n",
              "...             ...                       ...                        ...   \n",
              "62267    2022-08-23  제주특별자치도 서귀포시 안덕면 한창로 365  제주특별자치도 서귀포시 안덕면 상창리 2892   \n",
              "62268    2022-08-28   충북 청주시 청원구 내수읍 오창대로 980      충북 청주시 청원구 내수읍 입상리 88   \n",
              "62269    2022-10-04        제주특별자치도 제주시 노연로 80      제주특별자치도 제주시 연동 263-15   \n",
              "62270    2022-09-10     인천 옹진군 덕적면 덕적북로 31-22           인천 옹진군 덕적면 진리 87   \n",
              "62271    2022-10-21            서울 강서구 하늘길 112            서울 강서구 공항동 1373   \n",
              "\n",
              "           X_COORD      Y_COORD  ...     POI_NM RESIDENCE_TIME_MIN  \\\n",
              "0       126.685239    37.790405  ...        NaN               60.0   \n",
              "1              NaN          NaN  ...        NaN                NaN   \n",
              "2         127.0332    37.206753  ...        병점역               30.0   \n",
              "3       126.928446    37.525872  ...        NaN              180.0   \n",
              "4       128.898624    37.754025  ...       신흥수산               30.0   \n",
              "...            ...          ...  ...        ...                ...   \n",
              "62267  126.3487373  33.29365237  ...        NaN              180.0   \n",
              "62268  127.4958529  36.72202246  ...        NaN               90.0   \n",
              "62269  126.4885234  33.48527907  ...  메종글래드제주호텔              180.0   \n",
              "62270  126.1540897  37.22679959  ...      365민박                0.0   \n",
              "62271  126.8028655  37.55894903  ...        NaN               60.0   \n",
              "\n",
              "      VISIT_AREA_TYPE_CD REVISIT_YN  VISIT_CHC_REASON_CD  LODGING_TYPE_CD  \\\n",
              "0                      7          Y                  9.0              NaN   \n",
              "1                     22        NaN                  NaN              NaN   \n",
              "2                      9          Y                  6.0              NaN   \n",
              "3                      4          N                  2.0              NaN   \n",
              "4                      4          N                  1.0              NaN   \n",
              "...                  ...        ...                  ...              ...   \n",
              "62267                 24          N                  7.0              1.0   \n",
              "62268                  9          Y                  6.0              NaN   \n",
              "62269                 24          Y                  8.0              1.0   \n",
              "62270                 10          Y                  6.0              NaN   \n",
              "62271                  9          Y                  6.0              NaN   \n",
              "\n",
              "      DGSTFN  REVISIT_INTENTION  RCMDTN_INTENTION   SGG_CD  \n",
              "0        4.0                4.0               4.0      NaN  \n",
              "1        NaN                NaN               NaN  41273.0  \n",
              "2        4.0                5.0               5.0      NaN  \n",
              "3        5.0                5.0               5.0      NaN  \n",
              "4        4.0                4.0               4.0      NaN  \n",
              "...      ...                ...               ...      ...  \n",
              "62267    5.0                5.0               5.0      NaN  \n",
              "62268    5.0                5.0               5.0      NaN  \n",
              "62269    3.0                3.0               3.0      NaN  \n",
              "62270    5.0                5.0               5.0      NaN  \n",
              "62271    4.0                4.0               4.0      NaN  \n",
              "\n",
              "[164195 rows x 23 columns]"
            ]
          },
          "execution_count": 3,
          "metadata": {},
          "output_type": "execute_result"
        }
      ],
      "source": [
        "import re\n",
        "\n",
        "df_place = pd.concat([\n",
        "    pd.read_csv('/content/gdrive/MyDrive/data/metropolitan/tn_visit_area_info_방문지정보_A.csv'),\n",
        "    pd.read_csv('/content/gdrive/MyDrive/data/eastern/tn_visit_area_info_방문지정보_B.csv'),\n",
        "    pd.read_csv('/content/gdrive/MyDrive/data/western/tn_visit_area_info_방문지정보_C.csv'),\n",
        "    pd.read_csv('/content/gdrive/MyDrive/data/islands/tn_visit_area_info_방문지정보_D.csv')\n",
        "], axis=0)\n",
        "\n",
        "df_place"
      ]
    },
    {
      "cell_type": "markdown",
      "metadata": {
        "id": "l04Cl8IEv9WX"
      },
      "source": [
        "지역별 평균 만족도를 구하기 위해 ROAD_NM_ADDR 칼럼에서 어느 지역에 속해있는지 구분하였다."
      ]
    },
    {
      "cell_type": "code",
      "execution_count": 4,
      "metadata": {
        "colab": {
          "base_uri": "https://localhost:8080/",
          "height": 791
        },
        "id": "HsShh1et-iu1",
        "outputId": "a36c9e74-e0c9-46be-c90f-ca3979a7f974"
      },
      "outputs": [
        {
          "data": {
            "application/vnd.google.colaboratory.intrinsic+json": {
              "type": "dataframe",
              "variable_name": "df_place"
            },
            "text/html": [
              "\n",
              "  <div id=\"df-c18cf9b4-f88a-4aee-989b-6aed1f133085\" class=\"colab-df-container\">\n",
              "    <div>\n",
              "<style scoped>\n",
              "    .dataframe tbody tr th:only-of-type {\n",
              "        vertical-align: middle;\n",
              "    }\n",
              "\n",
              "    .dataframe tbody tr th {\n",
              "        vertical-align: top;\n",
              "    }\n",
              "\n",
              "    .dataframe thead th {\n",
              "        text-align: right;\n",
              "    }\n",
              "</style>\n",
              "<table border=\"1\" class=\"dataframe\">\n",
              "  <thead>\n",
              "    <tr style=\"text-align: right;\">\n",
              "      <th></th>\n",
              "      <th>VISIT_AREA_ID</th>\n",
              "      <th>TRAVEL_ID</th>\n",
              "      <th>VISIT_ORDER</th>\n",
              "      <th>VISIT_AREA_NM</th>\n",
              "      <th>VISIT_START_YMD</th>\n",
              "      <th>VISIT_END_YMD</th>\n",
              "      <th>ROAD_NM_ADDR</th>\n",
              "      <th>LOTNO_ADDR</th>\n",
              "      <th>X_COORD</th>\n",
              "      <th>Y_COORD</th>\n",
              "      <th>...</th>\n",
              "      <th>RESIDENCE_TIME_MIN</th>\n",
              "      <th>VISIT_AREA_TYPE_CD</th>\n",
              "      <th>REVISIT_YN</th>\n",
              "      <th>VISIT_CHC_REASON_CD</th>\n",
              "      <th>LODGING_TYPE_CD</th>\n",
              "      <th>DGSTFN</th>\n",
              "      <th>REVISIT_INTENTION</th>\n",
              "      <th>RCMDTN_INTENTION</th>\n",
              "      <th>SGG_CD</th>\n",
              "      <th>SIDO_NM</th>\n",
              "    </tr>\n",
              "  </thead>\n",
              "  <tbody>\n",
              "    <tr>\n",
              "      <th>0</th>\n",
              "      <td>2210300006</td>\n",
              "      <td>a_a015688</td>\n",
              "      <td>5</td>\n",
              "      <td>프로방스마을</td>\n",
              "      <td>2022-10-30</td>\n",
              "      <td>2022-10-30</td>\n",
              "      <td>경기 파주시 탄현면 새오리로 77</td>\n",
              "      <td>경기 파주시 탄현면 성동리 82-1</td>\n",
              "      <td>126.685239</td>\n",
              "      <td>37.790405</td>\n",
              "      <td>...</td>\n",
              "      <td>60.0</td>\n",
              "      <td>7</td>\n",
              "      <td>Y</td>\n",
              "      <td>9.0</td>\n",
              "      <td>NaN</td>\n",
              "      <td>4.0</td>\n",
              "      <td>4.0</td>\n",
              "      <td>4.0</td>\n",
              "      <td>NaN</td>\n",
              "      <td>파주시</td>\n",
              "    </tr>\n",
              "    <tr>\n",
              "      <th>1</th>\n",
              "      <td>2208050001</td>\n",
              "      <td>a_a000164</td>\n",
              "      <td>1</td>\n",
              "      <td>친구/친지집</td>\n",
              "      <td>2022-08-05</td>\n",
              "      <td>2022-08-05</td>\n",
              "      <td>nan</td>\n",
              "      <td>경기도 안산시 단원구 와동</td>\n",
              "      <td>NaN</td>\n",
              "      <td>NaN</td>\n",
              "      <td>...</td>\n",
              "      <td>NaN</td>\n",
              "      <td>22</td>\n",
              "      <td>NaN</td>\n",
              "      <td>NaN</td>\n",
              "      <td>NaN</td>\n",
              "      <td>NaN</td>\n",
              "      <td>NaN</td>\n",
              "      <td>NaN</td>\n",
              "      <td>41273.0</td>\n",
              "      <td>NaN</td>\n",
              "    </tr>\n",
              "    <tr>\n",
              "      <th>2</th>\n",
              "      <td>2210030002</td>\n",
              "      <td>a_a004293</td>\n",
              "      <td>2</td>\n",
              "      <td>병점역 1호선</td>\n",
              "      <td>2022-10-03</td>\n",
              "      <td>2022-10-03</td>\n",
              "      <td>경기 화성시 떡전골로 97</td>\n",
              "      <td>경기 화성시 진안동 824-1</td>\n",
              "      <td>127.0332</td>\n",
              "      <td>37.206753</td>\n",
              "      <td>...</td>\n",
              "      <td>30.0</td>\n",
              "      <td>9</td>\n",
              "      <td>Y</td>\n",
              "      <td>6.0</td>\n",
              "      <td>NaN</td>\n",
              "      <td>4.0</td>\n",
              "      <td>5.0</td>\n",
              "      <td>5.0</td>\n",
              "      <td>NaN</td>\n",
              "      <td>화성시</td>\n",
              "    </tr>\n",
              "    <tr>\n",
              "      <th>3</th>\n",
              "      <td>2208200003</td>\n",
              "      <td>a_a000491</td>\n",
              "      <td>12</td>\n",
              "      <td>더현대서울</td>\n",
              "      <td>2022-08-20</td>\n",
              "      <td>2022-08-20</td>\n",
              "      <td>서울 영등포구 여의대로 108</td>\n",
              "      <td>서울 영등포구 여의도동 22</td>\n",
              "      <td>126.928446</td>\n",
              "      <td>37.525872</td>\n",
              "      <td>...</td>\n",
              "      <td>180.0</td>\n",
              "      <td>4</td>\n",
              "      <td>N</td>\n",
              "      <td>2.0</td>\n",
              "      <td>NaN</td>\n",
              "      <td>5.0</td>\n",
              "      <td>5.0</td>\n",
              "      <td>5.0</td>\n",
              "      <td>NaN</td>\n",
              "      <td>서울특별시</td>\n",
              "    </tr>\n",
              "    <tr>\n",
              "      <th>4</th>\n",
              "      <td>2208110007</td>\n",
              "      <td>a_a000172</td>\n",
              "      <td>13</td>\n",
              "      <td>강릉중앙시장</td>\n",
              "      <td>2022-08-11</td>\n",
              "      <td>2022-08-11</td>\n",
              "      <td>강원 강릉시 금성로 21</td>\n",
              "      <td>강원 강릉시 성남동 50</td>\n",
              "      <td>128.898624</td>\n",
              "      <td>37.754025</td>\n",
              "      <td>...</td>\n",
              "      <td>30.0</td>\n",
              "      <td>4</td>\n",
              "      <td>N</td>\n",
              "      <td>1.0</td>\n",
              "      <td>NaN</td>\n",
              "      <td>4.0</td>\n",
              "      <td>4.0</td>\n",
              "      <td>4.0</td>\n",
              "      <td>NaN</td>\n",
              "      <td>강릉시</td>\n",
              "    </tr>\n",
              "    <tr>\n",
              "      <th>...</th>\n",
              "      <td>...</td>\n",
              "      <td>...</td>\n",
              "      <td>...</td>\n",
              "      <td>...</td>\n",
              "      <td>...</td>\n",
              "      <td>...</td>\n",
              "      <td>...</td>\n",
              "      <td>...</td>\n",
              "      <td>...</td>\n",
              "      <td>...</td>\n",
              "      <td>...</td>\n",
              "      <td>...</td>\n",
              "      <td>...</td>\n",
              "      <td>...</td>\n",
              "      <td>...</td>\n",
              "      <td>...</td>\n",
              "      <td>...</td>\n",
              "      <td>...</td>\n",
              "      <td>...</td>\n",
              "      <td>...</td>\n",
              "      <td>...</td>\n",
              "    </tr>\n",
              "    <tr>\n",
              "      <th>62267</th>\n",
              "      <td>2208220008</td>\n",
              "      <td>d_d000761</td>\n",
              "      <td>8</td>\n",
              "      <td>머큐어앰배서더 제주</td>\n",
              "      <td>2022-08-22</td>\n",
              "      <td>2022-08-23</td>\n",
              "      <td>제주특별자치도 서귀포시 안덕면 한창로 365</td>\n",
              "      <td>제주특별자치도 서귀포시 안덕면 상창리 2892</td>\n",
              "      <td>126.3487373</td>\n",
              "      <td>33.29365237</td>\n",
              "      <td>...</td>\n",
              "      <td>180.0</td>\n",
              "      <td>24</td>\n",
              "      <td>N</td>\n",
              "      <td>7.0</td>\n",
              "      <td>1.0</td>\n",
              "      <td>5.0</td>\n",
              "      <td>5.0</td>\n",
              "      <td>5.0</td>\n",
              "      <td>NaN</td>\n",
              "      <td>제주특별자치도</td>\n",
              "    </tr>\n",
              "    <tr>\n",
              "      <th>62268</th>\n",
              "      <td>2208280007</td>\n",
              "      <td>d_d000780</td>\n",
              "      <td>2</td>\n",
              "      <td>청주국제공항</td>\n",
              "      <td>2022-08-28</td>\n",
              "      <td>2022-08-28</td>\n",
              "      <td>충북 청주시 청원구 내수읍 오창대로 980</td>\n",
              "      <td>충북 청주시 청원구 내수읍 입상리 88</td>\n",
              "      <td>127.4958529</td>\n",
              "      <td>36.72202246</td>\n",
              "      <td>...</td>\n",
              "      <td>90.0</td>\n",
              "      <td>9</td>\n",
              "      <td>Y</td>\n",
              "      <td>6.0</td>\n",
              "      <td>NaN</td>\n",
              "      <td>5.0</td>\n",
              "      <td>5.0</td>\n",
              "      <td>5.0</td>\n",
              "      <td>NaN</td>\n",
              "      <td>청주시</td>\n",
              "    </tr>\n",
              "    <tr>\n",
              "      <th>62269</th>\n",
              "      <td>2210030006</td>\n",
              "      <td>d_d001455</td>\n",
              "      <td>22</td>\n",
              "      <td>메종글래드제주</td>\n",
              "      <td>2022-10-03</td>\n",
              "      <td>2022-10-04</td>\n",
              "      <td>제주특별자치도 제주시 노연로 80</td>\n",
              "      <td>제주특별자치도 제주시 연동 263-15</td>\n",
              "      <td>126.4885234</td>\n",
              "      <td>33.48527907</td>\n",
              "      <td>...</td>\n",
              "      <td>180.0</td>\n",
              "      <td>24</td>\n",
              "      <td>Y</td>\n",
              "      <td>8.0</td>\n",
              "      <td>1.0</td>\n",
              "      <td>3.0</td>\n",
              "      <td>3.0</td>\n",
              "      <td>3.0</td>\n",
              "      <td>NaN</td>\n",
              "      <td>제주특별자치도</td>\n",
              "    </tr>\n",
              "    <tr>\n",
              "      <th>62270</th>\n",
              "      <td>2209100002</td>\n",
              "      <td>a_a002144</td>\n",
              "      <td>8</td>\n",
              "      <td>옹진농협하나로마트 덕적점</td>\n",
              "      <td>2022-09-10</td>\n",
              "      <td>2022-09-10</td>\n",
              "      <td>인천 옹진군 덕적면 덕적북로 31-22</td>\n",
              "      <td>인천 옹진군 덕적면 진리 87</td>\n",
              "      <td>126.1540897</td>\n",
              "      <td>37.22679959</td>\n",
              "      <td>...</td>\n",
              "      <td>0.0</td>\n",
              "      <td>10</td>\n",
              "      <td>Y</td>\n",
              "      <td>6.0</td>\n",
              "      <td>NaN</td>\n",
              "      <td>5.0</td>\n",
              "      <td>5.0</td>\n",
              "      <td>5.0</td>\n",
              "      <td>NaN</td>\n",
              "      <td>인천광역시</td>\n",
              "    </tr>\n",
              "    <tr>\n",
              "      <th>62271</th>\n",
              "      <td>2210210006</td>\n",
              "      <td>d_d005392</td>\n",
              "      <td>2</td>\n",
              "      <td>김포국제공항 국내선</td>\n",
              "      <td>2022-10-21</td>\n",
              "      <td>2022-10-21</td>\n",
              "      <td>서울 강서구 하늘길 112</td>\n",
              "      <td>서울 강서구 공항동 1373</td>\n",
              "      <td>126.8028655</td>\n",
              "      <td>37.55894903</td>\n",
              "      <td>...</td>\n",
              "      <td>60.0</td>\n",
              "      <td>9</td>\n",
              "      <td>Y</td>\n",
              "      <td>6.0</td>\n",
              "      <td>NaN</td>\n",
              "      <td>4.0</td>\n",
              "      <td>4.0</td>\n",
              "      <td>4.0</td>\n",
              "      <td>NaN</td>\n",
              "      <td>서울특별시</td>\n",
              "    </tr>\n",
              "  </tbody>\n",
              "</table>\n",
              "<p>164195 rows × 24 columns</p>\n",
              "</div>\n",
              "    <div class=\"colab-df-buttons\">\n",
              "\n",
              "  <div class=\"colab-df-container\">\n",
              "    <button class=\"colab-df-convert\" onclick=\"convertToInteractive('df-c18cf9b4-f88a-4aee-989b-6aed1f133085')\"\n",
              "            title=\"Convert this dataframe to an interactive table.\"\n",
              "            style=\"display:none;\">\n",
              "\n",
              "  <svg xmlns=\"http://www.w3.org/2000/svg\" height=\"24px\" viewBox=\"0 -960 960 960\">\n",
              "    <path d=\"M120-120v-720h720v720H120Zm60-500h600v-160H180v160Zm220 220h160v-160H400v160Zm0 220h160v-160H400v160ZM180-400h160v-160H180v160Zm440 0h160v-160H620v160ZM180-180h160v-160H180v160Zm440 0h160v-160H620v160Z\"/>\n",
              "  </svg>\n",
              "    </button>\n",
              "\n",
              "  <style>\n",
              "    .colab-df-container {\n",
              "      display:flex;\n",
              "      gap: 12px;\n",
              "    }\n",
              "\n",
              "    .colab-df-convert {\n",
              "      background-color: #E8F0FE;\n",
              "      border: none;\n",
              "      border-radius: 50%;\n",
              "      cursor: pointer;\n",
              "      display: none;\n",
              "      fill: #1967D2;\n",
              "      height: 32px;\n",
              "      padding: 0 0 0 0;\n",
              "      width: 32px;\n",
              "    }\n",
              "\n",
              "    .colab-df-convert:hover {\n",
              "      background-color: #E2EBFA;\n",
              "      box-shadow: 0px 1px 2px rgba(60, 64, 67, 0.3), 0px 1px 3px 1px rgba(60, 64, 67, 0.15);\n",
              "      fill: #174EA6;\n",
              "    }\n",
              "\n",
              "    .colab-df-buttons div {\n",
              "      margin-bottom: 4px;\n",
              "    }\n",
              "\n",
              "    [theme=dark] .colab-df-convert {\n",
              "      background-color: #3B4455;\n",
              "      fill: #D2E3FC;\n",
              "    }\n",
              "\n",
              "    [theme=dark] .colab-df-convert:hover {\n",
              "      background-color: #434B5C;\n",
              "      box-shadow: 0px 1px 3px 1px rgba(0, 0, 0, 0.15);\n",
              "      filter: drop-shadow(0px 1px 2px rgba(0, 0, 0, 0.3));\n",
              "      fill: #FFFFFF;\n",
              "    }\n",
              "  </style>\n",
              "\n",
              "    <script>\n",
              "      const buttonEl =\n",
              "        document.querySelector('#df-c18cf9b4-f88a-4aee-989b-6aed1f133085 button.colab-df-convert');\n",
              "      buttonEl.style.display =\n",
              "        google.colab.kernel.accessAllowed ? 'block' : 'none';\n",
              "\n",
              "      async function convertToInteractive(key) {\n",
              "        const element = document.querySelector('#df-c18cf9b4-f88a-4aee-989b-6aed1f133085');\n",
              "        const dataTable =\n",
              "          await google.colab.kernel.invokeFunction('convertToInteractive',\n",
              "                                                    [key], {});\n",
              "        if (!dataTable) return;\n",
              "\n",
              "        const docLinkHtml = 'Like what you see? Visit the ' +\n",
              "          '<a target=\"_blank\" href=https://colab.research.google.com/notebooks/data_table.ipynb>data table notebook</a>'\n",
              "          + ' to learn more about interactive tables.';\n",
              "        element.innerHTML = '';\n",
              "        dataTable['output_type'] = 'display_data';\n",
              "        await google.colab.output.renderOutput(dataTable, element);\n",
              "        const docLink = document.createElement('div');\n",
              "        docLink.innerHTML = docLinkHtml;\n",
              "        element.appendChild(docLink);\n",
              "      }\n",
              "    </script>\n",
              "  </div>\n",
              "\n",
              "\n",
              "<div id=\"df-97c57411-45d9-4692-abda-2ac3afa6825a\">\n",
              "  <button class=\"colab-df-quickchart\" onclick=\"quickchart('df-97c57411-45d9-4692-abda-2ac3afa6825a')\"\n",
              "            title=\"Suggest charts\"\n",
              "            style=\"display:none;\">\n",
              "\n",
              "<svg xmlns=\"http://www.w3.org/2000/svg\" height=\"24px\"viewBox=\"0 0 24 24\"\n",
              "     width=\"24px\">\n",
              "    <g>\n",
              "        <path d=\"M19 3H5c-1.1 0-2 .9-2 2v14c0 1.1.9 2 2 2h14c1.1 0 2-.9 2-2V5c0-1.1-.9-2-2-2zM9 17H7v-7h2v7zm4 0h-2V7h2v10zm4 0h-2v-4h2v4z\"/>\n",
              "    </g>\n",
              "</svg>\n",
              "  </button>\n",
              "\n",
              "<style>\n",
              "  .colab-df-quickchart {\n",
              "      --bg-color: #E8F0FE;\n",
              "      --fill-color: #1967D2;\n",
              "      --hover-bg-color: #E2EBFA;\n",
              "      --hover-fill-color: #174EA6;\n",
              "      --disabled-fill-color: #AAA;\n",
              "      --disabled-bg-color: #DDD;\n",
              "  }\n",
              "\n",
              "  [theme=dark] .colab-df-quickchart {\n",
              "      --bg-color: #3B4455;\n",
              "      --fill-color: #D2E3FC;\n",
              "      --hover-bg-color: #434B5C;\n",
              "      --hover-fill-color: #FFFFFF;\n",
              "      --disabled-bg-color: #3B4455;\n",
              "      --disabled-fill-color: #666;\n",
              "  }\n",
              "\n",
              "  .colab-df-quickchart {\n",
              "    background-color: var(--bg-color);\n",
              "    border: none;\n",
              "    border-radius: 50%;\n",
              "    cursor: pointer;\n",
              "    display: none;\n",
              "    fill: var(--fill-color);\n",
              "    height: 32px;\n",
              "    padding: 0;\n",
              "    width: 32px;\n",
              "  }\n",
              "\n",
              "  .colab-df-quickchart:hover {\n",
              "    background-color: var(--hover-bg-color);\n",
              "    box-shadow: 0 1px 2px rgba(60, 64, 67, 0.3), 0 1px 3px 1px rgba(60, 64, 67, 0.15);\n",
              "    fill: var(--button-hover-fill-color);\n",
              "  }\n",
              "\n",
              "  .colab-df-quickchart-complete:disabled,\n",
              "  .colab-df-quickchart-complete:disabled:hover {\n",
              "    background-color: var(--disabled-bg-color);\n",
              "    fill: var(--disabled-fill-color);\n",
              "    box-shadow: none;\n",
              "  }\n",
              "\n",
              "  .colab-df-spinner {\n",
              "    border: 2px solid var(--fill-color);\n",
              "    border-color: transparent;\n",
              "    border-bottom-color: var(--fill-color);\n",
              "    animation:\n",
              "      spin 1s steps(1) infinite;\n",
              "  }\n",
              "\n",
              "  @keyframes spin {\n",
              "    0% {\n",
              "      border-color: transparent;\n",
              "      border-bottom-color: var(--fill-color);\n",
              "      border-left-color: var(--fill-color);\n",
              "    }\n",
              "    20% {\n",
              "      border-color: transparent;\n",
              "      border-left-color: var(--fill-color);\n",
              "      border-top-color: var(--fill-color);\n",
              "    }\n",
              "    30% {\n",
              "      border-color: transparent;\n",
              "      border-left-color: var(--fill-color);\n",
              "      border-top-color: var(--fill-color);\n",
              "      border-right-color: var(--fill-color);\n",
              "    }\n",
              "    40% {\n",
              "      border-color: transparent;\n",
              "      border-right-color: var(--fill-color);\n",
              "      border-top-color: var(--fill-color);\n",
              "    }\n",
              "    60% {\n",
              "      border-color: transparent;\n",
              "      border-right-color: var(--fill-color);\n",
              "    }\n",
              "    80% {\n",
              "      border-color: transparent;\n",
              "      border-right-color: var(--fill-color);\n",
              "      border-bottom-color: var(--fill-color);\n",
              "    }\n",
              "    90% {\n",
              "      border-color: transparent;\n",
              "      border-bottom-color: var(--fill-color);\n",
              "    }\n",
              "  }\n",
              "</style>\n",
              "\n",
              "  <script>\n",
              "    async function quickchart(key) {\n",
              "      const quickchartButtonEl =\n",
              "        document.querySelector('#' + key + ' button');\n",
              "      quickchartButtonEl.disabled = true;  // To prevent multiple clicks.\n",
              "      quickchartButtonEl.classList.add('colab-df-spinner');\n",
              "      try {\n",
              "        const charts = await google.colab.kernel.invokeFunction(\n",
              "            'suggestCharts', [key], {});\n",
              "      } catch (error) {\n",
              "        console.error('Error during call to suggestCharts:', error);\n",
              "      }\n",
              "      quickchartButtonEl.classList.remove('colab-df-spinner');\n",
              "      quickchartButtonEl.classList.add('colab-df-quickchart-complete');\n",
              "    }\n",
              "    (() => {\n",
              "      let quickchartButtonEl =\n",
              "        document.querySelector('#df-97c57411-45d9-4692-abda-2ac3afa6825a button');\n",
              "      quickchartButtonEl.style.display =\n",
              "        google.colab.kernel.accessAllowed ? 'block' : 'none';\n",
              "    })();\n",
              "  </script>\n",
              "</div>\n",
              "\n",
              "  <div id=\"id_9ae7b47c-9eec-4fd0-85b3-8c39d60a9691\">\n",
              "    <style>\n",
              "      .colab-df-generate {\n",
              "        background-color: #E8F0FE;\n",
              "        border: none;\n",
              "        border-radius: 50%;\n",
              "        cursor: pointer;\n",
              "        display: none;\n",
              "        fill: #1967D2;\n",
              "        height: 32px;\n",
              "        padding: 0 0 0 0;\n",
              "        width: 32px;\n",
              "      }\n",
              "\n",
              "      .colab-df-generate:hover {\n",
              "        background-color: #E2EBFA;\n",
              "        box-shadow: 0px 1px 2px rgba(60, 64, 67, 0.3), 0px 1px 3px 1px rgba(60, 64, 67, 0.15);\n",
              "        fill: #174EA6;\n",
              "      }\n",
              "\n",
              "      [theme=dark] .colab-df-generate {\n",
              "        background-color: #3B4455;\n",
              "        fill: #D2E3FC;\n",
              "      }\n",
              "\n",
              "      [theme=dark] .colab-df-generate:hover {\n",
              "        background-color: #434B5C;\n",
              "        box-shadow: 0px 1px 3px 1px rgba(0, 0, 0, 0.15);\n",
              "        filter: drop-shadow(0px 1px 2px rgba(0, 0, 0, 0.3));\n",
              "        fill: #FFFFFF;\n",
              "      }\n",
              "    </style>\n",
              "    <button class=\"colab-df-generate\" onclick=\"generateWithVariable('df_place')\"\n",
              "            title=\"Generate code using this dataframe.\"\n",
              "            style=\"display:none;\">\n",
              "\n",
              "  <svg xmlns=\"http://www.w3.org/2000/svg\" height=\"24px\"viewBox=\"0 0 24 24\"\n",
              "       width=\"24px\">\n",
              "    <path d=\"M7,19H8.4L18.45,9,17,7.55,7,17.6ZM5,21V16.75L18.45,3.32a2,2,0,0,1,2.83,0l1.4,1.43a1.91,1.91,0,0,1,.58,1.4,1.91,1.91,0,0,1-.58,1.4L9.25,21ZM18.45,9,17,7.55Zm-12,3A5.31,5.31,0,0,0,4.9,8.1,5.31,5.31,0,0,0,1,6.5,5.31,5.31,0,0,0,4.9,4.9,5.31,5.31,0,0,0,6.5,1,5.31,5.31,0,0,0,8.1,4.9,5.31,5.31,0,0,0,12,6.5,5.46,5.46,0,0,0,6.5,12Z\"/>\n",
              "  </svg>\n",
              "    </button>\n",
              "    <script>\n",
              "      (() => {\n",
              "      const buttonEl =\n",
              "        document.querySelector('#id_9ae7b47c-9eec-4fd0-85b3-8c39d60a9691 button.colab-df-generate');\n",
              "      buttonEl.style.display =\n",
              "        google.colab.kernel.accessAllowed ? 'block' : 'none';\n",
              "\n",
              "      buttonEl.onclick = () => {\n",
              "        google.colab.notebook.generateWithVariable('df_place');\n",
              "      }\n",
              "      })();\n",
              "    </script>\n",
              "  </div>\n",
              "\n",
              "    </div>\n",
              "  </div>\n"
            ],
            "text/plain": [
              "       VISIT_AREA_ID  TRAVEL_ID  VISIT_ORDER  VISIT_AREA_NM VISIT_START_YMD  \\\n",
              "0         2210300006  a_a015688            5         프로방스마을      2022-10-30   \n",
              "1         2208050001  a_a000164            1         친구/친지집      2022-08-05   \n",
              "2         2210030002  a_a004293            2        병점역 1호선      2022-10-03   \n",
              "3         2208200003  a_a000491           12          더현대서울      2022-08-20   \n",
              "4         2208110007  a_a000172           13         강릉중앙시장      2022-08-11   \n",
              "...              ...        ...          ...            ...             ...   \n",
              "62267     2208220008  d_d000761            8     머큐어앰배서더 제주      2022-08-22   \n",
              "62268     2208280007  d_d000780            2         청주국제공항      2022-08-28   \n",
              "62269     2210030006  d_d001455           22        메종글래드제주      2022-10-03   \n",
              "62270     2209100002  a_a002144            8  옹진농협하나로마트 덕적점      2022-09-10   \n",
              "62271     2210210006  d_d005392            2     김포국제공항 국내선      2022-10-21   \n",
              "\n",
              "      VISIT_END_YMD              ROAD_NM_ADDR                 LOTNO_ADDR  \\\n",
              "0        2022-10-30        경기 파주시 탄현면 새오리로 77        경기 파주시 탄현면 성동리 82-1   \n",
              "1        2022-08-05                       nan             경기도 안산시 단원구 와동   \n",
              "2        2022-10-03            경기 화성시 떡전골로 97           경기 화성시 진안동 824-1   \n",
              "3        2022-08-20          서울 영등포구 여의대로 108            서울 영등포구 여의도동 22   \n",
              "4        2022-08-11             강원 강릉시 금성로 21              강원 강릉시 성남동 50   \n",
              "...             ...                       ...                        ...   \n",
              "62267    2022-08-23  제주특별자치도 서귀포시 안덕면 한창로 365  제주특별자치도 서귀포시 안덕면 상창리 2892   \n",
              "62268    2022-08-28   충북 청주시 청원구 내수읍 오창대로 980      충북 청주시 청원구 내수읍 입상리 88   \n",
              "62269    2022-10-04        제주특별자치도 제주시 노연로 80      제주특별자치도 제주시 연동 263-15   \n",
              "62270    2022-09-10     인천 옹진군 덕적면 덕적북로 31-22           인천 옹진군 덕적면 진리 87   \n",
              "62271    2022-10-21            서울 강서구 하늘길 112            서울 강서구 공항동 1373   \n",
              "\n",
              "           X_COORD      Y_COORD  ...  RESIDENCE_TIME_MIN VISIT_AREA_TYPE_CD  \\\n",
              "0       126.685239    37.790405  ...                60.0                  7   \n",
              "1              NaN          NaN  ...                 NaN                 22   \n",
              "2         127.0332    37.206753  ...                30.0                  9   \n",
              "3       126.928446    37.525872  ...               180.0                  4   \n",
              "4       128.898624    37.754025  ...                30.0                  4   \n",
              "...            ...          ...  ...                 ...                ...   \n",
              "62267  126.3487373  33.29365237  ...               180.0                 24   \n",
              "62268  127.4958529  36.72202246  ...                90.0                  9   \n",
              "62269  126.4885234  33.48527907  ...               180.0                 24   \n",
              "62270  126.1540897  37.22679959  ...                 0.0                 10   \n",
              "62271  126.8028655  37.55894903  ...                60.0                  9   \n",
              "\n",
              "      REVISIT_YN VISIT_CHC_REASON_CD  LODGING_TYPE_CD  DGSTFN  \\\n",
              "0              Y                 9.0              NaN     4.0   \n",
              "1            NaN                 NaN              NaN     NaN   \n",
              "2              Y                 6.0              NaN     4.0   \n",
              "3              N                 2.0              NaN     5.0   \n",
              "4              N                 1.0              NaN     4.0   \n",
              "...          ...                 ...              ...     ...   \n",
              "62267          N                 7.0              1.0     5.0   \n",
              "62268          Y                 6.0              NaN     5.0   \n",
              "62269          Y                 8.0              1.0     3.0   \n",
              "62270          Y                 6.0              NaN     5.0   \n",
              "62271          Y                 6.0              NaN     4.0   \n",
              "\n",
              "      REVISIT_INTENTION  RCMDTN_INTENTION   SGG_CD  SIDO_NM  \n",
              "0                   4.0               4.0      NaN      파주시  \n",
              "1                   NaN               NaN  41273.0      NaN  \n",
              "2                   5.0               5.0      NaN      화성시  \n",
              "3                   5.0               5.0      NaN    서울특별시  \n",
              "4                   4.0               4.0      NaN      강릉시  \n",
              "...                 ...               ...      ...      ...  \n",
              "62267               5.0               5.0      NaN  제주특별자치도  \n",
              "62268               5.0               5.0      NaN      청주시  \n",
              "62269               3.0               3.0      NaN  제주특별자치도  \n",
              "62270               5.0               5.0      NaN    인천광역시  \n",
              "62271               4.0               4.0      NaN    서울특별시  \n",
              "\n",
              "[164195 rows x 24 columns]"
            ]
          },
          "execution_count": 4,
          "metadata": {},
          "output_type": "execute_result"
        }
      ],
      "source": [
        "#df_place['SIDO_NM'] = df_place['ROAD_NM_ADDR'].str.extract(r'^(..)')\n",
        "def extract_region(addr):\n",
        "    region_map = {\n",
        "        '서울': '서울특별시', '경기': '경기도', '충북': '충청북도', '충남': '충청남도',\n",
        "        '전북': '전라북도', '전남': '전라남도', '경북': '경상북도', '경남': '경상남도',\n",
        "        '강원': '강원도', '제주특별자치도': '제주특별자치도', '인천': '인천광역시', '대전': '대전광역시',\n",
        "        '울산': '울산광역시', '부산': '부산광역시', '광주': '광주광역시', '대구': '대구광역시'\n",
        "    }\n",
        "\n",
        "    addr = re.sub(r'\\s+', ' ', addr)\n",
        "    split_addr = addr.split(' ')\n",
        "\n",
        "    if len(split_addr) >= 2:\n",
        "        region = split_addr[0]\n",
        "        if region in region_map:\n",
        "            if '도' in region_map[region] and region != '제주특별자치도':\n",
        "                return split_addr[1]\n",
        "            else:\n",
        "                return region_map[region]\n",
        "    return 'NaN'\n",
        "\n",
        "df_place['ROAD_NM_ADDR'] = df_place['ROAD_NM_ADDR'].astype(str)\n",
        "df_place['SIDO_NM'] = df_place['ROAD_NM_ADDR'].apply(extract_region)\n",
        "df_place"
      ]
    },
    {
      "cell_type": "markdown",
      "metadata": {
        "id": "IPJ33Npv-iXW"
      },
      "source": [
        "### 여행 정보"
      ]
    },
    {
      "cell_type": "code",
      "execution_count": 5,
      "metadata": {
        "colab": {
          "base_uri": "https://localhost:8080/",
          "height": 424
        },
        "id": "RgHiOZ0qL2zG",
        "outputId": "925b3cea-218d-45c3-c16f-bfceaea4cc21"
      },
      "outputs": [
        {
          "data": {
            "application/vnd.google.colaboratory.intrinsic+json": {
              "summary": "{\n  \"name\": \"df_travel\",\n  \"rows\": 12800,\n  \"fields\": [\n    {\n      \"column\": \"TRAVEL_ID\",\n      \"properties\": {\n        \"dtype\": \"string\",\n        \"num_unique_values\": 12800,\n        \"samples\": [\n          \"b_b004365\",\n          \"c_c002389\",\n          \"a_a005432\"\n        ],\n        \"semantic_type\": \"\",\n        \"description\": \"\"\n      }\n    },\n    {\n      \"column\": \"TRAVEL_NM\",\n      \"properties\": {\n        \"dtype\": \"category\",\n        \"num_unique_values\": 18,\n        \"samples\": [\n          \"A03\",\n          \"A02\",\n          \"B05\"\n        ],\n        \"semantic_type\": \"\",\n        \"description\": \"\"\n      }\n    },\n    {\n      \"column\": \"TRAVELER_ID\",\n      \"properties\": {\n        \"dtype\": \"string\",\n        \"num_unique_values\": 12800,\n        \"samples\": [\n          \"b004365\",\n          \"c002389\",\n          \"a005432\"\n        ],\n        \"semantic_type\": \"\",\n        \"description\": \"\"\n      }\n    },\n    {\n      \"column\": \"TRAVEL_PURPOSE\",\n      \"properties\": {\n        \"dtype\": \"category\",\n        \"num_unique_values\": 5376,\n        \"samples\": [\n          \"2;27;5;6;9;\",\n          \"2;28;5;6;9;\",\n          \"23;9;\"\n        ],\n        \"semantic_type\": \"\",\n        \"description\": \"\"\n      }\n    },\n    {\n      \"column\": \"TRAVEL_START_YMD\",\n      \"properties\": {\n        \"dtype\": \"date\",\n        \"min\": \"2022-08-03\",\n        \"max\": \"2022-11-13\",\n        \"num_unique_values\": 103,\n        \"samples\": [\n          \"2022-10-16\",\n          \"2022-08-15\",\n          \"2022-10-07\"\n        ],\n        \"semantic_type\": \"\",\n        \"description\": \"\"\n      }\n    },\n    {\n      \"column\": \"TRAVEL_END_YMD\",\n      \"properties\": {\n        \"dtype\": \"date\",\n        \"min\": \"2022-08-06\",\n        \"max\": \"2022-11-14\",\n        \"num_unique_values\": 101,\n        \"samples\": [\n          \"2022-08-12\",\n          \"2022-10-25\",\n          \"2022-08-20\"\n        ],\n        \"semantic_type\": \"\",\n        \"description\": \"\"\n      }\n    },\n    {\n      \"column\": \"MVMN_NM\",\n      \"properties\": {\n        \"dtype\": \"category\",\n        \"num_unique_values\": 2,\n        \"samples\": [\n          \"\\ub300\\uc911\\uad50\\ud1b5 \\ub4f1\",\n          \"\\uc790\\uac00\\uc6a9\"\n        ],\n        \"semantic_type\": \"\",\n        \"description\": \"\"\n      }\n    },\n    {\n      \"column\": \"TRAVEL_PERSONA\",\n      \"properties\": {\n        \"dtype\": \"category\",\n        \"num_unique_values\": 59,\n        \"samples\": [\n          \"\\uc218\\ub3c4\\uad8c \\uc678 \\uac70\\uc8fc 39\\uc138 \\uc774\\ud558 \\ucee4\\ud50c\",\n          \"\\uc218\\ub3c4\\uad8c \\uac70\\uc8fc 40\\uc138 \\uc774\\uc0c1 \\uc790\\ub140 \\ub3d9\\ubc18\"\n        ],\n        \"semantic_type\": \"\",\n        \"description\": \"\"\n      }\n    },\n    {\n      \"column\": \"TRAVEL_MISSION\",\n      \"properties\": {\n        \"dtype\": \"category\",\n        \"num_unique_values\": 5213,\n        \"samples\": [\n          \"1;22;24;28;9;\",\n          \"1;12;6;7;9;\"\n        ],\n        \"semantic_type\": \"\",\n        \"description\": \"\"\n      }\n    },\n    {\n      \"column\": \"TRAVEL_MISSION_CHECK\",\n      \"properties\": {\n        \"dtype\": \"category\",\n        \"num_unique_values\": 3557,\n        \"samples\": [\n          \"24;23;6\",\n          \"4;7;22\"\n        ],\n        \"semantic_type\": \"\",\n        \"description\": \"\"\n      }\n    }\n  ]\n}",
              "type": "dataframe",
              "variable_name": "df_travel"
            },
            "text/html": [
              "\n",
              "  <div id=\"df-85c30d51-75e2-41d8-809c-ba5fbeaa4660\" class=\"colab-df-container\">\n",
              "    <div>\n",
              "<style scoped>\n",
              "    .dataframe tbody tr th:only-of-type {\n",
              "        vertical-align: middle;\n",
              "    }\n",
              "\n",
              "    .dataframe tbody tr th {\n",
              "        vertical-align: top;\n",
              "    }\n",
              "\n",
              "    .dataframe thead th {\n",
              "        text-align: right;\n",
              "    }\n",
              "</style>\n",
              "<table border=\"1\" class=\"dataframe\">\n",
              "  <thead>\n",
              "    <tr style=\"text-align: right;\">\n",
              "      <th></th>\n",
              "      <th>TRAVEL_ID</th>\n",
              "      <th>TRAVEL_NM</th>\n",
              "      <th>TRAVELER_ID</th>\n",
              "      <th>TRAVEL_PURPOSE</th>\n",
              "      <th>TRAVEL_START_YMD</th>\n",
              "      <th>TRAVEL_END_YMD</th>\n",
              "      <th>MVMN_NM</th>\n",
              "      <th>TRAVEL_PERSONA</th>\n",
              "      <th>TRAVEL_MISSION</th>\n",
              "      <th>TRAVEL_MISSION_CHECK</th>\n",
              "    </tr>\n",
              "  </thead>\n",
              "  <tbody>\n",
              "    <tr>\n",
              "      <th>0</th>\n",
              "      <td>a_a014262</td>\n",
              "      <td>A03</td>\n",
              "      <td>a014262</td>\n",
              "      <td>1;11;2;22;</td>\n",
              "      <td>2022-10-29</td>\n",
              "      <td>2022-10-30</td>\n",
              "      <td>자가용</td>\n",
              "      <td>NaN</td>\n",
              "      <td>1;11;2;22;</td>\n",
              "      <td>2;1;22</td>\n",
              "    </tr>\n",
              "    <tr>\n",
              "      <th>1</th>\n",
              "      <td>a_a006728</td>\n",
              "      <td>A03</td>\n",
              "      <td>a006728</td>\n",
              "      <td>21;24;5;22;26;27;</td>\n",
              "      <td>2022-10-10</td>\n",
              "      <td>2022-10-11</td>\n",
              "      <td>자가용</td>\n",
              "      <td>NaN</td>\n",
              "      <td>21;24;5;22;26;27;</td>\n",
              "      <td>6;1;22</td>\n",
              "    </tr>\n",
              "    <tr>\n",
              "      <th>2</th>\n",
              "      <td>a_a015745</td>\n",
              "      <td>A02</td>\n",
              "      <td>a015745</td>\n",
              "      <td>1;2;6;</td>\n",
              "      <td>2022-10-31</td>\n",
              "      <td>2022-11-03</td>\n",
              "      <td>대중교통 등</td>\n",
              "      <td>NaN</td>\n",
              "      <td>1;2;6;</td>\n",
              "      <td>13;3;28</td>\n",
              "    </tr>\n",
              "    <tr>\n",
              "      <th>3</th>\n",
              "      <td>a_a010544</td>\n",
              "      <td>A03</td>\n",
              "      <td>a010544</td>\n",
              "      <td>21;22;24;26;</td>\n",
              "      <td>2022-11-01</td>\n",
              "      <td>2022-11-02</td>\n",
              "      <td>자가용</td>\n",
              "      <td>NaN</td>\n",
              "      <td>21;22;24;26;</td>\n",
              "      <td>1;22;26</td>\n",
              "    </tr>\n",
              "    <tr>\n",
              "      <th>4</th>\n",
              "      <td>a_a012058</td>\n",
              "      <td>A03</td>\n",
              "      <td>a012058</td>\n",
              "      <td>1;4;10;12;21;22;26;</td>\n",
              "      <td>2022-11-05</td>\n",
              "      <td>2022-11-06</td>\n",
              "      <td>대중교통 등</td>\n",
              "      <td>수도권 외 거주 39세 이하 커플</td>\n",
              "      <td>1;4;10;12;21;22;26;</td>\n",
              "      <td>1;21;22</td>\n",
              "    </tr>\n",
              "    <tr>\n",
              "      <th>...</th>\n",
              "      <td>...</td>\n",
              "      <td>...</td>\n",
              "      <td>...</td>\n",
              "      <td>...</td>\n",
              "      <td>...</td>\n",
              "      <td>...</td>\n",
              "      <td>...</td>\n",
              "      <td>...</td>\n",
              "      <td>...</td>\n",
              "      <td>...</td>\n",
              "    </tr>\n",
              "    <tr>\n",
              "      <th>3195</th>\n",
              "      <td>b_b001198</td>\n",
              "      <td>D02</td>\n",
              "      <td>b001198</td>\n",
              "      <td>1;10;3;4;5;</td>\n",
              "      <td>2022-09-04</td>\n",
              "      <td>2022-09-06</td>\n",
              "      <td>자가용</td>\n",
              "      <td>NaN</td>\n",
              "      <td>1;10;3;4;5;</td>\n",
              "      <td>25;22;21</td>\n",
              "    </tr>\n",
              "    <tr>\n",
              "      <th>3196</th>\n",
              "      <td>d_d009222</td>\n",
              "      <td>D01</td>\n",
              "      <td>d009222</td>\n",
              "      <td>2;</td>\n",
              "      <td>2022-10-29</td>\n",
              "      <td>2022-10-31</td>\n",
              "      <td>자가용</td>\n",
              "      <td>NaN</td>\n",
              "      <td>2;</td>\n",
              "      <td>23;2;22</td>\n",
              "    </tr>\n",
              "    <tr>\n",
              "      <th>3197</th>\n",
              "      <td>d_d002847</td>\n",
              "      <td>D01</td>\n",
              "      <td>d002847</td>\n",
              "      <td>21;22;23;26;28;</td>\n",
              "      <td>2022-10-16</td>\n",
              "      <td>2022-10-19</td>\n",
              "      <td>대중교통 등</td>\n",
              "      <td>NaN</td>\n",
              "      <td>21;22;23;26;28;</td>\n",
              "      <td>21;26;22</td>\n",
              "    </tr>\n",
              "    <tr>\n",
              "      <th>3198</th>\n",
              "      <td>d_d003147</td>\n",
              "      <td>D01</td>\n",
              "      <td>d003147</td>\n",
              "      <td>7;21;22;26;</td>\n",
              "      <td>2022-10-29</td>\n",
              "      <td>2022-10-31</td>\n",
              "      <td>자가용</td>\n",
              "      <td>NaN</td>\n",
              "      <td>7;21;22;26;</td>\n",
              "      <td>21;1;6</td>\n",
              "    </tr>\n",
              "    <tr>\n",
              "      <th>3199</th>\n",
              "      <td>a_a005789</td>\n",
              "      <td>D02</td>\n",
              "      <td>a005789</td>\n",
              "      <td>11;2;</td>\n",
              "      <td>2022-10-14</td>\n",
              "      <td>2022-10-15</td>\n",
              "      <td>자가용</td>\n",
              "      <td>수도권 거주 39세 이하 자녀 동반</td>\n",
              "      <td>11;2;</td>\n",
              "      <td>6;11;24</td>\n",
              "    </tr>\n",
              "  </tbody>\n",
              "</table>\n",
              "<p>12800 rows × 10 columns</p>\n",
              "</div>\n",
              "    <div class=\"colab-df-buttons\">\n",
              "\n",
              "  <div class=\"colab-df-container\">\n",
              "    <button class=\"colab-df-convert\" onclick=\"convertToInteractive('df-85c30d51-75e2-41d8-809c-ba5fbeaa4660')\"\n",
              "            title=\"Convert this dataframe to an interactive table.\"\n",
              "            style=\"display:none;\">\n",
              "\n",
              "  <svg xmlns=\"http://www.w3.org/2000/svg\" height=\"24px\" viewBox=\"0 -960 960 960\">\n",
              "    <path d=\"M120-120v-720h720v720H120Zm60-500h600v-160H180v160Zm220 220h160v-160H400v160Zm0 220h160v-160H400v160ZM180-400h160v-160H180v160Zm440 0h160v-160H620v160ZM180-180h160v-160H180v160Zm440 0h160v-160H620v160Z\"/>\n",
              "  </svg>\n",
              "    </button>\n",
              "\n",
              "  <style>\n",
              "    .colab-df-container {\n",
              "      display:flex;\n",
              "      gap: 12px;\n",
              "    }\n",
              "\n",
              "    .colab-df-convert {\n",
              "      background-color: #E8F0FE;\n",
              "      border: none;\n",
              "      border-radius: 50%;\n",
              "      cursor: pointer;\n",
              "      display: none;\n",
              "      fill: #1967D2;\n",
              "      height: 32px;\n",
              "      padding: 0 0 0 0;\n",
              "      width: 32px;\n",
              "    }\n",
              "\n",
              "    .colab-df-convert:hover {\n",
              "      background-color: #E2EBFA;\n",
              "      box-shadow: 0px 1px 2px rgba(60, 64, 67, 0.3), 0px 1px 3px 1px rgba(60, 64, 67, 0.15);\n",
              "      fill: #174EA6;\n",
              "    }\n",
              "\n",
              "    .colab-df-buttons div {\n",
              "      margin-bottom: 4px;\n",
              "    }\n",
              "\n",
              "    [theme=dark] .colab-df-convert {\n",
              "      background-color: #3B4455;\n",
              "      fill: #D2E3FC;\n",
              "    }\n",
              "\n",
              "    [theme=dark] .colab-df-convert:hover {\n",
              "      background-color: #434B5C;\n",
              "      box-shadow: 0px 1px 3px 1px rgba(0, 0, 0, 0.15);\n",
              "      filter: drop-shadow(0px 1px 2px rgba(0, 0, 0, 0.3));\n",
              "      fill: #FFFFFF;\n",
              "    }\n",
              "  </style>\n",
              "\n",
              "    <script>\n",
              "      const buttonEl =\n",
              "        document.querySelector('#df-85c30d51-75e2-41d8-809c-ba5fbeaa4660 button.colab-df-convert');\n",
              "      buttonEl.style.display =\n",
              "        google.colab.kernel.accessAllowed ? 'block' : 'none';\n",
              "\n",
              "      async function convertToInteractive(key) {\n",
              "        const element = document.querySelector('#df-85c30d51-75e2-41d8-809c-ba5fbeaa4660');\n",
              "        const dataTable =\n",
              "          await google.colab.kernel.invokeFunction('convertToInteractive',\n",
              "                                                    [key], {});\n",
              "        if (!dataTable) return;\n",
              "\n",
              "        const docLinkHtml = 'Like what you see? Visit the ' +\n",
              "          '<a target=\"_blank\" href=https://colab.research.google.com/notebooks/data_table.ipynb>data table notebook</a>'\n",
              "          + ' to learn more about interactive tables.';\n",
              "        element.innerHTML = '';\n",
              "        dataTable['output_type'] = 'display_data';\n",
              "        await google.colab.output.renderOutput(dataTable, element);\n",
              "        const docLink = document.createElement('div');\n",
              "        docLink.innerHTML = docLinkHtml;\n",
              "        element.appendChild(docLink);\n",
              "      }\n",
              "    </script>\n",
              "  </div>\n",
              "\n",
              "\n",
              "<div id=\"df-a8ac99cf-a6ac-4148-91b2-fe66154d88e1\">\n",
              "  <button class=\"colab-df-quickchart\" onclick=\"quickchart('df-a8ac99cf-a6ac-4148-91b2-fe66154d88e1')\"\n",
              "            title=\"Suggest charts\"\n",
              "            style=\"display:none;\">\n",
              "\n",
              "<svg xmlns=\"http://www.w3.org/2000/svg\" height=\"24px\"viewBox=\"0 0 24 24\"\n",
              "     width=\"24px\">\n",
              "    <g>\n",
              "        <path d=\"M19 3H5c-1.1 0-2 .9-2 2v14c0 1.1.9 2 2 2h14c1.1 0 2-.9 2-2V5c0-1.1-.9-2-2-2zM9 17H7v-7h2v7zm4 0h-2V7h2v10zm4 0h-2v-4h2v4z\"/>\n",
              "    </g>\n",
              "</svg>\n",
              "  </button>\n",
              "\n",
              "<style>\n",
              "  .colab-df-quickchart {\n",
              "      --bg-color: #E8F0FE;\n",
              "      --fill-color: #1967D2;\n",
              "      --hover-bg-color: #E2EBFA;\n",
              "      --hover-fill-color: #174EA6;\n",
              "      --disabled-fill-color: #AAA;\n",
              "      --disabled-bg-color: #DDD;\n",
              "  }\n",
              "\n",
              "  [theme=dark] .colab-df-quickchart {\n",
              "      --bg-color: #3B4455;\n",
              "      --fill-color: #D2E3FC;\n",
              "      --hover-bg-color: #434B5C;\n",
              "      --hover-fill-color: #FFFFFF;\n",
              "      --disabled-bg-color: #3B4455;\n",
              "      --disabled-fill-color: #666;\n",
              "  }\n",
              "\n",
              "  .colab-df-quickchart {\n",
              "    background-color: var(--bg-color);\n",
              "    border: none;\n",
              "    border-radius: 50%;\n",
              "    cursor: pointer;\n",
              "    display: none;\n",
              "    fill: var(--fill-color);\n",
              "    height: 32px;\n",
              "    padding: 0;\n",
              "    width: 32px;\n",
              "  }\n",
              "\n",
              "  .colab-df-quickchart:hover {\n",
              "    background-color: var(--hover-bg-color);\n",
              "    box-shadow: 0 1px 2px rgba(60, 64, 67, 0.3), 0 1px 3px 1px rgba(60, 64, 67, 0.15);\n",
              "    fill: var(--button-hover-fill-color);\n",
              "  }\n",
              "\n",
              "  .colab-df-quickchart-complete:disabled,\n",
              "  .colab-df-quickchart-complete:disabled:hover {\n",
              "    background-color: var(--disabled-bg-color);\n",
              "    fill: var(--disabled-fill-color);\n",
              "    box-shadow: none;\n",
              "  }\n",
              "\n",
              "  .colab-df-spinner {\n",
              "    border: 2px solid var(--fill-color);\n",
              "    border-color: transparent;\n",
              "    border-bottom-color: var(--fill-color);\n",
              "    animation:\n",
              "      spin 1s steps(1) infinite;\n",
              "  }\n",
              "\n",
              "  @keyframes spin {\n",
              "    0% {\n",
              "      border-color: transparent;\n",
              "      border-bottom-color: var(--fill-color);\n",
              "      border-left-color: var(--fill-color);\n",
              "    }\n",
              "    20% {\n",
              "      border-color: transparent;\n",
              "      border-left-color: var(--fill-color);\n",
              "      border-top-color: var(--fill-color);\n",
              "    }\n",
              "    30% {\n",
              "      border-color: transparent;\n",
              "      border-left-color: var(--fill-color);\n",
              "      border-top-color: var(--fill-color);\n",
              "      border-right-color: var(--fill-color);\n",
              "    }\n",
              "    40% {\n",
              "      border-color: transparent;\n",
              "      border-right-color: var(--fill-color);\n",
              "      border-top-color: var(--fill-color);\n",
              "    }\n",
              "    60% {\n",
              "      border-color: transparent;\n",
              "      border-right-color: var(--fill-color);\n",
              "    }\n",
              "    80% {\n",
              "      border-color: transparent;\n",
              "      border-right-color: var(--fill-color);\n",
              "      border-bottom-color: var(--fill-color);\n",
              "    }\n",
              "    90% {\n",
              "      border-color: transparent;\n",
              "      border-bottom-color: var(--fill-color);\n",
              "    }\n",
              "  }\n",
              "</style>\n",
              "\n",
              "  <script>\n",
              "    async function quickchart(key) {\n",
              "      const quickchartButtonEl =\n",
              "        document.querySelector('#' + key + ' button');\n",
              "      quickchartButtonEl.disabled = true;  // To prevent multiple clicks.\n",
              "      quickchartButtonEl.classList.add('colab-df-spinner');\n",
              "      try {\n",
              "        const charts = await google.colab.kernel.invokeFunction(\n",
              "            'suggestCharts', [key], {});\n",
              "      } catch (error) {\n",
              "        console.error('Error during call to suggestCharts:', error);\n",
              "      }\n",
              "      quickchartButtonEl.classList.remove('colab-df-spinner');\n",
              "      quickchartButtonEl.classList.add('colab-df-quickchart-complete');\n",
              "    }\n",
              "    (() => {\n",
              "      let quickchartButtonEl =\n",
              "        document.querySelector('#df-a8ac99cf-a6ac-4148-91b2-fe66154d88e1 button');\n",
              "      quickchartButtonEl.style.display =\n",
              "        google.colab.kernel.accessAllowed ? 'block' : 'none';\n",
              "    })();\n",
              "  </script>\n",
              "</div>\n",
              "\n",
              "  <div id=\"id_823803e9-8756-4261-ab25-da53cddc69da\">\n",
              "    <style>\n",
              "      .colab-df-generate {\n",
              "        background-color: #E8F0FE;\n",
              "        border: none;\n",
              "        border-radius: 50%;\n",
              "        cursor: pointer;\n",
              "        display: none;\n",
              "        fill: #1967D2;\n",
              "        height: 32px;\n",
              "        padding: 0 0 0 0;\n",
              "        width: 32px;\n",
              "      }\n",
              "\n",
              "      .colab-df-generate:hover {\n",
              "        background-color: #E2EBFA;\n",
              "        box-shadow: 0px 1px 2px rgba(60, 64, 67, 0.3), 0px 1px 3px 1px rgba(60, 64, 67, 0.15);\n",
              "        fill: #174EA6;\n",
              "      }\n",
              "\n",
              "      [theme=dark] .colab-df-generate {\n",
              "        background-color: #3B4455;\n",
              "        fill: #D2E3FC;\n",
              "      }\n",
              "\n",
              "      [theme=dark] .colab-df-generate:hover {\n",
              "        background-color: #434B5C;\n",
              "        box-shadow: 0px 1px 3px 1px rgba(0, 0, 0, 0.15);\n",
              "        filter: drop-shadow(0px 1px 2px rgba(0, 0, 0, 0.3));\n",
              "        fill: #FFFFFF;\n",
              "      }\n",
              "    </style>\n",
              "    <button class=\"colab-df-generate\" onclick=\"generateWithVariable('df_travel')\"\n",
              "            title=\"Generate code using this dataframe.\"\n",
              "            style=\"display:none;\">\n",
              "\n",
              "  <svg xmlns=\"http://www.w3.org/2000/svg\" height=\"24px\"viewBox=\"0 0 24 24\"\n",
              "       width=\"24px\">\n",
              "    <path d=\"M7,19H8.4L18.45,9,17,7.55,7,17.6ZM5,21V16.75L18.45,3.32a2,2,0,0,1,2.83,0l1.4,1.43a1.91,1.91,0,0,1,.58,1.4,1.91,1.91,0,0,1-.58,1.4L9.25,21ZM18.45,9,17,7.55Zm-12,3A5.31,5.31,0,0,0,4.9,8.1,5.31,5.31,0,0,0,1,6.5,5.31,5.31,0,0,0,4.9,4.9,5.31,5.31,0,0,0,6.5,1,5.31,5.31,0,0,0,8.1,4.9,5.31,5.31,0,0,0,12,6.5,5.46,5.46,0,0,0,6.5,12Z\"/>\n",
              "  </svg>\n",
              "    </button>\n",
              "    <script>\n",
              "      (() => {\n",
              "      const buttonEl =\n",
              "        document.querySelector('#id_823803e9-8756-4261-ab25-da53cddc69da button.colab-df-generate');\n",
              "      buttonEl.style.display =\n",
              "        google.colab.kernel.accessAllowed ? 'block' : 'none';\n",
              "\n",
              "      buttonEl.onclick = () => {\n",
              "        google.colab.notebook.generateWithVariable('df_travel');\n",
              "      }\n",
              "      })();\n",
              "    </script>\n",
              "  </div>\n",
              "\n",
              "    </div>\n",
              "  </div>\n"
            ],
            "text/plain": [
              "      TRAVEL_ID TRAVEL_NM TRAVELER_ID       TRAVEL_PURPOSE TRAVEL_START_YMD  \\\n",
              "0     a_a014262       A03     a014262           1;11;2;22;       2022-10-29   \n",
              "1     a_a006728       A03     a006728    21;24;5;22;26;27;       2022-10-10   \n",
              "2     a_a015745       A02     a015745               1;2;6;       2022-10-31   \n",
              "3     a_a010544       A03     a010544         21;22;24;26;       2022-11-01   \n",
              "4     a_a012058       A03     a012058  1;4;10;12;21;22;26;       2022-11-05   \n",
              "...         ...       ...         ...                  ...              ...   \n",
              "3195  b_b001198       D02     b001198          1;10;3;4;5;       2022-09-04   \n",
              "3196  d_d009222       D01     d009222                   2;       2022-10-29   \n",
              "3197  d_d002847       D01     d002847      21;22;23;26;28;       2022-10-16   \n",
              "3198  d_d003147       D01     d003147          7;21;22;26;       2022-10-29   \n",
              "3199  a_a005789       D02     a005789                11;2;       2022-10-14   \n",
              "\n",
              "     TRAVEL_END_YMD MVMN_NM       TRAVEL_PERSONA       TRAVEL_MISSION  \\\n",
              "0        2022-10-30     자가용                  NaN           1;11;2;22;   \n",
              "1        2022-10-11     자가용                  NaN    21;24;5;22;26;27;   \n",
              "2        2022-11-03  대중교통 등                  NaN               1;2;6;   \n",
              "3        2022-11-02     자가용                  NaN         21;22;24;26;   \n",
              "4        2022-11-06  대중교통 등   수도권 외 거주 39세 이하 커플  1;4;10;12;21;22;26;   \n",
              "...             ...     ...                  ...                  ...   \n",
              "3195     2022-09-06     자가용                  NaN          1;10;3;4;5;   \n",
              "3196     2022-10-31     자가용                  NaN                   2;   \n",
              "3197     2022-10-19  대중교통 등                  NaN      21;22;23;26;28;   \n",
              "3198     2022-10-31     자가용                  NaN          7;21;22;26;   \n",
              "3199     2022-10-15     자가용  수도권 거주 39세 이하 자녀 동반                11;2;   \n",
              "\n",
              "     TRAVEL_MISSION_CHECK  \n",
              "0                  2;1;22  \n",
              "1                  6;1;22  \n",
              "2                 13;3;28  \n",
              "3                 1;22;26  \n",
              "4                 1;21;22  \n",
              "...                   ...  \n",
              "3195             25;22;21  \n",
              "3196              23;2;22  \n",
              "3197             21;26;22  \n",
              "3198               21;1;6  \n",
              "3199              6;11;24  \n",
              "\n",
              "[12800 rows x 10 columns]"
            ]
          },
          "execution_count": 5,
          "metadata": {},
          "output_type": "execute_result"
        }
      ],
      "source": [
        "df_travel = pd.concat([\n",
        "    pd.read_csv('/content/gdrive/MyDrive/data/metropolitan/tn_travel_여행_A.csv'),\n",
        "    pd.read_csv('/content/gdrive/MyDrive/data/eastern/tn_travel_여행_B.csv'),\n",
        "    pd.read_csv('/content/gdrive/MyDrive/data/western/tn_travel_여행_C.csv'),\n",
        "    pd.read_csv('/content/gdrive/MyDrive/data/islands/tn_travel_여행_D.csv')\n",
        "], axis=0)\n",
        "\n",
        "df_travel"
      ]
    },
    {
      "cell_type": "markdown",
      "metadata": {
        "id": "8B87LBDKwla5"
      },
      "source": [
        "### 여행객 정보"
      ]
    },
    {
      "cell_type": "code",
      "execution_count": 6,
      "metadata": {
        "colab": {
          "base_uri": "https://localhost:8080/",
          "height": 617
        },
        "id": "b2rbNgTfKR9i",
        "outputId": "24cff05f-f8b0-475a-bfd1-8cce66f071ec"
      },
      "outputs": [
        {
          "data": {
            "application/vnd.google.colaboratory.intrinsic+json": {
              "type": "dataframe",
              "variable_name": "df_traveler"
            },
            "text/html": [
              "\n",
              "  <div id=\"df-947dda80-eecc-4205-85ff-25cd9597ce8f\" class=\"colab-df-container\">\n",
              "    <div>\n",
              "<style scoped>\n",
              "    .dataframe tbody tr th:only-of-type {\n",
              "        vertical-align: middle;\n",
              "    }\n",
              "\n",
              "    .dataframe tbody tr th {\n",
              "        vertical-align: top;\n",
              "    }\n",
              "\n",
              "    .dataframe thead th {\n",
              "        text-align: right;\n",
              "    }\n",
              "</style>\n",
              "<table border=\"1\" class=\"dataframe\">\n",
              "  <thead>\n",
              "    <tr style=\"text-align: right;\">\n",
              "      <th></th>\n",
              "      <th>TRAVELER_ID</th>\n",
              "      <th>RESIDENCE_SGG_CD</th>\n",
              "      <th>GENDER</th>\n",
              "      <th>AGE_GRP</th>\n",
              "      <th>EDU_NM</th>\n",
              "      <th>EDU_FNSH_SE</th>\n",
              "      <th>MARR_STTS</th>\n",
              "      <th>FAMILY_MEMB</th>\n",
              "      <th>JOB_NM</th>\n",
              "      <th>JOB_ETC</th>\n",
              "      <th>...</th>\n",
              "      <th>TRAVEL_STYL_7</th>\n",
              "      <th>TRAVEL_STYL_8</th>\n",
              "      <th>TRAVEL_STATUS_RESIDENCE</th>\n",
              "      <th>TRAVEL_STATUS_DESTINATION</th>\n",
              "      <th>TRAVEL_STATUS_ACCOMPANY</th>\n",
              "      <th>TRAVEL_STATUS_YMD</th>\n",
              "      <th>TRAVEL_MOTIVE_1</th>\n",
              "      <th>TRAVEL_MOTIVE_2</th>\n",
              "      <th>TRAVEL_MOTIVE_3</th>\n",
              "      <th>TRAVEL_COMPANIONS_NUM</th>\n",
              "    </tr>\n",
              "  </thead>\n",
              "  <tbody>\n",
              "    <tr>\n",
              "      <th>0</th>\n",
              "      <td>b015583</td>\n",
              "      <td>41</td>\n",
              "      <td>여</td>\n",
              "      <td>20</td>\n",
              "      <td>6</td>\n",
              "      <td>1.0</td>\n",
              "      <td>1.0</td>\n",
              "      <td>5</td>\n",
              "      <td>3.0</td>\n",
              "      <td>NaN</td>\n",
              "      <td>...</td>\n",
              "      <td>1</td>\n",
              "      <td>7</td>\n",
              "      <td>경기도</td>\n",
              "      <td>충남</td>\n",
              "      <td>2인 여행(가족 외)</td>\n",
              "      <td>2022-10-29~2022-10-30</td>\n",
              "      <td>1.0</td>\n",
              "      <td>NaN</td>\n",
              "      <td>NaN</td>\n",
              "      <td>1</td>\n",
              "    </tr>\n",
              "    <tr>\n",
              "      <th>1</th>\n",
              "      <td>a001105</td>\n",
              "      <td>30</td>\n",
              "      <td>남</td>\n",
              "      <td>30</td>\n",
              "      <td>6</td>\n",
              "      <td>1.0</td>\n",
              "      <td>1.0</td>\n",
              "      <td>2</td>\n",
              "      <td>3.0</td>\n",
              "      <td>NaN</td>\n",
              "      <td>...</td>\n",
              "      <td>6</td>\n",
              "      <td>5</td>\n",
              "      <td>대전광역시</td>\n",
              "      <td>경기</td>\n",
              "      <td>3인 이상 여행(가족 외)</td>\n",
              "      <td>2022-09-03~2022-09-04</td>\n",
              "      <td>3.0</td>\n",
              "      <td>NaN</td>\n",
              "      <td>NaN</td>\n",
              "      <td>7</td>\n",
              "    </tr>\n",
              "    <tr>\n",
              "      <th>2</th>\n",
              "      <td>a001673</td>\n",
              "      <td>41</td>\n",
              "      <td>여</td>\n",
              "      <td>30</td>\n",
              "      <td>4</td>\n",
              "      <td>1.0</td>\n",
              "      <td>2.0</td>\n",
              "      <td>3</td>\n",
              "      <td>NaN</td>\n",
              "      <td>1.0</td>\n",
              "      <td>...</td>\n",
              "      <td>2</td>\n",
              "      <td>7</td>\n",
              "      <td>경기도</td>\n",
              "      <td>서울</td>\n",
              "      <td>자녀 동반 여행</td>\n",
              "      <td>2022-09-18~2022-09-19</td>\n",
              "      <td>10.0</td>\n",
              "      <td>7.0</td>\n",
              "      <td>1.0</td>\n",
              "      <td>2</td>\n",
              "    </tr>\n",
              "    <tr>\n",
              "      <th>3</th>\n",
              "      <td>a017690</td>\n",
              "      <td>41</td>\n",
              "      <td>여</td>\n",
              "      <td>30</td>\n",
              "      <td>6</td>\n",
              "      <td>1.0</td>\n",
              "      <td>1.0</td>\n",
              "      <td>3</td>\n",
              "      <td>3.0</td>\n",
              "      <td>NaN</td>\n",
              "      <td>...</td>\n",
              "      <td>4</td>\n",
              "      <td>5</td>\n",
              "      <td>경기도</td>\n",
              "      <td>서울</td>\n",
              "      <td>3인 이상 여행(가족 외)</td>\n",
              "      <td>2022-11-12~2022-11-12</td>\n",
              "      <td>3.0</td>\n",
              "      <td>1.0</td>\n",
              "      <td>2.0</td>\n",
              "      <td>3</td>\n",
              "    </tr>\n",
              "    <tr>\n",
              "      <th>4</th>\n",
              "      <td>c006666</td>\n",
              "      <td>28</td>\n",
              "      <td>여</td>\n",
              "      <td>30</td>\n",
              "      <td>6</td>\n",
              "      <td>1.0</td>\n",
              "      <td>1.0</td>\n",
              "      <td>3</td>\n",
              "      <td>13.0</td>\n",
              "      <td>NaN</td>\n",
              "      <td>...</td>\n",
              "      <td>5</td>\n",
              "      <td>5</td>\n",
              "      <td>인천광역시</td>\n",
              "      <td>경기</td>\n",
              "      <td>나홀로 여행</td>\n",
              "      <td>2022-10-18~2022-10-18</td>\n",
              "      <td>1.0</td>\n",
              "      <td>7.0</td>\n",
              "      <td>2.0</td>\n",
              "      <td>0</td>\n",
              "    </tr>\n",
              "    <tr>\n",
              "      <th>...</th>\n",
              "      <td>...</td>\n",
              "      <td>...</td>\n",
              "      <td>...</td>\n",
              "      <td>...</td>\n",
              "      <td>...</td>\n",
              "      <td>...</td>\n",
              "      <td>...</td>\n",
              "      <td>...</td>\n",
              "      <td>...</td>\n",
              "      <td>...</td>\n",
              "      <td>...</td>\n",
              "      <td>...</td>\n",
              "      <td>...</td>\n",
              "      <td>...</td>\n",
              "      <td>...</td>\n",
              "      <td>...</td>\n",
              "      <td>...</td>\n",
              "      <td>...</td>\n",
              "      <td>...</td>\n",
              "      <td>...</td>\n",
              "      <td>...</td>\n",
              "    </tr>\n",
              "    <tr>\n",
              "      <th>3195</th>\n",
              "      <td>d002221</td>\n",
              "      <td>11</td>\n",
              "      <td>남</td>\n",
              "      <td>30</td>\n",
              "      <td>6</td>\n",
              "      <td>1.0</td>\n",
              "      <td>1.0</td>\n",
              "      <td>1</td>\n",
              "      <td>2.0</td>\n",
              "      <td>NaN</td>\n",
              "      <td>...</td>\n",
              "      <td>6</td>\n",
              "      <td>6</td>\n",
              "      <td>서울특별시</td>\n",
              "      <td>제주</td>\n",
              "      <td>2인 여행(가족 외)</td>\n",
              "      <td>2022-10-02~2022-10-05</td>\n",
              "      <td>2.0</td>\n",
              "      <td>3.0</td>\n",
              "      <td>5.0</td>\n",
              "      <td>1</td>\n",
              "    </tr>\n",
              "    <tr>\n",
              "      <th>3196</th>\n",
              "      <td>d002109</td>\n",
              "      <td>41</td>\n",
              "      <td>여</td>\n",
              "      <td>30</td>\n",
              "      <td>5</td>\n",
              "      <td>1.0</td>\n",
              "      <td>1.0</td>\n",
              "      <td>1</td>\n",
              "      <td>3.0</td>\n",
              "      <td>NaN</td>\n",
              "      <td>...</td>\n",
              "      <td>2</td>\n",
              "      <td>7</td>\n",
              "      <td>경기도</td>\n",
              "      <td>제주</td>\n",
              "      <td>나홀로 여행</td>\n",
              "      <td>2022-10-04~2022-10-07</td>\n",
              "      <td>2.0</td>\n",
              "      <td>1.0</td>\n",
              "      <td>4.0</td>\n",
              "      <td>0</td>\n",
              "    </tr>\n",
              "    <tr>\n",
              "      <th>3197</th>\n",
              "      <td>d006910</td>\n",
              "      <td>50</td>\n",
              "      <td>여</td>\n",
              "      <td>30</td>\n",
              "      <td>5</td>\n",
              "      <td>1.0</td>\n",
              "      <td>1.0</td>\n",
              "      <td>1</td>\n",
              "      <td>4.0</td>\n",
              "      <td>NaN</td>\n",
              "      <td>...</td>\n",
              "      <td>6</td>\n",
              "      <td>7</td>\n",
              "      <td>제주특별자치도</td>\n",
              "      <td>제주</td>\n",
              "      <td>나홀로 여행</td>\n",
              "      <td>2022-10-18~2022-10-19</td>\n",
              "      <td>1.0</td>\n",
              "      <td>4.0</td>\n",
              "      <td>5.0</td>\n",
              "      <td>0</td>\n",
              "    </tr>\n",
              "    <tr>\n",
              "      <th>3198</th>\n",
              "      <td>d010634</td>\n",
              "      <td>11</td>\n",
              "      <td>여</td>\n",
              "      <td>20</td>\n",
              "      <td>6</td>\n",
              "      <td>1.0</td>\n",
              "      <td>1.0</td>\n",
              "      <td>4</td>\n",
              "      <td>3.0</td>\n",
              "      <td>NaN</td>\n",
              "      <td>...</td>\n",
              "      <td>2</td>\n",
              "      <td>7</td>\n",
              "      <td>서울특별시</td>\n",
              "      <td>제주</td>\n",
              "      <td>2인 여행(가족 외)</td>\n",
              "      <td>2022-11-05~2022-11-07</td>\n",
              "      <td>2.0</td>\n",
              "      <td>5.0</td>\n",
              "      <td>1.0</td>\n",
              "      <td>1</td>\n",
              "    </tr>\n",
              "    <tr>\n",
              "      <th>3199</th>\n",
              "      <td>d003084</td>\n",
              "      <td>50</td>\n",
              "      <td>여</td>\n",
              "      <td>20</td>\n",
              "      <td>6</td>\n",
              "      <td>1.0</td>\n",
              "      <td>1.0</td>\n",
              "      <td>4</td>\n",
              "      <td>3.0</td>\n",
              "      <td>NaN</td>\n",
              "      <td>...</td>\n",
              "      <td>2</td>\n",
              "      <td>7</td>\n",
              "      <td>제주특별자치도</td>\n",
              "      <td>제주</td>\n",
              "      <td>나홀로 여행</td>\n",
              "      <td>2022-10-15~2022-10-16</td>\n",
              "      <td>1.0</td>\n",
              "      <td>2.0</td>\n",
              "      <td>7.0</td>\n",
              "      <td>0</td>\n",
              "    </tr>\n",
              "  </tbody>\n",
              "</table>\n",
              "<p>12800 rows × 36 columns</p>\n",
              "</div>\n",
              "    <div class=\"colab-df-buttons\">\n",
              "\n",
              "  <div class=\"colab-df-container\">\n",
              "    <button class=\"colab-df-convert\" onclick=\"convertToInteractive('df-947dda80-eecc-4205-85ff-25cd9597ce8f')\"\n",
              "            title=\"Convert this dataframe to an interactive table.\"\n",
              "            style=\"display:none;\">\n",
              "\n",
              "  <svg xmlns=\"http://www.w3.org/2000/svg\" height=\"24px\" viewBox=\"0 -960 960 960\">\n",
              "    <path d=\"M120-120v-720h720v720H120Zm60-500h600v-160H180v160Zm220 220h160v-160H400v160Zm0 220h160v-160H400v160ZM180-400h160v-160H180v160Zm440 0h160v-160H620v160ZM180-180h160v-160H180v160Zm440 0h160v-160H620v160Z\"/>\n",
              "  </svg>\n",
              "    </button>\n",
              "\n",
              "  <style>\n",
              "    .colab-df-container {\n",
              "      display:flex;\n",
              "      gap: 12px;\n",
              "    }\n",
              "\n",
              "    .colab-df-convert {\n",
              "      background-color: #E8F0FE;\n",
              "      border: none;\n",
              "      border-radius: 50%;\n",
              "      cursor: pointer;\n",
              "      display: none;\n",
              "      fill: #1967D2;\n",
              "      height: 32px;\n",
              "      padding: 0 0 0 0;\n",
              "      width: 32px;\n",
              "    }\n",
              "\n",
              "    .colab-df-convert:hover {\n",
              "      background-color: #E2EBFA;\n",
              "      box-shadow: 0px 1px 2px rgba(60, 64, 67, 0.3), 0px 1px 3px 1px rgba(60, 64, 67, 0.15);\n",
              "      fill: #174EA6;\n",
              "    }\n",
              "\n",
              "    .colab-df-buttons div {\n",
              "      margin-bottom: 4px;\n",
              "    }\n",
              "\n",
              "    [theme=dark] .colab-df-convert {\n",
              "      background-color: #3B4455;\n",
              "      fill: #D2E3FC;\n",
              "    }\n",
              "\n",
              "    [theme=dark] .colab-df-convert:hover {\n",
              "      background-color: #434B5C;\n",
              "      box-shadow: 0px 1px 3px 1px rgba(0, 0, 0, 0.15);\n",
              "      filter: drop-shadow(0px 1px 2px rgba(0, 0, 0, 0.3));\n",
              "      fill: #FFFFFF;\n",
              "    }\n",
              "  </style>\n",
              "\n",
              "    <script>\n",
              "      const buttonEl =\n",
              "        document.querySelector('#df-947dda80-eecc-4205-85ff-25cd9597ce8f button.colab-df-convert');\n",
              "      buttonEl.style.display =\n",
              "        google.colab.kernel.accessAllowed ? 'block' : 'none';\n",
              "\n",
              "      async function convertToInteractive(key) {\n",
              "        const element = document.querySelector('#df-947dda80-eecc-4205-85ff-25cd9597ce8f');\n",
              "        const dataTable =\n",
              "          await google.colab.kernel.invokeFunction('convertToInteractive',\n",
              "                                                    [key], {});\n",
              "        if (!dataTable) return;\n",
              "\n",
              "        const docLinkHtml = 'Like what you see? Visit the ' +\n",
              "          '<a target=\"_blank\" href=https://colab.research.google.com/notebooks/data_table.ipynb>data table notebook</a>'\n",
              "          + ' to learn more about interactive tables.';\n",
              "        element.innerHTML = '';\n",
              "        dataTable['output_type'] = 'display_data';\n",
              "        await google.colab.output.renderOutput(dataTable, element);\n",
              "        const docLink = document.createElement('div');\n",
              "        docLink.innerHTML = docLinkHtml;\n",
              "        element.appendChild(docLink);\n",
              "      }\n",
              "    </script>\n",
              "  </div>\n",
              "\n",
              "\n",
              "<div id=\"df-f8358a5b-54bd-42c1-8173-7b26871d3151\">\n",
              "  <button class=\"colab-df-quickchart\" onclick=\"quickchart('df-f8358a5b-54bd-42c1-8173-7b26871d3151')\"\n",
              "            title=\"Suggest charts\"\n",
              "            style=\"display:none;\">\n",
              "\n",
              "<svg xmlns=\"http://www.w3.org/2000/svg\" height=\"24px\"viewBox=\"0 0 24 24\"\n",
              "     width=\"24px\">\n",
              "    <g>\n",
              "        <path d=\"M19 3H5c-1.1 0-2 .9-2 2v14c0 1.1.9 2 2 2h14c1.1 0 2-.9 2-2V5c0-1.1-.9-2-2-2zM9 17H7v-7h2v7zm4 0h-2V7h2v10zm4 0h-2v-4h2v4z\"/>\n",
              "    </g>\n",
              "</svg>\n",
              "  </button>\n",
              "\n",
              "<style>\n",
              "  .colab-df-quickchart {\n",
              "      --bg-color: #E8F0FE;\n",
              "      --fill-color: #1967D2;\n",
              "      --hover-bg-color: #E2EBFA;\n",
              "      --hover-fill-color: #174EA6;\n",
              "      --disabled-fill-color: #AAA;\n",
              "      --disabled-bg-color: #DDD;\n",
              "  }\n",
              "\n",
              "  [theme=dark] .colab-df-quickchart {\n",
              "      --bg-color: #3B4455;\n",
              "      --fill-color: #D2E3FC;\n",
              "      --hover-bg-color: #434B5C;\n",
              "      --hover-fill-color: #FFFFFF;\n",
              "      --disabled-bg-color: #3B4455;\n",
              "      --disabled-fill-color: #666;\n",
              "  }\n",
              "\n",
              "  .colab-df-quickchart {\n",
              "    background-color: var(--bg-color);\n",
              "    border: none;\n",
              "    border-radius: 50%;\n",
              "    cursor: pointer;\n",
              "    display: none;\n",
              "    fill: var(--fill-color);\n",
              "    height: 32px;\n",
              "    padding: 0;\n",
              "    width: 32px;\n",
              "  }\n",
              "\n",
              "  .colab-df-quickchart:hover {\n",
              "    background-color: var(--hover-bg-color);\n",
              "    box-shadow: 0 1px 2px rgba(60, 64, 67, 0.3), 0 1px 3px 1px rgba(60, 64, 67, 0.15);\n",
              "    fill: var(--button-hover-fill-color);\n",
              "  }\n",
              "\n",
              "  .colab-df-quickchart-complete:disabled,\n",
              "  .colab-df-quickchart-complete:disabled:hover {\n",
              "    background-color: var(--disabled-bg-color);\n",
              "    fill: var(--disabled-fill-color);\n",
              "    box-shadow: none;\n",
              "  }\n",
              "\n",
              "  .colab-df-spinner {\n",
              "    border: 2px solid var(--fill-color);\n",
              "    border-color: transparent;\n",
              "    border-bottom-color: var(--fill-color);\n",
              "    animation:\n",
              "      spin 1s steps(1) infinite;\n",
              "  }\n",
              "\n",
              "  @keyframes spin {\n",
              "    0% {\n",
              "      border-color: transparent;\n",
              "      border-bottom-color: var(--fill-color);\n",
              "      border-left-color: var(--fill-color);\n",
              "    }\n",
              "    20% {\n",
              "      border-color: transparent;\n",
              "      border-left-color: var(--fill-color);\n",
              "      border-top-color: var(--fill-color);\n",
              "    }\n",
              "    30% {\n",
              "      border-color: transparent;\n",
              "      border-left-color: var(--fill-color);\n",
              "      border-top-color: var(--fill-color);\n",
              "      border-right-color: var(--fill-color);\n",
              "    }\n",
              "    40% {\n",
              "      border-color: transparent;\n",
              "      border-right-color: var(--fill-color);\n",
              "      border-top-color: var(--fill-color);\n",
              "    }\n",
              "    60% {\n",
              "      border-color: transparent;\n",
              "      border-right-color: var(--fill-color);\n",
              "    }\n",
              "    80% {\n",
              "      border-color: transparent;\n",
              "      border-right-color: var(--fill-color);\n",
              "      border-bottom-color: var(--fill-color);\n",
              "    }\n",
              "    90% {\n",
              "      border-color: transparent;\n",
              "      border-bottom-color: var(--fill-color);\n",
              "    }\n",
              "  }\n",
              "</style>\n",
              "\n",
              "  <script>\n",
              "    async function quickchart(key) {\n",
              "      const quickchartButtonEl =\n",
              "        document.querySelector('#' + key + ' button');\n",
              "      quickchartButtonEl.disabled = true;  // To prevent multiple clicks.\n",
              "      quickchartButtonEl.classList.add('colab-df-spinner');\n",
              "      try {\n",
              "        const charts = await google.colab.kernel.invokeFunction(\n",
              "            'suggestCharts', [key], {});\n",
              "      } catch (error) {\n",
              "        console.error('Error during call to suggestCharts:', error);\n",
              "      }\n",
              "      quickchartButtonEl.classList.remove('colab-df-spinner');\n",
              "      quickchartButtonEl.classList.add('colab-df-quickchart-complete');\n",
              "    }\n",
              "    (() => {\n",
              "      let quickchartButtonEl =\n",
              "        document.querySelector('#df-f8358a5b-54bd-42c1-8173-7b26871d3151 button');\n",
              "      quickchartButtonEl.style.display =\n",
              "        google.colab.kernel.accessAllowed ? 'block' : 'none';\n",
              "    })();\n",
              "  </script>\n",
              "</div>\n",
              "\n",
              "  <div id=\"id_b2b8a3d0-828d-4282-9406-48334c619fa7\">\n",
              "    <style>\n",
              "      .colab-df-generate {\n",
              "        background-color: #E8F0FE;\n",
              "        border: none;\n",
              "        border-radius: 50%;\n",
              "        cursor: pointer;\n",
              "        display: none;\n",
              "        fill: #1967D2;\n",
              "        height: 32px;\n",
              "        padding: 0 0 0 0;\n",
              "        width: 32px;\n",
              "      }\n",
              "\n",
              "      .colab-df-generate:hover {\n",
              "        background-color: #E2EBFA;\n",
              "        box-shadow: 0px 1px 2px rgba(60, 64, 67, 0.3), 0px 1px 3px 1px rgba(60, 64, 67, 0.15);\n",
              "        fill: #174EA6;\n",
              "      }\n",
              "\n",
              "      [theme=dark] .colab-df-generate {\n",
              "        background-color: #3B4455;\n",
              "        fill: #D2E3FC;\n",
              "      }\n",
              "\n",
              "      [theme=dark] .colab-df-generate:hover {\n",
              "        background-color: #434B5C;\n",
              "        box-shadow: 0px 1px 3px 1px rgba(0, 0, 0, 0.15);\n",
              "        filter: drop-shadow(0px 1px 2px rgba(0, 0, 0, 0.3));\n",
              "        fill: #FFFFFF;\n",
              "      }\n",
              "    </style>\n",
              "    <button class=\"colab-df-generate\" onclick=\"generateWithVariable('df_traveler')\"\n",
              "            title=\"Generate code using this dataframe.\"\n",
              "            style=\"display:none;\">\n",
              "\n",
              "  <svg xmlns=\"http://www.w3.org/2000/svg\" height=\"24px\"viewBox=\"0 0 24 24\"\n",
              "       width=\"24px\">\n",
              "    <path d=\"M7,19H8.4L18.45,9,17,7.55,7,17.6ZM5,21V16.75L18.45,3.32a2,2,0,0,1,2.83,0l1.4,1.43a1.91,1.91,0,0,1,.58,1.4,1.91,1.91,0,0,1-.58,1.4L9.25,21ZM18.45,9,17,7.55Zm-12,3A5.31,5.31,0,0,0,4.9,8.1,5.31,5.31,0,0,0,1,6.5,5.31,5.31,0,0,0,4.9,4.9,5.31,5.31,0,0,0,6.5,1,5.31,5.31,0,0,0,8.1,4.9,5.31,5.31,0,0,0,12,6.5,5.46,5.46,0,0,0,6.5,12Z\"/>\n",
              "  </svg>\n",
              "    </button>\n",
              "    <script>\n",
              "      (() => {\n",
              "      const buttonEl =\n",
              "        document.querySelector('#id_b2b8a3d0-828d-4282-9406-48334c619fa7 button.colab-df-generate');\n",
              "      buttonEl.style.display =\n",
              "        google.colab.kernel.accessAllowed ? 'block' : 'none';\n",
              "\n",
              "      buttonEl.onclick = () => {\n",
              "        google.colab.notebook.generateWithVariable('df_traveler');\n",
              "      }\n",
              "      })();\n",
              "    </script>\n",
              "  </div>\n",
              "\n",
              "    </div>\n",
              "  </div>\n"
            ],
            "text/plain": [
              "     TRAVELER_ID  RESIDENCE_SGG_CD GENDER  AGE_GRP  EDU_NM  EDU_FNSH_SE  \\\n",
              "0        b015583                41      여       20       6          1.0   \n",
              "1        a001105                30      남       30       6          1.0   \n",
              "2        a001673                41      여       30       4          1.0   \n",
              "3        a017690                41      여       30       6          1.0   \n",
              "4        c006666                28      여       30       6          1.0   \n",
              "...          ...               ...    ...      ...     ...          ...   \n",
              "3195     d002221                11      남       30       6          1.0   \n",
              "3196     d002109                41      여       30       5          1.0   \n",
              "3197     d006910                50      여       30       5          1.0   \n",
              "3198     d010634                11      여       20       6          1.0   \n",
              "3199     d003084                50      여       20       6          1.0   \n",
              "\n",
              "      MARR_STTS  FAMILY_MEMB  JOB_NM  JOB_ETC  ...  TRAVEL_STYL_7  \\\n",
              "0           1.0            5     3.0      NaN  ...              1   \n",
              "1           1.0            2     3.0      NaN  ...              6   \n",
              "2           2.0            3     NaN      1.0  ...              2   \n",
              "3           1.0            3     3.0      NaN  ...              4   \n",
              "4           1.0            3    13.0      NaN  ...              5   \n",
              "...         ...          ...     ...      ...  ...            ...   \n",
              "3195        1.0            1     2.0      NaN  ...              6   \n",
              "3196        1.0            1     3.0      NaN  ...              2   \n",
              "3197        1.0            1     4.0      NaN  ...              6   \n",
              "3198        1.0            4     3.0      NaN  ...              2   \n",
              "3199        1.0            4     3.0      NaN  ...              2   \n",
              "\n",
              "      TRAVEL_STYL_8  TRAVEL_STATUS_RESIDENCE  TRAVEL_STATUS_DESTINATION  \\\n",
              "0                 7                      경기도                         충남   \n",
              "1                 5                    대전광역시                         경기   \n",
              "2                 7                      경기도                         서울   \n",
              "3                 5                      경기도                         서울   \n",
              "4                 5                    인천광역시                         경기   \n",
              "...             ...                      ...                        ...   \n",
              "3195              6                    서울특별시                         제주   \n",
              "3196              7                      경기도                         제주   \n",
              "3197              7                  제주특별자치도                         제주   \n",
              "3198              7                    서울특별시                         제주   \n",
              "3199              7                  제주특별자치도                         제주   \n",
              "\n",
              "      TRAVEL_STATUS_ACCOMPANY      TRAVEL_STATUS_YMD  TRAVEL_MOTIVE_1  \\\n",
              "0                 2인 여행(가족 외)  2022-10-29~2022-10-30              1.0   \n",
              "1              3인 이상 여행(가족 외)  2022-09-03~2022-09-04              3.0   \n",
              "2                    자녀 동반 여행  2022-09-18~2022-09-19             10.0   \n",
              "3              3인 이상 여행(가족 외)  2022-11-12~2022-11-12              3.0   \n",
              "4                      나홀로 여행  2022-10-18~2022-10-18              1.0   \n",
              "...                       ...                    ...              ...   \n",
              "3195              2인 여행(가족 외)  2022-10-02~2022-10-05              2.0   \n",
              "3196                   나홀로 여행  2022-10-04~2022-10-07              2.0   \n",
              "3197                   나홀로 여행  2022-10-18~2022-10-19              1.0   \n",
              "3198              2인 여행(가족 외)  2022-11-05~2022-11-07              2.0   \n",
              "3199                   나홀로 여행  2022-10-15~2022-10-16              1.0   \n",
              "\n",
              "      TRAVEL_MOTIVE_2  TRAVEL_MOTIVE_3  TRAVEL_COMPANIONS_NUM  \n",
              "0                 NaN              NaN                      1  \n",
              "1                 NaN              NaN                      7  \n",
              "2                 7.0              1.0                      2  \n",
              "3                 1.0              2.0                      3  \n",
              "4                 7.0              2.0                      0  \n",
              "...               ...              ...                    ...  \n",
              "3195              3.0              5.0                      1  \n",
              "3196              1.0              4.0                      0  \n",
              "3197              4.0              5.0                      0  \n",
              "3198              5.0              1.0                      1  \n",
              "3199              2.0              7.0                      0  \n",
              "\n",
              "[12800 rows x 36 columns]"
            ]
          },
          "execution_count": 6,
          "metadata": {},
          "output_type": "execute_result"
        }
      ],
      "source": [
        "df_traveler = pd.concat([\n",
        "    pd.read_csv('/content/gdrive/MyDrive/data/metropolitan/tn_traveller_master_여행객 Master_A.csv'),\n",
        "    pd.read_csv('/content/gdrive/MyDrive/data/eastern/tn_traveller_master_여행객 Master_B.csv'),\n",
        "    pd.read_csv('/content/gdrive/MyDrive/data/western/tn_traveller_master_여행객 Master_C.csv'),\n",
        "    pd.read_csv('/content/gdrive/MyDrive/data/islands/tn_traveller_master_여행객 Master_D.csv')\n",
        "], axis=0)\n",
        "\n",
        "df_traveler"
      ]
    },
    {
      "cell_type": "markdown",
      "metadata": {
        "id": "eeQhe0g8wt43"
      },
      "source": [
        "## 전부 합치기"
      ]
    },
    {
      "cell_type": "markdown",
      "metadata": {
        "id": "cd6H9Iwdwygf"
      },
      "source": [
        "여행자(traveler)와 지역(SIDO_NM)을 기준으로 그룹화한 후, <br>해당 지역에서의 만족도(DGSTFN)의 평균을 계산하여 데이터프레임을 재구성하였다. <br> 이를 통해 각 여행자가 방문한 지역에서의 만족도를 파악할 수 있다."
      ]
    },
    {
      "cell_type": "code",
      "execution_count": 7,
      "metadata": {
        "colab": {
          "base_uri": "https://localhost:8080/",
          "height": 513
        },
        "id": "zgjnrQ8bKny9",
        "outputId": "0b3a20e5-70b6-45cb-95a2-e8ba963d623b"
      },
      "outputs": [
        {
          "data": {
            "application/vnd.google.colaboratory.intrinsic+json": {
              "type": "dataframe",
              "variable_name": "df_region"
            },
            "text/html": [
              "\n",
              "  <div id=\"df-8f04e5ff-2369-4e99-b353-110f774fe8b9\" class=\"colab-df-container\">\n",
              "    <div>\n",
              "<style scoped>\n",
              "    .dataframe tbody tr th:only-of-type {\n",
              "        vertical-align: middle;\n",
              "    }\n",
              "\n",
              "    .dataframe tbody tr th {\n",
              "        vertical-align: top;\n",
              "    }\n",
              "\n",
              "    .dataframe thead th {\n",
              "        text-align: right;\n",
              "    }\n",
              "</style>\n",
              "<table border=\"1\" class=\"dataframe\">\n",
              "  <thead>\n",
              "    <tr style=\"text-align: right;\">\n",
              "      <th></th>\n",
              "      <th>TRAVELER_ID</th>\n",
              "      <th>SIDO_NM</th>\n",
              "      <th>DGSTFN</th>\n",
              "      <th>RESIDENCE_SGG_CD</th>\n",
              "      <th>GENDER</th>\n",
              "      <th>AGE_GRP</th>\n",
              "      <th>EDU_NM</th>\n",
              "      <th>EDU_FNSH_SE</th>\n",
              "      <th>MARR_STTS</th>\n",
              "      <th>FAMILY_MEMB</th>\n",
              "      <th>...</th>\n",
              "      <th>TRAVEL_COMPANIONS_NUM</th>\n",
              "      <th>TRAVEL_ID</th>\n",
              "      <th>TRAVEL_NM</th>\n",
              "      <th>TRAVEL_PURPOSE</th>\n",
              "      <th>TRAVEL_START_YMD</th>\n",
              "      <th>TRAVEL_END_YMD</th>\n",
              "      <th>MVMN_NM</th>\n",
              "      <th>TRAVEL_PERSONA</th>\n",
              "      <th>TRAVEL_MISSION</th>\n",
              "      <th>TRAVEL_MISSION_CHECK</th>\n",
              "    </tr>\n",
              "  </thead>\n",
              "  <tbody>\n",
              "    <tr>\n",
              "      <th>0</th>\n",
              "      <td>a000007</td>\n",
              "      <td>NaN</td>\n",
              "      <td>NaN</td>\n",
              "      <td>11.0</td>\n",
              "      <td>여</td>\n",
              "      <td>30.0</td>\n",
              "      <td>7.0</td>\n",
              "      <td>1.0</td>\n",
              "      <td>3.0</td>\n",
              "      <td>6.0</td>\n",
              "      <td>...</td>\n",
              "      <td>5.0</td>\n",
              "      <td>a_a000007</td>\n",
              "      <td>D02</td>\n",
              "      <td>10;23;24;26;7;</td>\n",
              "      <td>2022-08-19</td>\n",
              "      <td>2022-08-22</td>\n",
              "      <td>자가용</td>\n",
              "      <td>NaN</td>\n",
              "      <td>2;</td>\n",
              "      <td>2;3;10</td>\n",
              "    </tr>\n",
              "    <tr>\n",
              "      <th>1</th>\n",
              "      <td>a000007</td>\n",
              "      <td>인천광역시</td>\n",
              "      <td>3.6</td>\n",
              "      <td>11.0</td>\n",
              "      <td>여</td>\n",
              "      <td>30.0</td>\n",
              "      <td>7.0</td>\n",
              "      <td>1.0</td>\n",
              "      <td>3.0</td>\n",
              "      <td>6.0</td>\n",
              "      <td>...</td>\n",
              "      <td>5.0</td>\n",
              "      <td>a_a000007</td>\n",
              "      <td>D02</td>\n",
              "      <td>10;23;24;26;7;</td>\n",
              "      <td>2022-08-19</td>\n",
              "      <td>2022-08-22</td>\n",
              "      <td>자가용</td>\n",
              "      <td>NaN</td>\n",
              "      <td>2;</td>\n",
              "      <td>2;3;10</td>\n",
              "    </tr>\n",
              "    <tr>\n",
              "      <th>2</th>\n",
              "      <td>a000011</td>\n",
              "      <td>NaN</td>\n",
              "      <td>NaN</td>\n",
              "      <td>NaN</td>\n",
              "      <td>NaN</td>\n",
              "      <td>NaN</td>\n",
              "      <td>NaN</td>\n",
              "      <td>NaN</td>\n",
              "      <td>NaN</td>\n",
              "      <td>NaN</td>\n",
              "      <td>...</td>\n",
              "      <td>NaN</td>\n",
              "      <td>a_a000011</td>\n",
              "      <td>A03</td>\n",
              "      <td>22;24;26;27;7;</td>\n",
              "      <td>2022-08-06</td>\n",
              "      <td>2022-08-08</td>\n",
              "      <td>자가용</td>\n",
              "      <td>NaN</td>\n",
              "      <td>2;</td>\n",
              "      <td>25;24;22</td>\n",
              "    </tr>\n",
              "    <tr>\n",
              "      <th>3</th>\n",
              "      <td>a000011</td>\n",
              "      <td>인천광역시</td>\n",
              "      <td>3.0</td>\n",
              "      <td>NaN</td>\n",
              "      <td>NaN</td>\n",
              "      <td>NaN</td>\n",
              "      <td>NaN</td>\n",
              "      <td>NaN</td>\n",
              "      <td>NaN</td>\n",
              "      <td>NaN</td>\n",
              "      <td>...</td>\n",
              "      <td>NaN</td>\n",
              "      <td>a_a000011</td>\n",
              "      <td>A03</td>\n",
              "      <td>22;24;26;27;7;</td>\n",
              "      <td>2022-08-06</td>\n",
              "      <td>2022-08-08</td>\n",
              "      <td>자가용</td>\n",
              "      <td>NaN</td>\n",
              "      <td>2;</td>\n",
              "      <td>25;24;22</td>\n",
              "    </tr>\n",
              "    <tr>\n",
              "      <th>4</th>\n",
              "      <td>a000011</td>\n",
              "      <td>파주시</td>\n",
              "      <td>5.0</td>\n",
              "      <td>NaN</td>\n",
              "      <td>NaN</td>\n",
              "      <td>NaN</td>\n",
              "      <td>NaN</td>\n",
              "      <td>NaN</td>\n",
              "      <td>NaN</td>\n",
              "      <td>NaN</td>\n",
              "      <td>...</td>\n",
              "      <td>NaN</td>\n",
              "      <td>a_a000011</td>\n",
              "      <td>A03</td>\n",
              "      <td>22;24;26;27;7;</td>\n",
              "      <td>2022-08-06</td>\n",
              "      <td>2022-08-08</td>\n",
              "      <td>자가용</td>\n",
              "      <td>NaN</td>\n",
              "      <td>2;</td>\n",
              "      <td>25;24;22</td>\n",
              "    </tr>\n",
              "    <tr>\n",
              "      <th>...</th>\n",
              "      <td>...</td>\n",
              "      <td>...</td>\n",
              "      <td>...</td>\n",
              "      <td>...</td>\n",
              "      <td>...</td>\n",
              "      <td>...</td>\n",
              "      <td>...</td>\n",
              "      <td>...</td>\n",
              "      <td>...</td>\n",
              "      <td>...</td>\n",
              "      <td>...</td>\n",
              "      <td>...</td>\n",
              "      <td>...</td>\n",
              "      <td>...</td>\n",
              "      <td>...</td>\n",
              "      <td>...</td>\n",
              "      <td>...</td>\n",
              "      <td>...</td>\n",
              "      <td>...</td>\n",
              "      <td>...</td>\n",
              "      <td>...</td>\n",
              "    </tr>\n",
              "    <tr>\n",
              "      <th>34612</th>\n",
              "      <td>d012489</td>\n",
              "      <td>제주특별자치도</td>\n",
              "      <td>4.0</td>\n",
              "      <td>50.0</td>\n",
              "      <td>여</td>\n",
              "      <td>30.0</td>\n",
              "      <td>4.0</td>\n",
              "      <td>1.0</td>\n",
              "      <td>2.0</td>\n",
              "      <td>6.0</td>\n",
              "      <td>...</td>\n",
              "      <td>0.0</td>\n",
              "      <td>d_d012489</td>\n",
              "      <td>D01</td>\n",
              "      <td>28;</td>\n",
              "      <td>2022-11-13</td>\n",
              "      <td>2022-11-14</td>\n",
              "      <td>NaN</td>\n",
              "      <td>NaN</td>\n",
              "      <td>28;</td>\n",
              "      <td>2;1;6</td>\n",
              "    </tr>\n",
              "    <tr>\n",
              "      <th>34613</th>\n",
              "      <td>d012490</td>\n",
              "      <td>NaN</td>\n",
              "      <td>5.0</td>\n",
              "      <td>50.0</td>\n",
              "      <td>여</td>\n",
              "      <td>20.0</td>\n",
              "      <td>6.0</td>\n",
              "      <td>1.0</td>\n",
              "      <td>1.0</td>\n",
              "      <td>1.0</td>\n",
              "      <td>...</td>\n",
              "      <td>0.0</td>\n",
              "      <td>d_d012490</td>\n",
              "      <td>D01</td>\n",
              "      <td>1;22;</td>\n",
              "      <td>2022-11-12</td>\n",
              "      <td>2022-11-13</td>\n",
              "      <td>NaN</td>\n",
              "      <td>NaN</td>\n",
              "      <td>1;22;</td>\n",
              "      <td>1;5;21</td>\n",
              "    </tr>\n",
              "    <tr>\n",
              "      <th>34614</th>\n",
              "      <td>d012491</td>\n",
              "      <td>NaN</td>\n",
              "      <td>4.0</td>\n",
              "      <td>50.0</td>\n",
              "      <td>남</td>\n",
              "      <td>30.0</td>\n",
              "      <td>6.0</td>\n",
              "      <td>1.0</td>\n",
              "      <td>2.0</td>\n",
              "      <td>2.0</td>\n",
              "      <td>...</td>\n",
              "      <td>1.0</td>\n",
              "      <td>d_d012491</td>\n",
              "      <td>D01</td>\n",
              "      <td>1;12;22;24;26;</td>\n",
              "      <td>2022-11-09</td>\n",
              "      <td>2022-11-10</td>\n",
              "      <td>NaN</td>\n",
              "      <td>NaN</td>\n",
              "      <td>1;12;22;24;26;</td>\n",
              "      <td>3;22;24</td>\n",
              "    </tr>\n",
              "    <tr>\n",
              "      <th>34615</th>\n",
              "      <td>d012491</td>\n",
              "      <td>제주특별자치도</td>\n",
              "      <td>4.3</td>\n",
              "      <td>50.0</td>\n",
              "      <td>남</td>\n",
              "      <td>30.0</td>\n",
              "      <td>6.0</td>\n",
              "      <td>1.0</td>\n",
              "      <td>2.0</td>\n",
              "      <td>2.0</td>\n",
              "      <td>...</td>\n",
              "      <td>1.0</td>\n",
              "      <td>d_d012491</td>\n",
              "      <td>D01</td>\n",
              "      <td>1;12;22;24;26;</td>\n",
              "      <td>2022-11-09</td>\n",
              "      <td>2022-11-10</td>\n",
              "      <td>NaN</td>\n",
              "      <td>NaN</td>\n",
              "      <td>1;12;22;24;26;</td>\n",
              "      <td>3;22;24</td>\n",
              "    </tr>\n",
              "    <tr>\n",
              "      <th>34616</th>\n",
              "      <td>d012492</td>\n",
              "      <td>NaN</td>\n",
              "      <td>NaN</td>\n",
              "      <td>NaN</td>\n",
              "      <td>NaN</td>\n",
              "      <td>NaN</td>\n",
              "      <td>NaN</td>\n",
              "      <td>NaN</td>\n",
              "      <td>NaN</td>\n",
              "      <td>NaN</td>\n",
              "      <td>...</td>\n",
              "      <td>NaN</td>\n",
              "      <td>d_d012492</td>\n",
              "      <td>D01</td>\n",
              "      <td>22;</td>\n",
              "      <td>2022-11-13</td>\n",
              "      <td>2022-11-14</td>\n",
              "      <td>NaN</td>\n",
              "      <td>NaN</td>\n",
              "      <td>22;</td>\n",
              "      <td>9;12;22</td>\n",
              "    </tr>\n",
              "  </tbody>\n",
              "</table>\n",
              "<p>34617 rows × 47 columns</p>\n",
              "</div>\n",
              "    <div class=\"colab-df-buttons\">\n",
              "\n",
              "  <div class=\"colab-df-container\">\n",
              "    <button class=\"colab-df-convert\" onclick=\"convertToInteractive('df-8f04e5ff-2369-4e99-b353-110f774fe8b9')\"\n",
              "            title=\"Convert this dataframe to an interactive table.\"\n",
              "            style=\"display:none;\">\n",
              "\n",
              "  <svg xmlns=\"http://www.w3.org/2000/svg\" height=\"24px\" viewBox=\"0 -960 960 960\">\n",
              "    <path d=\"M120-120v-720h720v720H120Zm60-500h600v-160H180v160Zm220 220h160v-160H400v160Zm0 220h160v-160H400v160ZM180-400h160v-160H180v160Zm440 0h160v-160H620v160ZM180-180h160v-160H180v160Zm440 0h160v-160H620v160Z\"/>\n",
              "  </svg>\n",
              "    </button>\n",
              "\n",
              "  <style>\n",
              "    .colab-df-container {\n",
              "      display:flex;\n",
              "      gap: 12px;\n",
              "    }\n",
              "\n",
              "    .colab-df-convert {\n",
              "      background-color: #E8F0FE;\n",
              "      border: none;\n",
              "      border-radius: 50%;\n",
              "      cursor: pointer;\n",
              "      display: none;\n",
              "      fill: #1967D2;\n",
              "      height: 32px;\n",
              "      padding: 0 0 0 0;\n",
              "      width: 32px;\n",
              "    }\n",
              "\n",
              "    .colab-df-convert:hover {\n",
              "      background-color: #E2EBFA;\n",
              "      box-shadow: 0px 1px 2px rgba(60, 64, 67, 0.3), 0px 1px 3px 1px rgba(60, 64, 67, 0.15);\n",
              "      fill: #174EA6;\n",
              "    }\n",
              "\n",
              "    .colab-df-buttons div {\n",
              "      margin-bottom: 4px;\n",
              "    }\n",
              "\n",
              "    [theme=dark] .colab-df-convert {\n",
              "      background-color: #3B4455;\n",
              "      fill: #D2E3FC;\n",
              "    }\n",
              "\n",
              "    [theme=dark] .colab-df-convert:hover {\n",
              "      background-color: #434B5C;\n",
              "      box-shadow: 0px 1px 3px 1px rgba(0, 0, 0, 0.15);\n",
              "      filter: drop-shadow(0px 1px 2px rgba(0, 0, 0, 0.3));\n",
              "      fill: #FFFFFF;\n",
              "    }\n",
              "  </style>\n",
              "\n",
              "    <script>\n",
              "      const buttonEl =\n",
              "        document.querySelector('#df-8f04e5ff-2369-4e99-b353-110f774fe8b9 button.colab-df-convert');\n",
              "      buttonEl.style.display =\n",
              "        google.colab.kernel.accessAllowed ? 'block' : 'none';\n",
              "\n",
              "      async function convertToInteractive(key) {\n",
              "        const element = document.querySelector('#df-8f04e5ff-2369-4e99-b353-110f774fe8b9');\n",
              "        const dataTable =\n",
              "          await google.colab.kernel.invokeFunction('convertToInteractive',\n",
              "                                                    [key], {});\n",
              "        if (!dataTable) return;\n",
              "\n",
              "        const docLinkHtml = 'Like what you see? Visit the ' +\n",
              "          '<a target=\"_blank\" href=https://colab.research.google.com/notebooks/data_table.ipynb>data table notebook</a>'\n",
              "          + ' to learn more about interactive tables.';\n",
              "        element.innerHTML = '';\n",
              "        dataTable['output_type'] = 'display_data';\n",
              "        await google.colab.output.renderOutput(dataTable, element);\n",
              "        const docLink = document.createElement('div');\n",
              "        docLink.innerHTML = docLinkHtml;\n",
              "        element.appendChild(docLink);\n",
              "      }\n",
              "    </script>\n",
              "  </div>\n",
              "\n",
              "\n",
              "<div id=\"df-fdf4fc87-04c5-400a-9d94-2412a85a11dd\">\n",
              "  <button class=\"colab-df-quickchart\" onclick=\"quickchart('df-fdf4fc87-04c5-400a-9d94-2412a85a11dd')\"\n",
              "            title=\"Suggest charts\"\n",
              "            style=\"display:none;\">\n",
              "\n",
              "<svg xmlns=\"http://www.w3.org/2000/svg\" height=\"24px\"viewBox=\"0 0 24 24\"\n",
              "     width=\"24px\">\n",
              "    <g>\n",
              "        <path d=\"M19 3H5c-1.1 0-2 .9-2 2v14c0 1.1.9 2 2 2h14c1.1 0 2-.9 2-2V5c0-1.1-.9-2-2-2zM9 17H7v-7h2v7zm4 0h-2V7h2v10zm4 0h-2v-4h2v4z\"/>\n",
              "    </g>\n",
              "</svg>\n",
              "  </button>\n",
              "\n",
              "<style>\n",
              "  .colab-df-quickchart {\n",
              "      --bg-color: #E8F0FE;\n",
              "      --fill-color: #1967D2;\n",
              "      --hover-bg-color: #E2EBFA;\n",
              "      --hover-fill-color: #174EA6;\n",
              "      --disabled-fill-color: #AAA;\n",
              "      --disabled-bg-color: #DDD;\n",
              "  }\n",
              "\n",
              "  [theme=dark] .colab-df-quickchart {\n",
              "      --bg-color: #3B4455;\n",
              "      --fill-color: #D2E3FC;\n",
              "      --hover-bg-color: #434B5C;\n",
              "      --hover-fill-color: #FFFFFF;\n",
              "      --disabled-bg-color: #3B4455;\n",
              "      --disabled-fill-color: #666;\n",
              "  }\n",
              "\n",
              "  .colab-df-quickchart {\n",
              "    background-color: var(--bg-color);\n",
              "    border: none;\n",
              "    border-radius: 50%;\n",
              "    cursor: pointer;\n",
              "    display: none;\n",
              "    fill: var(--fill-color);\n",
              "    height: 32px;\n",
              "    padding: 0;\n",
              "    width: 32px;\n",
              "  }\n",
              "\n",
              "  .colab-df-quickchart:hover {\n",
              "    background-color: var(--hover-bg-color);\n",
              "    box-shadow: 0 1px 2px rgba(60, 64, 67, 0.3), 0 1px 3px 1px rgba(60, 64, 67, 0.15);\n",
              "    fill: var(--button-hover-fill-color);\n",
              "  }\n",
              "\n",
              "  .colab-df-quickchart-complete:disabled,\n",
              "  .colab-df-quickchart-complete:disabled:hover {\n",
              "    background-color: var(--disabled-bg-color);\n",
              "    fill: var(--disabled-fill-color);\n",
              "    box-shadow: none;\n",
              "  }\n",
              "\n",
              "  .colab-df-spinner {\n",
              "    border: 2px solid var(--fill-color);\n",
              "    border-color: transparent;\n",
              "    border-bottom-color: var(--fill-color);\n",
              "    animation:\n",
              "      spin 1s steps(1) infinite;\n",
              "  }\n",
              "\n",
              "  @keyframes spin {\n",
              "    0% {\n",
              "      border-color: transparent;\n",
              "      border-bottom-color: var(--fill-color);\n",
              "      border-left-color: var(--fill-color);\n",
              "    }\n",
              "    20% {\n",
              "      border-color: transparent;\n",
              "      border-left-color: var(--fill-color);\n",
              "      border-top-color: var(--fill-color);\n",
              "    }\n",
              "    30% {\n",
              "      border-color: transparent;\n",
              "      border-left-color: var(--fill-color);\n",
              "      border-top-color: var(--fill-color);\n",
              "      border-right-color: var(--fill-color);\n",
              "    }\n",
              "    40% {\n",
              "      border-color: transparent;\n",
              "      border-right-color: var(--fill-color);\n",
              "      border-top-color: var(--fill-color);\n",
              "    }\n",
              "    60% {\n",
              "      border-color: transparent;\n",
              "      border-right-color: var(--fill-color);\n",
              "    }\n",
              "    80% {\n",
              "      border-color: transparent;\n",
              "      border-right-color: var(--fill-color);\n",
              "      border-bottom-color: var(--fill-color);\n",
              "    }\n",
              "    90% {\n",
              "      border-color: transparent;\n",
              "      border-bottom-color: var(--fill-color);\n",
              "    }\n",
              "  }\n",
              "</style>\n",
              "\n",
              "  <script>\n",
              "    async function quickchart(key) {\n",
              "      const quickchartButtonEl =\n",
              "        document.querySelector('#' + key + ' button');\n",
              "      quickchartButtonEl.disabled = true;  // To prevent multiple clicks.\n",
              "      quickchartButtonEl.classList.add('colab-df-spinner');\n",
              "      try {\n",
              "        const charts = await google.colab.kernel.invokeFunction(\n",
              "            'suggestCharts', [key], {});\n",
              "      } catch (error) {\n",
              "        console.error('Error during call to suggestCharts:', error);\n",
              "      }\n",
              "      quickchartButtonEl.classList.remove('colab-df-spinner');\n",
              "      quickchartButtonEl.classList.add('colab-df-quickchart-complete');\n",
              "    }\n",
              "    (() => {\n",
              "      let quickchartButtonEl =\n",
              "        document.querySelector('#df-fdf4fc87-04c5-400a-9d94-2412a85a11dd button');\n",
              "      quickchartButtonEl.style.display =\n",
              "        google.colab.kernel.accessAllowed ? 'block' : 'none';\n",
              "    })();\n",
              "  </script>\n",
              "</div>\n",
              "\n",
              "  <div id=\"id_71725157-3af9-43ff-936e-f4bb3038e463\">\n",
              "    <style>\n",
              "      .colab-df-generate {\n",
              "        background-color: #E8F0FE;\n",
              "        border: none;\n",
              "        border-radius: 50%;\n",
              "        cursor: pointer;\n",
              "        display: none;\n",
              "        fill: #1967D2;\n",
              "        height: 32px;\n",
              "        padding: 0 0 0 0;\n",
              "        width: 32px;\n",
              "      }\n",
              "\n",
              "      .colab-df-generate:hover {\n",
              "        background-color: #E2EBFA;\n",
              "        box-shadow: 0px 1px 2px rgba(60, 64, 67, 0.3), 0px 1px 3px 1px rgba(60, 64, 67, 0.15);\n",
              "        fill: #174EA6;\n",
              "      }\n",
              "\n",
              "      [theme=dark] .colab-df-generate {\n",
              "        background-color: #3B4455;\n",
              "        fill: #D2E3FC;\n",
              "      }\n",
              "\n",
              "      [theme=dark] .colab-df-generate:hover {\n",
              "        background-color: #434B5C;\n",
              "        box-shadow: 0px 1px 3px 1px rgba(0, 0, 0, 0.15);\n",
              "        filter: drop-shadow(0px 1px 2px rgba(0, 0, 0, 0.3));\n",
              "        fill: #FFFFFF;\n",
              "      }\n",
              "    </style>\n",
              "    <button class=\"colab-df-generate\" onclick=\"generateWithVariable('df_region')\"\n",
              "            title=\"Generate code using this dataframe.\"\n",
              "            style=\"display:none;\">\n",
              "\n",
              "  <svg xmlns=\"http://www.w3.org/2000/svg\" height=\"24px\"viewBox=\"0 0 24 24\"\n",
              "       width=\"24px\">\n",
              "    <path d=\"M7,19H8.4L18.45,9,17,7.55,7,17.6ZM5,21V16.75L18.45,3.32a2,2,0,0,1,2.83,0l1.4,1.43a1.91,1.91,0,0,1,.58,1.4,1.91,1.91,0,0,1-.58,1.4L9.25,21ZM18.45,9,17,7.55Zm-12,3A5.31,5.31,0,0,0,4.9,8.1,5.31,5.31,0,0,0,1,6.5,5.31,5.31,0,0,0,4.9,4.9,5.31,5.31,0,0,0,6.5,1,5.31,5.31,0,0,0,8.1,4.9,5.31,5.31,0,0,0,12,6.5,5.46,5.46,0,0,0,6.5,12Z\"/>\n",
              "  </svg>\n",
              "    </button>\n",
              "    <script>\n",
              "      (() => {\n",
              "      const buttonEl =\n",
              "        document.querySelector('#id_71725157-3af9-43ff-936e-f4bb3038e463 button.colab-df-generate');\n",
              "      buttonEl.style.display =\n",
              "        google.colab.kernel.accessAllowed ? 'block' : 'none';\n",
              "\n",
              "      buttonEl.onclick = () => {\n",
              "        google.colab.notebook.generateWithVariable('df_region');\n",
              "      }\n",
              "      })();\n",
              "    </script>\n",
              "  </div>\n",
              "\n",
              "    </div>\n",
              "  </div>\n"
            ],
            "text/plain": [
              "      TRAVELER_ID  SIDO_NM  DGSTFN  RESIDENCE_SGG_CD GENDER  AGE_GRP  EDU_NM  \\\n",
              "0         a000007      NaN     NaN              11.0      여     30.0     7.0   \n",
              "1         a000007    인천광역시     3.6              11.0      여     30.0     7.0   \n",
              "2         a000011      NaN     NaN               NaN    NaN      NaN     NaN   \n",
              "3         a000011    인천광역시     3.0               NaN    NaN      NaN     NaN   \n",
              "4         a000011      파주시     5.0               NaN    NaN      NaN     NaN   \n",
              "...           ...      ...     ...               ...    ...      ...     ...   \n",
              "34612     d012489  제주특별자치도     4.0              50.0      여     30.0     4.0   \n",
              "34613     d012490      NaN     5.0              50.0      여     20.0     6.0   \n",
              "34614     d012491      NaN     4.0              50.0      남     30.0     6.0   \n",
              "34615     d012491  제주특별자치도     4.3              50.0      남     30.0     6.0   \n",
              "34616     d012492      NaN     NaN               NaN    NaN      NaN     NaN   \n",
              "\n",
              "       EDU_FNSH_SE  MARR_STTS  FAMILY_MEMB  ...  TRAVEL_COMPANIONS_NUM  \\\n",
              "0              1.0        3.0          6.0  ...                    5.0   \n",
              "1              1.0        3.0          6.0  ...                    5.0   \n",
              "2              NaN        NaN          NaN  ...                    NaN   \n",
              "3              NaN        NaN          NaN  ...                    NaN   \n",
              "4              NaN        NaN          NaN  ...                    NaN   \n",
              "...            ...        ...          ...  ...                    ...   \n",
              "34612          1.0        2.0          6.0  ...                    0.0   \n",
              "34613          1.0        1.0          1.0  ...                    0.0   \n",
              "34614          1.0        2.0          2.0  ...                    1.0   \n",
              "34615          1.0        2.0          2.0  ...                    1.0   \n",
              "34616          NaN        NaN          NaN  ...                    NaN   \n",
              "\n",
              "       TRAVEL_ID  TRAVEL_NM  TRAVEL_PURPOSE  TRAVEL_START_YMD  TRAVEL_END_YMD  \\\n",
              "0      a_a000007        D02  10;23;24;26;7;        2022-08-19      2022-08-22   \n",
              "1      a_a000007        D02  10;23;24;26;7;        2022-08-19      2022-08-22   \n",
              "2      a_a000011        A03  22;24;26;27;7;        2022-08-06      2022-08-08   \n",
              "3      a_a000011        A03  22;24;26;27;7;        2022-08-06      2022-08-08   \n",
              "4      a_a000011        A03  22;24;26;27;7;        2022-08-06      2022-08-08   \n",
              "...          ...        ...             ...               ...             ...   \n",
              "34612  d_d012489        D01             28;        2022-11-13      2022-11-14   \n",
              "34613  d_d012490        D01           1;22;        2022-11-12      2022-11-13   \n",
              "34614  d_d012491        D01  1;12;22;24;26;        2022-11-09      2022-11-10   \n",
              "34615  d_d012491        D01  1;12;22;24;26;        2022-11-09      2022-11-10   \n",
              "34616  d_d012492        D01             22;        2022-11-13      2022-11-14   \n",
              "\n",
              "       MVMN_NM  TRAVEL_PERSONA  TRAVEL_MISSION  TRAVEL_MISSION_CHECK  \n",
              "0          자가용             NaN              2;                2;3;10  \n",
              "1          자가용             NaN              2;                2;3;10  \n",
              "2          자가용             NaN              2;              25;24;22  \n",
              "3          자가용             NaN              2;              25;24;22  \n",
              "4          자가용             NaN              2;              25;24;22  \n",
              "...        ...             ...             ...                   ...  \n",
              "34612      NaN             NaN             28;                 2;1;6  \n",
              "34613      NaN             NaN           1;22;                1;5;21  \n",
              "34614      NaN             NaN  1;12;22;24;26;               3;22;24  \n",
              "34615      NaN             NaN  1;12;22;24;26;               3;22;24  \n",
              "34616      NaN             NaN             22;               9;12;22  \n",
              "\n",
              "[34617 rows x 47 columns]"
            ]
          },
          "execution_count": 7,
          "metadata": {},
          "output_type": "execute_result"
        }
      ],
      "source": [
        "df = pd.merge(df_place, df_travel, on='TRAVEL_ID', how='left')\n",
        "df = pd.merge(df, df_traveler, on='TRAVELER_ID', how='left')\n",
        "region_satisfaction = df.groupby(['TRAVELER_ID', 'SIDO_NM'])['DGSTFN'].mean().reset_index()\n",
        "\n",
        "df_region = pd.merge(region_satisfaction, df_traveler, on='TRAVELER_ID', how='left')\n",
        "df_region = pd.merge(df_region, df_travel, on='TRAVELER_ID', how='left')\n",
        "df_region['DGSTFN'] = df_region['DGSTFN'].round(1)\n",
        "df_region"
      ]
    },
    {
      "cell_type": "markdown",
      "metadata": {
        "id": "vThu1ZkKMhrD"
      },
      "source": [
        "# 데이터 셋 전처리"
      ]
    },
    {
      "cell_type": "markdown",
      "metadata": {
        "id": "L85JhCenx15i"
      },
      "source": [
        "## 데이터 셋 전처리1"
      ]
    },
    {
      "cell_type": "code",
      "execution_count": 8,
      "metadata": {
        "colab": {
          "base_uri": "https://localhost:8080/",
          "height": 513
        },
        "id": "4ryidnyIM43Z",
        "outputId": "e99c6a49-1c54-4fb1-e2d2-31767780f20b"
      },
      "outputs": [
        {
          "data": {
            "application/vnd.google.colaboratory.intrinsic+json": {
              "type": "dataframe",
              "variable_name": "df_filter"
            },
            "text/html": [
              "\n",
              "  <div id=\"df-cb71eac7-3370-481d-b4cd-0904c7812ae3\" class=\"colab-df-container\">\n",
              "    <div>\n",
              "<style scoped>\n",
              "    .dataframe tbody tr th:only-of-type {\n",
              "        vertical-align: middle;\n",
              "    }\n",
              "\n",
              "    .dataframe tbody tr th {\n",
              "        vertical-align: top;\n",
              "    }\n",
              "\n",
              "    .dataframe thead th {\n",
              "        text-align: right;\n",
              "    }\n",
              "</style>\n",
              "<table border=\"1\" class=\"dataframe\">\n",
              "  <thead>\n",
              "    <tr style=\"text-align: right;\">\n",
              "      <th></th>\n",
              "      <th>TRAVELER_ID</th>\n",
              "      <th>SIDO_NM</th>\n",
              "      <th>DGSTFN</th>\n",
              "      <th>RESIDENCE_SGG_CD</th>\n",
              "      <th>GENDER</th>\n",
              "      <th>AGE_GRP</th>\n",
              "      <th>EDU_NM</th>\n",
              "      <th>EDU_FNSH_SE</th>\n",
              "      <th>MARR_STTS</th>\n",
              "      <th>FAMILY_MEMB</th>\n",
              "      <th>...</th>\n",
              "      <th>TRAVEL_ID</th>\n",
              "      <th>TRAVEL_NM</th>\n",
              "      <th>TRAVEL_PURPOSE</th>\n",
              "      <th>TRAVEL_START_YMD</th>\n",
              "      <th>TRAVEL_END_YMD</th>\n",
              "      <th>MVMN_NM</th>\n",
              "      <th>TRAVEL_PERSONA</th>\n",
              "      <th>TRAVEL_MISSION</th>\n",
              "      <th>TRAVEL_MISSION_CHECK</th>\n",
              "      <th>TRAVEL_MISSION_INT</th>\n",
              "    </tr>\n",
              "  </thead>\n",
              "  <tbody>\n",
              "    <tr>\n",
              "      <th>0</th>\n",
              "      <td>a000007</td>\n",
              "      <td>NaN</td>\n",
              "      <td>NaN</td>\n",
              "      <td>11.0</td>\n",
              "      <td>여</td>\n",
              "      <td>30.0</td>\n",
              "      <td>7.0</td>\n",
              "      <td>1.0</td>\n",
              "      <td>3.0</td>\n",
              "      <td>6.0</td>\n",
              "      <td>...</td>\n",
              "      <td>a_a000007</td>\n",
              "      <td>D02</td>\n",
              "      <td>10;23;24;26;7;</td>\n",
              "      <td>2022-08-19</td>\n",
              "      <td>2022-08-22</td>\n",
              "      <td>자가용</td>\n",
              "      <td>NaN</td>\n",
              "      <td>2;</td>\n",
              "      <td>2;3;10</td>\n",
              "      <td>2</td>\n",
              "    </tr>\n",
              "    <tr>\n",
              "      <th>1</th>\n",
              "      <td>a000007</td>\n",
              "      <td>인천광역시</td>\n",
              "      <td>3.6</td>\n",
              "      <td>11.0</td>\n",
              "      <td>여</td>\n",
              "      <td>30.0</td>\n",
              "      <td>7.0</td>\n",
              "      <td>1.0</td>\n",
              "      <td>3.0</td>\n",
              "      <td>6.0</td>\n",
              "      <td>...</td>\n",
              "      <td>a_a000007</td>\n",
              "      <td>D02</td>\n",
              "      <td>10;23;24;26;7;</td>\n",
              "      <td>2022-08-19</td>\n",
              "      <td>2022-08-22</td>\n",
              "      <td>자가용</td>\n",
              "      <td>NaN</td>\n",
              "      <td>2;</td>\n",
              "      <td>2;3;10</td>\n",
              "      <td>2</td>\n",
              "    </tr>\n",
              "    <tr>\n",
              "      <th>2</th>\n",
              "      <td>a000011</td>\n",
              "      <td>NaN</td>\n",
              "      <td>NaN</td>\n",
              "      <td>NaN</td>\n",
              "      <td>NaN</td>\n",
              "      <td>NaN</td>\n",
              "      <td>NaN</td>\n",
              "      <td>NaN</td>\n",
              "      <td>NaN</td>\n",
              "      <td>NaN</td>\n",
              "      <td>...</td>\n",
              "      <td>a_a000011</td>\n",
              "      <td>A03</td>\n",
              "      <td>22;24;26;27;7;</td>\n",
              "      <td>2022-08-06</td>\n",
              "      <td>2022-08-08</td>\n",
              "      <td>자가용</td>\n",
              "      <td>NaN</td>\n",
              "      <td>2;</td>\n",
              "      <td>25;24;22</td>\n",
              "      <td>25</td>\n",
              "    </tr>\n",
              "    <tr>\n",
              "      <th>3</th>\n",
              "      <td>a000011</td>\n",
              "      <td>인천광역시</td>\n",
              "      <td>3.0</td>\n",
              "      <td>NaN</td>\n",
              "      <td>NaN</td>\n",
              "      <td>NaN</td>\n",
              "      <td>NaN</td>\n",
              "      <td>NaN</td>\n",
              "      <td>NaN</td>\n",
              "      <td>NaN</td>\n",
              "      <td>...</td>\n",
              "      <td>a_a000011</td>\n",
              "      <td>A03</td>\n",
              "      <td>22;24;26;27;7;</td>\n",
              "      <td>2022-08-06</td>\n",
              "      <td>2022-08-08</td>\n",
              "      <td>자가용</td>\n",
              "      <td>NaN</td>\n",
              "      <td>2;</td>\n",
              "      <td>25;24;22</td>\n",
              "      <td>25</td>\n",
              "    </tr>\n",
              "    <tr>\n",
              "      <th>4</th>\n",
              "      <td>a000011</td>\n",
              "      <td>파주시</td>\n",
              "      <td>5.0</td>\n",
              "      <td>NaN</td>\n",
              "      <td>NaN</td>\n",
              "      <td>NaN</td>\n",
              "      <td>NaN</td>\n",
              "      <td>NaN</td>\n",
              "      <td>NaN</td>\n",
              "      <td>NaN</td>\n",
              "      <td>...</td>\n",
              "      <td>a_a000011</td>\n",
              "      <td>A03</td>\n",
              "      <td>22;24;26;27;7;</td>\n",
              "      <td>2022-08-06</td>\n",
              "      <td>2022-08-08</td>\n",
              "      <td>자가용</td>\n",
              "      <td>NaN</td>\n",
              "      <td>2;</td>\n",
              "      <td>25;24;22</td>\n",
              "      <td>25</td>\n",
              "    </tr>\n",
              "    <tr>\n",
              "      <th>...</th>\n",
              "      <td>...</td>\n",
              "      <td>...</td>\n",
              "      <td>...</td>\n",
              "      <td>...</td>\n",
              "      <td>...</td>\n",
              "      <td>...</td>\n",
              "      <td>...</td>\n",
              "      <td>...</td>\n",
              "      <td>...</td>\n",
              "      <td>...</td>\n",
              "      <td>...</td>\n",
              "      <td>...</td>\n",
              "      <td>...</td>\n",
              "      <td>...</td>\n",
              "      <td>...</td>\n",
              "      <td>...</td>\n",
              "      <td>...</td>\n",
              "      <td>...</td>\n",
              "      <td>...</td>\n",
              "      <td>...</td>\n",
              "      <td>...</td>\n",
              "    </tr>\n",
              "    <tr>\n",
              "      <th>34612</th>\n",
              "      <td>d012489</td>\n",
              "      <td>제주특별자치도</td>\n",
              "      <td>4.0</td>\n",
              "      <td>50.0</td>\n",
              "      <td>여</td>\n",
              "      <td>30.0</td>\n",
              "      <td>4.0</td>\n",
              "      <td>1.0</td>\n",
              "      <td>2.0</td>\n",
              "      <td>6.0</td>\n",
              "      <td>...</td>\n",
              "      <td>d_d012489</td>\n",
              "      <td>D01</td>\n",
              "      <td>28;</td>\n",
              "      <td>2022-11-13</td>\n",
              "      <td>2022-11-14</td>\n",
              "      <td>NaN</td>\n",
              "      <td>NaN</td>\n",
              "      <td>28;</td>\n",
              "      <td>2;1;6</td>\n",
              "      <td>2</td>\n",
              "    </tr>\n",
              "    <tr>\n",
              "      <th>34613</th>\n",
              "      <td>d012490</td>\n",
              "      <td>NaN</td>\n",
              "      <td>5.0</td>\n",
              "      <td>50.0</td>\n",
              "      <td>여</td>\n",
              "      <td>20.0</td>\n",
              "      <td>6.0</td>\n",
              "      <td>1.0</td>\n",
              "      <td>1.0</td>\n",
              "      <td>1.0</td>\n",
              "      <td>...</td>\n",
              "      <td>d_d012490</td>\n",
              "      <td>D01</td>\n",
              "      <td>1;22;</td>\n",
              "      <td>2022-11-12</td>\n",
              "      <td>2022-11-13</td>\n",
              "      <td>NaN</td>\n",
              "      <td>NaN</td>\n",
              "      <td>1;22;</td>\n",
              "      <td>1;5;21</td>\n",
              "      <td>1</td>\n",
              "    </tr>\n",
              "    <tr>\n",
              "      <th>34614</th>\n",
              "      <td>d012491</td>\n",
              "      <td>NaN</td>\n",
              "      <td>4.0</td>\n",
              "      <td>50.0</td>\n",
              "      <td>남</td>\n",
              "      <td>30.0</td>\n",
              "      <td>6.0</td>\n",
              "      <td>1.0</td>\n",
              "      <td>2.0</td>\n",
              "      <td>2.0</td>\n",
              "      <td>...</td>\n",
              "      <td>d_d012491</td>\n",
              "      <td>D01</td>\n",
              "      <td>1;12;22;24;26;</td>\n",
              "      <td>2022-11-09</td>\n",
              "      <td>2022-11-10</td>\n",
              "      <td>NaN</td>\n",
              "      <td>NaN</td>\n",
              "      <td>1;12;22;24;26;</td>\n",
              "      <td>3;22;24</td>\n",
              "      <td>3</td>\n",
              "    </tr>\n",
              "    <tr>\n",
              "      <th>34615</th>\n",
              "      <td>d012491</td>\n",
              "      <td>제주특별자치도</td>\n",
              "      <td>4.3</td>\n",
              "      <td>50.0</td>\n",
              "      <td>남</td>\n",
              "      <td>30.0</td>\n",
              "      <td>6.0</td>\n",
              "      <td>1.0</td>\n",
              "      <td>2.0</td>\n",
              "      <td>2.0</td>\n",
              "      <td>...</td>\n",
              "      <td>d_d012491</td>\n",
              "      <td>D01</td>\n",
              "      <td>1;12;22;24;26;</td>\n",
              "      <td>2022-11-09</td>\n",
              "      <td>2022-11-10</td>\n",
              "      <td>NaN</td>\n",
              "      <td>NaN</td>\n",
              "      <td>1;12;22;24;26;</td>\n",
              "      <td>3;22;24</td>\n",
              "      <td>3</td>\n",
              "    </tr>\n",
              "    <tr>\n",
              "      <th>34616</th>\n",
              "      <td>d012492</td>\n",
              "      <td>NaN</td>\n",
              "      <td>NaN</td>\n",
              "      <td>NaN</td>\n",
              "      <td>NaN</td>\n",
              "      <td>NaN</td>\n",
              "      <td>NaN</td>\n",
              "      <td>NaN</td>\n",
              "      <td>NaN</td>\n",
              "      <td>NaN</td>\n",
              "      <td>...</td>\n",
              "      <td>d_d012492</td>\n",
              "      <td>D01</td>\n",
              "      <td>22;</td>\n",
              "      <td>2022-11-13</td>\n",
              "      <td>2022-11-14</td>\n",
              "      <td>NaN</td>\n",
              "      <td>NaN</td>\n",
              "      <td>22;</td>\n",
              "      <td>9;12;22</td>\n",
              "      <td>9</td>\n",
              "    </tr>\n",
              "  </tbody>\n",
              "</table>\n",
              "<p>34617 rows × 48 columns</p>\n",
              "</div>\n",
              "    <div class=\"colab-df-buttons\">\n",
              "\n",
              "  <div class=\"colab-df-container\">\n",
              "    <button class=\"colab-df-convert\" onclick=\"convertToInteractive('df-cb71eac7-3370-481d-b4cd-0904c7812ae3')\"\n",
              "            title=\"Convert this dataframe to an interactive table.\"\n",
              "            style=\"display:none;\">\n",
              "\n",
              "  <svg xmlns=\"http://www.w3.org/2000/svg\" height=\"24px\" viewBox=\"0 -960 960 960\">\n",
              "    <path d=\"M120-120v-720h720v720H120Zm60-500h600v-160H180v160Zm220 220h160v-160H400v160Zm0 220h160v-160H400v160ZM180-400h160v-160H180v160Zm440 0h160v-160H620v160ZM180-180h160v-160H180v160Zm440 0h160v-160H620v160Z\"/>\n",
              "  </svg>\n",
              "    </button>\n",
              "\n",
              "  <style>\n",
              "    .colab-df-container {\n",
              "      display:flex;\n",
              "      gap: 12px;\n",
              "    }\n",
              "\n",
              "    .colab-df-convert {\n",
              "      background-color: #E8F0FE;\n",
              "      border: none;\n",
              "      border-radius: 50%;\n",
              "      cursor: pointer;\n",
              "      display: none;\n",
              "      fill: #1967D2;\n",
              "      height: 32px;\n",
              "      padding: 0 0 0 0;\n",
              "      width: 32px;\n",
              "    }\n",
              "\n",
              "    .colab-df-convert:hover {\n",
              "      background-color: #E2EBFA;\n",
              "      box-shadow: 0px 1px 2px rgba(60, 64, 67, 0.3), 0px 1px 3px 1px rgba(60, 64, 67, 0.15);\n",
              "      fill: #174EA6;\n",
              "    }\n",
              "\n",
              "    .colab-df-buttons div {\n",
              "      margin-bottom: 4px;\n",
              "    }\n",
              "\n",
              "    [theme=dark] .colab-df-convert {\n",
              "      background-color: #3B4455;\n",
              "      fill: #D2E3FC;\n",
              "    }\n",
              "\n",
              "    [theme=dark] .colab-df-convert:hover {\n",
              "      background-color: #434B5C;\n",
              "      box-shadow: 0px 1px 3px 1px rgba(0, 0, 0, 0.15);\n",
              "      filter: drop-shadow(0px 1px 2px rgba(0, 0, 0, 0.3));\n",
              "      fill: #FFFFFF;\n",
              "    }\n",
              "  </style>\n",
              "\n",
              "    <script>\n",
              "      const buttonEl =\n",
              "        document.querySelector('#df-cb71eac7-3370-481d-b4cd-0904c7812ae3 button.colab-df-convert');\n",
              "      buttonEl.style.display =\n",
              "        google.colab.kernel.accessAllowed ? 'block' : 'none';\n",
              "\n",
              "      async function convertToInteractive(key) {\n",
              "        const element = document.querySelector('#df-cb71eac7-3370-481d-b4cd-0904c7812ae3');\n",
              "        const dataTable =\n",
              "          await google.colab.kernel.invokeFunction('convertToInteractive',\n",
              "                                                    [key], {});\n",
              "        if (!dataTable) return;\n",
              "\n",
              "        const docLinkHtml = 'Like what you see? Visit the ' +\n",
              "          '<a target=\"_blank\" href=https://colab.research.google.com/notebooks/data_table.ipynb>data table notebook</a>'\n",
              "          + ' to learn more about interactive tables.';\n",
              "        element.innerHTML = '';\n",
              "        dataTable['output_type'] = 'display_data';\n",
              "        await google.colab.output.renderOutput(dataTable, element);\n",
              "        const docLink = document.createElement('div');\n",
              "        docLink.innerHTML = docLinkHtml;\n",
              "        element.appendChild(docLink);\n",
              "      }\n",
              "    </script>\n",
              "  </div>\n",
              "\n",
              "\n",
              "<div id=\"df-936ab249-f110-4fa7-9748-be04be7d2b11\">\n",
              "  <button class=\"colab-df-quickchart\" onclick=\"quickchart('df-936ab249-f110-4fa7-9748-be04be7d2b11')\"\n",
              "            title=\"Suggest charts\"\n",
              "            style=\"display:none;\">\n",
              "\n",
              "<svg xmlns=\"http://www.w3.org/2000/svg\" height=\"24px\"viewBox=\"0 0 24 24\"\n",
              "     width=\"24px\">\n",
              "    <g>\n",
              "        <path d=\"M19 3H5c-1.1 0-2 .9-2 2v14c0 1.1.9 2 2 2h14c1.1 0 2-.9 2-2V5c0-1.1-.9-2-2-2zM9 17H7v-7h2v7zm4 0h-2V7h2v10zm4 0h-2v-4h2v4z\"/>\n",
              "    </g>\n",
              "</svg>\n",
              "  </button>\n",
              "\n",
              "<style>\n",
              "  .colab-df-quickchart {\n",
              "      --bg-color: #E8F0FE;\n",
              "      --fill-color: #1967D2;\n",
              "      --hover-bg-color: #E2EBFA;\n",
              "      --hover-fill-color: #174EA6;\n",
              "      --disabled-fill-color: #AAA;\n",
              "      --disabled-bg-color: #DDD;\n",
              "  }\n",
              "\n",
              "  [theme=dark] .colab-df-quickchart {\n",
              "      --bg-color: #3B4455;\n",
              "      --fill-color: #D2E3FC;\n",
              "      --hover-bg-color: #434B5C;\n",
              "      --hover-fill-color: #FFFFFF;\n",
              "      --disabled-bg-color: #3B4455;\n",
              "      --disabled-fill-color: #666;\n",
              "  }\n",
              "\n",
              "  .colab-df-quickchart {\n",
              "    background-color: var(--bg-color);\n",
              "    border: none;\n",
              "    border-radius: 50%;\n",
              "    cursor: pointer;\n",
              "    display: none;\n",
              "    fill: var(--fill-color);\n",
              "    height: 32px;\n",
              "    padding: 0;\n",
              "    width: 32px;\n",
              "  }\n",
              "\n",
              "  .colab-df-quickchart:hover {\n",
              "    background-color: var(--hover-bg-color);\n",
              "    box-shadow: 0 1px 2px rgba(60, 64, 67, 0.3), 0 1px 3px 1px rgba(60, 64, 67, 0.15);\n",
              "    fill: var(--button-hover-fill-color);\n",
              "  }\n",
              "\n",
              "  .colab-df-quickchart-complete:disabled,\n",
              "  .colab-df-quickchart-complete:disabled:hover {\n",
              "    background-color: var(--disabled-bg-color);\n",
              "    fill: var(--disabled-fill-color);\n",
              "    box-shadow: none;\n",
              "  }\n",
              "\n",
              "  .colab-df-spinner {\n",
              "    border: 2px solid var(--fill-color);\n",
              "    border-color: transparent;\n",
              "    border-bottom-color: var(--fill-color);\n",
              "    animation:\n",
              "      spin 1s steps(1) infinite;\n",
              "  }\n",
              "\n",
              "  @keyframes spin {\n",
              "    0% {\n",
              "      border-color: transparent;\n",
              "      border-bottom-color: var(--fill-color);\n",
              "      border-left-color: var(--fill-color);\n",
              "    }\n",
              "    20% {\n",
              "      border-color: transparent;\n",
              "      border-left-color: var(--fill-color);\n",
              "      border-top-color: var(--fill-color);\n",
              "    }\n",
              "    30% {\n",
              "      border-color: transparent;\n",
              "      border-left-color: var(--fill-color);\n",
              "      border-top-color: var(--fill-color);\n",
              "      border-right-color: var(--fill-color);\n",
              "    }\n",
              "    40% {\n",
              "      border-color: transparent;\n",
              "      border-right-color: var(--fill-color);\n",
              "      border-top-color: var(--fill-color);\n",
              "    }\n",
              "    60% {\n",
              "      border-color: transparent;\n",
              "      border-right-color: var(--fill-color);\n",
              "    }\n",
              "    80% {\n",
              "      border-color: transparent;\n",
              "      border-right-color: var(--fill-color);\n",
              "      border-bottom-color: var(--fill-color);\n",
              "    }\n",
              "    90% {\n",
              "      border-color: transparent;\n",
              "      border-bottom-color: var(--fill-color);\n",
              "    }\n",
              "  }\n",
              "</style>\n",
              "\n",
              "  <script>\n",
              "    async function quickchart(key) {\n",
              "      const quickchartButtonEl =\n",
              "        document.querySelector('#' + key + ' button');\n",
              "      quickchartButtonEl.disabled = true;  // To prevent multiple clicks.\n",
              "      quickchartButtonEl.classList.add('colab-df-spinner');\n",
              "      try {\n",
              "        const charts = await google.colab.kernel.invokeFunction(\n",
              "            'suggestCharts', [key], {});\n",
              "      } catch (error) {\n",
              "        console.error('Error during call to suggestCharts:', error);\n",
              "      }\n",
              "      quickchartButtonEl.classList.remove('colab-df-spinner');\n",
              "      quickchartButtonEl.classList.add('colab-df-quickchart-complete');\n",
              "    }\n",
              "    (() => {\n",
              "      let quickchartButtonEl =\n",
              "        document.querySelector('#df-936ab249-f110-4fa7-9748-be04be7d2b11 button');\n",
              "      quickchartButtonEl.style.display =\n",
              "        google.colab.kernel.accessAllowed ? 'block' : 'none';\n",
              "    })();\n",
              "  </script>\n",
              "</div>\n",
              "\n",
              "  <div id=\"id_4fcbdf0d-b391-4745-939f-19bbeeb7ade6\">\n",
              "    <style>\n",
              "      .colab-df-generate {\n",
              "        background-color: #E8F0FE;\n",
              "        border: none;\n",
              "        border-radius: 50%;\n",
              "        cursor: pointer;\n",
              "        display: none;\n",
              "        fill: #1967D2;\n",
              "        height: 32px;\n",
              "        padding: 0 0 0 0;\n",
              "        width: 32px;\n",
              "      }\n",
              "\n",
              "      .colab-df-generate:hover {\n",
              "        background-color: #E2EBFA;\n",
              "        box-shadow: 0px 1px 2px rgba(60, 64, 67, 0.3), 0px 1px 3px 1px rgba(60, 64, 67, 0.15);\n",
              "        fill: #174EA6;\n",
              "      }\n",
              "\n",
              "      [theme=dark] .colab-df-generate {\n",
              "        background-color: #3B4455;\n",
              "        fill: #D2E3FC;\n",
              "      }\n",
              "\n",
              "      [theme=dark] .colab-df-generate:hover {\n",
              "        background-color: #434B5C;\n",
              "        box-shadow: 0px 1px 3px 1px rgba(0, 0, 0, 0.15);\n",
              "        filter: drop-shadow(0px 1px 2px rgba(0, 0, 0, 0.3));\n",
              "        fill: #FFFFFF;\n",
              "      }\n",
              "    </style>\n",
              "    <button class=\"colab-df-generate\" onclick=\"generateWithVariable('df_filter')\"\n",
              "            title=\"Generate code using this dataframe.\"\n",
              "            style=\"display:none;\">\n",
              "\n",
              "  <svg xmlns=\"http://www.w3.org/2000/svg\" height=\"24px\"viewBox=\"0 0 24 24\"\n",
              "       width=\"24px\">\n",
              "    <path d=\"M7,19H8.4L18.45,9,17,7.55,7,17.6ZM5,21V16.75L18.45,3.32a2,2,0,0,1,2.83,0l1.4,1.43a1.91,1.91,0,0,1,.58,1.4,1.91,1.91,0,0,1-.58,1.4L9.25,21ZM18.45,9,17,7.55Zm-12,3A5.31,5.31,0,0,0,4.9,8.1,5.31,5.31,0,0,0,1,6.5,5.31,5.31,0,0,0,4.9,4.9,5.31,5.31,0,0,0,6.5,1,5.31,5.31,0,0,0,8.1,4.9,5.31,5.31,0,0,0,12,6.5,5.46,5.46,0,0,0,6.5,12Z\"/>\n",
              "  </svg>\n",
              "    </button>\n",
              "    <script>\n",
              "      (() => {\n",
              "      const buttonEl =\n",
              "        document.querySelector('#id_4fcbdf0d-b391-4745-939f-19bbeeb7ade6 button.colab-df-generate');\n",
              "      buttonEl.style.display =\n",
              "        google.colab.kernel.accessAllowed ? 'block' : 'none';\n",
              "\n",
              "      buttonEl.onclick = () => {\n",
              "        google.colab.notebook.generateWithVariable('df_filter');\n",
              "      }\n",
              "      })();\n",
              "    </script>\n",
              "  </div>\n",
              "\n",
              "    </div>\n",
              "  </div>\n"
            ],
            "text/plain": [
              "      TRAVELER_ID  SIDO_NM  DGSTFN  RESIDENCE_SGG_CD GENDER  AGE_GRP  EDU_NM  \\\n",
              "0         a000007      NaN     NaN              11.0      여     30.0     7.0   \n",
              "1         a000007    인천광역시     3.6              11.0      여     30.0     7.0   \n",
              "2         a000011      NaN     NaN               NaN    NaN      NaN     NaN   \n",
              "3         a000011    인천광역시     3.0               NaN    NaN      NaN     NaN   \n",
              "4         a000011      파주시     5.0               NaN    NaN      NaN     NaN   \n",
              "...           ...      ...     ...               ...    ...      ...     ...   \n",
              "34612     d012489  제주특별자치도     4.0              50.0      여     30.0     4.0   \n",
              "34613     d012490      NaN     5.0              50.0      여     20.0     6.0   \n",
              "34614     d012491      NaN     4.0              50.0      남     30.0     6.0   \n",
              "34615     d012491  제주특별자치도     4.3              50.0      남     30.0     6.0   \n",
              "34616     d012492      NaN     NaN               NaN    NaN      NaN     NaN   \n",
              "\n",
              "       EDU_FNSH_SE  MARR_STTS  FAMILY_MEMB  ...  TRAVEL_ID  TRAVEL_NM  \\\n",
              "0              1.0        3.0          6.0  ...  a_a000007        D02   \n",
              "1              1.0        3.0          6.0  ...  a_a000007        D02   \n",
              "2              NaN        NaN          NaN  ...  a_a000011        A03   \n",
              "3              NaN        NaN          NaN  ...  a_a000011        A03   \n",
              "4              NaN        NaN          NaN  ...  a_a000011        A03   \n",
              "...            ...        ...          ...  ...        ...        ...   \n",
              "34612          1.0        2.0          6.0  ...  d_d012489        D01   \n",
              "34613          1.0        1.0          1.0  ...  d_d012490        D01   \n",
              "34614          1.0        2.0          2.0  ...  d_d012491        D01   \n",
              "34615          1.0        2.0          2.0  ...  d_d012491        D01   \n",
              "34616          NaN        NaN          NaN  ...  d_d012492        D01   \n",
              "\n",
              "       TRAVEL_PURPOSE  TRAVEL_START_YMD  TRAVEL_END_YMD  MVMN_NM  \\\n",
              "0      10;23;24;26;7;        2022-08-19      2022-08-22      자가용   \n",
              "1      10;23;24;26;7;        2022-08-19      2022-08-22      자가용   \n",
              "2      22;24;26;27;7;        2022-08-06      2022-08-08      자가용   \n",
              "3      22;24;26;27;7;        2022-08-06      2022-08-08      자가용   \n",
              "4      22;24;26;27;7;        2022-08-06      2022-08-08      자가용   \n",
              "...               ...               ...             ...      ...   \n",
              "34612             28;        2022-11-13      2022-11-14      NaN   \n",
              "34613           1;22;        2022-11-12      2022-11-13      NaN   \n",
              "34614  1;12;22;24;26;        2022-11-09      2022-11-10      NaN   \n",
              "34615  1;12;22;24;26;        2022-11-09      2022-11-10      NaN   \n",
              "34616             22;        2022-11-13      2022-11-14      NaN   \n",
              "\n",
              "       TRAVEL_PERSONA  TRAVEL_MISSION  TRAVEL_MISSION_CHECK  \\\n",
              "0                 NaN              2;                2;3;10   \n",
              "1                 NaN              2;                2;3;10   \n",
              "2                 NaN              2;              25;24;22   \n",
              "3                 NaN              2;              25;24;22   \n",
              "4                 NaN              2;              25;24;22   \n",
              "...               ...             ...                   ...   \n",
              "34612             NaN             28;                 2;1;6   \n",
              "34613             NaN           1;22;                1;5;21   \n",
              "34614             NaN  1;12;22;24;26;               3;22;24   \n",
              "34615             NaN  1;12;22;24;26;               3;22;24   \n",
              "34616             NaN             22;               9;12;22   \n",
              "\n",
              "       TRAVEL_MISSION_INT  \n",
              "0                       2  \n",
              "1                       2  \n",
              "2                      25  \n",
              "3                      25  \n",
              "4                      25  \n",
              "...                   ...  \n",
              "34612                   2  \n",
              "34613                   1  \n",
              "34614                   3  \n",
              "34615                   3  \n",
              "34616                   9  \n",
              "\n",
              "[34617 rows x 48 columns]"
            ]
          },
          "execution_count": 8,
          "metadata": {},
          "output_type": "execute_result"
        }
      ],
      "source": [
        "df_filter = df_region[~df_region['TRAVEL_MISSION_CHECK'].isnull()].copy()\n",
        "df_filter.loc[:, 'TRAVEL_MISSION_INT'] = df_filter['TRAVEL_MISSION_CHECK'].str.split(';').str[0].astype(int)\n",
        "df_filter"
      ]
    },
    {
      "cell_type": "markdown",
      "metadata": {
        "id": "P120AIG6Nzou"
      },
      "source": [
        "## 데이터 셋 전처리2\n",
        "- 필요한 열만 추출\n",
        "- 비어있는 행 삭제"
      ]
    },
    {
      "cell_type": "code",
      "execution_count": 30,
      "metadata": {
        "colab": {
          "base_uri": "https://localhost:8080/",
          "height": 496
        },
        "id": "GKtlQCbDNzZz",
        "outputId": "0b779093-d42d-47de-8eb3-2594997c4b20"
      },
      "outputs": [
        {
          "data": {
            "application/vnd.google.colaboratory.intrinsic+json": {
              "summary": "{\n  \"name\": \"df_filter\",\n  \"rows\": 24056,\n  \"fields\": [\n    {\n      \"column\": \"GENDER\",\n      \"properties\": {\n        \"dtype\": \"category\",\n        \"num_unique_values\": 2,\n        \"samples\": [\n          \"\\ub0a8\",\n          \"\\uc5ec\"\n        ],\n        \"semantic_type\": \"\",\n        \"description\": \"\"\n      }\n    },\n    {\n      \"column\": \"AGE_GRP\",\n      \"properties\": {\n        \"dtype\": \"number\",\n        \"std\": 10.198635388209256,\n        \"min\": 20.0,\n        \"max\": 60.0,\n        \"num_unique_values\": 5,\n        \"samples\": [\n          50.0,\n          60.0\n        ],\n        \"semantic_type\": \"\",\n        \"description\": \"\"\n      }\n    },\n    {\n      \"column\": \"TRAVEL_STYL_1\",\n      \"properties\": {\n        \"dtype\": \"number\",\n        \"std\": 1,\n        \"min\": 1,\n        \"max\": 7,\n        \"num_unique_values\": 7,\n        \"samples\": [\n          3,\n          2\n        ],\n        \"semantic_type\": \"\",\n        \"description\": \"\"\n      }\n    },\n    {\n      \"column\": \"TRAVEL_STYL_2\",\n      \"properties\": {\n        \"dtype\": \"number\",\n        \"std\": 1,\n        \"min\": 1,\n        \"max\": 7,\n        \"num_unique_values\": 7,\n        \"samples\": [\n          1,\n          2\n        ],\n        \"semantic_type\": \"\",\n        \"description\": \"\"\n      }\n    },\n    {\n      \"column\": \"TRAVEL_STYL_3\",\n      \"properties\": {\n        \"dtype\": \"number\",\n        \"std\": 1,\n        \"min\": 1,\n        \"max\": 7,\n        \"num_unique_values\": 7,\n        \"samples\": [\n          1,\n          6\n        ],\n        \"semantic_type\": \"\",\n        \"description\": \"\"\n      }\n    },\n    {\n      \"column\": \"TRAVEL_STYL_4\",\n      \"properties\": {\n        \"dtype\": \"number\",\n        \"std\": 1,\n        \"min\": 1,\n        \"max\": 7,\n        \"num_unique_values\": 7,\n        \"samples\": [\n          1,\n          4\n        ],\n        \"semantic_type\": \"\",\n        \"description\": \"\"\n      }\n    },\n    {\n      \"column\": \"TRAVEL_STYL_5\",\n      \"properties\": {\n        \"dtype\": \"number\",\n        \"std\": 1,\n        \"min\": 1,\n        \"max\": 7,\n        \"num_unique_values\": 7,\n        \"samples\": [\n          1,\n          3\n        ],\n        \"semantic_type\": \"\",\n        \"description\": \"\"\n      }\n    },\n    {\n      \"column\": \"TRAVEL_STYL_6\",\n      \"properties\": {\n        \"dtype\": \"number\",\n        \"std\": 1,\n        \"min\": 1,\n        \"max\": 7,\n        \"num_unique_values\": 7,\n        \"samples\": [\n          3,\n          4\n        ],\n        \"semantic_type\": \"\",\n        \"description\": \"\"\n      }\n    },\n    {\n      \"column\": \"TRAVEL_STYL_7\",\n      \"properties\": {\n        \"dtype\": \"number\",\n        \"std\": 1,\n        \"min\": 1,\n        \"max\": 7,\n        \"num_unique_values\": 7,\n        \"samples\": [\n          2,\n          1\n        ],\n        \"semantic_type\": \"\",\n        \"description\": \"\"\n      }\n    },\n    {\n      \"column\": \"TRAVEL_STYL_8\",\n      \"properties\": {\n        \"dtype\": \"number\",\n        \"std\": 1,\n        \"min\": 1,\n        \"max\": 7,\n        \"num_unique_values\": 7,\n        \"samples\": [\n          6,\n          5\n        ],\n        \"semantic_type\": \"\",\n        \"description\": \"\"\n      }\n    },\n    {\n      \"column\": \"TRAVEL_MOTIVE_1\",\n      \"properties\": {\n        \"dtype\": \"number\",\n        \"std\": 2,\n        \"min\": 1,\n        \"max\": 10,\n        \"num_unique_values\": 10,\n        \"samples\": [\n          2,\n          8\n        ],\n        \"semantic_type\": \"\",\n        \"description\": \"\"\n      }\n    },\n    {\n      \"column\": \"TRAVEL_COMPANIONS_NUM\",\n      \"properties\": {\n        \"dtype\": \"number\",\n        \"std\": 1.6738375997684425,\n        \"min\": 0.0,\n        \"max\": 20.0,\n        \"num_unique_values\": 20,\n        \"samples\": [\n          5.0,\n          16.0\n        ],\n        \"semantic_type\": \"\",\n        \"description\": \"\"\n      }\n    },\n    {\n      \"column\": \"TRAVEL_MISSION_INT\",\n      \"properties\": {\n        \"dtype\": \"number\",\n        \"std\": 9,\n        \"min\": 1,\n        \"max\": 28,\n        \"num_unique_values\": 21,\n        \"samples\": [\n          2,\n          12\n        ],\n        \"semantic_type\": \"\",\n        \"description\": \"\"\n      }\n    },\n    {\n      \"column\": \"DGSTFN\",\n      \"properties\": {\n        \"dtype\": \"number\",\n        \"std\": 0.6975210631310096,\n        \"min\": 1.0,\n        \"max\": 5.0,\n        \"num_unique_values\": 32,\n        \"samples\": [\n          2.4,\n          3.8\n        ],\n        \"semantic_type\": \"\",\n        \"description\": \"\"\n      }\n    },\n    {\n      \"column\": \"SIDO_NM\",\n      \"properties\": {\n        \"dtype\": \"category\",\n        \"num_unique_values\": 161,\n        \"samples\": [\n          \"\\uae40\\ucc9c\\uc2dc\",\n          \"\\uc591\\uc0b0\"\n        ],\n        \"semantic_type\": \"\",\n        \"description\": \"\"\n      }\n    }\n  ]\n}",
              "type": "dataframe",
              "variable_name": "df_filter"
            },
            "text/html": [
              "\n",
              "  <div id=\"df-1b54719a-cb0b-45ae-9c0b-88ef07f34e12\" class=\"colab-df-container\">\n",
              "    <div>\n",
              "<style scoped>\n",
              "    .dataframe tbody tr th:only-of-type {\n",
              "        vertical-align: middle;\n",
              "    }\n",
              "\n",
              "    .dataframe tbody tr th {\n",
              "        vertical-align: top;\n",
              "    }\n",
              "\n",
              "    .dataframe thead th {\n",
              "        text-align: right;\n",
              "    }\n",
              "</style>\n",
              "<table border=\"1\" class=\"dataframe\">\n",
              "  <thead>\n",
              "    <tr style=\"text-align: right;\">\n",
              "      <th></th>\n",
              "      <th>GENDER</th>\n",
              "      <th>AGE_GRP</th>\n",
              "      <th>TRAVEL_STYL_1</th>\n",
              "      <th>TRAVEL_STYL_2</th>\n",
              "      <th>TRAVEL_STYL_3</th>\n",
              "      <th>TRAVEL_STYL_4</th>\n",
              "      <th>TRAVEL_STYL_5</th>\n",
              "      <th>TRAVEL_STYL_6</th>\n",
              "      <th>TRAVEL_STYL_7</th>\n",
              "      <th>TRAVEL_STYL_8</th>\n",
              "      <th>TRAVEL_MOTIVE_1</th>\n",
              "      <th>TRAVEL_COMPANIONS_NUM</th>\n",
              "      <th>TRAVEL_MISSION_INT</th>\n",
              "      <th>DGSTFN</th>\n",
              "      <th>SIDO_NM</th>\n",
              "    </tr>\n",
              "  </thead>\n",
              "  <tbody>\n",
              "    <tr>\n",
              "      <th>1</th>\n",
              "      <td>여</td>\n",
              "      <td>30.0</td>\n",
              "      <td>3</td>\n",
              "      <td>1</td>\n",
              "      <td>1</td>\n",
              "      <td>1</td>\n",
              "      <td>1</td>\n",
              "      <td>3</td>\n",
              "      <td>2</td>\n",
              "      <td>6</td>\n",
              "      <td>1</td>\n",
              "      <td>5.0</td>\n",
              "      <td>2</td>\n",
              "      <td>3.6</td>\n",
              "      <td>인천광역시</td>\n",
              "    </tr>\n",
              "    <tr>\n",
              "      <th>5</th>\n",
              "      <td>남</td>\n",
              "      <td>30.0</td>\n",
              "      <td>3</td>\n",
              "      <td>1</td>\n",
              "      <td>1</td>\n",
              "      <td>4</td>\n",
              "      <td>3</td>\n",
              "      <td>4</td>\n",
              "      <td>1</td>\n",
              "      <td>5</td>\n",
              "      <td>8</td>\n",
              "      <td>0.0</td>\n",
              "      <td>3</td>\n",
              "      <td>4.2</td>\n",
              "      <td>NaN</td>\n",
              "    </tr>\n",
              "    <tr>\n",
              "      <th>6</th>\n",
              "      <td>남</td>\n",
              "      <td>30.0</td>\n",
              "      <td>3</td>\n",
              "      <td>1</td>\n",
              "      <td>1</td>\n",
              "      <td>4</td>\n",
              "      <td>3</td>\n",
              "      <td>4</td>\n",
              "      <td>1</td>\n",
              "      <td>5</td>\n",
              "      <td>8</td>\n",
              "      <td>0.0</td>\n",
              "      <td>3</td>\n",
              "      <td>3.7</td>\n",
              "      <td>수원시</td>\n",
              "    </tr>\n",
              "    <tr>\n",
              "      <th>11</th>\n",
              "      <td>남</td>\n",
              "      <td>50.0</td>\n",
              "      <td>2</td>\n",
              "      <td>2</td>\n",
              "      <td>6</td>\n",
              "      <td>2</td>\n",
              "      <td>2</td>\n",
              "      <td>6</td>\n",
              "      <td>2</td>\n",
              "      <td>7</td>\n",
              "      <td>10</td>\n",
              "      <td>7.0</td>\n",
              "      <td>21</td>\n",
              "      <td>3.0</td>\n",
              "      <td>고양시</td>\n",
              "    </tr>\n",
              "    <tr>\n",
              "      <th>12</th>\n",
              "      <td>남</td>\n",
              "      <td>50.0</td>\n",
              "      <td>2</td>\n",
              "      <td>2</td>\n",
              "      <td>6</td>\n",
              "      <td>2</td>\n",
              "      <td>2</td>\n",
              "      <td>6</td>\n",
              "      <td>2</td>\n",
              "      <td>7</td>\n",
              "      <td>10</td>\n",
              "      <td>7.0</td>\n",
              "      <td>21</td>\n",
              "      <td>4.0</td>\n",
              "      <td>양평군</td>\n",
              "    </tr>\n",
              "    <tr>\n",
              "      <th>...</th>\n",
              "      <td>...</td>\n",
              "      <td>...</td>\n",
              "      <td>...</td>\n",
              "      <td>...</td>\n",
              "      <td>...</td>\n",
              "      <td>...</td>\n",
              "      <td>...</td>\n",
              "      <td>...</td>\n",
              "      <td>...</td>\n",
              "      <td>...</td>\n",
              "      <td>...</td>\n",
              "      <td>...</td>\n",
              "      <td>...</td>\n",
              "      <td>...</td>\n",
              "      <td>...</td>\n",
              "    </tr>\n",
              "    <tr>\n",
              "      <th>34611</th>\n",
              "      <td>여</td>\n",
              "      <td>30.0</td>\n",
              "      <td>6</td>\n",
              "      <td>6</td>\n",
              "      <td>2</td>\n",
              "      <td>2</td>\n",
              "      <td>2</td>\n",
              "      <td>6</td>\n",
              "      <td>6</td>\n",
              "      <td>2</td>\n",
              "      <td>6</td>\n",
              "      <td>0.0</td>\n",
              "      <td>2</td>\n",
              "      <td>2.0</td>\n",
              "      <td>NaN</td>\n",
              "    </tr>\n",
              "    <tr>\n",
              "      <th>34612</th>\n",
              "      <td>여</td>\n",
              "      <td>30.0</td>\n",
              "      <td>6</td>\n",
              "      <td>6</td>\n",
              "      <td>2</td>\n",
              "      <td>2</td>\n",
              "      <td>2</td>\n",
              "      <td>6</td>\n",
              "      <td>6</td>\n",
              "      <td>2</td>\n",
              "      <td>6</td>\n",
              "      <td>0.0</td>\n",
              "      <td>2</td>\n",
              "      <td>4.0</td>\n",
              "      <td>제주특별자치도</td>\n",
              "    </tr>\n",
              "    <tr>\n",
              "      <th>34613</th>\n",
              "      <td>여</td>\n",
              "      <td>20.0</td>\n",
              "      <td>1</td>\n",
              "      <td>1</td>\n",
              "      <td>1</td>\n",
              "      <td>4</td>\n",
              "      <td>4</td>\n",
              "      <td>2</td>\n",
              "      <td>7</td>\n",
              "      <td>1</td>\n",
              "      <td>1</td>\n",
              "      <td>0.0</td>\n",
              "      <td>1</td>\n",
              "      <td>5.0</td>\n",
              "      <td>NaN</td>\n",
              "    </tr>\n",
              "    <tr>\n",
              "      <th>34614</th>\n",
              "      <td>남</td>\n",
              "      <td>30.0</td>\n",
              "      <td>4</td>\n",
              "      <td>1</td>\n",
              "      <td>2</td>\n",
              "      <td>4</td>\n",
              "      <td>6</td>\n",
              "      <td>6</td>\n",
              "      <td>6</td>\n",
              "      <td>7</td>\n",
              "      <td>7</td>\n",
              "      <td>1.0</td>\n",
              "      <td>3</td>\n",
              "      <td>4.0</td>\n",
              "      <td>NaN</td>\n",
              "    </tr>\n",
              "    <tr>\n",
              "      <th>34615</th>\n",
              "      <td>남</td>\n",
              "      <td>30.0</td>\n",
              "      <td>4</td>\n",
              "      <td>1</td>\n",
              "      <td>2</td>\n",
              "      <td>4</td>\n",
              "      <td>6</td>\n",
              "      <td>6</td>\n",
              "      <td>6</td>\n",
              "      <td>7</td>\n",
              "      <td>7</td>\n",
              "      <td>1.0</td>\n",
              "      <td>3</td>\n",
              "      <td>4.3</td>\n",
              "      <td>제주특별자치도</td>\n",
              "    </tr>\n",
              "  </tbody>\n",
              "</table>\n",
              "<p>24056 rows × 15 columns</p>\n",
              "</div>\n",
              "    <div class=\"colab-df-buttons\">\n",
              "\n",
              "  <div class=\"colab-df-container\">\n",
              "    <button class=\"colab-df-convert\" onclick=\"convertToInteractive('df-1b54719a-cb0b-45ae-9c0b-88ef07f34e12')\"\n",
              "            title=\"Convert this dataframe to an interactive table.\"\n",
              "            style=\"display:none;\">\n",
              "\n",
              "  <svg xmlns=\"http://www.w3.org/2000/svg\" height=\"24px\" viewBox=\"0 -960 960 960\">\n",
              "    <path d=\"M120-120v-720h720v720H120Zm60-500h600v-160H180v160Zm220 220h160v-160H400v160Zm0 220h160v-160H400v160ZM180-400h160v-160H180v160Zm440 0h160v-160H620v160ZM180-180h160v-160H180v160Zm440 0h160v-160H620v160Z\"/>\n",
              "  </svg>\n",
              "    </button>\n",
              "\n",
              "  <style>\n",
              "    .colab-df-container {\n",
              "      display:flex;\n",
              "      gap: 12px;\n",
              "    }\n",
              "\n",
              "    .colab-df-convert {\n",
              "      background-color: #E8F0FE;\n",
              "      border: none;\n",
              "      border-radius: 50%;\n",
              "      cursor: pointer;\n",
              "      display: none;\n",
              "      fill: #1967D2;\n",
              "      height: 32px;\n",
              "      padding: 0 0 0 0;\n",
              "      width: 32px;\n",
              "    }\n",
              "\n",
              "    .colab-df-convert:hover {\n",
              "      background-color: #E2EBFA;\n",
              "      box-shadow: 0px 1px 2px rgba(60, 64, 67, 0.3), 0px 1px 3px 1px rgba(60, 64, 67, 0.15);\n",
              "      fill: #174EA6;\n",
              "    }\n",
              "\n",
              "    .colab-df-buttons div {\n",
              "      margin-bottom: 4px;\n",
              "    }\n",
              "\n",
              "    [theme=dark] .colab-df-convert {\n",
              "      background-color: #3B4455;\n",
              "      fill: #D2E3FC;\n",
              "    }\n",
              "\n",
              "    [theme=dark] .colab-df-convert:hover {\n",
              "      background-color: #434B5C;\n",
              "      box-shadow: 0px 1px 3px 1px rgba(0, 0, 0, 0.15);\n",
              "      filter: drop-shadow(0px 1px 2px rgba(0, 0, 0, 0.3));\n",
              "      fill: #FFFFFF;\n",
              "    }\n",
              "  </style>\n",
              "\n",
              "    <script>\n",
              "      const buttonEl =\n",
              "        document.querySelector('#df-1b54719a-cb0b-45ae-9c0b-88ef07f34e12 button.colab-df-convert');\n",
              "      buttonEl.style.display =\n",
              "        google.colab.kernel.accessAllowed ? 'block' : 'none';\n",
              "\n",
              "      async function convertToInteractive(key) {\n",
              "        const element = document.querySelector('#df-1b54719a-cb0b-45ae-9c0b-88ef07f34e12');\n",
              "        const dataTable =\n",
              "          await google.colab.kernel.invokeFunction('convertToInteractive',\n",
              "                                                    [key], {});\n",
              "        if (!dataTable) return;\n",
              "\n",
              "        const docLinkHtml = 'Like what you see? Visit the ' +\n",
              "          '<a target=\"_blank\" href=https://colab.research.google.com/notebooks/data_table.ipynb>data table notebook</a>'\n",
              "          + ' to learn more about interactive tables.';\n",
              "        element.innerHTML = '';\n",
              "        dataTable['output_type'] = 'display_data';\n",
              "        await google.colab.output.renderOutput(dataTable, element);\n",
              "        const docLink = document.createElement('div');\n",
              "        docLink.innerHTML = docLinkHtml;\n",
              "        element.appendChild(docLink);\n",
              "      }\n",
              "    </script>\n",
              "  </div>\n",
              "\n",
              "\n",
              "<div id=\"df-9daecf4c-4d20-4371-9436-21d7fff268ea\">\n",
              "  <button class=\"colab-df-quickchart\" onclick=\"quickchart('df-9daecf4c-4d20-4371-9436-21d7fff268ea')\"\n",
              "            title=\"Suggest charts\"\n",
              "            style=\"display:none;\">\n",
              "\n",
              "<svg xmlns=\"http://www.w3.org/2000/svg\" height=\"24px\"viewBox=\"0 0 24 24\"\n",
              "     width=\"24px\">\n",
              "    <g>\n",
              "        <path d=\"M19 3H5c-1.1 0-2 .9-2 2v14c0 1.1.9 2 2 2h14c1.1 0 2-.9 2-2V5c0-1.1-.9-2-2-2zM9 17H7v-7h2v7zm4 0h-2V7h2v10zm4 0h-2v-4h2v4z\"/>\n",
              "    </g>\n",
              "</svg>\n",
              "  </button>\n",
              "\n",
              "<style>\n",
              "  .colab-df-quickchart {\n",
              "      --bg-color: #E8F0FE;\n",
              "      --fill-color: #1967D2;\n",
              "      --hover-bg-color: #E2EBFA;\n",
              "      --hover-fill-color: #174EA6;\n",
              "      --disabled-fill-color: #AAA;\n",
              "      --disabled-bg-color: #DDD;\n",
              "  }\n",
              "\n",
              "  [theme=dark] .colab-df-quickchart {\n",
              "      --bg-color: #3B4455;\n",
              "      --fill-color: #D2E3FC;\n",
              "      --hover-bg-color: #434B5C;\n",
              "      --hover-fill-color: #FFFFFF;\n",
              "      --disabled-bg-color: #3B4455;\n",
              "      --disabled-fill-color: #666;\n",
              "  }\n",
              "\n",
              "  .colab-df-quickchart {\n",
              "    background-color: var(--bg-color);\n",
              "    border: none;\n",
              "    border-radius: 50%;\n",
              "    cursor: pointer;\n",
              "    display: none;\n",
              "    fill: var(--fill-color);\n",
              "    height: 32px;\n",
              "    padding: 0;\n",
              "    width: 32px;\n",
              "  }\n",
              "\n",
              "  .colab-df-quickchart:hover {\n",
              "    background-color: var(--hover-bg-color);\n",
              "    box-shadow: 0 1px 2px rgba(60, 64, 67, 0.3), 0 1px 3px 1px rgba(60, 64, 67, 0.15);\n",
              "    fill: var(--button-hover-fill-color);\n",
              "  }\n",
              "\n",
              "  .colab-df-quickchart-complete:disabled,\n",
              "  .colab-df-quickchart-complete:disabled:hover {\n",
              "    background-color: var(--disabled-bg-color);\n",
              "    fill: var(--disabled-fill-color);\n",
              "    box-shadow: none;\n",
              "  }\n",
              "\n",
              "  .colab-df-spinner {\n",
              "    border: 2px solid var(--fill-color);\n",
              "    border-color: transparent;\n",
              "    border-bottom-color: var(--fill-color);\n",
              "    animation:\n",
              "      spin 1s steps(1) infinite;\n",
              "  }\n",
              "\n",
              "  @keyframes spin {\n",
              "    0% {\n",
              "      border-color: transparent;\n",
              "      border-bottom-color: var(--fill-color);\n",
              "      border-left-color: var(--fill-color);\n",
              "    }\n",
              "    20% {\n",
              "      border-color: transparent;\n",
              "      border-left-color: var(--fill-color);\n",
              "      border-top-color: var(--fill-color);\n",
              "    }\n",
              "    30% {\n",
              "      border-color: transparent;\n",
              "      border-left-color: var(--fill-color);\n",
              "      border-top-color: var(--fill-color);\n",
              "      border-right-color: var(--fill-color);\n",
              "    }\n",
              "    40% {\n",
              "      border-color: transparent;\n",
              "      border-right-color: var(--fill-color);\n",
              "      border-top-color: var(--fill-color);\n",
              "    }\n",
              "    60% {\n",
              "      border-color: transparent;\n",
              "      border-right-color: var(--fill-color);\n",
              "    }\n",
              "    80% {\n",
              "      border-color: transparent;\n",
              "      border-right-color: var(--fill-color);\n",
              "      border-bottom-color: var(--fill-color);\n",
              "    }\n",
              "    90% {\n",
              "      border-color: transparent;\n",
              "      border-bottom-color: var(--fill-color);\n",
              "    }\n",
              "  }\n",
              "</style>\n",
              "\n",
              "  <script>\n",
              "    async function quickchart(key) {\n",
              "      const quickchartButtonEl =\n",
              "        document.querySelector('#' + key + ' button');\n",
              "      quickchartButtonEl.disabled = true;  // To prevent multiple clicks.\n",
              "      quickchartButtonEl.classList.add('colab-df-spinner');\n",
              "      try {\n",
              "        const charts = await google.colab.kernel.invokeFunction(\n",
              "            'suggestCharts', [key], {});\n",
              "      } catch (error) {\n",
              "        console.error('Error during call to suggestCharts:', error);\n",
              "      }\n",
              "      quickchartButtonEl.classList.remove('colab-df-spinner');\n",
              "      quickchartButtonEl.classList.add('colab-df-quickchart-complete');\n",
              "    }\n",
              "    (() => {\n",
              "      let quickchartButtonEl =\n",
              "        document.querySelector('#df-9daecf4c-4d20-4371-9436-21d7fff268ea button');\n",
              "      quickchartButtonEl.style.display =\n",
              "        google.colab.kernel.accessAllowed ? 'block' : 'none';\n",
              "    })();\n",
              "  </script>\n",
              "</div>\n",
              "\n",
              "  <div id=\"id_bac26b42-9a0c-4d60-b5c9-352ba0c003f4\">\n",
              "    <style>\n",
              "      .colab-df-generate {\n",
              "        background-color: #E8F0FE;\n",
              "        border: none;\n",
              "        border-radius: 50%;\n",
              "        cursor: pointer;\n",
              "        display: none;\n",
              "        fill: #1967D2;\n",
              "        height: 32px;\n",
              "        padding: 0 0 0 0;\n",
              "        width: 32px;\n",
              "      }\n",
              "\n",
              "      .colab-df-generate:hover {\n",
              "        background-color: #E2EBFA;\n",
              "        box-shadow: 0px 1px 2px rgba(60, 64, 67, 0.3), 0px 1px 3px 1px rgba(60, 64, 67, 0.15);\n",
              "        fill: #174EA6;\n",
              "      }\n",
              "\n",
              "      [theme=dark] .colab-df-generate {\n",
              "        background-color: #3B4455;\n",
              "        fill: #D2E3FC;\n",
              "      }\n",
              "\n",
              "      [theme=dark] .colab-df-generate:hover {\n",
              "        background-color: #434B5C;\n",
              "        box-shadow: 0px 1px 3px 1px rgba(0, 0, 0, 0.15);\n",
              "        filter: drop-shadow(0px 1px 2px rgba(0, 0, 0, 0.3));\n",
              "        fill: #FFFFFF;\n",
              "      }\n",
              "    </style>\n",
              "    <button class=\"colab-df-generate\" onclick=\"generateWithVariable('df_filter')\"\n",
              "            title=\"Generate code using this dataframe.\"\n",
              "            style=\"display:none;\">\n",
              "\n",
              "  <svg xmlns=\"http://www.w3.org/2000/svg\" height=\"24px\"viewBox=\"0 0 24 24\"\n",
              "       width=\"24px\">\n",
              "    <path d=\"M7,19H8.4L18.45,9,17,7.55,7,17.6ZM5,21V16.75L18.45,3.32a2,2,0,0,1,2.83,0l1.4,1.43a1.91,1.91,0,0,1,.58,1.4,1.91,1.91,0,0,1-.58,1.4L9.25,21ZM18.45,9,17,7.55Zm-12,3A5.31,5.31,0,0,0,4.9,8.1,5.31,5.31,0,0,0,1,6.5,5.31,5.31,0,0,0,4.9,4.9,5.31,5.31,0,0,0,6.5,1,5.31,5.31,0,0,0,8.1,4.9,5.31,5.31,0,0,0,12,6.5,5.46,5.46,0,0,0,6.5,12Z\"/>\n",
              "  </svg>\n",
              "    </button>\n",
              "    <script>\n",
              "      (() => {\n",
              "      const buttonEl =\n",
              "        document.querySelector('#id_bac26b42-9a0c-4d60-b5c9-352ba0c003f4 button.colab-df-generate');\n",
              "      buttonEl.style.display =\n",
              "        google.colab.kernel.accessAllowed ? 'block' : 'none';\n",
              "\n",
              "      buttonEl.onclick = () => {\n",
              "        google.colab.notebook.generateWithVariable('df_filter');\n",
              "      }\n",
              "      })();\n",
              "    </script>\n",
              "  </div>\n",
              "\n",
              "    </div>\n",
              "  </div>\n"
            ],
            "text/plain": [
              "      GENDER  AGE_GRP  TRAVEL_STYL_1  TRAVEL_STYL_2  TRAVEL_STYL_3  \\\n",
              "1          여     30.0              3              1              1   \n",
              "5          남     30.0              3              1              1   \n",
              "6          남     30.0              3              1              1   \n",
              "11         남     50.0              2              2              6   \n",
              "12         남     50.0              2              2              6   \n",
              "...      ...      ...            ...            ...            ...   \n",
              "34611      여     30.0              6              6              2   \n",
              "34612      여     30.0              6              6              2   \n",
              "34613      여     20.0              1              1              1   \n",
              "34614      남     30.0              4              1              2   \n",
              "34615      남     30.0              4              1              2   \n",
              "\n",
              "       TRAVEL_STYL_4  TRAVEL_STYL_5  TRAVEL_STYL_6  TRAVEL_STYL_7  \\\n",
              "1                  1              1              3              2   \n",
              "5                  4              3              4              1   \n",
              "6                  4              3              4              1   \n",
              "11                 2              2              6              2   \n",
              "12                 2              2              6              2   \n",
              "...              ...            ...            ...            ...   \n",
              "34611              2              2              6              6   \n",
              "34612              2              2              6              6   \n",
              "34613              4              4              2              7   \n",
              "34614              4              6              6              6   \n",
              "34615              4              6              6              6   \n",
              "\n",
              "       TRAVEL_STYL_8  TRAVEL_MOTIVE_1  TRAVEL_COMPANIONS_NUM  \\\n",
              "1                  6                1                    5.0   \n",
              "5                  5                8                    0.0   \n",
              "6                  5                8                    0.0   \n",
              "11                 7               10                    7.0   \n",
              "12                 7               10                    7.0   \n",
              "...              ...              ...                    ...   \n",
              "34611              2                6                    0.0   \n",
              "34612              2                6                    0.0   \n",
              "34613              1                1                    0.0   \n",
              "34614              7                7                    1.0   \n",
              "34615              7                7                    1.0   \n",
              "\n",
              "       TRAVEL_MISSION_INT  DGSTFN  SIDO_NM  \n",
              "1                       2     3.6    인천광역시  \n",
              "5                       3     4.2      NaN  \n",
              "6                       3     3.7      수원시  \n",
              "11                     21     3.0      고양시  \n",
              "12                     21     4.0      양평군  \n",
              "...                   ...     ...      ...  \n",
              "34611                   2     2.0      NaN  \n",
              "34612                   2     4.0  제주특별자치도  \n",
              "34613                   1     5.0      NaN  \n",
              "34614                   3     4.0      NaN  \n",
              "34615                   3     4.3  제주특별자치도  \n",
              "\n",
              "[24056 rows x 15 columns]"
            ]
          },
          "execution_count": 30,
          "metadata": {},
          "output_type": "execute_result"
        }
      ],
      "source": [
        "df_filter = df_filter[[\n",
        "    'GENDER',\n",
        "    'AGE_GRP',\n",
        "    'TRAVEL_STYL_1', 'TRAVEL_STYL_2', 'TRAVEL_STYL_3', 'TRAVEL_STYL_4', 'TRAVEL_STYL_5', 'TRAVEL_STYL_6', 'TRAVEL_STYL_7', 'TRAVEL_STYL_8',\n",
        "    'TRAVEL_MOTIVE_1',\n",
        "    'TRAVEL_COMPANIONS_NUM',\n",
        "    'TRAVEL_MISSION_INT',\n",
        "    #'VISIT_AREA_NM',\n",
        "    'DGSTFN',\n",
        "    'SIDO_NM'\n",
        "]]\n",
        "\n",
        "df_filter = df_filter.dropna()\n",
        "\n",
        "df_filter"
      ]
    },
    {
      "cell_type": "markdown",
      "metadata": {
        "id": "uPdmXePOOmch"
      },
      "source": [
        "## 데이터 셋 전처리3\n",
        "\n",
        "- 범주형(categorical) 데이터 정의\n",
        "- 범주형 데이터는 string or integer 형태여야 함"
      ]
    },
    {
      "cell_type": "code",
      "execution_count": 10,
      "metadata": {
        "colab": {
          "base_uri": "https://localhost:8080/",
          "height": 496
        },
        "id": "pQWOhxXWOmJT",
        "outputId": "0af92e95-2723-4bf6-b01c-2ed044f2b6e8"
      },
      "outputs": [
        {
          "data": {
            "application/vnd.google.colaboratory.intrinsic+json": {
              "summary": "{\n  \"name\": \"df_filter\",\n  \"rows\": 24056,\n  \"fields\": [\n    {\n      \"column\": \"GENDER\",\n      \"properties\": {\n        \"dtype\": \"category\",\n        \"num_unique_values\": 2,\n        \"samples\": [\n          \"\\ub0a8\",\n          \"\\uc5ec\"\n        ],\n        \"semantic_type\": \"\",\n        \"description\": \"\"\n      }\n    },\n    {\n      \"column\": \"AGE_GRP\",\n      \"properties\": {\n        \"dtype\": \"number\",\n        \"std\": 10.198635388209256,\n        \"min\": 20.0,\n        \"max\": 60.0,\n        \"num_unique_values\": 5,\n        \"samples\": [\n          50.0,\n          60.0\n        ],\n        \"semantic_type\": \"\",\n        \"description\": \"\"\n      }\n    },\n    {\n      \"column\": \"TRAVEL_STYL_1\",\n      \"properties\": {\n        \"dtype\": \"number\",\n        \"std\": 1,\n        \"min\": 1,\n        \"max\": 7,\n        \"num_unique_values\": 7,\n        \"samples\": [\n          3,\n          2\n        ],\n        \"semantic_type\": \"\",\n        \"description\": \"\"\n      }\n    },\n    {\n      \"column\": \"TRAVEL_STYL_2\",\n      \"properties\": {\n        \"dtype\": \"number\",\n        \"std\": 1,\n        \"min\": 1,\n        \"max\": 7,\n        \"num_unique_values\": 7,\n        \"samples\": [\n          1,\n          2\n        ],\n        \"semantic_type\": \"\",\n        \"description\": \"\"\n      }\n    },\n    {\n      \"column\": \"TRAVEL_STYL_3\",\n      \"properties\": {\n        \"dtype\": \"number\",\n        \"std\": 1,\n        \"min\": 1,\n        \"max\": 7,\n        \"num_unique_values\": 7,\n        \"samples\": [\n          1,\n          6\n        ],\n        \"semantic_type\": \"\",\n        \"description\": \"\"\n      }\n    },\n    {\n      \"column\": \"TRAVEL_STYL_4\",\n      \"properties\": {\n        \"dtype\": \"number\",\n        \"std\": 1,\n        \"min\": 1,\n        \"max\": 7,\n        \"num_unique_values\": 7,\n        \"samples\": [\n          1,\n          4\n        ],\n        \"semantic_type\": \"\",\n        \"description\": \"\"\n      }\n    },\n    {\n      \"column\": \"TRAVEL_STYL_5\",\n      \"properties\": {\n        \"dtype\": \"number\",\n        \"std\": 1,\n        \"min\": 1,\n        \"max\": 7,\n        \"num_unique_values\": 7,\n        \"samples\": [\n          1,\n          3\n        ],\n        \"semantic_type\": \"\",\n        \"description\": \"\"\n      }\n    },\n    {\n      \"column\": \"TRAVEL_STYL_6\",\n      \"properties\": {\n        \"dtype\": \"number\",\n        \"std\": 1,\n        \"min\": 1,\n        \"max\": 7,\n        \"num_unique_values\": 7,\n        \"samples\": [\n          3,\n          4\n        ],\n        \"semantic_type\": \"\",\n        \"description\": \"\"\n      }\n    },\n    {\n      \"column\": \"TRAVEL_STYL_7\",\n      \"properties\": {\n        \"dtype\": \"number\",\n        \"std\": 1,\n        \"min\": 1,\n        \"max\": 7,\n        \"num_unique_values\": 7,\n        \"samples\": [\n          2,\n          1\n        ],\n        \"semantic_type\": \"\",\n        \"description\": \"\"\n      }\n    },\n    {\n      \"column\": \"TRAVEL_STYL_8\",\n      \"properties\": {\n        \"dtype\": \"number\",\n        \"std\": 1,\n        \"min\": 1,\n        \"max\": 7,\n        \"num_unique_values\": 7,\n        \"samples\": [\n          6,\n          5\n        ],\n        \"semantic_type\": \"\",\n        \"description\": \"\"\n      }\n    },\n    {\n      \"column\": \"TRAVEL_MOTIVE_1\",\n      \"properties\": {\n        \"dtype\": \"number\",\n        \"std\": 2,\n        \"min\": 1,\n        \"max\": 10,\n        \"num_unique_values\": 10,\n        \"samples\": [\n          2,\n          8\n        ],\n        \"semantic_type\": \"\",\n        \"description\": \"\"\n      }\n    },\n    {\n      \"column\": \"TRAVEL_COMPANIONS_NUM\",\n      \"properties\": {\n        \"dtype\": \"number\",\n        \"std\": 1.6738375997684425,\n        \"min\": 0.0,\n        \"max\": 20.0,\n        \"num_unique_values\": 20,\n        \"samples\": [\n          5.0,\n          16.0\n        ],\n        \"semantic_type\": \"\",\n        \"description\": \"\"\n      }\n    },\n    {\n      \"column\": \"TRAVEL_MISSION_INT\",\n      \"properties\": {\n        \"dtype\": \"number\",\n        \"std\": 9,\n        \"min\": 1,\n        \"max\": 28,\n        \"num_unique_values\": 21,\n        \"samples\": [\n          2,\n          12\n        ],\n        \"semantic_type\": \"\",\n        \"description\": \"\"\n      }\n    },\n    {\n      \"column\": \"DGSTFN\",\n      \"properties\": {\n        \"dtype\": \"number\",\n        \"std\": 0.6975210631310096,\n        \"min\": 1.0,\n        \"max\": 5.0,\n        \"num_unique_values\": 32,\n        \"samples\": [\n          2.4,\n          3.8\n        ],\n        \"semantic_type\": \"\",\n        \"description\": \"\"\n      }\n    },\n    {\n      \"column\": \"SIDO_NM\",\n      \"properties\": {\n        \"dtype\": \"category\",\n        \"num_unique_values\": 161,\n        \"samples\": [\n          \"\\uae40\\ucc9c\\uc2dc\",\n          \"\\uc591\\uc0b0\"\n        ],\n        \"semantic_type\": \"\",\n        \"description\": \"\"\n      }\n    }\n  ]\n}",
              "type": "dataframe",
              "variable_name": "df_filter"
            },
            "text/html": [
              "\n",
              "  <div id=\"df-291ecff9-7443-4dfe-bee0-39a53977cff4\" class=\"colab-df-container\">\n",
              "    <div>\n",
              "<style scoped>\n",
              "    .dataframe tbody tr th:only-of-type {\n",
              "        vertical-align: middle;\n",
              "    }\n",
              "\n",
              "    .dataframe tbody tr th {\n",
              "        vertical-align: top;\n",
              "    }\n",
              "\n",
              "    .dataframe thead th {\n",
              "        text-align: right;\n",
              "    }\n",
              "</style>\n",
              "<table border=\"1\" class=\"dataframe\">\n",
              "  <thead>\n",
              "    <tr style=\"text-align: right;\">\n",
              "      <th></th>\n",
              "      <th>GENDER</th>\n",
              "      <th>AGE_GRP</th>\n",
              "      <th>TRAVEL_STYL_1</th>\n",
              "      <th>TRAVEL_STYL_2</th>\n",
              "      <th>TRAVEL_STYL_3</th>\n",
              "      <th>TRAVEL_STYL_4</th>\n",
              "      <th>TRAVEL_STYL_5</th>\n",
              "      <th>TRAVEL_STYL_6</th>\n",
              "      <th>TRAVEL_STYL_7</th>\n",
              "      <th>TRAVEL_STYL_8</th>\n",
              "      <th>TRAVEL_MOTIVE_1</th>\n",
              "      <th>TRAVEL_COMPANIONS_NUM</th>\n",
              "      <th>TRAVEL_MISSION_INT</th>\n",
              "      <th>DGSTFN</th>\n",
              "      <th>SIDO_NM</th>\n",
              "    </tr>\n",
              "  </thead>\n",
              "  <tbody>\n",
              "    <tr>\n",
              "      <th>1</th>\n",
              "      <td>여</td>\n",
              "      <td>30.0</td>\n",
              "      <td>3</td>\n",
              "      <td>1</td>\n",
              "      <td>1</td>\n",
              "      <td>1</td>\n",
              "      <td>1</td>\n",
              "      <td>3</td>\n",
              "      <td>2</td>\n",
              "      <td>6</td>\n",
              "      <td>1</td>\n",
              "      <td>5.0</td>\n",
              "      <td>2</td>\n",
              "      <td>3.6</td>\n",
              "      <td>인천광역시</td>\n",
              "    </tr>\n",
              "    <tr>\n",
              "      <th>5</th>\n",
              "      <td>남</td>\n",
              "      <td>30.0</td>\n",
              "      <td>3</td>\n",
              "      <td>1</td>\n",
              "      <td>1</td>\n",
              "      <td>4</td>\n",
              "      <td>3</td>\n",
              "      <td>4</td>\n",
              "      <td>1</td>\n",
              "      <td>5</td>\n",
              "      <td>8</td>\n",
              "      <td>0.0</td>\n",
              "      <td>3</td>\n",
              "      <td>4.2</td>\n",
              "      <td>NaN</td>\n",
              "    </tr>\n",
              "    <tr>\n",
              "      <th>6</th>\n",
              "      <td>남</td>\n",
              "      <td>30.0</td>\n",
              "      <td>3</td>\n",
              "      <td>1</td>\n",
              "      <td>1</td>\n",
              "      <td>4</td>\n",
              "      <td>3</td>\n",
              "      <td>4</td>\n",
              "      <td>1</td>\n",
              "      <td>5</td>\n",
              "      <td>8</td>\n",
              "      <td>0.0</td>\n",
              "      <td>3</td>\n",
              "      <td>3.7</td>\n",
              "      <td>수원시</td>\n",
              "    </tr>\n",
              "    <tr>\n",
              "      <th>11</th>\n",
              "      <td>남</td>\n",
              "      <td>50.0</td>\n",
              "      <td>2</td>\n",
              "      <td>2</td>\n",
              "      <td>6</td>\n",
              "      <td>2</td>\n",
              "      <td>2</td>\n",
              "      <td>6</td>\n",
              "      <td>2</td>\n",
              "      <td>7</td>\n",
              "      <td>10</td>\n",
              "      <td>7.0</td>\n",
              "      <td>21</td>\n",
              "      <td>3.0</td>\n",
              "      <td>고양시</td>\n",
              "    </tr>\n",
              "    <tr>\n",
              "      <th>12</th>\n",
              "      <td>남</td>\n",
              "      <td>50.0</td>\n",
              "      <td>2</td>\n",
              "      <td>2</td>\n",
              "      <td>6</td>\n",
              "      <td>2</td>\n",
              "      <td>2</td>\n",
              "      <td>6</td>\n",
              "      <td>2</td>\n",
              "      <td>7</td>\n",
              "      <td>10</td>\n",
              "      <td>7.0</td>\n",
              "      <td>21</td>\n",
              "      <td>4.0</td>\n",
              "      <td>양평군</td>\n",
              "    </tr>\n",
              "    <tr>\n",
              "      <th>...</th>\n",
              "      <td>...</td>\n",
              "      <td>...</td>\n",
              "      <td>...</td>\n",
              "      <td>...</td>\n",
              "      <td>...</td>\n",
              "      <td>...</td>\n",
              "      <td>...</td>\n",
              "      <td>...</td>\n",
              "      <td>...</td>\n",
              "      <td>...</td>\n",
              "      <td>...</td>\n",
              "      <td>...</td>\n",
              "      <td>...</td>\n",
              "      <td>...</td>\n",
              "      <td>...</td>\n",
              "    </tr>\n",
              "    <tr>\n",
              "      <th>34611</th>\n",
              "      <td>여</td>\n",
              "      <td>30.0</td>\n",
              "      <td>6</td>\n",
              "      <td>6</td>\n",
              "      <td>2</td>\n",
              "      <td>2</td>\n",
              "      <td>2</td>\n",
              "      <td>6</td>\n",
              "      <td>6</td>\n",
              "      <td>2</td>\n",
              "      <td>6</td>\n",
              "      <td>0.0</td>\n",
              "      <td>2</td>\n",
              "      <td>2.0</td>\n",
              "      <td>NaN</td>\n",
              "    </tr>\n",
              "    <tr>\n",
              "      <th>34612</th>\n",
              "      <td>여</td>\n",
              "      <td>30.0</td>\n",
              "      <td>6</td>\n",
              "      <td>6</td>\n",
              "      <td>2</td>\n",
              "      <td>2</td>\n",
              "      <td>2</td>\n",
              "      <td>6</td>\n",
              "      <td>6</td>\n",
              "      <td>2</td>\n",
              "      <td>6</td>\n",
              "      <td>0.0</td>\n",
              "      <td>2</td>\n",
              "      <td>4.0</td>\n",
              "      <td>제주특별자치도</td>\n",
              "    </tr>\n",
              "    <tr>\n",
              "      <th>34613</th>\n",
              "      <td>여</td>\n",
              "      <td>20.0</td>\n",
              "      <td>1</td>\n",
              "      <td>1</td>\n",
              "      <td>1</td>\n",
              "      <td>4</td>\n",
              "      <td>4</td>\n",
              "      <td>2</td>\n",
              "      <td>7</td>\n",
              "      <td>1</td>\n",
              "      <td>1</td>\n",
              "      <td>0.0</td>\n",
              "      <td>1</td>\n",
              "      <td>5.0</td>\n",
              "      <td>NaN</td>\n",
              "    </tr>\n",
              "    <tr>\n",
              "      <th>34614</th>\n",
              "      <td>남</td>\n",
              "      <td>30.0</td>\n",
              "      <td>4</td>\n",
              "      <td>1</td>\n",
              "      <td>2</td>\n",
              "      <td>4</td>\n",
              "      <td>6</td>\n",
              "      <td>6</td>\n",
              "      <td>6</td>\n",
              "      <td>7</td>\n",
              "      <td>7</td>\n",
              "      <td>1.0</td>\n",
              "      <td>3</td>\n",
              "      <td>4.0</td>\n",
              "      <td>NaN</td>\n",
              "    </tr>\n",
              "    <tr>\n",
              "      <th>34615</th>\n",
              "      <td>남</td>\n",
              "      <td>30.0</td>\n",
              "      <td>4</td>\n",
              "      <td>1</td>\n",
              "      <td>2</td>\n",
              "      <td>4</td>\n",
              "      <td>6</td>\n",
              "      <td>6</td>\n",
              "      <td>6</td>\n",
              "      <td>7</td>\n",
              "      <td>7</td>\n",
              "      <td>1.0</td>\n",
              "      <td>3</td>\n",
              "      <td>4.3</td>\n",
              "      <td>제주특별자치도</td>\n",
              "    </tr>\n",
              "  </tbody>\n",
              "</table>\n",
              "<p>24056 rows × 15 columns</p>\n",
              "</div>\n",
              "    <div class=\"colab-df-buttons\">\n",
              "\n",
              "  <div class=\"colab-df-container\">\n",
              "    <button class=\"colab-df-convert\" onclick=\"convertToInteractive('df-291ecff9-7443-4dfe-bee0-39a53977cff4')\"\n",
              "            title=\"Convert this dataframe to an interactive table.\"\n",
              "            style=\"display:none;\">\n",
              "\n",
              "  <svg xmlns=\"http://www.w3.org/2000/svg\" height=\"24px\" viewBox=\"0 -960 960 960\">\n",
              "    <path d=\"M120-120v-720h720v720H120Zm60-500h600v-160H180v160Zm220 220h160v-160H400v160Zm0 220h160v-160H400v160ZM180-400h160v-160H180v160Zm440 0h160v-160H620v160ZM180-180h160v-160H180v160Zm440 0h160v-160H620v160Z\"/>\n",
              "  </svg>\n",
              "    </button>\n",
              "\n",
              "  <style>\n",
              "    .colab-df-container {\n",
              "      display:flex;\n",
              "      gap: 12px;\n",
              "    }\n",
              "\n",
              "    .colab-df-convert {\n",
              "      background-color: #E8F0FE;\n",
              "      border: none;\n",
              "      border-radius: 50%;\n",
              "      cursor: pointer;\n",
              "      display: none;\n",
              "      fill: #1967D2;\n",
              "      height: 32px;\n",
              "      padding: 0 0 0 0;\n",
              "      width: 32px;\n",
              "    }\n",
              "\n",
              "    .colab-df-convert:hover {\n",
              "      background-color: #E2EBFA;\n",
              "      box-shadow: 0px 1px 2px rgba(60, 64, 67, 0.3), 0px 1px 3px 1px rgba(60, 64, 67, 0.15);\n",
              "      fill: #174EA6;\n",
              "    }\n",
              "\n",
              "    .colab-df-buttons div {\n",
              "      margin-bottom: 4px;\n",
              "    }\n",
              "\n",
              "    [theme=dark] .colab-df-convert {\n",
              "      background-color: #3B4455;\n",
              "      fill: #D2E3FC;\n",
              "    }\n",
              "\n",
              "    [theme=dark] .colab-df-convert:hover {\n",
              "      background-color: #434B5C;\n",
              "      box-shadow: 0px 1px 3px 1px rgba(0, 0, 0, 0.15);\n",
              "      filter: drop-shadow(0px 1px 2px rgba(0, 0, 0, 0.3));\n",
              "      fill: #FFFFFF;\n",
              "    }\n",
              "  </style>\n",
              "\n",
              "    <script>\n",
              "      const buttonEl =\n",
              "        document.querySelector('#df-291ecff9-7443-4dfe-bee0-39a53977cff4 button.colab-df-convert');\n",
              "      buttonEl.style.display =\n",
              "        google.colab.kernel.accessAllowed ? 'block' : 'none';\n",
              "\n",
              "      async function convertToInteractive(key) {\n",
              "        const element = document.querySelector('#df-291ecff9-7443-4dfe-bee0-39a53977cff4');\n",
              "        const dataTable =\n",
              "          await google.colab.kernel.invokeFunction('convertToInteractive',\n",
              "                                                    [key], {});\n",
              "        if (!dataTable) return;\n",
              "\n",
              "        const docLinkHtml = 'Like what you see? Visit the ' +\n",
              "          '<a target=\"_blank\" href=https://colab.research.google.com/notebooks/data_table.ipynb>data table notebook</a>'\n",
              "          + ' to learn more about interactive tables.';\n",
              "        element.innerHTML = '';\n",
              "        dataTable['output_type'] = 'display_data';\n",
              "        await google.colab.output.renderOutput(dataTable, element);\n",
              "        const docLink = document.createElement('div');\n",
              "        docLink.innerHTML = docLinkHtml;\n",
              "        element.appendChild(docLink);\n",
              "      }\n",
              "    </script>\n",
              "  </div>\n",
              "\n",
              "\n",
              "<div id=\"df-624aa6c3-fcd0-4c40-9a84-7a17ec6c6e58\">\n",
              "  <button class=\"colab-df-quickchart\" onclick=\"quickchart('df-624aa6c3-fcd0-4c40-9a84-7a17ec6c6e58')\"\n",
              "            title=\"Suggest charts\"\n",
              "            style=\"display:none;\">\n",
              "\n",
              "<svg xmlns=\"http://www.w3.org/2000/svg\" height=\"24px\"viewBox=\"0 0 24 24\"\n",
              "     width=\"24px\">\n",
              "    <g>\n",
              "        <path d=\"M19 3H5c-1.1 0-2 .9-2 2v14c0 1.1.9 2 2 2h14c1.1 0 2-.9 2-2V5c0-1.1-.9-2-2-2zM9 17H7v-7h2v7zm4 0h-2V7h2v10zm4 0h-2v-4h2v4z\"/>\n",
              "    </g>\n",
              "</svg>\n",
              "  </button>\n",
              "\n",
              "<style>\n",
              "  .colab-df-quickchart {\n",
              "      --bg-color: #E8F0FE;\n",
              "      --fill-color: #1967D2;\n",
              "      --hover-bg-color: #E2EBFA;\n",
              "      --hover-fill-color: #174EA6;\n",
              "      --disabled-fill-color: #AAA;\n",
              "      --disabled-bg-color: #DDD;\n",
              "  }\n",
              "\n",
              "  [theme=dark] .colab-df-quickchart {\n",
              "      --bg-color: #3B4455;\n",
              "      --fill-color: #D2E3FC;\n",
              "      --hover-bg-color: #434B5C;\n",
              "      --hover-fill-color: #FFFFFF;\n",
              "      --disabled-bg-color: #3B4455;\n",
              "      --disabled-fill-color: #666;\n",
              "  }\n",
              "\n",
              "  .colab-df-quickchart {\n",
              "    background-color: var(--bg-color);\n",
              "    border: none;\n",
              "    border-radius: 50%;\n",
              "    cursor: pointer;\n",
              "    display: none;\n",
              "    fill: var(--fill-color);\n",
              "    height: 32px;\n",
              "    padding: 0;\n",
              "    width: 32px;\n",
              "  }\n",
              "\n",
              "  .colab-df-quickchart:hover {\n",
              "    background-color: var(--hover-bg-color);\n",
              "    box-shadow: 0 1px 2px rgba(60, 64, 67, 0.3), 0 1px 3px 1px rgba(60, 64, 67, 0.15);\n",
              "    fill: var(--button-hover-fill-color);\n",
              "  }\n",
              "\n",
              "  .colab-df-quickchart-complete:disabled,\n",
              "  .colab-df-quickchart-complete:disabled:hover {\n",
              "    background-color: var(--disabled-bg-color);\n",
              "    fill: var(--disabled-fill-color);\n",
              "    box-shadow: none;\n",
              "  }\n",
              "\n",
              "  .colab-df-spinner {\n",
              "    border: 2px solid var(--fill-color);\n",
              "    border-color: transparent;\n",
              "    border-bottom-color: var(--fill-color);\n",
              "    animation:\n",
              "      spin 1s steps(1) infinite;\n",
              "  }\n",
              "\n",
              "  @keyframes spin {\n",
              "    0% {\n",
              "      border-color: transparent;\n",
              "      border-bottom-color: var(--fill-color);\n",
              "      border-left-color: var(--fill-color);\n",
              "    }\n",
              "    20% {\n",
              "      border-color: transparent;\n",
              "      border-left-color: var(--fill-color);\n",
              "      border-top-color: var(--fill-color);\n",
              "    }\n",
              "    30% {\n",
              "      border-color: transparent;\n",
              "      border-left-color: var(--fill-color);\n",
              "      border-top-color: var(--fill-color);\n",
              "      border-right-color: var(--fill-color);\n",
              "    }\n",
              "    40% {\n",
              "      border-color: transparent;\n",
              "      border-right-color: var(--fill-color);\n",
              "      border-top-color: var(--fill-color);\n",
              "    }\n",
              "    60% {\n",
              "      border-color: transparent;\n",
              "      border-right-color: var(--fill-color);\n",
              "    }\n",
              "    80% {\n",
              "      border-color: transparent;\n",
              "      border-right-color: var(--fill-color);\n",
              "      border-bottom-color: var(--fill-color);\n",
              "    }\n",
              "    90% {\n",
              "      border-color: transparent;\n",
              "      border-bottom-color: var(--fill-color);\n",
              "    }\n",
              "  }\n",
              "</style>\n",
              "\n",
              "  <script>\n",
              "    async function quickchart(key) {\n",
              "      const quickchartButtonEl =\n",
              "        document.querySelector('#' + key + ' button');\n",
              "      quickchartButtonEl.disabled = true;  // To prevent multiple clicks.\n",
              "      quickchartButtonEl.classList.add('colab-df-spinner');\n",
              "      try {\n",
              "        const charts = await google.colab.kernel.invokeFunction(\n",
              "            'suggestCharts', [key], {});\n",
              "      } catch (error) {\n",
              "        console.error('Error during call to suggestCharts:', error);\n",
              "      }\n",
              "      quickchartButtonEl.classList.remove('colab-df-spinner');\n",
              "      quickchartButtonEl.classList.add('colab-df-quickchart-complete');\n",
              "    }\n",
              "    (() => {\n",
              "      let quickchartButtonEl =\n",
              "        document.querySelector('#df-624aa6c3-fcd0-4c40-9a84-7a17ec6c6e58 button');\n",
              "      quickchartButtonEl.style.display =\n",
              "        google.colab.kernel.accessAllowed ? 'block' : 'none';\n",
              "    })();\n",
              "  </script>\n",
              "</div>\n",
              "\n",
              "  <div id=\"id_76dbfc50-d703-4a4d-a349-dd3ce3a8e3e2\">\n",
              "    <style>\n",
              "      .colab-df-generate {\n",
              "        background-color: #E8F0FE;\n",
              "        border: none;\n",
              "        border-radius: 50%;\n",
              "        cursor: pointer;\n",
              "        display: none;\n",
              "        fill: #1967D2;\n",
              "        height: 32px;\n",
              "        padding: 0 0 0 0;\n",
              "        width: 32px;\n",
              "      }\n",
              "\n",
              "      .colab-df-generate:hover {\n",
              "        background-color: #E2EBFA;\n",
              "        box-shadow: 0px 1px 2px rgba(60, 64, 67, 0.3), 0px 1px 3px 1px rgba(60, 64, 67, 0.15);\n",
              "        fill: #174EA6;\n",
              "      }\n",
              "\n",
              "      [theme=dark] .colab-df-generate {\n",
              "        background-color: #3B4455;\n",
              "        fill: #D2E3FC;\n",
              "      }\n",
              "\n",
              "      [theme=dark] .colab-df-generate:hover {\n",
              "        background-color: #434B5C;\n",
              "        box-shadow: 0px 1px 3px 1px rgba(0, 0, 0, 0.15);\n",
              "        filter: drop-shadow(0px 1px 2px rgba(0, 0, 0, 0.3));\n",
              "        fill: #FFFFFF;\n",
              "      }\n",
              "    </style>\n",
              "    <button class=\"colab-df-generate\" onclick=\"generateWithVariable('df_filter')\"\n",
              "            title=\"Generate code using this dataframe.\"\n",
              "            style=\"display:none;\">\n",
              "\n",
              "  <svg xmlns=\"http://www.w3.org/2000/svg\" height=\"24px\"viewBox=\"0 0 24 24\"\n",
              "       width=\"24px\">\n",
              "    <path d=\"M7,19H8.4L18.45,9,17,7.55,7,17.6ZM5,21V16.75L18.45,3.32a2,2,0,0,1,2.83,0l1.4,1.43a1.91,1.91,0,0,1,.58,1.4,1.91,1.91,0,0,1-.58,1.4L9.25,21ZM18.45,9,17,7.55Zm-12,3A5.31,5.31,0,0,0,4.9,8.1,5.31,5.31,0,0,0,1,6.5,5.31,5.31,0,0,0,4.9,4.9,5.31,5.31,0,0,0,6.5,1,5.31,5.31,0,0,0,8.1,4.9,5.31,5.31,0,0,0,12,6.5,5.46,5.46,0,0,0,6.5,12Z\"/>\n",
              "  </svg>\n",
              "    </button>\n",
              "    <script>\n",
              "      (() => {\n",
              "      const buttonEl =\n",
              "        document.querySelector('#id_76dbfc50-d703-4a4d-a349-dd3ce3a8e3e2 button.colab-df-generate');\n",
              "      buttonEl.style.display =\n",
              "        google.colab.kernel.accessAllowed ? 'block' : 'none';\n",
              "\n",
              "      buttonEl.onclick = () => {\n",
              "        google.colab.notebook.generateWithVariable('df_filter');\n",
              "      }\n",
              "      })();\n",
              "    </script>\n",
              "  </div>\n",
              "\n",
              "    </div>\n",
              "  </div>\n"
            ],
            "text/plain": [
              "      GENDER  AGE_GRP  TRAVEL_STYL_1  TRAVEL_STYL_2  TRAVEL_STYL_3  \\\n",
              "1          여     30.0              3              1              1   \n",
              "5          남     30.0              3              1              1   \n",
              "6          남     30.0              3              1              1   \n",
              "11         남     50.0              2              2              6   \n",
              "12         남     50.0              2              2              6   \n",
              "...      ...      ...            ...            ...            ...   \n",
              "34611      여     30.0              6              6              2   \n",
              "34612      여     30.0              6              6              2   \n",
              "34613      여     20.0              1              1              1   \n",
              "34614      남     30.0              4              1              2   \n",
              "34615      남     30.0              4              1              2   \n",
              "\n",
              "       TRAVEL_STYL_4  TRAVEL_STYL_5  TRAVEL_STYL_6  TRAVEL_STYL_7  \\\n",
              "1                  1              1              3              2   \n",
              "5                  4              3              4              1   \n",
              "6                  4              3              4              1   \n",
              "11                 2              2              6              2   \n",
              "12                 2              2              6              2   \n",
              "...              ...            ...            ...            ...   \n",
              "34611              2              2              6              6   \n",
              "34612              2              2              6              6   \n",
              "34613              4              4              2              7   \n",
              "34614              4              6              6              6   \n",
              "34615              4              6              6              6   \n",
              "\n",
              "       TRAVEL_STYL_8  TRAVEL_MOTIVE_1  TRAVEL_COMPANIONS_NUM  \\\n",
              "1                  6                1                    5.0   \n",
              "5                  5                8                    0.0   \n",
              "6                  5                8                    0.0   \n",
              "11                 7               10                    7.0   \n",
              "12                 7               10                    7.0   \n",
              "...              ...              ...                    ...   \n",
              "34611              2                6                    0.0   \n",
              "34612              2                6                    0.0   \n",
              "34613              1                1                    0.0   \n",
              "34614              7                7                    1.0   \n",
              "34615              7                7                    1.0   \n",
              "\n",
              "       TRAVEL_MISSION_INT  DGSTFN  SIDO_NM  \n",
              "1                       2     3.6    인천광역시  \n",
              "5                       3     4.2      NaN  \n",
              "6                       3     3.7      수원시  \n",
              "11                     21     3.0      고양시  \n",
              "12                     21     4.0      양평군  \n",
              "...                   ...     ...      ...  \n",
              "34611                   2     2.0      NaN  \n",
              "34612                   2     4.0  제주특별자치도  \n",
              "34613                   1     5.0      NaN  \n",
              "34614                   3     4.0      NaN  \n",
              "34615                   3     4.3  제주특별자치도  \n",
              "\n",
              "[24056 rows x 15 columns]"
            ]
          },
          "execution_count": 10,
          "metadata": {},
          "output_type": "execute_result"
        }
      ],
      "source": [
        "categorical_features_names = [\n",
        "    'GENDER',\n",
        "    #'AGE_GRP',\n",
        "    'TRAVEL_STYL_1', 'TRAVEL_STYL_2', 'TRAVEL_STYL_3', 'TRAVEL_STYL_4', 'TRAVEL_STYL_5', 'TRAVEL_STYL_6', 'TRAVEL_STYL_7', 'TRAVEL_STYL_8',\n",
        "    'TRAVEL_MOTIVE_1',\n",
        "    #'TRAVEL_COMPANIONS_NUM',\n",
        "    'TRAVEL_MISSION_INT',\n",
        "    #'VISIT_AREA_NM',\n",
        "    'SIDO_NM'\n",
        "    #'DGSTFN',\n",
        "]\n",
        "\n",
        "df_filter[categorical_features_names[1:-1]] = df_filter[categorical_features_names[1:-1]].astype(int)\n",
        "df_filter"
      ]
    },
    {
      "cell_type": "markdown",
      "metadata": {
        "id": "SkQSOAk5PlGa"
      },
      "source": [
        "## 데이터셋 전처리 4\n",
        "\n",
        "- 학습/테스트 데이터 나누기"
      ]
    },
    {
      "cell_type": "code",
      "execution_count": 11,
      "metadata": {
        "colab": {
          "base_uri": "https://localhost:8080/"
        },
        "id": "wBqlxvtxPldS",
        "outputId": "5ca70347-6444-4bf1-c3f3-abbdbf00e388"
      },
      "outputs": [
        {
          "name": "stdout",
          "output_type": "stream",
          "text": [
            "(19244, 15)\n",
            "(4812, 15)\n"
          ]
        }
      ],
      "source": [
        "from sklearn.model_selection import train_test_split\n",
        "\n",
        "train_data, test_data =  train_test_split(df_filter, test_size=0.2, random_state=42)\n",
        "\n",
        "print(train_data.shape)\n",
        "print(test_data.shape)"
      ]
    },
    {
      "cell_type": "markdown",
      "metadata": {
        "id": "zAUzWEckQa_J"
      },
      "source": [
        "# CatBoost"
      ]
    },
    {
      "cell_type": "code",
      "execution_count": 12,
      "metadata": {
        "colab": {
          "base_uri": "https://localhost:8080/"
        },
        "id": "I0U7Dk8EQbgj",
        "outputId": "aab743f0-4695-4e93-9d84-b84cb5a4f60a"
      },
      "outputs": [
        {
          "name": "stdout",
          "output_type": "stream",
          "text": [
            "\u001b[2K     \u001b[90m━━━━━━━━━━━━━━━━━━━━━━━━━━━━━━━━━━━━━━━━\u001b[0m \u001b[32m98.2/98.2 MB\u001b[0m \u001b[31m8.8 MB/s\u001b[0m eta \u001b[36m0:00:00\u001b[0m\n",
            "\u001b[?25h"
          ]
        }
      ],
      "source": [
        "!pip install -q catboost"
      ]
    },
    {
      "cell_type": "markdown",
      "metadata": {
        "id": "mfiJINJoQfCa"
      },
      "source": [
        "## 데이터 형태 정의\n",
        "\n",
        "- 데이터의 만족도가 상향평준화 된 경향이 있음\n",
        "- 만족도가 2 이하이면 가중치를 2 부여하고 아니면 1 부여하도록 설정"
      ]
    },
    {
      "cell_type": "code",
      "execution_count": 31,
      "metadata": {
        "id": "wPllirdGQfY7"
      },
      "outputs": [],
      "source": [
        "from catboost import CatBoostRegressor, Pool\n",
        "import numpy as np\n",
        "\n",
        "# 만족도가 2 이하이면 가중치 2, 아니면 가중치 1 부여\n",
        "weights = np.where(train_data['DGSTFN'] <= 2, 2, 1)\n",
        "\n",
        "train_pool = Pool(train_data.drop(['DGSTFN'], axis=1),\n",
        "                  label=train_data['DGSTFN'],\n",
        "                  cat_features=categorical_features_names,\n",
        "                  weight=weights\n",
        "                  )\n",
        "\n",
        "test_pool = Pool(test_data.drop(['DGSTFN'], axis=1),\n",
        "                 label=test_data['DGSTFN'],\n",
        "                 cat_features=categorical_features_names\n",
        "                 )"
      ]
    },
    {
      "cell_type": "markdown",
      "metadata": {
        "id": "vnT7BE0fRjDm"
      },
      "source": [
        "## 모델 정의 및 학습"
      ]
    },
    {
      "cell_type": "code",
      "execution_count": 14,
      "metadata": {
        "colab": {
          "base_uri": "https://localhost:8080/",
          "height": 182,
          "referenced_widgets": [
            "b3c06172028b45779e6e2d60754810be"
          ]
        },
        "id": "GeFpAJX3RrTK",
        "outputId": "0686aac1-047a-4fee-a563-13a03b097c58"
      },
      "outputs": [
        {
          "data": {
            "application/vnd.jupyter.widget-view+json": {
              "model_id": "b3c06172028b45779e6e2d60754810be",
              "version_major": 2,
              "version_minor": 0
            },
            "text/plain": [
              "MetricVisualizer(layout=Layout(align_self='stretch', height='500px'))"
            ]
          },
          "metadata": {},
          "output_type": "display_data"
        },
        {
          "name": "stderr",
          "output_type": "stream",
          "text": [
            "Default metric period is 5 because MAE is/are not implemented for GPU\n"
          ]
        },
        {
          "name": "stdout",
          "output_type": "stream",
          "text": [
            "0:\tlearn: 0.5785485\ttest: 0.5472789\tbest: 0.5472789 (0)\ttotal: 337ms\tremaining: 11m 14s\n",
            "500:\tlearn: 0.5512321\ttest: 0.5228055\tbest: 0.5228055 (500)\ttotal: 39.7s\tremaining: 1m 58s\n",
            "1000:\tlearn: 0.5410204\ttest: 0.5155667\tbest: 0.5155667 (1000)\ttotal: 1m 12s\tremaining: 1m 11s\n",
            "1500:\tlearn: 0.5349613\ttest: 0.5129900\tbest: 0.5129900 (1500)\ttotal: 1m 43s\tremaining: 34.4s\n",
            "1999:\tlearn: 0.5309452\ttest: 0.5117287\tbest: 0.5117287 (1999)\ttotal: 2m 15s\tremaining: 0us\n",
            "bestTest = 0.5117286942\n",
            "bestIteration = 1999\n"
          ]
        },
        {
          "data": {
            "text/plain": [
              "<catboost.core.CatBoostRegressor at 0x7bb0cdc99de0>"
            ]
          },
          "execution_count": 14,
          "metadata": {},
          "output_type": "execute_result"
        }
      ],
      "source": [
        "model = CatBoostRegressor(\n",
        "    loss_function='RMSE',\n",
        "    eval_metric='MAE',\n",
        "    task_type='GPU',\n",
        "    depth=8,\n",
        "    learning_rate=0.01,\n",
        "    n_estimators=2000)\n",
        "\n",
        "model.fit(\n",
        "    train_pool,\n",
        "    eval_set=test_pool,\n",
        "    verbose=500,\n",
        "    plot=True)\n"
      ]
    },
    {
      "cell_type": "code",
      "execution_count": 15,
      "metadata": {
        "id": "Qp0ceh-u59l7"
      },
      "outputs": [],
      "source": [
        "model.save_model('/content/gdrive/MyDrive/region_recommendation.cbm')"
      ]
    },
    {
      "cell_type": "markdown",
      "metadata": {
        "id": "CJICqnBv28S_"
      },
      "source": [
        "# 테스트"
      ]
    },
    {
      "cell_type": "markdown",
      "metadata": {
        "id": "9DSMVboE0XFZ"
      },
      "source": [
        "## 주요 특징"
      ]
    },
    {
      "cell_type": "code",
      "execution_count": 32,
      "metadata": {
        "colab": {
          "base_uri": "https://localhost:8080/",
          "height": 488
        },
        "id": "_QRg9-5e0Thp",
        "outputId": "4a461760-c41a-4366-8268-9ec6bee6c6e7"
      },
      "outputs": [
        {
          "data": {
            "application/vnd.google.colaboratory.intrinsic+json": {
              "summary": "{\n  \"name\": \"model\",\n  \"rows\": 14,\n  \"fields\": [\n    {\n      \"column\": \"Feature Id\",\n      \"properties\": {\n        \"dtype\": \"string\",\n        \"num_unique_values\": 14,\n        \"samples\": [\n          \"TRAVEL_STYL_3\",\n          \"TRAVEL_STYL_1\",\n          \"TRAVEL_STYL_8\"\n        ],\n        \"semantic_type\": \"\",\n        \"description\": \"\"\n      }\n    },\n    {\n      \"column\": \"Importances\",\n      \"properties\": {\n        \"dtype\": \"number\",\n        \"std\": 2.9469723056581865,\n        \"min\": 0.32719981688113653,\n        \"max\": 12.832886001013469,\n        \"num_unique_values\": 14,\n        \"samples\": [\n          6.575747531158372,\n          5.404592913304408,\n          12.832886001013469\n        ],\n        \"semantic_type\": \"\",\n        \"description\": \"\"\n      }\n    }\n  ]\n}",
              "type": "dataframe"
            },
            "text/html": [
              "\n",
              "  <div id=\"df-93851ba4-341f-4dc3-8409-d5e761e09f7a\" class=\"colab-df-container\">\n",
              "    <div>\n",
              "<style scoped>\n",
              "    .dataframe tbody tr th:only-of-type {\n",
              "        vertical-align: middle;\n",
              "    }\n",
              "\n",
              "    .dataframe tbody tr th {\n",
              "        vertical-align: top;\n",
              "    }\n",
              "\n",
              "    .dataframe thead th {\n",
              "        text-align: right;\n",
              "    }\n",
              "</style>\n",
              "<table border=\"1\" class=\"dataframe\">\n",
              "  <thead>\n",
              "    <tr style=\"text-align: right;\">\n",
              "      <th></th>\n",
              "      <th>Feature Id</th>\n",
              "      <th>Importances</th>\n",
              "    </tr>\n",
              "  </thead>\n",
              "  <tbody>\n",
              "    <tr>\n",
              "      <th>0</th>\n",
              "      <td>TRAVEL_STYL_8</td>\n",
              "      <td>12.832886</td>\n",
              "    </tr>\n",
              "    <tr>\n",
              "      <th>1</th>\n",
              "      <td>TRAVEL_MISSION_INT</td>\n",
              "      <td>10.283668</td>\n",
              "    </tr>\n",
              "    <tr>\n",
              "      <th>2</th>\n",
              "      <td>TRAVEL_STYL_2</td>\n",
              "      <td>9.111206</td>\n",
              "    </tr>\n",
              "    <tr>\n",
              "      <th>3</th>\n",
              "      <td>TRAVEL_STYL_7</td>\n",
              "      <td>8.810043</td>\n",
              "    </tr>\n",
              "    <tr>\n",
              "      <th>4</th>\n",
              "      <td>SIDO_NM</td>\n",
              "      <td>8.343121</td>\n",
              "    </tr>\n",
              "    <tr>\n",
              "      <th>5</th>\n",
              "      <td>TRAVEL_STYL_4</td>\n",
              "      <td>7.407283</td>\n",
              "    </tr>\n",
              "    <tr>\n",
              "      <th>6</th>\n",
              "      <td>TRAVEL_MOTIVE_1</td>\n",
              "      <td>7.309441</td>\n",
              "    </tr>\n",
              "    <tr>\n",
              "      <th>7</th>\n",
              "      <td>TRAVEL_STYL_6</td>\n",
              "      <td>7.073582</td>\n",
              "    </tr>\n",
              "    <tr>\n",
              "      <th>8</th>\n",
              "      <td>AGE_GRP</td>\n",
              "      <td>6.663513</td>\n",
              "    </tr>\n",
              "    <tr>\n",
              "      <th>9</th>\n",
              "      <td>TRAVEL_STYL_3</td>\n",
              "      <td>6.575748</td>\n",
              "    </tr>\n",
              "    <tr>\n",
              "      <th>10</th>\n",
              "      <td>TRAVEL_STYL_5</td>\n",
              "      <td>6.076152</td>\n",
              "    </tr>\n",
              "    <tr>\n",
              "      <th>11</th>\n",
              "      <td>TRAVEL_STYL_1</td>\n",
              "      <td>5.404593</td>\n",
              "    </tr>\n",
              "    <tr>\n",
              "      <th>12</th>\n",
              "      <td>TRAVEL_COMPANIONS_NUM</td>\n",
              "      <td>3.781566</td>\n",
              "    </tr>\n",
              "    <tr>\n",
              "      <th>13</th>\n",
              "      <td>GENDER</td>\n",
              "      <td>0.327200</td>\n",
              "    </tr>\n",
              "  </tbody>\n",
              "</table>\n",
              "</div>\n",
              "    <div class=\"colab-df-buttons\">\n",
              "\n",
              "  <div class=\"colab-df-container\">\n",
              "    <button class=\"colab-df-convert\" onclick=\"convertToInteractive('df-93851ba4-341f-4dc3-8409-d5e761e09f7a')\"\n",
              "            title=\"Convert this dataframe to an interactive table.\"\n",
              "            style=\"display:none;\">\n",
              "\n",
              "  <svg xmlns=\"http://www.w3.org/2000/svg\" height=\"24px\" viewBox=\"0 -960 960 960\">\n",
              "    <path d=\"M120-120v-720h720v720H120Zm60-500h600v-160H180v160Zm220 220h160v-160H400v160Zm0 220h160v-160H400v160ZM180-400h160v-160H180v160Zm440 0h160v-160H620v160ZM180-180h160v-160H180v160Zm440 0h160v-160H620v160Z\"/>\n",
              "  </svg>\n",
              "    </button>\n",
              "\n",
              "  <style>\n",
              "    .colab-df-container {\n",
              "      display:flex;\n",
              "      gap: 12px;\n",
              "    }\n",
              "\n",
              "    .colab-df-convert {\n",
              "      background-color: #E8F0FE;\n",
              "      border: none;\n",
              "      border-radius: 50%;\n",
              "      cursor: pointer;\n",
              "      display: none;\n",
              "      fill: #1967D2;\n",
              "      height: 32px;\n",
              "      padding: 0 0 0 0;\n",
              "      width: 32px;\n",
              "    }\n",
              "\n",
              "    .colab-df-convert:hover {\n",
              "      background-color: #E2EBFA;\n",
              "      box-shadow: 0px 1px 2px rgba(60, 64, 67, 0.3), 0px 1px 3px 1px rgba(60, 64, 67, 0.15);\n",
              "      fill: #174EA6;\n",
              "    }\n",
              "\n",
              "    .colab-df-buttons div {\n",
              "      margin-bottom: 4px;\n",
              "    }\n",
              "\n",
              "    [theme=dark] .colab-df-convert {\n",
              "      background-color: #3B4455;\n",
              "      fill: #D2E3FC;\n",
              "    }\n",
              "\n",
              "    [theme=dark] .colab-df-convert:hover {\n",
              "      background-color: #434B5C;\n",
              "      box-shadow: 0px 1px 3px 1px rgba(0, 0, 0, 0.15);\n",
              "      filter: drop-shadow(0px 1px 2px rgba(0, 0, 0, 0.3));\n",
              "      fill: #FFFFFF;\n",
              "    }\n",
              "  </style>\n",
              "\n",
              "    <script>\n",
              "      const buttonEl =\n",
              "        document.querySelector('#df-93851ba4-341f-4dc3-8409-d5e761e09f7a button.colab-df-convert');\n",
              "      buttonEl.style.display =\n",
              "        google.colab.kernel.accessAllowed ? 'block' : 'none';\n",
              "\n",
              "      async function convertToInteractive(key) {\n",
              "        const element = document.querySelector('#df-93851ba4-341f-4dc3-8409-d5e761e09f7a');\n",
              "        const dataTable =\n",
              "          await google.colab.kernel.invokeFunction('convertToInteractive',\n",
              "                                                    [key], {});\n",
              "        if (!dataTable) return;\n",
              "\n",
              "        const docLinkHtml = 'Like what you see? Visit the ' +\n",
              "          '<a target=\"_blank\" href=https://colab.research.google.com/notebooks/data_table.ipynb>data table notebook</a>'\n",
              "          + ' to learn more about interactive tables.';\n",
              "        element.innerHTML = '';\n",
              "        dataTable['output_type'] = 'display_data';\n",
              "        await google.colab.output.renderOutput(dataTable, element);\n",
              "        const docLink = document.createElement('div');\n",
              "        docLink.innerHTML = docLinkHtml;\n",
              "        element.appendChild(docLink);\n",
              "      }\n",
              "    </script>\n",
              "  </div>\n",
              "\n",
              "\n",
              "<div id=\"df-7ea33c89-eec1-4540-aa4d-0a663a61be0c\">\n",
              "  <button class=\"colab-df-quickchart\" onclick=\"quickchart('df-7ea33c89-eec1-4540-aa4d-0a663a61be0c')\"\n",
              "            title=\"Suggest charts\"\n",
              "            style=\"display:none;\">\n",
              "\n",
              "<svg xmlns=\"http://www.w3.org/2000/svg\" height=\"24px\"viewBox=\"0 0 24 24\"\n",
              "     width=\"24px\">\n",
              "    <g>\n",
              "        <path d=\"M19 3H5c-1.1 0-2 .9-2 2v14c0 1.1.9 2 2 2h14c1.1 0 2-.9 2-2V5c0-1.1-.9-2-2-2zM9 17H7v-7h2v7zm4 0h-2V7h2v10zm4 0h-2v-4h2v4z\"/>\n",
              "    </g>\n",
              "</svg>\n",
              "  </button>\n",
              "\n",
              "<style>\n",
              "  .colab-df-quickchart {\n",
              "      --bg-color: #E8F0FE;\n",
              "      --fill-color: #1967D2;\n",
              "      --hover-bg-color: #E2EBFA;\n",
              "      --hover-fill-color: #174EA6;\n",
              "      --disabled-fill-color: #AAA;\n",
              "      --disabled-bg-color: #DDD;\n",
              "  }\n",
              "\n",
              "  [theme=dark] .colab-df-quickchart {\n",
              "      --bg-color: #3B4455;\n",
              "      --fill-color: #D2E3FC;\n",
              "      --hover-bg-color: #434B5C;\n",
              "      --hover-fill-color: #FFFFFF;\n",
              "      --disabled-bg-color: #3B4455;\n",
              "      --disabled-fill-color: #666;\n",
              "  }\n",
              "\n",
              "  .colab-df-quickchart {\n",
              "    background-color: var(--bg-color);\n",
              "    border: none;\n",
              "    border-radius: 50%;\n",
              "    cursor: pointer;\n",
              "    display: none;\n",
              "    fill: var(--fill-color);\n",
              "    height: 32px;\n",
              "    padding: 0;\n",
              "    width: 32px;\n",
              "  }\n",
              "\n",
              "  .colab-df-quickchart:hover {\n",
              "    background-color: var(--hover-bg-color);\n",
              "    box-shadow: 0 1px 2px rgba(60, 64, 67, 0.3), 0 1px 3px 1px rgba(60, 64, 67, 0.15);\n",
              "    fill: var(--button-hover-fill-color);\n",
              "  }\n",
              "\n",
              "  .colab-df-quickchart-complete:disabled,\n",
              "  .colab-df-quickchart-complete:disabled:hover {\n",
              "    background-color: var(--disabled-bg-color);\n",
              "    fill: var(--disabled-fill-color);\n",
              "    box-shadow: none;\n",
              "  }\n",
              "\n",
              "  .colab-df-spinner {\n",
              "    border: 2px solid var(--fill-color);\n",
              "    border-color: transparent;\n",
              "    border-bottom-color: var(--fill-color);\n",
              "    animation:\n",
              "      spin 1s steps(1) infinite;\n",
              "  }\n",
              "\n",
              "  @keyframes spin {\n",
              "    0% {\n",
              "      border-color: transparent;\n",
              "      border-bottom-color: var(--fill-color);\n",
              "      border-left-color: var(--fill-color);\n",
              "    }\n",
              "    20% {\n",
              "      border-color: transparent;\n",
              "      border-left-color: var(--fill-color);\n",
              "      border-top-color: var(--fill-color);\n",
              "    }\n",
              "    30% {\n",
              "      border-color: transparent;\n",
              "      border-left-color: var(--fill-color);\n",
              "      border-top-color: var(--fill-color);\n",
              "      border-right-color: var(--fill-color);\n",
              "    }\n",
              "    40% {\n",
              "      border-color: transparent;\n",
              "      border-right-color: var(--fill-color);\n",
              "      border-top-color: var(--fill-color);\n",
              "    }\n",
              "    60% {\n",
              "      border-color: transparent;\n",
              "      border-right-color: var(--fill-color);\n",
              "    }\n",
              "    80% {\n",
              "      border-color: transparent;\n",
              "      border-right-color: var(--fill-color);\n",
              "      border-bottom-color: var(--fill-color);\n",
              "    }\n",
              "    90% {\n",
              "      border-color: transparent;\n",
              "      border-bottom-color: var(--fill-color);\n",
              "    }\n",
              "  }\n",
              "</style>\n",
              "\n",
              "  <script>\n",
              "    async function quickchart(key) {\n",
              "      const quickchartButtonEl =\n",
              "        document.querySelector('#' + key + ' button');\n",
              "      quickchartButtonEl.disabled = true;  // To prevent multiple clicks.\n",
              "      quickchartButtonEl.classList.add('colab-df-spinner');\n",
              "      try {\n",
              "        const charts = await google.colab.kernel.invokeFunction(\n",
              "            'suggestCharts', [key], {});\n",
              "      } catch (error) {\n",
              "        console.error('Error during call to suggestCharts:', error);\n",
              "      }\n",
              "      quickchartButtonEl.classList.remove('colab-df-spinner');\n",
              "      quickchartButtonEl.classList.add('colab-df-quickchart-complete');\n",
              "    }\n",
              "    (() => {\n",
              "      let quickchartButtonEl =\n",
              "        document.querySelector('#df-7ea33c89-eec1-4540-aa4d-0a663a61be0c button');\n",
              "      quickchartButtonEl.style.display =\n",
              "        google.colab.kernel.accessAllowed ? 'block' : 'none';\n",
              "    })();\n",
              "  </script>\n",
              "</div>\n",
              "\n",
              "    </div>\n",
              "  </div>\n"
            ],
            "text/plain": [
              "               Feature Id  Importances\n",
              "0           TRAVEL_STYL_8    12.832886\n",
              "1      TRAVEL_MISSION_INT    10.283668\n",
              "2           TRAVEL_STYL_2     9.111206\n",
              "3           TRAVEL_STYL_7     8.810043\n",
              "4                 SIDO_NM     8.343121\n",
              "5           TRAVEL_STYL_4     7.407283\n",
              "6         TRAVEL_MOTIVE_1     7.309441\n",
              "7           TRAVEL_STYL_6     7.073582\n",
              "8                 AGE_GRP     6.663513\n",
              "9           TRAVEL_STYL_3     6.575748\n",
              "10          TRAVEL_STYL_5     6.076152\n",
              "11          TRAVEL_STYL_1     5.404593\n",
              "12  TRAVEL_COMPANIONS_NUM     3.781566\n",
              "13                 GENDER     0.327200"
            ]
          },
          "execution_count": 32,
          "metadata": {},
          "output_type": "execute_result"
        }
      ],
      "source": [
        "model.get_feature_importance(prettified=True)"
      ]
    },
    {
      "cell_type": "markdown",
      "metadata": {
        "id": "qNUIyPD10btW"
      },
      "source": [
        "## 특정 데이터의 실제 만족도와 예측 만족도"
      ]
    },
    {
      "cell_type": "code",
      "execution_count": 16,
      "metadata": {
        "colab": {
          "base_uri": "https://localhost:8080/"
        },
        "id": "xAPlPKGB28n5",
        "outputId": "114eeef2-3e70-486b-b99b-9cad7ffc6343"
      },
      "outputs": [
        {
          "data": {
            "text/plain": [
              "{'GENDER': '남',\n",
              " 'AGE_GRP': 40.0,\n",
              " 'TRAVEL_STYL_1': 1,\n",
              " 'TRAVEL_STYL_2': 1,\n",
              " 'TRAVEL_STYL_3': 1,\n",
              " 'TRAVEL_STYL_4': 4,\n",
              " 'TRAVEL_STYL_5': 4,\n",
              " 'TRAVEL_STYL_6': 1,\n",
              " 'TRAVEL_STYL_7': 2,\n",
              " 'TRAVEL_STYL_8': 7,\n",
              " 'TRAVEL_MOTIVE_1': 10,\n",
              " 'TRAVEL_COMPANIONS_NUM': 1.0,\n",
              " 'TRAVEL_MISSION_INT': 8,\n",
              " 'DGSTFN': 5.0,\n",
              " 'SIDO_NM': '안양시'}"
            ]
          },
          "execution_count": 16,
          "metadata": {},
          "output_type": "execute_result"
        }
      ],
      "source": [
        "test_data.iloc[101].to_dict()"
      ]
    },
    {
      "cell_type": "code",
      "execution_count": 17,
      "metadata": {
        "colab": {
          "base_uri": "https://localhost:8080/"
        },
        "id": "kpuDoID08tRN",
        "outputId": "00032896-5698-4121-b432-4fede8981d16"
      },
      "outputs": [
        {
          "data": {
            "text/plain": [
              "4.228552187811001"
            ]
          },
          "execution_count": 17,
          "metadata": {},
          "output_type": "execute_result"
        }
      ],
      "source": [
        "model.predict(test_data.iloc[101].drop(['DGSTFN']))"
      ]
    },
    {
      "cell_type": "markdown",
      "metadata": {
        "id": "vXarmZES0nYM"
      },
      "source": [
        "## 만족도가 높을 것으로 예상되는 지역 10개 출력"
      ]
    },
    {
      "cell_type": "code",
      "execution_count": 24,
      "metadata": {
        "colab": {
          "base_uri": "https://localhost:8080/",
          "height": 442
        },
        "id": "HkD_CknP3Iul",
        "outputId": "4a857d52-0c4f-420b-cccc-ce749b64a6ff"
      },
      "outputs": [
        {
          "data": {
            "application/vnd.google.colaboratory.intrinsic+json": {
              "summary": "{\n  \"name\": \"regions\",\n  \"rows\": 161,\n  \"fields\": [\n    {\n      \"column\": \"SIDO_NM\",\n      \"properties\": {\n        \"dtype\": \"string\",\n        \"num_unique_values\": 161,\n        \"samples\": [\n          \"\\uae40\\ucc9c\\uc2dc\",\n          \"\\uc591\\uc0b0\",\n          \"\\uad6c\\ub840\\uad70\"\n        ],\n        \"semantic_type\": \"\",\n        \"description\": \"\"\n      }\n    }\n  ]\n}",
              "type": "dataframe",
              "variable_name": "regions"
            },
            "text/html": [
              "\n",
              "  <div id=\"df-1fc98911-c075-494a-97e5-dd4f08a57539\" class=\"colab-df-container\">\n",
              "    <div>\n",
              "<style scoped>\n",
              "    .dataframe tbody tr th:only-of-type {\n",
              "        vertical-align: middle;\n",
              "    }\n",
              "\n",
              "    .dataframe tbody tr th {\n",
              "        vertical-align: top;\n",
              "    }\n",
              "\n",
              "    .dataframe thead th {\n",
              "        text-align: right;\n",
              "    }\n",
              "</style>\n",
              "<table border=\"1\" class=\"dataframe\">\n",
              "  <thead>\n",
              "    <tr style=\"text-align: right;\">\n",
              "      <th></th>\n",
              "      <th>SIDO_NM</th>\n",
              "    </tr>\n",
              "  </thead>\n",
              "  <tbody>\n",
              "    <tr>\n",
              "      <th>1</th>\n",
              "      <td>인천광역시</td>\n",
              "    </tr>\n",
              "    <tr>\n",
              "      <th>5</th>\n",
              "      <td>NaN</td>\n",
              "    </tr>\n",
              "    <tr>\n",
              "      <th>6</th>\n",
              "      <td>수원시</td>\n",
              "    </tr>\n",
              "    <tr>\n",
              "      <th>11</th>\n",
              "      <td>고양시</td>\n",
              "    </tr>\n",
              "    <tr>\n",
              "      <th>12</th>\n",
              "      <td>양평군</td>\n",
              "    </tr>\n",
              "    <tr>\n",
              "      <th>...</th>\n",
              "      <td>...</td>\n",
              "    </tr>\n",
              "    <tr>\n",
              "      <th>18792</th>\n",
              "      <td>신안군</td>\n",
              "    </tr>\n",
              "    <tr>\n",
              "      <th>18795</th>\n",
              "      <td>화순군</td>\n",
              "    </tr>\n",
              "    <tr>\n",
              "      <th>18859</th>\n",
              "      <td>무안군</td>\n",
              "    </tr>\n",
              "    <tr>\n",
              "      <th>18928</th>\n",
              "      <td>영광군</td>\n",
              "    </tr>\n",
              "    <tr>\n",
              "      <th>20728</th>\n",
              "      <td>순창군</td>\n",
              "    </tr>\n",
              "  </tbody>\n",
              "</table>\n",
              "<p>161 rows × 1 columns</p>\n",
              "</div>\n",
              "    <div class=\"colab-df-buttons\">\n",
              "\n",
              "  <div class=\"colab-df-container\">\n",
              "    <button class=\"colab-df-convert\" onclick=\"convertToInteractive('df-1fc98911-c075-494a-97e5-dd4f08a57539')\"\n",
              "            title=\"Convert this dataframe to an interactive table.\"\n",
              "            style=\"display:none;\">\n",
              "\n",
              "  <svg xmlns=\"http://www.w3.org/2000/svg\" height=\"24px\" viewBox=\"0 -960 960 960\">\n",
              "    <path d=\"M120-120v-720h720v720H120Zm60-500h600v-160H180v160Zm220 220h160v-160H400v160Zm0 220h160v-160H400v160ZM180-400h160v-160H180v160Zm440 0h160v-160H620v160ZM180-180h160v-160H180v160Zm440 0h160v-160H620v160Z\"/>\n",
              "  </svg>\n",
              "    </button>\n",
              "\n",
              "  <style>\n",
              "    .colab-df-container {\n",
              "      display:flex;\n",
              "      gap: 12px;\n",
              "    }\n",
              "\n",
              "    .colab-df-convert {\n",
              "      background-color: #E8F0FE;\n",
              "      border: none;\n",
              "      border-radius: 50%;\n",
              "      cursor: pointer;\n",
              "      display: none;\n",
              "      fill: #1967D2;\n",
              "      height: 32px;\n",
              "      padding: 0 0 0 0;\n",
              "      width: 32px;\n",
              "    }\n",
              "\n",
              "    .colab-df-convert:hover {\n",
              "      background-color: #E2EBFA;\n",
              "      box-shadow: 0px 1px 2px rgba(60, 64, 67, 0.3), 0px 1px 3px 1px rgba(60, 64, 67, 0.15);\n",
              "      fill: #174EA6;\n",
              "    }\n",
              "\n",
              "    .colab-df-buttons div {\n",
              "      margin-bottom: 4px;\n",
              "    }\n",
              "\n",
              "    [theme=dark] .colab-df-convert {\n",
              "      background-color: #3B4455;\n",
              "      fill: #D2E3FC;\n",
              "    }\n",
              "\n",
              "    [theme=dark] .colab-df-convert:hover {\n",
              "      background-color: #434B5C;\n",
              "      box-shadow: 0px 1px 3px 1px rgba(0, 0, 0, 0.15);\n",
              "      filter: drop-shadow(0px 1px 2px rgba(0, 0, 0, 0.3));\n",
              "      fill: #FFFFFF;\n",
              "    }\n",
              "  </style>\n",
              "\n",
              "    <script>\n",
              "      const buttonEl =\n",
              "        document.querySelector('#df-1fc98911-c075-494a-97e5-dd4f08a57539 button.colab-df-convert');\n",
              "      buttonEl.style.display =\n",
              "        google.colab.kernel.accessAllowed ? 'block' : 'none';\n",
              "\n",
              "      async function convertToInteractive(key) {\n",
              "        const element = document.querySelector('#df-1fc98911-c075-494a-97e5-dd4f08a57539');\n",
              "        const dataTable =\n",
              "          await google.colab.kernel.invokeFunction('convertToInteractive',\n",
              "                                                    [key], {});\n",
              "        if (!dataTable) return;\n",
              "\n",
              "        const docLinkHtml = 'Like what you see? Visit the ' +\n",
              "          '<a target=\"_blank\" href=https://colab.research.google.com/notebooks/data_table.ipynb>data table notebook</a>'\n",
              "          + ' to learn more about interactive tables.';\n",
              "        element.innerHTML = '';\n",
              "        dataTable['output_type'] = 'display_data';\n",
              "        await google.colab.output.renderOutput(dataTable, element);\n",
              "        const docLink = document.createElement('div');\n",
              "        docLink.innerHTML = docLinkHtml;\n",
              "        element.appendChild(docLink);\n",
              "      }\n",
              "    </script>\n",
              "  </div>\n",
              "\n",
              "\n",
              "<div id=\"df-23cf2224-aec8-4d46-9aee-819189da91a6\">\n",
              "  <button class=\"colab-df-quickchart\" onclick=\"quickchart('df-23cf2224-aec8-4d46-9aee-819189da91a6')\"\n",
              "            title=\"Suggest charts\"\n",
              "            style=\"display:none;\">\n",
              "\n",
              "<svg xmlns=\"http://www.w3.org/2000/svg\" height=\"24px\"viewBox=\"0 0 24 24\"\n",
              "     width=\"24px\">\n",
              "    <g>\n",
              "        <path d=\"M19 3H5c-1.1 0-2 .9-2 2v14c0 1.1.9 2 2 2h14c1.1 0 2-.9 2-2V5c0-1.1-.9-2-2-2zM9 17H7v-7h2v7zm4 0h-2V7h2v10zm4 0h-2v-4h2v4z\"/>\n",
              "    </g>\n",
              "</svg>\n",
              "  </button>\n",
              "\n",
              "<style>\n",
              "  .colab-df-quickchart {\n",
              "      --bg-color: #E8F0FE;\n",
              "      --fill-color: #1967D2;\n",
              "      --hover-bg-color: #E2EBFA;\n",
              "      --hover-fill-color: #174EA6;\n",
              "      --disabled-fill-color: #AAA;\n",
              "      --disabled-bg-color: #DDD;\n",
              "  }\n",
              "\n",
              "  [theme=dark] .colab-df-quickchart {\n",
              "      --bg-color: #3B4455;\n",
              "      --fill-color: #D2E3FC;\n",
              "      --hover-bg-color: #434B5C;\n",
              "      --hover-fill-color: #FFFFFF;\n",
              "      --disabled-bg-color: #3B4455;\n",
              "      --disabled-fill-color: #666;\n",
              "  }\n",
              "\n",
              "  .colab-df-quickchart {\n",
              "    background-color: var(--bg-color);\n",
              "    border: none;\n",
              "    border-radius: 50%;\n",
              "    cursor: pointer;\n",
              "    display: none;\n",
              "    fill: var(--fill-color);\n",
              "    height: 32px;\n",
              "    padding: 0;\n",
              "    width: 32px;\n",
              "  }\n",
              "\n",
              "  .colab-df-quickchart:hover {\n",
              "    background-color: var(--hover-bg-color);\n",
              "    box-shadow: 0 1px 2px rgba(60, 64, 67, 0.3), 0 1px 3px 1px rgba(60, 64, 67, 0.15);\n",
              "    fill: var(--button-hover-fill-color);\n",
              "  }\n",
              "\n",
              "  .colab-df-quickchart-complete:disabled,\n",
              "  .colab-df-quickchart-complete:disabled:hover {\n",
              "    background-color: var(--disabled-bg-color);\n",
              "    fill: var(--disabled-fill-color);\n",
              "    box-shadow: none;\n",
              "  }\n",
              "\n",
              "  .colab-df-spinner {\n",
              "    border: 2px solid var(--fill-color);\n",
              "    border-color: transparent;\n",
              "    border-bottom-color: var(--fill-color);\n",
              "    animation:\n",
              "      spin 1s steps(1) infinite;\n",
              "  }\n",
              "\n",
              "  @keyframes spin {\n",
              "    0% {\n",
              "      border-color: transparent;\n",
              "      border-bottom-color: var(--fill-color);\n",
              "      border-left-color: var(--fill-color);\n",
              "    }\n",
              "    20% {\n",
              "      border-color: transparent;\n",
              "      border-left-color: var(--fill-color);\n",
              "      border-top-color: var(--fill-color);\n",
              "    }\n",
              "    30% {\n",
              "      border-color: transparent;\n",
              "      border-left-color: var(--fill-color);\n",
              "      border-top-color: var(--fill-color);\n",
              "      border-right-color: var(--fill-color);\n",
              "    }\n",
              "    40% {\n",
              "      border-color: transparent;\n",
              "      border-right-color: var(--fill-color);\n",
              "      border-top-color: var(--fill-color);\n",
              "    }\n",
              "    60% {\n",
              "      border-color: transparent;\n",
              "      border-right-color: var(--fill-color);\n",
              "    }\n",
              "    80% {\n",
              "      border-color: transparent;\n",
              "      border-right-color: var(--fill-color);\n",
              "      border-bottom-color: var(--fill-color);\n",
              "    }\n",
              "    90% {\n",
              "      border-color: transparent;\n",
              "      border-bottom-color: var(--fill-color);\n",
              "    }\n",
              "  }\n",
              "</style>\n",
              "\n",
              "  <script>\n",
              "    async function quickchart(key) {\n",
              "      const quickchartButtonEl =\n",
              "        document.querySelector('#' + key + ' button');\n",
              "      quickchartButtonEl.disabled = true;  // To prevent multiple clicks.\n",
              "      quickchartButtonEl.classList.add('colab-df-spinner');\n",
              "      try {\n",
              "        const charts = await google.colab.kernel.invokeFunction(\n",
              "            'suggestCharts', [key], {});\n",
              "      } catch (error) {\n",
              "        console.error('Error during call to suggestCharts:', error);\n",
              "      }\n",
              "      quickchartButtonEl.classList.remove('colab-df-spinner');\n",
              "      quickchartButtonEl.classList.add('colab-df-quickchart-complete');\n",
              "    }\n",
              "    (() => {\n",
              "      let quickchartButtonEl =\n",
              "        document.querySelector('#df-23cf2224-aec8-4d46-9aee-819189da91a6 button');\n",
              "      quickchartButtonEl.style.display =\n",
              "        google.colab.kernel.accessAllowed ? 'block' : 'none';\n",
              "    })();\n",
              "  </script>\n",
              "</div>\n",
              "\n",
              "  <div id=\"id_064efecf-f500-4594-a7e1-e3e7ffff2070\">\n",
              "    <style>\n",
              "      .colab-df-generate {\n",
              "        background-color: #E8F0FE;\n",
              "        border: none;\n",
              "        border-radius: 50%;\n",
              "        cursor: pointer;\n",
              "        display: none;\n",
              "        fill: #1967D2;\n",
              "        height: 32px;\n",
              "        padding: 0 0 0 0;\n",
              "        width: 32px;\n",
              "      }\n",
              "\n",
              "      .colab-df-generate:hover {\n",
              "        background-color: #E2EBFA;\n",
              "        box-shadow: 0px 1px 2px rgba(60, 64, 67, 0.3), 0px 1px 3px 1px rgba(60, 64, 67, 0.15);\n",
              "        fill: #174EA6;\n",
              "      }\n",
              "\n",
              "      [theme=dark] .colab-df-generate {\n",
              "        background-color: #3B4455;\n",
              "        fill: #D2E3FC;\n",
              "      }\n",
              "\n",
              "      [theme=dark] .colab-df-generate:hover {\n",
              "        background-color: #434B5C;\n",
              "        box-shadow: 0px 1px 3px 1px rgba(0, 0, 0, 0.15);\n",
              "        filter: drop-shadow(0px 1px 2px rgba(0, 0, 0, 0.3));\n",
              "        fill: #FFFFFF;\n",
              "      }\n",
              "    </style>\n",
              "    <button class=\"colab-df-generate\" onclick=\"generateWithVariable('regions')\"\n",
              "            title=\"Generate code using this dataframe.\"\n",
              "            style=\"display:none;\">\n",
              "\n",
              "  <svg xmlns=\"http://www.w3.org/2000/svg\" height=\"24px\"viewBox=\"0 0 24 24\"\n",
              "       width=\"24px\">\n",
              "    <path d=\"M7,19H8.4L18.45,9,17,7.55,7,17.6ZM5,21V16.75L18.45,3.32a2,2,0,0,1,2.83,0l1.4,1.43a1.91,1.91,0,0,1,.58,1.4,1.91,1.91,0,0,1-.58,1.4L9.25,21ZM18.45,9,17,7.55Zm-12,3A5.31,5.31,0,0,0,4.9,8.1,5.31,5.31,0,0,0,1,6.5,5.31,5.31,0,0,0,4.9,4.9,5.31,5.31,0,0,0,6.5,1,5.31,5.31,0,0,0,8.1,4.9,5.31,5.31,0,0,0,12,6.5,5.46,5.46,0,0,0,6.5,12Z\"/>\n",
              "  </svg>\n",
              "    </button>\n",
              "    <script>\n",
              "      (() => {\n",
              "      const buttonEl =\n",
              "        document.querySelector('#id_064efecf-f500-4594-a7e1-e3e7ffff2070 button.colab-df-generate');\n",
              "      buttonEl.style.display =\n",
              "        google.colab.kernel.accessAllowed ? 'block' : 'none';\n",
              "\n",
              "      buttonEl.onclick = () => {\n",
              "        google.colab.notebook.generateWithVariable('regions');\n",
              "      }\n",
              "      })();\n",
              "    </script>\n",
              "  </div>\n",
              "\n",
              "    </div>\n",
              "  </div>\n"
            ],
            "text/plain": [
              "      SIDO_NM\n",
              "1       인천광역시\n",
              "5         NaN\n",
              "6         수원시\n",
              "11        고양시\n",
              "12        양평군\n",
              "...       ...\n",
              "18792     신안군\n",
              "18795     화순군\n",
              "18859     무안군\n",
              "18928     영광군\n",
              "20728     순창군\n",
              "\n",
              "[161 rows x 1 columns]"
            ]
          },
          "execution_count": 24,
          "metadata": {},
          "output_type": "execute_result"
        },
        {
          "name": "stdout",
          "output_type": "stream",
          "text": [
            "No charts were generated by quickchart\n"
          ]
        }
      ],
      "source": [
        "regions = df_filter[['SIDO_NM']].dropna().drop_duplicates()\n",
        "\n",
        "regions"
      ]
    },
    {
      "cell_type": "code",
      "execution_count": 26,
      "metadata": {
        "colab": {
          "base_uri": "https://localhost:8080/",
          "height": 363
        },
        "id": "tLTfQmEQcxpy",
        "outputId": "cb0010d5-ed26-4fcd-b8b8-ec77cc46d552"
      },
      "outputs": [
        {
          "data": {
            "application/vnd.google.colaboratory.intrinsic+json": {
              "summary": "{\n  \"name\": \"results\",\n  \"rows\": 10,\n  \"fields\": [\n    {\n      \"column\": \"REGION\",\n      \"properties\": {\n        \"dtype\": \"string\",\n        \"num_unique_values\": 10,\n        \"samples\": [\n          \"\\ub300\\uad6c\\uad11\\uc5ed\\uc2dc\",\n          \"\\ubd80\\uc0b0\\uad11\\uc5ed\\uc2dc\",\n          \"\\uc11c\\uc6b8\\ud2b9\\ubcc4\\uc2dc\"\n        ],\n        \"semantic_type\": \"\",\n        \"description\": \"\"\n      }\n    },\n    {\n      \"column\": \"SCORE\",\n      \"properties\": {\n        \"dtype\": \"number\",\n        \"std\": 0.012274253605904032,\n        \"min\": 4.450517139117288,\n        \"max\": 4.488874520288768,\n        \"num_unique_values\": 10,\n        \"samples\": [\n          4.45235800284005,\n          4.478833134640276,\n          4.458765330799146\n        ],\n        \"semantic_type\": \"\",\n        \"description\": \"\"\n      }\n    }\n  ]\n}",
              "type": "dataframe"
            },
            "text/html": [
              "\n",
              "  <div id=\"df-ee0ba4f4-16ef-494f-bf8f-a3a66bfa47db\" class=\"colab-df-container\">\n",
              "    <div>\n",
              "<style scoped>\n",
              "    .dataframe tbody tr th:only-of-type {\n",
              "        vertical-align: middle;\n",
              "    }\n",
              "\n",
              "    .dataframe tbody tr th {\n",
              "        vertical-align: top;\n",
              "    }\n",
              "\n",
              "    .dataframe thead th {\n",
              "        text-align: right;\n",
              "    }\n",
              "</style>\n",
              "<table border=\"1\" class=\"dataframe\">\n",
              "  <thead>\n",
              "    <tr style=\"text-align: right;\">\n",
              "      <th></th>\n",
              "      <th>REGION</th>\n",
              "      <th>SCORE</th>\n",
              "    </tr>\n",
              "  </thead>\n",
              "  <tbody>\n",
              "    <tr>\n",
              "      <th>0</th>\n",
              "      <td>제주특별자치도</td>\n",
              "      <td>4.488875</td>\n",
              "    </tr>\n",
              "    <tr>\n",
              "      <th>0</th>\n",
              "      <td>부산광역시</td>\n",
              "      <td>4.478833</td>\n",
              "    </tr>\n",
              "    <tr>\n",
              "      <th>0</th>\n",
              "      <td>대전광역시</td>\n",
              "      <td>4.470065</td>\n",
              "    </tr>\n",
              "    <tr>\n",
              "      <th>0</th>\n",
              "      <td>전주시</td>\n",
              "      <td>4.464693</td>\n",
              "    </tr>\n",
              "    <tr>\n",
              "      <th>0</th>\n",
              "      <td>경주시</td>\n",
              "      <td>4.461318</td>\n",
              "    </tr>\n",
              "    <tr>\n",
              "      <th>0</th>\n",
              "      <td>서울특별시</td>\n",
              "      <td>4.458765</td>\n",
              "    </tr>\n",
              "    <tr>\n",
              "      <th>0</th>\n",
              "      <td>강릉시</td>\n",
              "      <td>4.456978</td>\n",
              "    </tr>\n",
              "    <tr>\n",
              "      <th>0</th>\n",
              "      <td>여수시</td>\n",
              "      <td>4.455096</td>\n",
              "    </tr>\n",
              "    <tr>\n",
              "      <th>0</th>\n",
              "      <td>대구광역시</td>\n",
              "      <td>4.452358</td>\n",
              "    </tr>\n",
              "    <tr>\n",
              "      <th>0</th>\n",
              "      <td>속초시</td>\n",
              "      <td>4.450517</td>\n",
              "    </tr>\n",
              "  </tbody>\n",
              "</table>\n",
              "</div>\n",
              "    <div class=\"colab-df-buttons\">\n",
              "\n",
              "  <div class=\"colab-df-container\">\n",
              "    <button class=\"colab-df-convert\" onclick=\"convertToInteractive('df-ee0ba4f4-16ef-494f-bf8f-a3a66bfa47db')\"\n",
              "            title=\"Convert this dataframe to an interactive table.\"\n",
              "            style=\"display:none;\">\n",
              "\n",
              "  <svg xmlns=\"http://www.w3.org/2000/svg\" height=\"24px\" viewBox=\"0 -960 960 960\">\n",
              "    <path d=\"M120-120v-720h720v720H120Zm60-500h600v-160H180v160Zm220 220h160v-160H400v160Zm0 220h160v-160H400v160ZM180-400h160v-160H180v160Zm440 0h160v-160H620v160ZM180-180h160v-160H180v160Zm440 0h160v-160H620v160Z\"/>\n",
              "  </svg>\n",
              "    </button>\n",
              "\n",
              "  <style>\n",
              "    .colab-df-container {\n",
              "      display:flex;\n",
              "      gap: 12px;\n",
              "    }\n",
              "\n",
              "    .colab-df-convert {\n",
              "      background-color: #E8F0FE;\n",
              "      border: none;\n",
              "      border-radius: 50%;\n",
              "      cursor: pointer;\n",
              "      display: none;\n",
              "      fill: #1967D2;\n",
              "      height: 32px;\n",
              "      padding: 0 0 0 0;\n",
              "      width: 32px;\n",
              "    }\n",
              "\n",
              "    .colab-df-convert:hover {\n",
              "      background-color: #E2EBFA;\n",
              "      box-shadow: 0px 1px 2px rgba(60, 64, 67, 0.3), 0px 1px 3px 1px rgba(60, 64, 67, 0.15);\n",
              "      fill: #174EA6;\n",
              "    }\n",
              "\n",
              "    .colab-df-buttons div {\n",
              "      margin-bottom: 4px;\n",
              "    }\n",
              "\n",
              "    [theme=dark] .colab-df-convert {\n",
              "      background-color: #3B4455;\n",
              "      fill: #D2E3FC;\n",
              "    }\n",
              "\n",
              "    [theme=dark] .colab-df-convert:hover {\n",
              "      background-color: #434B5C;\n",
              "      box-shadow: 0px 1px 3px 1px rgba(0, 0, 0, 0.15);\n",
              "      filter: drop-shadow(0px 1px 2px rgba(0, 0, 0, 0.3));\n",
              "      fill: #FFFFFF;\n",
              "    }\n",
              "  </style>\n",
              "\n",
              "    <script>\n",
              "      const buttonEl =\n",
              "        document.querySelector('#df-ee0ba4f4-16ef-494f-bf8f-a3a66bfa47db button.colab-df-convert');\n",
              "      buttonEl.style.display =\n",
              "        google.colab.kernel.accessAllowed ? 'block' : 'none';\n",
              "\n",
              "      async function convertToInteractive(key) {\n",
              "        const element = document.querySelector('#df-ee0ba4f4-16ef-494f-bf8f-a3a66bfa47db');\n",
              "        const dataTable =\n",
              "          await google.colab.kernel.invokeFunction('convertToInteractive',\n",
              "                                                    [key], {});\n",
              "        if (!dataTable) return;\n",
              "\n",
              "        const docLinkHtml = 'Like what you see? Visit the ' +\n",
              "          '<a target=\"_blank\" href=https://colab.research.google.com/notebooks/data_table.ipynb>data table notebook</a>'\n",
              "          + ' to learn more about interactive tables.';\n",
              "        element.innerHTML = '';\n",
              "        dataTable['output_type'] = 'display_data';\n",
              "        await google.colab.output.renderOutput(dataTable, element);\n",
              "        const docLink = document.createElement('div');\n",
              "        docLink.innerHTML = docLinkHtml;\n",
              "        element.appendChild(docLink);\n",
              "      }\n",
              "    </script>\n",
              "  </div>\n",
              "\n",
              "\n",
              "<div id=\"df-5d8c163b-7de7-4e7a-abc0-fdf75261c3e2\">\n",
              "  <button class=\"colab-df-quickchart\" onclick=\"quickchart('df-5d8c163b-7de7-4e7a-abc0-fdf75261c3e2')\"\n",
              "            title=\"Suggest charts\"\n",
              "            style=\"display:none;\">\n",
              "\n",
              "<svg xmlns=\"http://www.w3.org/2000/svg\" height=\"24px\"viewBox=\"0 0 24 24\"\n",
              "     width=\"24px\">\n",
              "    <g>\n",
              "        <path d=\"M19 3H5c-1.1 0-2 .9-2 2v14c0 1.1.9 2 2 2h14c1.1 0 2-.9 2-2V5c0-1.1-.9-2-2-2zM9 17H7v-7h2v7zm4 0h-2V7h2v10zm4 0h-2v-4h2v4z\"/>\n",
              "    </g>\n",
              "</svg>\n",
              "  </button>\n",
              "\n",
              "<style>\n",
              "  .colab-df-quickchart {\n",
              "      --bg-color: #E8F0FE;\n",
              "      --fill-color: #1967D2;\n",
              "      --hover-bg-color: #E2EBFA;\n",
              "      --hover-fill-color: #174EA6;\n",
              "      --disabled-fill-color: #AAA;\n",
              "      --disabled-bg-color: #DDD;\n",
              "  }\n",
              "\n",
              "  [theme=dark] .colab-df-quickchart {\n",
              "      --bg-color: #3B4455;\n",
              "      --fill-color: #D2E3FC;\n",
              "      --hover-bg-color: #434B5C;\n",
              "      --hover-fill-color: #FFFFFF;\n",
              "      --disabled-bg-color: #3B4455;\n",
              "      --disabled-fill-color: #666;\n",
              "  }\n",
              "\n",
              "  .colab-df-quickchart {\n",
              "    background-color: var(--bg-color);\n",
              "    border: none;\n",
              "    border-radius: 50%;\n",
              "    cursor: pointer;\n",
              "    display: none;\n",
              "    fill: var(--fill-color);\n",
              "    height: 32px;\n",
              "    padding: 0;\n",
              "    width: 32px;\n",
              "  }\n",
              "\n",
              "  .colab-df-quickchart:hover {\n",
              "    background-color: var(--hover-bg-color);\n",
              "    box-shadow: 0 1px 2px rgba(60, 64, 67, 0.3), 0 1px 3px 1px rgba(60, 64, 67, 0.15);\n",
              "    fill: var(--button-hover-fill-color);\n",
              "  }\n",
              "\n",
              "  .colab-df-quickchart-complete:disabled,\n",
              "  .colab-df-quickchart-complete:disabled:hover {\n",
              "    background-color: var(--disabled-bg-color);\n",
              "    fill: var(--disabled-fill-color);\n",
              "    box-shadow: none;\n",
              "  }\n",
              "\n",
              "  .colab-df-spinner {\n",
              "    border: 2px solid var(--fill-color);\n",
              "    border-color: transparent;\n",
              "    border-bottom-color: var(--fill-color);\n",
              "    animation:\n",
              "      spin 1s steps(1) infinite;\n",
              "  }\n",
              "\n",
              "  @keyframes spin {\n",
              "    0% {\n",
              "      border-color: transparent;\n",
              "      border-bottom-color: var(--fill-color);\n",
              "      border-left-color: var(--fill-color);\n",
              "    }\n",
              "    20% {\n",
              "      border-color: transparent;\n",
              "      border-left-color: var(--fill-color);\n",
              "      border-top-color: var(--fill-color);\n",
              "    }\n",
              "    30% {\n",
              "      border-color: transparent;\n",
              "      border-left-color: var(--fill-color);\n",
              "      border-top-color: var(--fill-color);\n",
              "      border-right-color: var(--fill-color);\n",
              "    }\n",
              "    40% {\n",
              "      border-color: transparent;\n",
              "      border-right-color: var(--fill-color);\n",
              "      border-top-color: var(--fill-color);\n",
              "    }\n",
              "    60% {\n",
              "      border-color: transparent;\n",
              "      border-right-color: var(--fill-color);\n",
              "    }\n",
              "    80% {\n",
              "      border-color: transparent;\n",
              "      border-right-color: var(--fill-color);\n",
              "      border-bottom-color: var(--fill-color);\n",
              "    }\n",
              "    90% {\n",
              "      border-color: transparent;\n",
              "      border-bottom-color: var(--fill-color);\n",
              "    }\n",
              "  }\n",
              "</style>\n",
              "\n",
              "  <script>\n",
              "    async function quickchart(key) {\n",
              "      const quickchartButtonEl =\n",
              "        document.querySelector('#' + key + ' button');\n",
              "      quickchartButtonEl.disabled = true;  // To prevent multiple clicks.\n",
              "      quickchartButtonEl.classList.add('colab-df-spinner');\n",
              "      try {\n",
              "        const charts = await google.colab.kernel.invokeFunction(\n",
              "            'suggestCharts', [key], {});\n",
              "      } catch (error) {\n",
              "        console.error('Error during call to suggestCharts:', error);\n",
              "      }\n",
              "      quickchartButtonEl.classList.remove('colab-df-spinner');\n",
              "      quickchartButtonEl.classList.add('colab-df-quickchart-complete');\n",
              "    }\n",
              "    (() => {\n",
              "      let quickchartButtonEl =\n",
              "        document.querySelector('#df-5d8c163b-7de7-4e7a-abc0-fdf75261c3e2 button');\n",
              "      quickchartButtonEl.style.display =\n",
              "        google.colab.kernel.accessAllowed ? 'block' : 'none';\n",
              "    })();\n",
              "  </script>\n",
              "</div>\n",
              "\n",
              "    </div>\n",
              "  </div>\n"
            ],
            "text/plain": [
              "    REGION     SCORE\n",
              "0  제주특별자치도  4.488875\n",
              "0    부산광역시  4.478833\n",
              "0    대전광역시  4.470065\n",
              "0      전주시  4.464693\n",
              "0      경주시  4.461318\n",
              "0    서울특별시  4.458765\n",
              "0      강릉시  4.456978\n",
              "0      여수시  4.455096\n",
              "0    대구광역시  4.452358\n",
              "0      속초시  4.450517"
            ]
          },
          "execution_count": 26,
          "metadata": {},
          "output_type": "execute_result"
        }
      ],
      "source": [
        "traveler = {\n",
        "'GENDER': '여',\n",
        " 'AGE_GRP': 30.0,\n",
        " 'TRAVEL_STYL_1': 1,\n",
        " 'TRAVEL_STYL_2': 1,\n",
        " 'TRAVEL_STYL_3': 6,\n",
        " 'TRAVEL_STYL_4': 5,\n",
        " 'TRAVEL_STYL_5': 3,\n",
        " 'TRAVEL_STYL_6': 4,\n",
        " 'TRAVEL_STYL_7': 4,\n",
        " 'TRAVEL_STYL_8': 5,\n",
        " 'TRAVEL_MOTIVE_1': 3,\n",
        " 'TRAVEL_COMPANIONS_NUM': 6.0,\n",
        " 'TRAVEL_MISSION_INT': 10,\n",
        "}\n",
        "\n",
        "results = pd.DataFrame([], columns=['REGION', 'SCORE'])\n",
        "\n",
        "for region in regions['SIDO_NM']:\n",
        "    if region == 'NaN':\n",
        "        continue\n",
        "\n",
        "    input = list(traveler.values())\n",
        "    input.append(region)\n",
        "\n",
        "    score = model.predict(input)\n",
        "\n",
        "    results = pd.concat([results, pd.DataFrame([[region, score]], columns=['REGION', 'SCORE'])])\n",
        "\n",
        "results.sort_values('SCORE', ascending=False)[:10]"
      ]
    }
  ],
  "metadata": {
    "accelerator": "GPU",
    "colab": {
      "gpuType": "T4",
      "provenance": [],
      "toc_visible": true
    },
    "kernelspec": {
      "display_name": "Python 3",
      "name": "python3"
    },
    "language_info": {
      "name": "python"
    },
    "widgets": {
      "application/vnd.jupyter.widget-state+json": {
        "b3c06172028b45779e6e2d60754810be": {
          "model_module": "catboost-widget",
          "model_module_version": "^1.0.0",
          "model_name": "CatboostWidgetModel",
          "state": {
            "_dom_classes": [],
            "_model_module": "catboost-widget",
            "_model_module_version": "^1.0.0",
            "_model_name": "CatboostWidgetModel",
            "_view_count": null,
            "_view_module": "catboost-widget",
            "_view_module_version": "^1.0.0",
            "_view_name": "CatboostWidgetView",
            "data": {
              "catboost_info": {
                "content": {
                  "data": {
                    "iterations": [
                      {
                        "iteration": 0,
                        "learn": [
                          0.5785485108,
                          0.7583258952
                        ],
                        "passed_time": 0.337356859,
                        "remaining_time": 674.3763611,
                        "test": [
                          0.5472789076,
                          0.7056069169
                        ]
                      },
                      {
                        "iteration": 5,
                        "learn": [
                          0.5780145799,
                          0.757705378
                        ],
                        "passed_time": 1.59676858,
                        "remaining_time": 530.6594248,
                        "test": [
                          0.5467069631,
                          0.705018175
                        ]
                      },
                      {
                        "iteration": 10,
                        "learn": [
                          0.5775010211,
                          0.757079096
                        ],
                        "passed_time": 2.312586935,
                        "remaining_time": 418.1577649,
                        "test": [
                          0.5462507468,
                          0.7045284351
                        ]
                      },
                      {
                        "iteration": 15,
                        "learn": [
                          0.5769646375,
                          0.7564707237
                        ],
                        "passed_time": 3.200301652,
                        "remaining_time": 396.8374048,
                        "test": [
                          0.5458700255,
                          0.7041612129
                        ]
                      },
                      {
                        "iteration": 20,
                        "learn": [
                          0.576442119,
                          0.7559209622
                        ],
                        "passed_time": 4.094942441,
                        "remaining_time": 385.8995757,
                        "test": [
                          0.5454020893,
                          0.7037555909
                        ]
                      },
                      {
                        "iteration": 25,
                        "learn": [
                          0.5760277182,
                          0.7555049749
                        ],
                        "passed_time": 4.784156406,
                        "remaining_time": 363.2278748,
                        "test": [
                          0.5449965581,
                          0.7034019223
                        ]
                      },
                      {
                        "iteration": 30,
                        "learn": [
                          0.5754764183,
                          0.7549530184
                        ],
                        "passed_time": 5.690879864,
                        "remaining_time": 361.4626597,
                        "test": [
                          0.5444318687,
                          0.7028965842
                        ]
                      },
                      {
                        "iteration": 35,
                        "learn": [
                          0.5749700174,
                          0.7544233163
                        ],
                        "passed_time": 6.207242675,
                        "remaining_time": 338.6395726,
                        "test": [
                          0.5439176615,
                          0.7024549141
                        ]
                      },
                      {
                        "iteration": 40,
                        "learn": [
                          0.5743980451,
                          0.7538230264
                        ],
                        "passed_time": 6.500266314,
                        "remaining_time": 310.5858953,
                        "test": [
                          0.5433538854,
                          0.7019864419
                        ]
                      },
                      {
                        "iteration": 45,
                        "learn": [
                          0.573898902,
                          0.7533133607
                        ],
                        "passed_time": 6.929395863,
                        "remaining_time": 294.3486851,
                        "test": [
                          0.5429216672,
                          0.7016217941
                        ]
                      },
                      {
                        "iteration": 50,
                        "learn": [
                          0.5735585817,
                          0.7529654701
                        ],
                        "passed_time": 7.836395364,
                        "remaining_time": 299.4732268,
                        "test": [
                          0.5426360754,
                          0.7013578774
                        ]
                      },
                      {
                        "iteration": 55,
                        "learn": [
                          0.5731742636,
                          0.752594806
                        ],
                        "passed_time": 8.502170394,
                        "remaining_time": 295.1467722,
                        "test": [
                          0.5422765109,
                          0.7010866246
                        ]
                      },
                      {
                        "iteration": 60,
                        "learn": [
                          0.5727944504,
                          0.7522288168
                        ],
                        "passed_time": 10.00031272,
                        "remaining_time": 317.8787928,
                        "test": [
                          0.5419326237,
                          0.700805421
                        ]
                      },
                      {
                        "iteration": 65,
                        "learn": [
                          0.5724075294,
                          0.7518498671
                        ],
                        "passed_time": 11.68889824,
                        "remaining_time": 342.5201394,
                        "test": [
                          0.5416117198,
                          0.7005617648
                        ]
                      },
                      {
                        "iteration": 70,
                        "learn": [
                          0.5719820164,
                          0.7514515761
                        ],
                        "passed_time": 13.38191371,
                        "remaining_time": 363.573402,
                        "test": [
                          0.5412150167,
                          0.7002654979
                        ]
                      },
                      {
                        "iteration": 75,
                        "learn": [
                          0.5715485448,
                          0.7510166845
                        ],
                        "passed_time": 13.77371096,
                        "remaining_time": 348.692367,
                        "test": [
                          0.5408186179,
                          0.6999581243
                        ]
                      },
                      {
                        "iteration": 80,
                        "learn": [
                          0.5710760307,
                          0.7505051797
                        ],
                        "passed_time": 14.03091351,
                        "remaining_time": 332.4113953,
                        "test": [
                          0.5404376936,
                          0.6996644299
                        ]
                      },
                      {
                        "iteration": 85,
                        "learn": [
                          0.5707475233,
                          0.7502117338
                        ],
                        "passed_time": 14.27929052,
                        "remaining_time": 317.7972331,
                        "test": [
                          0.5401416503,
                          0.6994395989
                        ]
                      },
                      {
                        "iteration": 90,
                        "learn": [
                          0.5703540452,
                          0.7498209505
                        ],
                        "passed_time": 14.5422111,
                        "remaining_time": 305.0668241,
                        "test": [
                          0.5397774688,
                          0.6991698877
                        ]
                      },
                      {
                        "iteration": 95,
                        "learn": [
                          0.5699648217,
                          0.7494402824
                        ],
                        "passed_time": 14.82861597,
                        "remaining_time": 294.1008833,
                        "test": [
                          0.5394119681,
                          0.6989071503
                        ]
                      },
                      {
                        "iteration": 100,
                        "learn": [
                          0.5697181534,
                          0.7492371825
                        ],
                        "passed_time": 15.08122645,
                        "remaining_time": 283.556921,
                        "test": [
                          0.5391949204,
                          0.6987596257
                        ]
                      },
                      {
                        "iteration": 105,
                        "learn": [
                          0.5693889452,
                          0.7489201152
                        ],
                        "passed_time": 15.36461395,
                        "remaining_time": 274.5337625,
                        "test": [
                          0.5388903027,
                          0.6985676228
                        ]
                      },
                      {
                        "iteration": 110,
                        "learn": [
                          0.569122205,
                          0.7486963833
                        ],
                        "passed_time": 15.58962515,
                        "remaining_time": 265.3045217,
                        "test": [
                          0.5386301803,
                          0.6983858832
                        ]
                      },
                      {
                        "iteration": 115,
                        "learn": [
                          0.5688634234,
                          0.748468572
                        ],
                        "passed_time": 15.82692312,
                        "remaining_time": 257.0510617,
                        "test": [
                          0.5383811183,
                          0.6981914158
                        ]
                      },
                      {
                        "iteration": 120,
                        "learn": [
                          0.5684751009,
                          0.7480734656
                        ],
                        "passed_time": 16.08771208,
                        "remaining_time": 249.8248842,
                        "test": [
                          0.5380366223,
                          0.6979440483
                        ]
                      },
                      {
                        "iteration": 125,
                        "learn": [
                          0.568068058,
                          0.7477172796
                        ],
                        "passed_time": 16.34975354,
                        "remaining_time": 243.170144,
                        "test": [
                          0.5375446881,
                          0.6975602681
                        ]
                      },
                      {
                        "iteration": 130,
                        "learn": [
                          0.567679185,
                          0.7473436442
                        ],
                        "passed_time": 16.6157208,
                        "remaining_time": 237.059406,
                        "test": [
                          0.5372112017,
                          0.6973080928
                        ]
                      },
                      {
                        "iteration": 135,
                        "learn": [
                          0.5673900704,
                          0.7470473484
                        ],
                        "passed_time": 16.87811532,
                        "remaining_time": 231.3294629,
                        "test": [
                          0.5370153108,
                          0.6971640505
                        ]
                      },
                      {
                        "iteration": 140,
                        "learn": [
                          0.5670924966,
                          0.7467923247
                        ],
                        "passed_time": 17.1224277,
                        "remaining_time": 225.7488872,
                        "test": [
                          0.5367419971,
                          0.696960252
                        ]
                      },
                      {
                        "iteration": 145,
                        "learn": [
                          0.5667852624,
                          0.7464622496
                        ],
                        "passed_time": 17.4103113,
                        "remaining_time": 221.0871038,
                        "test": [
                          0.5364979073,
                          0.6967860299
                        ]
                      },
                      {
                        "iteration": 150,
                        "learn": [
                          0.566534039,
                          0.7462410004
                        ],
                        "passed_time": 17.64196545,
                        "remaining_time": 216.0264511,
                        "test": [
                          0.5362946597,
                          0.6966344146
                        ]
                      },
                      {
                        "iteration": 155,
                        "learn": [
                          0.5661520234,
                          0.7458798794
                        ],
                        "passed_time": 17.89875071,
                        "remaining_time": 211.5724123,
                        "test": [
                          0.5359760896,
                          0.6964047442
                        ]
                      },
                      {
                        "iteration": 160,
                        "learn": [
                          0.5658388326,
                          0.7455663859
                        ],
                        "passed_time": 18.15511923,
                        "remaining_time": 207.3743122,
                        "test": [
                          0.5357504676,
                          0.6962468519
                        ]
                      },
                      {
                        "iteration": 165,
                        "learn": [
                          0.565445805,
                          0.7452104457
                        ],
                        "passed_time": 18.4378894,
                        "remaining_time": 203.7053564,
                        "test": [
                          0.5354216489,
                          0.6959947475
                        ]
                      },
                      {
                        "iteration": 170,
                        "learn": [
                          0.5652341247,
                          0.7450084771
                        ],
                        "passed_time": 18.67040632,
                        "remaining_time": 199.6969191,
                        "test": [
                          0.5352061233,
                          0.6958464232
                        ]
                      },
                      {
                        "iteration": 175,
                        "learn": [
                          0.5649526685,
                          0.7447336339
                        ],
                        "passed_time": 18.91053297,
                        "remaining_time": 195.9818872,
                        "test": [
                          0.535007239,
                          0.6957164812
                        ]
                      },
                      {
                        "iteration": 180,
                        "learn": [
                          0.5646803722,
                          0.7445096524
                        ],
                        "passed_time": 19.17826856,
                        "remaining_time": 192.7363012,
                        "test": [
                          0.5346763909,
                          0.6954662637
                        ]
                      },
                      {
                        "iteration": 185,
                        "learn": [
                          0.5643110704,
                          0.7441865016
                        ],
                        "passed_time": 19.46710992,
                        "remaining_time": 189.8566526,
                        "test": [
                          0.5342778105,
                          0.6951688835
                        ]
                      },
                      {
                        "iteration": 190,
                        "learn": [
                          0.5639440211,
                          0.7438661038
                        ],
                        "passed_time": 19.71721307,
                        "remaining_time": 186.7457511,
                        "test": [
                          0.5339241821,
                          0.6948895564
                        ]
                      },
                      {
                        "iteration": 195,
                        "learn": [
                          0.5636713244,
                          0.7435941031
                        ],
                        "passed_time": 19.96323835,
                        "remaining_time": 183.7432754,
                        "test": [
                          0.5336977482,
                          0.6947425662
                        ]
                      },
                      {
                        "iteration": 200,
                        "learn": [
                          0.5633774547,
                          0.7433318007
                        ],
                        "passed_time": 20.21807176,
                        "remaining_time": 180.9567717,
                        "test": [
                          0.5334587319,
                          0.6945988684
                        ]
                      },
                      {
                        "iteration": 205,
                        "learn": [
                          0.5630754761,
                          0.7430716959
                        ],
                        "passed_time": 20.5291999,
                        "remaining_time": 178.7834205,
                        "test": [
                          0.5331199183,
                          0.6943539475
                        ]
                      },
                      {
                        "iteration": 210,
                        "learn": [
                          0.5627768012,
                          0.7427949905
                        ],
                        "passed_time": 20.7904369,
                        "remaining_time": 176.2753157,
                        "test": [
                          0.532833464,
                          0.694153746
                        ]
                      },
                      {
                        "iteration": 215,
                        "learn": [
                          0.5624493949,
                          0.7424938796
                        ],
                        "passed_time": 21.05747235,
                        "remaining_time": 173.9191235,
                        "test": [
                          0.5324780598,
                          0.6938967866
                        ]
                      },
                      {
                        "iteration": 220,
                        "learn": [
                          0.5622324089,
                          0.7422816639
                        ],
                        "passed_time": 21.30222504,
                        "remaining_time": 171.478092,
                        "test": [
                          0.5323331077,
                          0.6938116364
                        ]
                      },
                      {
                        "iteration": 225,
                        "learn": [
                          0.5619782323,
                          0.7420604499
                        ],
                        "passed_time": 21.57664561,
                        "remaining_time": 169.3671208,
                        "test": [
                          0.5320852126,
                          0.6936277728
                        ]
                      },
                      {
                        "iteration": 230,
                        "learn": [
                          0.561729762,
                          0.7418428472
                        ],
                        "passed_time": 21.81946643,
                        "remaining_time": 167.0936628,
                        "test": [
                          0.5318937864,
                          0.6934802957
                        ]
                      },
                      {
                        "iteration": 235,
                        "learn": [
                          0.5614763863,
                          0.7416030764
                        ],
                        "passed_time": 22.08000132,
                        "remaining_time": 165.038654,
                        "test": [
                          0.5316576621,
                          0.693306004
                        ]
                      },
                      {
                        "iteration": 240,
                        "learn": [
                          0.56123162,
                          0.7413928674
                        ],
                        "passed_time": 22.3344605,
                        "remaining_time": 163.0137594,
                        "test": [
                          0.5314445718,
                          0.6931599956
                        ]
                      },
                      {
                        "iteration": 245,
                        "learn": [
                          0.5609744902,
                          0.7411511951
                        ],
                        "passed_time": 22.61902812,
                        "remaining_time": 161.2755094,
                        "test": [
                          0.5312250887,
                          0.6930135902
                        ]
                      },
                      {
                        "iteration": 250,
                        "learn": [
                          0.5607642115,
                          0.7409789242
                        ],
                        "passed_time": 22.86572039,
                        "remaining_time": 159.3312548,
                        "test": [
                          0.5310304155,
                          0.6928934416
                        ]
                      },
                      {
                        "iteration": 255,
                        "learn": [
                          0.5605476759,
                          0.7407931335
                        ],
                        "passed_time": 23.09652065,
                        "remaining_time": 157.3450469,
                        "test": [
                          0.5308117442,
                          0.6927423293
                        ]
                      },
                      {
                        "iteration": 260,
                        "learn": [
                          0.5603080652,
                          0.7405558278
                        ],
                        "passed_time": 23.36631406,
                        "remaining_time": 155.685901,
                        "test": [
                          0.5306044378,
                          0.6926234887
                        ]
                      },
                      {
                        "iteration": 265,
                        "learn": [
                          0.5600939823,
                          0.7403661787
                        ],
                        "passed_time": 23.95735646,
                        "remaining_time": 156.1731432,
                        "test": [
                          0.5303908401,
                          0.6924734532
                        ]
                      },
                      {
                        "iteration": 270,
                        "learn": [
                          0.5599079799,
                          0.7401525075
                        ],
                        "passed_time": 24.79046969,
                        "remaining_time": 158.1650262,
                        "test": [
                          0.5302865273,
                          0.6924218709
                        ]
                      },
                      {
                        "iteration": 275,
                        "learn": [
                          0.5596959992,
                          0.7399314011
                        ],
                        "passed_time": 25.46186254,
                        "remaining_time": 159.0443878,
                        "test": [
                          0.530134117,
                          0.6923107436
                        ]
                      },
                      {
                        "iteration": 280,
                        "learn": [
                          0.5594510828,
                          0.7396853603
                        ],
                        "passed_time": 26.32922688,
                        "remaining_time": 161.0674057,
                        "test": [
                          0.5299231069,
                          0.6921602371
                        ]
                      },
                      {
                        "iteration": 285,
                        "learn": [
                          0.5592134242,
                          0.7394551791
                        ],
                        "passed_time": 26.79450002,
                        "remaining_time": 160.579626,
                        "test": [
                          0.529705704,
                          0.6919980404
                        ]
                      },
                      {
                        "iteration": 290,
                        "learn": [
                          0.5589635023,
                          0.7392164621
                        ],
                        "passed_time": 27.32918896,
                        "remaining_time": 160.5002884,
                        "test": [
                          0.5295096609,
                          0.6918556792
                        ]
                      },
                      {
                        "iteration": 295,
                        "learn": [
                          0.5587889123,
                          0.7390554911
                        ],
                        "passed_time": 27.61918294,
                        "remaining_time": 158.996918,
                        "test": [
                          0.5293693764,
                          0.6917669407
                        ]
                      },
                      {
                        "iteration": 300,
                        "learn": [
                          0.5585675215,
                          0.7388769734
                        ],
                        "passed_time": 27.88558801,
                        "remaining_time": 157.4007111,
                        "test": [
                          0.5291003753,
                          0.6915763711
                        ]
                      },
                      {
                        "iteration": 305,
                        "learn": [
                          0.5583386725,
                          0.7386642267
                        ],
                        "passed_time": 28.14419349,
                        "remaining_time": 155.8047836,
                        "test": [
                          0.5289394921,
                          0.6914722619
                        ]
                      },
                      {
                        "iteration": 310,
                        "learn": [
                          0.5581421086,
                          0.7384815816
                        ],
                        "passed_time": 28.41255653,
                        "remaining_time": 154.3048488,
                        "test": [
                          0.5287664323,
                          0.6913660821
                        ]
                      },
                      {
                        "iteration": 315,
                        "learn": [
                          0.5578761192,
                          0.7382406852
                        ],
                        "passed_time": 28.67984694,
                        "remaining_time": 152.8381717,
                        "test": [
                          0.5284877406,
                          0.6911842106
                        ]
                      },
                      {
                        "iteration": 320,
                        "learn": [
                          0.5575328958,
                          0.7379556568
                        ],
                        "passed_time": 28.94976185,
                        "remaining_time": 151.4225861,
                        "test": [
                          0.5280715549,
                          0.6908921839
                        ]
                      },
                      {
                        "iteration": 325,
                        "learn": [
                          0.5572859271,
                          0.7376640721
                        ],
                        "passed_time": 29.22488859,
                        "remaining_time": 150.0689064,
                        "test": [
                          0.5279094541,
                          0.6907816918
                        ]
                      },
                      {
                        "iteration": 330,
                        "learn": [
                          0.5571401184,
                          0.7375374092
                        ],
                        "passed_time": 29.49542948,
                        "remaining_time": 148.7246882,
                        "test": [
                          0.5277982412,
                          0.6907111424
                        ]
                      },
                      {
                        "iteration": 335,
                        "learn": [
                          0.5568888951,
                          0.7373052336
                        ],
                        "passed_time": 29.78272749,
                        "remaining_time": 147.4954123,
                        "test": [
                          0.5276306609,
                          0.6906020907
                        ]
                      },
                      {
                        "iteration": 340,
                        "learn": [
                          0.5567762225,
                          0.7371930056
                        ],
                        "passed_time": 30.04413441,
                        "remaining_time": 146.1677976,
                        "test": [
                          0.527588398,
                          0.6905781404
                        ]
                      },
                      {
                        "iteration": 345,
                        "learn": [
                          0.5565012233,
                          0.7369008813
                        ],
                        "passed_time": 30.31277964,
                        "remaining_time": 144.9055998,
                        "test": [
                          0.5273760687,
                          0.6904527182
                        ]
                      },
                      {
                        "iteration": 350,
                        "learn": [
                          0.5563623723,
                          0.7367742571
                        ],
                        "passed_time": 30.56729022,
                        "remaining_time": 143.6053036,
                        "test": [
                          0.5272849472,
                          0.6903926808
                        ]
                      },
                      {
                        "iteration": 355,
                        "learn": [
                          0.5561995451,
                          0.7365981425
                        ],
                        "passed_time": 30.83654765,
                        "remaining_time": 142.4024841,
                        "test": [
                          0.5271443076,
                          0.6902968454
                        ]
                      },
                      {
                        "iteration": 360,
                        "learn": [
                          0.5560535863,
                          0.736465927
                        ],
                        "passed_time": 31.0883092,
                        "remaining_time": 141.1460908,
                        "test": [
                          0.5270643987,
                          0.6902532227
                        ]
                      },
                      {
                        "iteration": 365,
                        "learn": [
                          0.5558267895,
                          0.7362692079
                        ],
                        "passed_time": 31.34755212,
                        "remaining_time": 139.9505469,
                        "test": [
                          0.5268526275,
                          0.6900990693
                        ]
                      },
                      {
                        "iteration": 370,
                        "learn": [
                          0.555563403,
                          0.7360291856
                        ],
                        "passed_time": 31.6005915,
                        "remaining_time": 138.7530015,
                        "test": [
                          0.5265909831,
                          0.6899210187
                        ]
                      },
                      {
                        "iteration": 375,
                        "learn": [
                          0.5552825975,
                          0.7357967721
                        ],
                        "passed_time": 31.87901518,
                        "remaining_time": 137.6902145,
                        "test": [
                          0.5262800741,
                          0.6896939678
                        ]
                      },
                      {
                        "iteration": 380,
                        "learn": [
                          0.5550605559,
                          0.7355976285
                        ],
                        "passed_time": 32.13728574,
                        "remaining_time": 136.5623769,
                        "test": [
                          0.5261016364,
                          0.6895907148
                        ]
                      },
                      {
                        "iteration": 385,
                        "learn": [
                          0.5548654937,
                          0.7354346743
                        ],
                        "passed_time": 32.40610914,
                        "remaining_time": 135.5011921,
                        "test": [
                          0.5259411083,
                          0.6894821113
                        ]
                      },
                      {
                        "iteration": 390,
                        "learn": [
                          0.5547072215,
                          0.7353028963
                        ],
                        "passed_time": 32.65834517,
                        "remaining_time": 134.3920138,
                        "test": [
                          0.5257367446,
                          0.6893448242
                        ]
                      },
                      {
                        "iteration": 395,
                        "learn": [
                          0.554523021,
                          0.735136949
                        ],
                        "passed_time": 32.91999475,
                        "remaining_time": 133.342605,
                        "test": [
                          0.525581493,
                          0.6892306611
                        ]
                      },
                      {
                        "iteration": 400,
                        "learn": [
                          0.5543533364,
                          0.7349752889
                        ],
                        "passed_time": 33.17943277,
                        "remaining_time": 132.3040224,
                        "test": [
                          0.5254304526,
                          0.6891267128
                        ]
                      },
                      {
                        "iteration": 405,
                        "learn": [
                          0.5541621284,
                          0.7348079052
                        ],
                        "passed_time": 33.44685369,
                        "remaining_time": 131.3159724,
                        "test": [
                          0.5252436942,
                          0.6890013577
                        ]
                      },
                      {
                        "iteration": 410,
                        "learn": [
                          0.5540282828,
                          0.7346654203
                        ],
                        "passed_time": 33.70536743,
                        "remaining_time": 130.3110191,
                        "test": [
                          0.5251309085,
                          0.6889112205
                        ]
                      },
                      {
                        "iteration": 415,
                        "learn": [
                          0.5538338713,
                          0.7344779303
                        ],
                        "passed_time": 33.98258209,
                        "remaining_time": 129.3952164,
                        "test": [
                          0.5250127448,
                          0.6888460036
                        ]
                      },
                      {
                        "iteration": 420,
                        "learn": [
                          0.5536877122,
                          0.7343287014
                        ],
                        "passed_time": 34.18006258,
                        "remaining_time": 128.1955316,
                        "test": [
                          0.5249156365,
                          0.6887761399
                        ]
                      },
                      {
                        "iteration": 425,
                        "learn": [
                          0.553482539,
                          0.7341493411
                        ],
                        "passed_time": 34.44352356,
                        "remaining_time": 127.2631598,
                        "test": [
                          0.5246788019,
                          0.6886186351
                        ]
                      },
                      {
                        "iteration": 430,
                        "learn": [
                          0.5533918403,
                          0.734065236
                        ],
                        "passed_time": 34.70506403,
                        "remaining_time": 126.3393166,
                        "test": [
                          0.5246117291,
                          0.6885810217
                        ]
                      },
                      {
                        "iteration": 435,
                        "learn": [
                          0.5532568434,
                          0.733929086
                        ],
                        "passed_time": 34.93881309,
                        "remaining_time": 125.3309717,
                        "test": [
                          0.5245208106,
                          0.688520379
                        ]
                      },
                      {
                        "iteration": 440,
                        "learn": [
                          0.5531096833,
                          0.7337854754
                        ],
                        "passed_time": 35.19146454,
                        "remaining_time": 124.4070141,
                        "test": [
                          0.5244104603,
                          0.688457078
                        ]
                      },
                      {
                        "iteration": 445,
                        "learn": [
                          0.552978841,
                          0.7336731866
                        ],
                        "passed_time": 35.47747503,
                        "remaining_time": 123.6143413,
                        "test": [
                          0.524316041,
                          0.6883880961
                        ]
                      },
                      {
                        "iteration": 450,
                        "learn": [
                          0.5528287777,
                          0.7335539887
                        ],
                        "passed_time": 35.71852055,
                        "remaining_time": 122.6784664,
                        "test": [
                          0.5241544982,
                          0.6882840942
                        ]
                      },
                      {
                        "iteration": 455,
                        "learn": [
                          0.5526585925,
                          0.7333783294
                        ],
                        "passed_time": 35.97859281,
                        "remaining_time": 121.8222528,
                        "test": [
                          0.5240288256,
                          0.6882010142
                        ]
                      },
                      {
                        "iteration": 460,
                        "learn": [
                          0.5524100722,
                          0.733160437
                        ],
                        "passed_time": 36.22349382,
                        "remaining_time": 120.9283232,
                        "test": [
                          0.5237248168,
                          0.6880012714
                        ]
                      },
                      {
                        "iteration": 465,
                        "learn": [
                          0.5523496064,
                          0.7330837975
                        ],
                        "passed_time": 36.47149406,
                        "remaining_time": 120.0585234,
                        "test": [
                          0.5237040658,
                          0.6879870755
                        ]
                      },
                      {
                        "iteration": 470,
                        "learn": [
                          0.5521900328,
                          0.7329240406
                        ],
                        "passed_time": 36.73047301,
                        "remaining_time": 119.2375652,
                        "test": [
                          0.5235812852,
                          0.687913732
                        ]
                      },
                      {
                        "iteration": 475,
                        "learn": [
                          0.5520117888,
                          0.7327579303
                        ],
                        "passed_time": 36.99506511,
                        "remaining_time": 118.4463849,
                        "test": [
                          0.523417916,
                          0.6878018025
                        ]
                      },
                      {
                        "iteration": 480,
                        "learn": [
                          0.5518174774,
                          0.7325169966
                        ],
                        "passed_time": 37.24977013,
                        "remaining_time": 117.634929,
                        "test": [
                          0.52331269,
                          0.6877230168
                        ]
                      },
                      {
                        "iteration": 485,
                        "learn": [
                          0.5517055556,
                          0.7323994217
                        ],
                        "passed_time": 37.78399031,
                        "remaining_time": 117.7056818,
                        "test": [
                          0.5232118272,
                          0.687646288
                        ]
                      },
                      {
                        "iteration": 490,
                        "learn": [
                          0.5515499363,
                          0.7322539047
                        ],
                        "passed_time": 38.51797681,
                        "remaining_time": 118.3780591,
                        "test": [
                          0.5230444498,
                          0.687539665
                        ]
                      },
                      {
                        "iteration": 495,
                        "learn": [
                          0.5513628828,
                          0.732089967
                        ],
                        "passed_time": 39.11953532,
                        "remaining_time": 118.6205265,
                        "test": [
                          0.5228793556,
                          0.6874261616
                        ]
                      },
                      {
                        "iteration": 500,
                        "learn": [
                          0.5512321406,
                          0.7319616557
                        ],
                        "passed_time": 39.69400511,
                        "remaining_time": 118.7650971,
                        "test": [
                          0.522805535,
                          0.6873925424
                        ]
                      },
                      {
                        "iteration": 505,
                        "learn": [
                          0.5511040012,
                          0.7318427605
                        ],
                        "passed_time": 40.24472274,
                        "remaining_time": 118.8253276,
                        "test": [
                          0.5227156312,
                          0.6873250776
                        ]
                      },
                      {
                        "iteration": 510,
                        "learn": [
                          0.5509700554,
                          0.731716458
                        ],
                        "passed_time": 40.89038224,
                        "remaining_time": 119.1502527,
                        "test": [
                          0.5225705775,
                          0.6872339454
                        ]
                      },
                      {
                        "iteration": 515,
                        "learn": [
                          0.5508592348,
                          0.7316294051
                        ],
                        "passed_time": 41.60885858,
                        "remaining_time": 119.6657871,
                        "test": [
                          0.5224831598,
                          0.6871789797
                        ]
                      },
                      {
                        "iteration": 520,
                        "learn": [
                          0.5506950562,
                          0.7314437715
                        ],
                        "passed_time": 41.86706844,
                        "remaining_time": 118.8510446,
                        "test": [
                          0.5224286695,
                          0.6871534333
                        ]
                      },
                      {
                        "iteration": 525,
                        "learn": [
                          0.5505270234,
                          0.7312732865
                        ],
                        "passed_time": 42.109805,
                        "remaining_time": 118.003522,
                        "test": [
                          0.5222832608,
                          0.687029749
                        ]
                      },
                      {
                        "iteration": 530,
                        "learn": [
                          0.5504067926,
                          0.7311339466
                        ],
                        "passed_time": 42.38749276,
                        "remaining_time": 117.2640807,
                        "test": [
                          0.5221913275,
                          0.6869657936
                        ]
                      },
                      {
                        "iteration": 535,
                        "learn": [
                          0.5502470188,
                          0.7310060153
                        ],
                        "passed_time": 42.62824369,
                        "remaining_time": 116.4323671,
                        "test": [
                          0.5220314083,
                          0.6868578093
                        ]
                      },
                      {
                        "iteration": 540,
                        "learn": [
                          0.5501443571,
                          0.730912817
                        ],
                        "passed_time": 42.89160835,
                        "remaining_time": 115.672563,
                        "test": [
                          0.5219831586,
                          0.6868338761
                        ]
                      },
                      {
                        "iteration": 545,
                        "learn": [
                          0.5500207225,
                          0.7307968334
                        ],
                        "passed_time": 43.16972278,
                        "remaining_time": 114.9611299,
                        "test": [
                          0.5218856444,
                          0.6867633275
                        ]
                      },
                      {
                        "iteration": 550,
                        "learn": [
                          0.5499309248,
                          0.7306832974
                        ],
                        "passed_time": 43.47271481,
                        "remaining_time": 114.3229832,
                        "test": [
                          0.5218212099,
                          0.6867214012
                        ]
                      },
                      {
                        "iteration": 555,
                        "learn": [
                          0.5497745547,
                          0.7305274008
                        ],
                        "passed_time": 43.73747269,
                        "remaining_time": 113.5915658,
                        "test": [
                          0.5216740254,
                          0.6866242406
                        ]
                      },
                      {
                        "iteration": 560,
                        "learn": [
                          0.5496744959,
                          0.7304344498
                        ],
                        "passed_time": 43.95374294,
                        "remaining_time": 112.7440929,
                        "test": [
                          0.5215669729,
                          0.6865422529
                        ]
                      },
                      {
                        "iteration": 565,
                        "learn": [
                          0.5494789831,
                          0.7302198604
                        ],
                        "passed_time": 44.24188404,
                        "remaining_time": 112.0898617,
                        "test": [
                          0.5214342988,
                          0.6864410757
                        ]
                      },
                      {
                        "iteration": 570,
                        "learn": [
                          0.5493867828,
                          0.7301154214
                        ],
                        "passed_time": 44.51297339,
                        "remaining_time": 111.3993677,
                        "test": [
                          0.5213798593,
                          0.6864019755
                        ]
                      },
                      {
                        "iteration": 575,
                        "learn": [
                          0.5492709067,
                          0.7299963626
                        ],
                        "passed_time": 44.78015415,
                        "remaining_time": 110.7064922,
                        "test": [
                          0.521323847,
                          0.6863582531
                        ]
                      },
                      {
                        "iteration": 580,
                        "learn": [
                          0.5491064278,
                          0.7298327408
                        ],
                        "passed_time": 45.02679473,
                        "remaining_time": 109.9707775,
                        "test": [
                          0.5211397775,
                          0.6862257752
                        ]
                      },
                      {
                        "iteration": 585,
                        "learn": [
                          0.5490066192,
                          0.7297105834
                        ],
                        "passed_time": 45.31485696,
                        "remaining_time": 109.3433579,
                        "test": [
                          0.5210917815,
                          0.6861864039
                        ]
                      },
                      {
                        "iteration": 590,
                        "learn": [
                          0.5488416397,
                          0.7295372234
                        ],
                        "passed_time": 45.59044658,
                        "remaining_time": 108.6919446,
                        "test": [
                          0.5209740744,
                          0.6861048076
                        ]
                      },
                      {
                        "iteration": 595,
                        "learn": [
                          0.5487322207,
                          0.7294255844
                        ],
                        "passed_time": 45.89327105,
                        "remaining_time": 108.1109942,
                        "test": [
                          0.5208925927,
                          0.6860438351
                        ]
                      },
                      {
                        "iteration": 600,
                        "learn": [
                          0.5486086863,
                          0.7293050403
                        ],
                        "passed_time": 46.14442026,
                        "remaining_time": 107.4143826,
                        "test": [
                          0.5208096397,
                          0.6859811191
                        ]
                      },
                      {
                        "iteration": 605,
                        "learn": [
                          0.5485375088,
                          0.7292386348
                        ],
                        "passed_time": 46.41656712,
                        "remaining_time": 106.7734234,
                        "test": [
                          0.5207477421,
                          0.6859296404
                        ]
                      },
                      {
                        "iteration": 610,
                        "learn": [
                          0.5484340963,
                          0.7291166181
                        ],
                        "passed_time": 46.6810701,
                        "remaining_time": 106.1211233,
                        "test": [
                          0.5206970063,
                          0.6859094842
                        ]
                      },
                      {
                        "iteration": 615,
                        "learn": [
                          0.548319872,
                          0.7290220111
                        ],
                        "passed_time": 46.91097412,
                        "remaining_time": 105.3973834,
                        "test": [
                          0.5205745301,
                          0.685824489
                        ]
                      },
                      {
                        "iteration": 620,
                        "learn": [
                          0.5481996913,
                          0.7288817601
                        ],
                        "passed_time": 47.17420575,
                        "remaining_time": 104.7556034,
                        "test": [
                          0.5204979698,
                          0.6857608281
                        ]
                      },
                      {
                        "iteration": 625,
                        "learn": [
                          0.5480837151,
                          0.7287910375
                        ],
                        "passed_time": 47.47630137,
                        "remaining_time": 104.2051727,
                        "test": [
                          0.5203780303,
                          0.6856713748
                        ]
                      },
                      {
                        "iteration": 630,
                        "learn": [
                          0.5479810534,
                          0.7286862564
                        ],
                        "passed_time": 47.71798966,
                        "remaining_time": 103.5276194,
                        "test": [
                          0.5202683396,
                          0.6856000776
                        ]
                      },
                      {
                        "iteration": 635,
                        "learn": [
                          0.5478316408,
                          0.7285602311
                        ],
                        "passed_time": 47.98354179,
                        "remaining_time": 102.9080991,
                        "test": [
                          0.5201367309,
                          0.6855007967
                        ]
                      },
                      {
                        "iteration": 640,
                        "learn": [
                          0.5477381391,
                          0.7284543861
                        ],
                        "passed_time": 48.24464453,
                        "remaining_time": 102.2846676,
                        "test": [
                          0.5200513933,
                          0.6854434344
                        ]
                      },
                      {
                        "iteration": 645,
                        "learn": [
                          0.5476089485,
                          0.7283233038
                        ],
                        "passed_time": 48.54276779,
                        "remaining_time": 101.744439,
                        "test": [
                          0.5199158273,
                          0.6853585294
                        ]
                      },
                      {
                        "iteration": 650,
                        "learn": [
                          0.5475429267,
                          0.7282333021
                        ],
                        "passed_time": 48.76578411,
                        "remaining_time": 101.052293,
                        "test": [
                          0.5198907638,
                          0.6853452783
                        ]
                      },
                      {
                        "iteration": 655,
                        "learn": [
                          0.5474168896,
                          0.7281004957
                        ],
                        "passed_time": 49.02594879,
                        "remaining_time": 100.4434073,
                        "test": [
                          0.5197819863,
                          0.6852462196
                        ]
                      },
                      {
                        "iteration": 660,
                        "learn": [
                          0.5473608286,
                          0.7280337053
                        ],
                        "passed_time": 49.27483465,
                        "remaining_time": 99.81694946,
                        "test": [
                          0.5197699112,
                          0.6852227484
                        ]
                      },
                      {
                        "iteration": 665,
                        "learn": [
                          0.5472654248,
                          0.7279574542
                        ],
                        "passed_time": 49.55500958,
                        "remaining_time": 99.258833,
                        "test": [
                          0.5196595101,
                          0.6851473317
                        ]
                      },
                      {
                        "iteration": 670,
                        "learn": [
                          0.5471402386,
                          0.7278592238
                        ],
                        "passed_time": 49.7795727,
                        "remaining_time": 98.59471255,
                        "test": [
                          0.5195248066,
                          0.6850533176
                        ]
                      },
                      {
                        "iteration": 675,
                        "learn": [
                          0.5470958403,
                          0.7278140065
                        ],
                        "passed_time": 49.99620864,
                        "remaining_time": 97.92156841,
                        "test": [
                          0.5194877187,
                          0.6850212114
                        ]
                      },
                      {
                        "iteration": 680,
                        "learn": [
                          0.5469651981,
                          0.7276885868
                        ],
                        "passed_time": 50.24115079,
                        "remaining_time": 97.30995285,
                        "test": [
                          0.5193393165,
                          0.6849234763
                        ]
                      },
                      {
                        "iteration": 685,
                        "learn": [
                          0.5468719467,
                          0.7275817206
                        ],
                        "passed_time": 50.54000289,
                        "remaining_time": 96.80694432,
                        "test": [
                          0.5192858917,
                          0.6848846968
                        ]
                      },
                      {
                        "iteration": 690,
                        "learn": [
                          0.5467427061,
                          0.7274366849
                        ],
                        "passed_time": 50.78809872,
                        "remaining_time": 96.21073984,
                        "test": [
                          0.5192071498,
                          0.6848228008
                        ]
                      },
                      {
                        "iteration": 695,
                        "learn": [
                          0.5466757332,
                          0.7273662895
                        ],
                        "passed_time": 51.02883932,
                        "remaining_time": 95.60575643,
                        "test": [
                          0.5191663075,
                          0.6847971665
                        ]
                      },
                      {
                        "iteration": 700,
                        "learn": [
                          0.5466049562,
                          0.7272757564
                        ],
                        "passed_time": 51.2410775,
                        "remaining_time": 94.95315218,
                        "test": [
                          0.5191040039,
                          0.6847562683
                        ]
                      },
                      {
                        "iteration": 705,
                        "learn": [
                          0.5465096024,
                          0.7271863822
                        ],
                        "passed_time": 51.55990404,
                        "remaining_time": 94.50214707,
                        "test": [
                          0.5189995896,
                          0.6846807261
                        ]
                      },
                      {
                        "iteration": 710,
                        "learn": [
                          0.5463935262,
                          0.7270564826
                        ],
                        "passed_time": 52.18557404,
                        "remaining_time": 94.60928964,
                        "test": [
                          0.5188706193,
                          0.6845996544
                        ]
                      },
                      {
                        "iteration": 715,
                        "learn": [
                          0.5462918655,
                          0.7269417428
                        ],
                        "passed_time": 52.95710875,
                        "remaining_time": 94.96777602,
                        "test": [
                          0.5187991325,
                          0.6845429207
                        ]
                      },
                      {
                        "iteration": 720,
                        "learn": [
                          0.5461853997,
                          0.7268163792
                        ],
                        "passed_time": 53.95633966,
                        "remaining_time": 95.71450545,
                        "test": [
                          0.5187351547,
                          0.6844790295
                        ]
                      },
                      {
                        "iteration": 725,
                        "learn": [
                          0.5460517543,
                          0.7266825218
                        ],
                        "passed_time": 54.67906723,
                        "remaining_time": 95.95197198,
                        "test": [
                          0.518633328,
                          0.6844106103
                        ]
                      },
                      {
                        "iteration": 730,
                        "learn": [
                          0.5459109011,
                          0.7265235275
                        ],
                        "passed_time": 55.06732297,
                        "remaining_time": 95.59566737,
                        "test": [
                          0.5185342917,
                          0.6843359196
                        ]
                      },
                      {
                        "iteration": 735,
                        "learn": [
                          0.5458484831,
                          0.7264621732
                        ],
                        "passed_time": 55.54706858,
                        "remaining_time": 95.39605257,
                        "test": [
                          0.5184634138,
                          0.684294067
                        ]
                      },
                      {
                        "iteration": 740,
                        "learn": [
                          0.5457859651,
                          0.7263793831
                        ],
                        "passed_time": 55.81362879,
                        "remaining_time": 94.83044351,
                        "test": [
                          0.5184547887,
                          0.6842836128
                        ]
                      },
                      {
                        "iteration": 745,
                        "learn": [
                          0.5456627311,
                          0.7262452728
                        ],
                        "passed_time": 56.09260221,
                        "remaining_time": 94.28970935,
                        "test": [
                          0.5183709732,
                          0.6842272607
                        ]
                      },
                      {
                        "iteration": 750,
                        "learn": [
                          0.5455764872,
                          0.7261320936
                        ],
                        "passed_time": 56.35216376,
                        "remaining_time": 93.72017647,
                        "test": [
                          0.5183425612,
                          0.6842022345
                        ]
                      },
                      {
                        "iteration": 755,
                        "learn": [
                          0.5454744762,
                          0.7260335472
                        ],
                        "passed_time": 56.63776919,
                        "remaining_time": 93.19759904,
                        "test": [
                          0.5182304858,
                          0.6841300054
                        ]
                      },
                      {
                        "iteration": 760,
                        "learn": [
                          0.5453633053,
                          0.7259143361
                        ],
                        "passed_time": 56.88543793,
                        "remaining_time": 92.61637003,
                        "test": [
                          0.5181105464,
                          0.6840571754
                        ]
                      },
                      {
                        "iteration": 765,
                        "learn": [
                          0.5452632965,
                          0.7257944158
                        ],
                        "passed_time": 57.13879448,
                        "remaining_time": 92.04865847,
                        "test": [
                          0.5180468222,
                          0.6840168634
                        ]
                      },
                      {
                        "iteration": 770,
                        "learn": [
                          0.545176502,
                          0.7257017898
                        ],
                        "passed_time": 57.34420356,
                        "remaining_time": 91.40859426,
                        "test": [
                          0.5180129307,
                          0.6839863033
                        ]
                      },
                      {
                        "iteration": 775,
                        "learn": [
                          0.5450370003,
                          0.7255419942
                        ],
                        "passed_time": 57.62574839,
                        "remaining_time": 90.89422169,
                        "test": [
                          0.5179044069,
                          0.6838756228
                        ]
                      },
                      {
                        "iteration": 780,
                        "learn": [
                          0.5449309849,
                          0.7254210808
                        ],
                        "passed_time": 57.90683758,
                        "remaining_time": 90.38211909,
                        "test": [
                          0.5178055735,
                          0.6838073288
                        ]
                      },
                      {
                        "iteration": 785,
                        "learn": [
                          0.5448409369,
                          0.7253129489
                        ],
                        "passed_time": 58.16596701,
                        "remaining_time": 89.8390381,
                        "test": [
                          0.5177420016,
                          0.683757727
                        ]
                      },
                      {
                        "iteration": 790,
                        "learn": [
                          0.5447709108,
                          0.7252204339
                        ],
                        "passed_time": 58.40912861,
                        "remaining_time": 89.27514094,
                        "test": [
                          0.517702377,
                          0.6837287136
                        ]
                      },
                      {
                        "iteration": 795,
                        "learn": [
                          0.5446733046,
                          0.7251161032
                        ],
                        "passed_time": 58.67603582,
                        "remaining_time": 88.75118986,
                        "test": [
                          0.517636877,
                          0.6836884935
                        ]
                      },
                      {
                        "iteration": 800,
                        "learn": [
                          0.5445850585,
                          0.7250194899
                        ],
                        "passed_time": 58.96574126,
                        "remaining_time": 88.264574,
                        "test": [
                          0.5175957303,
                          0.6836657481
                        ]
                      },
                      {
                        "iteration": 805,
                        "learn": [
                          0.5444982641,
                          0.7249293197
                        ],
                        "passed_time": 59.22216678,
                        "remaining_time": 87.73110067,
                        "test": [
                          0.51754951,
                          0.6836253388
                        ]
                      },
                      {
                        "iteration": 810,
                        "learn": [
                          0.5443939006,
                          0.7248302299
                        ],
                        "passed_time": 59.46666094,
                        "remaining_time": 87.183551,
                        "test": [
                          0.5174527569,
                          0.6835540137
                        ]
                      },
                      {
                        "iteration": 815,
                        "learn": [
                          0.544331833,
                          0.7247419354
                        ],
                        "passed_time": 59.76542758,
                        "remaining_time": 86.71846355,
                        "test": [
                          0.5174445377,
                          0.6835522324
                        ]
                      },
                      {
                        "iteration": 820,
                        "learn": [
                          0.5442420854,
                          0.7246493476
                        ],
                        "passed_time": 60.02624641,
                        "remaining_time": 86.20090685,
                        "test": [
                          0.5173737612,
                          0.6834817162
                        ]
                      },
                      {
                        "iteration": 825,
                        "learn": [
                          0.5442093998,
                          0.7246083164
                        ],
                        "passed_time": 60.27197569,
                        "remaining_time": 85.66501146,
                        "test": [
                          0.5173606714,
                          0.683468874
                        ]
                      },
                      {
                        "iteration": 830,
                        "learn": [
                          0.5440912713,
                          0.7244783001
                        ],
                        "passed_time": 60.54201756,
                        "remaining_time": 85.1668093,
                        "test": [
                          0.5172752323,
                          0.6833917418
                        ]
                      },
                      {
                        "iteration": 835,
                        "learn": [
                          0.544018342,
                          0.7243908264
                        ],
                        "passed_time": 60.8304236,
                        "remaining_time": 84.69690558,
                        "test": [
                          0.517247835,
                          0.6833708055
                        ]
                      },
                      {
                        "iteration": 840,
                        "learn": [
                          0.5439241395,
                          0.7242854778
                        ],
                        "passed_time": 61.07510513,
                        "remaining_time": 84.16890231,
                        "test": [
                          0.517195019,
                          0.6833285226
                        ]
                      },
                      {
                        "iteration": 845,
                        "learn": [
                          0.5438853473,
                          0.7242354759
                        ],
                        "passed_time": 61.29176944,
                        "remaining_time": 83.60603065,
                        "test": [
                          0.517169296,
                          0.6833075472
                        ]
                      },
                      {
                        "iteration": 850,
                        "learn": [
                          0.5438074125,
                          0.7241249204
                        ],
                        "passed_time": 61.55086545,
                        "remaining_time": 83.10451751,
                        "test": [
                          0.5171453487,
                          0.6832908035
                        ]
                      },
                      {
                        "iteration": 855,
                        "learn": [
                          0.5436954907,
                          0.7240076073
                        ],
                        "passed_time": 61.84633336,
                        "remaining_time": 82.65444552,
                        "test": [
                          0.5170838569,
                          0.6832397533
                        ]
                      },
                      {
                        "iteration": 860,
                        "learn": [
                          0.5435812664,
                          0.7238708449
                        ],
                        "passed_time": 62.09649463,
                        "remaining_time": 82.14623389,
                        "test": [
                          0.5170165813,
                          0.6831683508
                        ]
                      },
                      {
                        "iteration": 865,
                        "learn": [
                          0.5435118409,
                          0.7238093002
                        ],
                        "passed_time": 62.31177917,
                        "remaining_time": 81.59533208,
                        "test": [
                          0.516961127,
                          0.6831278007
                        ]
                      },
                      {
                        "iteration": 870,
                        "learn": [
                          0.5434518756,
                          0.7237404885
                        ],
                        "passed_time": 62.55034754,
                        "remaining_time": 81.07846426,
                        "test": [
                          0.516931751,
                          0.6830984263
                        ]
                      },
                      {
                        "iteration": 875,
                        "learn": [
                          0.5433076187,
                          0.7236015312
                        ],
                        "passed_time": 62.84047349,
                        "remaining_time": 80.63092717,
                        "test": [
                          0.51679446,
                          0.6829765334
                        ]
                      },
                      {
                        "iteration": 880,
                        "learn": [
                          0.5432412465,
                          0.7235144358
                        ],
                        "passed_time": 63.06183426,
                        "remaining_time": 80.09783488,
                        "test": [
                          0.5167552412,
                          0.6829468183
                        ]
                      },
                      {
                        "iteration": 885,
                        "learn": [
                          0.5431679667,
                          0.7234309278
                        ],
                        "passed_time": 63.29796118,
                        "remaining_time": 79.58682703,
                        "test": [
                          0.5166958296,
                          0.6829019459
                        ]
                      },
                      {
                        "iteration": 890,
                        "learn": [
                          0.5430103953,
                          0.723246685
                        ],
                        "passed_time": 63.55146734,
                        "remaining_time": 79.10053567,
                        "test": [
                          0.5166247995,
                          0.6828386442
                        ]
                      },
                      {
                        "iteration": 895,
                        "learn": [
                          0.5428905649,
                          0.7231011259
                        ],
                        "passed_time": 63.8278473,
                        "remaining_time": 78.64502614,
                        "test": [
                          0.5165606187,
                          0.6827920928
                        ]
                      },
                      {
                        "iteration": 900,
                        "learn": [
                          0.5428449153,
                          0.7230450886
                        ],
                        "passed_time": 64.05661448,
                        "remaining_time": 78.13342876,
                        "test": [
                          0.5165525517,
                          0.6827856281
                        ]
                      },
                      {
                        "iteration": 905,
                        "learn": [
                          0.5427171262,
                          0.722911329
                        ],
                        "passed_time": 64.30801454,
                        "remaining_time": 77.65228246,
                        "test": [
                          0.5164318005,
                          0.6826972713
                        ]
                      },
                      {
                        "iteration": 910,
                        "learn": [
                          0.5426731284,
                          0.7228497373
                        ],
                        "passed_time": 64.55490124,
                        "remaining_time": 77.16826284,
                        "test": [
                          0.5164031856,
                          0.682687833
                        ]
                      },
                      {
                        "iteration": 915,
                        "learn": [
                          0.542556051,
                          0.7227019859
                        ],
                        "passed_time": 64.82263628,
                        "remaining_time": 76.71150407,
                        "test": [
                          0.5163570667,
                          0.6826604093
                        ]
                      },
                      {
                        "iteration": 920,
                        "learn": [
                          0.5424498855,
                          0.7225934471
                        ],
                        "passed_time": 65.08917319,
                        "remaining_time": 76.255394,
                        "test": [
                          0.5162528047,
                          0.6825848581
                        ]
                      },
                      {
                        "iteration": 925,
                        "learn": [
                          0.5423374632,
                          0.7224369825
                        ],
                        "passed_time": 65.3496198,
                        "remaining_time": 75.79426746,
                        "test": [
                          0.5162052652,
                          0.682545537
                        ]
                      },
                      {
                        "iteration": 930,
                        "learn": [
                          0.5422813021,
                          0.7223699803
                        ],
                        "passed_time": 65.78363402,
                        "remaining_time": 75.53459159,
                        "test": [
                          0.5161565081,
                          0.682492907
                        ]
                      },
                      {
                        "iteration": 935,
                        "learn": [
                          0.5421676784,
                          0.7222412589
                        ],
                        "passed_time": 66.67657944,
                        "remaining_time": 75.79474414,
                        "test": [
                          0.5161031848,
                          0.6824481535
                        ]
                      },
                      {
                        "iteration": 940,
                        "learn": [
                          0.5421255826,
                          0.7221957938
                        ],
                        "passed_time": 67.42365825,
                        "remaining_time": 75.87848468,
                        "test": [
                          0.5160568123,
                          0.6824148839
                        ]
                      },
                      {
                        "iteration": 945,
                        "learn": [
                          0.5420167142,
                          0.722044789
                        ],
                        "passed_time": 68.29456326,
                        "remaining_time": 76.09140558,
                        "test": [
                          0.5160322055,
                          0.6823840662
                        ]
                      },
                      {
                        "iteration": 950,
                        "learn": [
                          0.5418980851,
                          0.7219067533
                        ],
                        "passed_time": 68.97303938,
                        "remaining_time": 76.0806712,
                        "test": [
                          0.5159706122,
                          0.6823357364
                        ]
                      },
                      {
                        "iteration": 955,
                        "learn": [
                          0.5418283092,
                          0.7218264226
                        ],
                        "passed_time": 69.7070396,
                        "remaining_time": 76.12358718,
                        "test": [
                          0.5159493539,
                          0.6823219061
                        ]
                      },
                      {
                        "iteration": 960,
                        "learn": [
                          0.5417416149,
                          0.7217001705
                        ],
                        "passed_time": 69.98778105,
                        "remaining_time": 75.66837098,
                        "test": [
                          0.5159440267,
                          0.6823020151
                        ]
                      },
                      {
                        "iteration": 965,
                        "learn": [
                          0.5416656823,
                          0.7215912728
                        ],
                        "passed_time": 70.24804609,
                        "remaining_time": 75.19304312,
                        "test": [
                          0.5159302773,
                          0.6822750592
                        ]
                      },
                      {
                        "iteration": 970,
                        "learn": [
                          0.5415683764,
                          0.7214554052
                        ],
                        "passed_time": 70.5084394,
                        "remaining_time": 74.72006606,
                        "test": [
                          0.5158857312,
                          0.6822172026
                        ]
                      },
                      {
                        "iteration": 975,
                        "learn": [
                          0.5414342805,
                          0.7213172567
                        ],
                        "passed_time": 70.76141979,
                        "remaining_time": 74.24148962,
                        "test": [
                          0.5157454468,
                          0.6821118508
                        ]
                      },
                      {
                        "iteration": 980,
                        "learn": [
                          0.5413024871,
                          0.7211566285
                        ],
                        "passed_time": 71.04631736,
                        "remaining_time": 73.79836636,
                        "test": [
                          0.5156857815,
                          0.6820605636
                        ]
                      },
                      {
                        "iteration": 985,
                        "learn": [
                          0.5411914663,
                          0.7210140491
                        ],
                        "passed_time": 71.31575636,
                        "remaining_time": 73.34095025,
                        "test": [
                          0.5156519407,
                          0.682036834
                        ]
                      },
                      {
                        "iteration": 990,
                        "learn": [
                          0.5411503215,
                          0.7209626401
                        ],
                        "passed_time": 71.55548211,
                        "remaining_time": 72.85517806,
                        "test": [
                          0.5156287544,
                          0.6820137359
                        ]
                      },
                      {
                        "iteration": 995,
                        "learn": [
                          0.541072637,
                          0.7208684559
                        ],
                        "passed_time": 71.80816566,
                        "remaining_time": 72.38493808,
                        "test": [
                          0.5155968924,
                          0.6819773577
                        ]
                      },
                      {
                        "iteration": 1000,
                        "learn": [
                          0.5410203802,
                          0.7208017245
                        ],
                        "passed_time": 72.07587333,
                        "remaining_time": 71.93186559,
                        "test": [
                          0.5155666538,
                          0.6819511701
                        ]
                      },
                      {
                        "iteration": 1005,
                        "learn": [
                          0.5409214225,
                          0.7206982126
                        ],
                        "passed_time": 72.34819081,
                        "remaining_time": 71.48519052,
                        "test": [
                          0.5155016613,
                          0.6818938813
                        ]
                      },
                      {
                        "iteration": 1010,
                        "learn": [
                          0.5408471917,
                          0.7206051399
                        ],
                        "passed_time": 72.60344409,
                        "remaining_time": 71.02354719,
                        "test": [
                          0.5154616815,
                          0.6818647886
                        ]
                      },
                      {
                        "iteration": 1015,
                        "learn": [
                          0.5407367716,
                          0.7204608883
                        ],
                        "passed_time": 72.85676073,
                        "remaining_time": 70.56205961,
                        "test": [
                          0.5154051618,
                          0.6818165709
                        ]
                      },
                      {
                        "iteration": 1020,
                        "learn": [
                          0.5406434701,
                          0.7203643454
                        ],
                        "passed_time": 73.13862988,
                        "remaining_time": 70.12998888,
                        "test": [
                          0.5153359582,
                          0.6817588614
                        ]
                      },
                      {
                        "iteration": 1025,
                        "learn": [
                          0.5405709412,
                          0.7202571917
                        ],
                        "passed_time": 73.39403521,
                        "remaining_time": 69.67425954,
                        "test": [
                          0.5153156639,
                          0.6817358656
                        ]
                      },
                      {
                        "iteration": 1030,
                        "learn": [
                          0.5404906038,
                          0.7201383103
                        ],
                        "passed_time": 73.60318767,
                        "remaining_time": 69.1770018,
                        "test": [
                          0.5152916659,
                          0.6817097431
                        ]
                      },
                      {
                        "iteration": 1035,
                        "learn": [
                          0.5404168235,
                          0.7200669581
                        ],
                        "passed_time": 73.84754138,
                        "remaining_time": 68.71527982,
                        "test": [
                          0.5152324065,
                          0.6816628542
                        ]
                      },
                      {
                        "iteration": 1040,
                        "learn": [
                          0.5403167146,
                          0.7199582306
                        ],
                        "passed_time": 74.14294898,
                        "remaining_time": 68.30267826,
                        "test": [
                          0.5151844104,
                          0.6816170041
                        ]
                      },
                      {
                        "iteration": 1045,
                        "learn": [
                          0.5402392803,
                          0.7198475397
                        ],
                        "passed_time": 74.3888241,
                        "remaining_time": 67.84602122,
                        "test": [
                          0.5151479821,
                          0.6815864109
                        ]
                      },
                      {
                        "iteration": 1050,
                        "learn": [
                          0.5401471801,
                          0.7197444469
                        ],
                        "passed_time": 74.64525694,
                        "remaining_time": 67.4009028,
                        "test": [
                          0.5150910058,
                          0.6815320691
                        ]
                      },
                      {
                        "iteration": 1055,
                        "learn": [
                          0.540070747,
                          0.719640157
                        ],
                        "passed_time": 74.89553195,
                        "remaining_time": 66.95206644,
                        "test": [
                          0.515077713,
                          0.6815206791
                        ]
                      },
                      {
                        "iteration": 1060,
                        "learn": [
                          0.540020242,
                          0.7195691728
                        ],
                        "passed_time": 75.18157755,
                        "remaining_time": 66.53675902,
                        "test": [
                          0.5150645217,
                          0.6815120434
                        ]
                      },
                      {
                        "iteration": 1065,
                        "learn": [
                          0.5399738916,
                          0.7195007556
                        ],
                        "passed_time": 75.4000193,
                        "remaining_time": 66.06343154,
                        "test": [
                          0.5150721321,
                          0.6815065716
                        ]
                      },
                      {
                        "iteration": 1070,
                        "learn": [
                          0.5398989601,
                          0.7194128854
                        ],
                        "passed_time": 75.64804262,
                        "remaining_time": 65.61814341,
                        "test": [
                          0.5150099807,
                          0.6814682306
                        ]
                      },
                      {
                        "iteration": 1075,
                        "learn": [
                          0.5398435998,
                          0.7193439663
                        ],
                        "passed_time": 75.88635141,
                        "remaining_time": 65.16634638,
                        "test": [
                          0.5149700009,
                          0.6814332751
                        ]
                      },
                      {
                        "iteration": 1080,
                        "learn": [
                          0.5397848359,
                          0.7192602873
                        ],
                        "passed_time": 76.14325036,
                        "remaining_time": 64.73232847,
                        "test": [
                          0.5149454956,
                          0.6814068432
                        ]
                      },
                      {
                        "iteration": 1085,
                        "learn": [
                          0.5397191144,
                          0.7191621565
                        ],
                        "passed_time": 76.3654658,
                        "remaining_time": 64.27075115,
                        "test": [
                          0.5149615788,
                          0.6813979455
                        ]
                      },
                      {
                        "iteration": 1090,
                        "learn": [
                          0.5396122982,
                          0.7190368984
                        ],
                        "passed_time": 76.63393187,
                        "remaining_time": 63.8499029,
                        "test": [
                          0.5149066319,
                          0.6813453759
                        ]
                      },
                      {
                        "iteration": 1095,
                        "learn": [
                          0.5395593906,
                          0.7189619907
                        ],
                        "passed_time": 76.91857706,
                        "remaining_time": 63.44378983,
                        "test": [
                          0.5148500615,
                          0.6813047172
                        ]
                      },
                      {
                        "iteration": 1100,
                        "learn": [
                          0.5394693927,
                          0.7188548369
                        ],
                        "passed_time": 77.20364761,
                        "remaining_time": 63.03912734,
                        "test": [
                          0.5148197215,
                          0.6812837912
                        ]
                      },
                      {
                        "iteration": 1105,
                        "learn": [
                          0.5393366483,
                          0.7186420484
                        ],
                        "passed_time": 77.46978777,
                        "remaining_time": 62.62024437,
                        "test": [
                          0.5147910051,
                          0.6812485284
                        ]
                      },
                      {
                        "iteration": 1110,
                        "learn": [
                          0.5392630182,
                          0.7185511126
                        ],
                        "passed_time": 77.72603081,
                        "remaining_time": 62.19481674,
                        "test": [
                          0.51475204,
                          0.6812109549
                        ]
                      },
                      {
                        "iteration": 1115,
                        "learn": [
                          0.5391704675,
                          0.7184365472
                        ],
                        "passed_time": 77.97712977,
                        "remaining_time": 61.76683039,
                        "test": [
                          0.5147201779,
                          0.6811914784
                        ]
                      },
                      {
                        "iteration": 1120,
                        "learn": [
                          0.5390879277,
                          0.718293637
                        ],
                        "passed_time": 78.2718579,
                        "remaining_time": 61.37463255,
                        "test": [
                          0.5147249471,
                          0.6811877543
                        ]
                      },
                      {
                        "iteration": 1125,
                        "learn": [
                          0.5390182519,
                          0.7182073267
                        ],
                        "passed_time": 78.52098628,
                        "remaining_time": 60.94790587,
                        "test": [
                          0.5146847643,
                          0.6811549817
                        ]
                      },
                      {
                        "iteration": 1130,
                        "learn": [
                          0.538969699,
                          0.718130799
                        ],
                        "passed_time": 78.76696954,
                        "remaining_time": 60.52033291,
                        "test": [
                          0.5146566567,
                          0.6811382969
                        ]
                      },
                      {
                        "iteration": 1135,
                        "learn": [
                          0.5389233486,
                          0.7180747572
                        ],
                        "passed_time": 79.01267817,
                        "remaining_time": 60.09414959,
                        "test": [
                          0.514641233,
                          0.6811211647
                        ]
                      },
                      {
                        "iteration": 1140,
                        "learn": [
                          0.5388119774,
                          0.7179347729
                        ],
                        "passed_time": 79.3042107,
                        "remaining_time": 59.70404645,
                        "test": [
                          0.5145950127,
                          0.6810742352
                        ]
                      },
                      {
                        "iteration": 1145,
                        "learn": [
                          0.5387263343,
                          0.7178230727
                        ],
                        "passed_time": 79.64794111,
                        "remaining_time": 59.35370131,
                        "test": [
                          0.5145577219,
                          0.681045629
                        ]
                      },
                      {
                        "iteration": 1150,
                        "learn": [
                          0.53863974,
                          0.7177205261
                        ],
                        "passed_time": 80.31518558,
                        "remaining_time": 59.24204392,
                        "test": [
                          0.5144827344,
                          0.6809804411
                        ]
                      },
                      {
                        "iteration": 1155,
                        "learn": [
                          0.5385934897,
                          0.7176493869
                        ],
                        "passed_time": 81.20179047,
                        "remaining_time": 59.2857363,
                        "test": [
                          0.5144809079,
                          0.6809843526
                        ]
                      },
                      {
                        "iteration": 1160,
                        "learn": [
                          0.5385483906,
                          0.7175876574
                        ],
                        "passed_time": 82.00696877,
                        "remaining_time": 59.26257261,
                        "test": [
                          0.5144752255,
                          0.6809707555
                        ]
                      },
                      {
                        "iteration": 1165,
                        "learn": [
                          0.538510149,
                          0.7175218417
                        ],
                        "passed_time": 82.81995067,
                        "remaining_time": 59.23828375,
                        "test": [
                          0.5144678181,
                          0.6809582013
                        ]
                      },
                      {
                        "iteration": 1170,
                        "learn": [
                          0.5384136941,
                          0.7173945529
                        ],
                        "passed_time": 83.66039127,
                        "remaining_time": 59.22669886,
                        "test": [
                          0.5144339266,
                          0.680938345
                        ]
                      },
                      {
                        "iteration": 1175,
                        "learn": [
                          0.5383365101,
                          0.7172994117
                        ],
                        "passed_time": 83.9498148,
                        "remaining_time": 58.82197907,
                        "test": [
                          0.5144009483,
                          0.6809109998
                        ]
                      },
                      {
                        "iteration": 1180,
                        "learn": [
                          0.5382875569,
                          0.7172353841
                        ],
                        "passed_time": 84.18715834,
                        "remaining_time": 58.38211912,
                        "test": [
                          0.5143575185,
                          0.6808683033
                        ]
                      },
                      {
                        "iteration": 1185,
                        "learn": [
                          0.5382460617,
                          0.7171927772
                        ],
                        "passed_time": 84.45102871,
                        "remaining_time": 57.96217316,
                        "test": [
                          0.5143309837,
                          0.6808489288
                        ]
                      },
                      {
                        "iteration": 1190,
                        "learn": [
                          0.538222386,
                          0.7171631498
                        ],
                        "passed_time": 84.68836919,
                        "remaining_time": 57.52551694,
                        "test": [
                          0.5143098268,
                          0.6808249707
                        ]
                      },
                      {
                        "iteration": 1195,
                        "learn": [
                          0.538135992,
                          0.7170442091
                        ],
                        "passed_time": 84.94779368,
                        "remaining_time": 57.10537301,
                        "test": [
                          0.5142748191,
                          0.6807965403
                        ]
                      },
                      {
                        "iteration": 1200,
                        "learn": [
                          0.5380480963,
                          0.7169243411
                        ],
                        "passed_time": 85.19337034,
                        "remaining_time": 56.67735462,
                        "test": [
                          0.5142591925,
                          0.68077422
                        ]
                      },
                      {
                        "iteration": 1205,
                        "learn": [
                          0.5379995435,
                          0.716862235
                        ],
                        "passed_time": 85.49132196,
                        "remaining_time": 56.28533137,
                        "test": [
                          0.514235296,
                          0.680751489
                        ]
                      },
                      {
                        "iteration": 1210,
                        "learn": [
                          0.5379664075,
                          0.7168296611
                        ],
                        "passed_time": 85.73272713,
                        "remaining_time": 55.85724336,
                        "test": [
                          0.5142174877,
                          0.680737701
                        ]
                      },
                      {
                        "iteration": 1215,
                        "learn": [
                          0.5379167534,
                          0.7167589573
                        ],
                        "passed_time": 85.97647364,
                        "remaining_time": 55.43220011,
                        "test": [
                          0.5142149509,
                          0.6807358377
                        ]
                      },
                      {
                        "iteration": 1220,
                        "learn": [
                          0.5378673497,
                          0.7166934845
                        ],
                        "passed_time": 86.20999337,
                        "remaining_time": 55.00211698,
                        "test": [
                          0.5141999331,
                          0.6807263722
                        ]
                      },
                      {
                        "iteration": 1225,
                        "learn": [
                          0.5378214998,
                          0.7166348158
                        ],
                        "passed_time": 86.50153395,
                        "remaining_time": 54.61026695,
                        "test": [
                          0.5141833932,
                          0.6807097514
                        ]
                      },
                      {
                        "iteration": 1230,
                        "learn": [
                          0.5377528751,
                          0.716533147
                        ],
                        "passed_time": 86.75521442,
                        "remaining_time": 54.19558074,
                        "test": [
                          0.5141449355,
                          0.6806766577
                        ]
                      },
                      {
                        "iteration": 1235,
                        "learn": [
                          0.537659924,
                          0.7164041105
                        ],
                        "passed_time": 87.0331242,
                        "remaining_time": 53.79717386,
                        "test": [
                          0.5141334692,
                          0.6806755769
                        ]
                      },
                      {
                        "iteration": 1240,
                        "learn": [
                          0.5376082678,
                          0.7163495058
                        ],
                        "passed_time": 87.27408071,
                        "remaining_time": 53.3771372,
                        "test": [
                          0.5141137837,
                          0.6806610419
                        ]
                      },
                      {
                        "iteration": 1245,
                        "learn": [
                          0.5375639696,
                          0.7162906691
                        ],
                        "passed_time": 87.53855353,
                        "remaining_time": 52.97276835,
                        "test": [
                          0.5141165235,
                          0.6806647316
                        ]
                      },
                      {
                        "iteration": 1250,
                        "learn": [
                          0.5374708183,
                          0.7161794463
                        ],
                        "passed_time": 87.82706118,
                        "remaining_time": 52.58390793,
                        "test": [
                          0.5140578222,
                          0.6806211624
                        ]
                      },
                      {
                        "iteration": 1255,
                        "learn": [
                          0.5374387333,
                          0.7161396074
                        ],
                        "passed_time": 88.06725639,
                        "remaining_time": 52.1672283,
                        "test": [
                          0.5140530023,
                          0.6806175098
                        ]
                      },
                      {
                        "iteration": 1260,
                        "learn": [
                          0.5373827725,
                          0.7160552393
                        ],
                        "passed_time": 88.31785402,
                        "remaining_time": 51.75804451,
                        "test": [
                          0.5140375786,
                          0.680602899
                        ]
                      },
                      {
                        "iteration": 1265,
                        "learn": [
                          0.5373233578,
                          0.7159887235
                        ],
                        "passed_time": 88.58016398,
                        "remaining_time": 51.35690392,
                        "test": [
                          0.5140062746,
                          0.6805711047
                        ]
                      },
                      {
                        "iteration": 1270,
                        "learn": [
                          0.5372822631,
                          0.7159312555
                        ],
                        "passed_time": 88.82587283,
                        "remaining_time": 50.94733383,
                        "test": [
                          0.5139797905,
                          0.6805589531
                        ]
                      },
                      {
                        "iteration": 1275,
                        "learn": [
                          0.5371989725,
                          0.7158415487
                        ],
                        "passed_time": 89.07044966,
                        "remaining_time": 50.53840561,
                        "test": [
                          0.5139066802,
                          0.6804963281
                        ]
                      },
                      {
                        "iteration": 1280,
                        "learn": [
                          0.5371401084,
                          0.7157776704
                        ],
                        "passed_time": 89.30732714,
                        "remaining_time": 50.12643888,
                        "test": [
                          0.5138948588,
                          0.6804772039
                        ]
                      },
                      {
                        "iteration": 1285,
                        "learn": [
                          0.5371000649,
                          0.7157279133
                        ],
                        "passed_time": 89.58411069,
                        "remaining_time": 49.73798992,
                        "test": [
                          0.5138817182,
                          0.6804668774
                        ]
                      },
                      {
                        "iteration": 1290,
                        "learn": [
                          0.5370399995,
                          0.7156387756
                        ],
                        "passed_time": 89.84034619,
                        "remaining_time": 49.33912119,
                        "test": [
                          0.5138927279,
                          0.6804646779
                        ]
                      },
                      {
                        "iteration": 1295,
                        "learn": [
                          0.5369900452,
                          0.715575054
                        ],
                        "passed_time": 90.0881725,
                        "remaining_time": 48.93678506,
                        "test": [
                          0.5138383899,
                          0.6804150933
                        ]
                      },
                      {
                        "iteration": 1300,
                        "learn": [
                          0.5369437448,
                          0.7155170281
                        ],
                        "passed_time": 90.33133118,
                        "remaining_time": 48.53312875,
                        "test": [
                          0.5138106881,
                          0.68039112
                        ]
                      },
                      {
                        "iteration": 1305,
                        "learn": [
                          0.5368813269,
                          0.715421987
                        ],
                        "passed_time": 90.61167077,
                        "remaining_time": 48.15045905,
                        "test": [
                          0.5137759848,
                          0.6803600987
                        ]
                      },
                      {
                        "iteration": 1310,
                        "learn": [
                          0.5368416838,
                          0.7153814762
                        ],
                        "passed_time": 90.84543408,
                        "remaining_time": 47.74409159,
                        "test": [
                          0.5137377808,
                          0.6803300829
                        ]
                      },
                      {
                        "iteration": 1315,
                        "learn": [
                          0.536816206,
                          0.7153568467
                        ],
                        "passed_time": 91.08732533,
                        "remaining_time": 47.34326028,
                        "test": [
                          0.5137161166,
                          0.6803140863
                        ]
                      },
                      {
                        "iteration": 1320,
                        "learn": [
                          0.5367471809,
                          0.7152601048
                        ],
                        "passed_time": 91.33573016,
                        "remaining_time": 46.94698015,
                        "test": [
                          0.5136761368,
                          0.6802835463
                        ]
                      },
                      {
                        "iteration": 1325,
                        "learn": [
                          0.536702182,
                          0.715209157
                        ],
                        "passed_time": 91.57531297,
                        "remaining_time": 46.54733103,
                        "test": [
                          0.5136698963,
                          0.680276312
                        ]
                      },
                      {
                        "iteration": 1330,
                        "learn": [
                          0.536671849,
                          0.7151736034
                        ],
                        "passed_time": 91.84393526,
                        "remaining_time": 46.16348061,
                        "test": [
                          0.5136540667,
                          0.6802554289
                        ]
                      },
                      {
                        "iteration": 1335,
                        "learn": [
                          0.536641566,
                          0.7151333234
                        ],
                        "passed_time": 92.06516892,
                        "remaining_time": 45.75694024,
                        "test": [
                          0.5136399115,
                          0.6802441667
                        ]
                      },
                      {
                        "iteration": 1340,
                        "learn": [
                          0.5365471133,
                          0.7150162502
                        ],
                        "passed_time": 92.31567278,
                        "remaining_time": 45.36616582,
                        "test": [
                          0.5135761873,
                          0.6801998993
                        ]
                      },
                      {
                        "iteration": 1345,
                        "learn": [
                          0.5364953569,
                          0.7149496027
                        ],
                        "passed_time": 92.52452117,
                        "remaining_time": 44.95619379,
                        "test": [
                          0.5135474201,
                          0.6801800209
                        ]
                      },
                      {
                        "iteration": 1350,
                        "learn": [
                          0.5364446518,
                          0.7148797281
                        ],
                        "passed_time": 92.78279773,
                        "remaining_time": 44.57145501,
                        "test": [
                          0.513532453,
                          0.6801674148
                        ]
                      },
                      {
                        "iteration": 1355,
                        "learn": [
                          0.5364081621,
                          0.7148278429
                        ],
                        "passed_time": 93.02782278,
                        "remaining_time": 44.18135536,
                        "test": [
                          0.5135257052,
                          0.6801610743
                        ]
                      },
                      {
                        "iteration": 1360,
                        "learn": [
                          0.5363837355,
                          0.7147932507
                        ],
                        "passed_time": 93.27101298,
                        "remaining_time": 43.79146017,
                        "test": [
                          0.5135347869,
                          0.6801632003
                        ]
                      },
                      {
                        "iteration": 1365,
                        "learn": [
                          0.5363214678,
                          0.7147257069
                        ],
                        "passed_time": 93.50923332,
                        "remaining_time": 43.4003323,
                        "test": [
                          0.5134847614,
                          0.6801322059
                        ]
                      },
                      {
                        "iteration": 1370,
                        "learn": [
                          0.5362769693,
                          0.7146561256
                        ],
                        "passed_time": 93.98535251,
                        "remaining_time": 43.11946516,
                        "test": [
                          0.5134607126,
                          0.6801068425
                        ]
                      },
                      {
                        "iteration": 1375,
                        "learn": [
                          0.5362037897,
                          0.714573824
                        ],
                        "passed_time": 94.93535182,
                        "remaining_time": 43.05207815,
                        "test": [
                          0.5134089621,
                          0.6800650654
                        ]
                      },
                      {
                        "iteration": 1380,
                        "learn": [
                          0.5361771608,
                          0.7145356118
                        ],
                        "passed_time": 95.67137899,
                        "remaining_time": 42.88239218,
                        "test": [
                          0.5134060195,
                          0.6800600669
                        ]
                      },
                      {
                        "iteration": 1385,
                        "learn": [
                          0.5361374676,
                          0.7144824405
                        ],
                        "passed_time": 96.58777004,
                        "remaining_time": 42.7885215,
                        "test": [
                          0.513392473,
                          0.6800426464
                        ]
                      },
                      {
                        "iteration": 1390,
                        "learn": [
                          0.5360691432,
                          0.7143967558
                        ],
                        "passed_time": 97.60565858,
                        "remaining_time": 42.73317475,
                        "test": [
                          0.5133726353,
                          0.6800182868
                        ]
                      },
                      {
                        "iteration": 1395,
                        "learn": [
                          0.5360295001,
                          0.7143475682
                        ],
                        "passed_time": 98.07059057,
                        "remaining_time": 42.43168818,
                        "test": [
                          0.5133459483,
                          0.6799994104
                        ]
                      },
                      {
                        "iteration": 1400,
                        "learn": [
                          0.5359287905,
                          0.7142152284
                        ],
                        "passed_time": 98.32964028,
                        "remaining_time": 42.04100966,
                        "test": [
                          0.513316623,
                          0.6799744897
                        ]
                      },
                      {
                        "iteration": 1405,
                        "learn": [
                          0.5358770342,
                          0.7141439853
                        ],
                        "passed_time": 98.56885107,
                        "remaining_time": 41.64288587,
                        "test": [
                          0.5132780131,
                          0.67993748
                        ]
                      },
                      {
                        "iteration": 1410,
                        "learn": [
                          0.5358155173,
                          0.7140638678
                        ],
                        "passed_time": 98.81897623,
                        "remaining_time": 41.25044436,
                        "test": [
                          0.5132532033,
                          0.6799134898
                        ]
                      },
                      {
                        "iteration": 1415,
                        "learn": [
                          0.5357525488,
                          0.7139609915
                        ],
                        "passed_time": 99.1047662,
                        "remaining_time": 40.87371713,
                        "test": [
                          0.5132484341,
                          0.6799086767
                        ]
                      },
                      {
                        "iteration": 1420,
                        "learn": [
                          0.5357142071,
                          0.7139038511
                        ],
                        "passed_time": 99.3549158,
                        "remaining_time": 40.48310784,
                        "test": [
                          0.5132525437,
                          0.6799116616
                        ]
                      },
                      {
                        "iteration": 1425,
                        "learn": [
                          0.5356212559,
                          0.71376915
                        ],
                        "passed_time": 99.61006105,
                        "remaining_time": 40.09549442,
                        "test": [
                          0.5132215441,
                          0.6798872227
                        ]
                      },
                      {
                        "iteration": 1430,
                        "learn": [
                          0.5355668467,
                          0.7136917607
                        ],
                        "passed_time": 99.85466039,
                        "remaining_time": 39.70461339,
                        "test": [
                          0.5132186014,
                          0.6798827453
                        ]
                      },
                      {
                        "iteration": 1435,
                        "learn": [
                          0.5355240502,
                          0.7136333011
                        ],
                        "passed_time": 100.1474288,
                        "remaining_time": 39.3336698,
                        "test": [
                          0.5132011483,
                          0.6798604695
                        ]
                      },
                      {
                        "iteration": 1440,
                        "learn": [
                          0.5355025768,
                          0.7136023335
                        ],
                        "passed_time": 100.3731287,
                        "remaining_time": 38.93725117,
                        "test": [
                          0.5131984086,
                          0.6798565516
                        ]
                      },
                      {
                        "iteration": 1445,
                        "learn": [
                          0.5354566268,
                          0.7135398681
                        ],
                        "passed_time": 100.6217592,
                        "remaining_time": 38.55079849,
                        "test": [
                          0.5131794334,
                          0.6798419619
                        ]
                      },
                      {
                        "iteration": 1450,
                        "learn": [
                          0.5354166333,
                          0.7134848688
                        ],
                        "passed_time": 100.8284595,
                        "remaining_time": 38.14943091,
                        "test": [
                          0.513177201,
                          0.6798374841
                        ]
                      },
                      {
                        "iteration": 1455,
                        "learn": [
                          0.5353749379,
                          0.7134261116
                        ],
                        "passed_time": 101.0813294,
                        "remaining_time": 37.76665056,
                        "test": [
                          0.5131658362,
                          0.6798323347
                        ]
                      },
                      {
                        "iteration": 1460,
                        "learn": [
                          0.5353550163,
                          0.7133979065
                        ],
                        "passed_time": 101.3254499,
                        "remaining_time": 37.3815315,
                        "test": [
                          0.5131628428,
                          0.6798233417
                        ]
                      },
                      {
                        "iteration": 1465,
                        "learn": [
                          0.5353304395,
                          0.7133669287
                        ],
                        "passed_time": 101.5719489,
                        "remaining_time": 36.99824058,
                        "test": [
                          0.5131602553,
                          0.6798189012
                        ]
                      },
                      {
                        "iteration": 1470,
                        "learn": [
                          0.5352586114,
                          0.7132657414
                        ],
                        "passed_time": 101.8321752,
                        "remaining_time": 36.62081625,
                        "test": [
                          0.5131463029,
                          0.6798167742
                        ]
                      },
                      {
                        "iteration": 1475,
                        "learn": [
                          0.5351891858,
                          0.71317405
                        ],
                        "passed_time": 102.1210006,
                        "remaining_time": 36.25433898,
                        "test": [
                          0.5130899355,
                          0.6797724789
                        ]
                      },
                      {
                        "iteration": 1480,
                        "learn": [
                          0.5351515449,
                          0.7131224969
                        ],
                        "passed_time": 102.3646603,
                        "remaining_time": 35.87255822,
                        "test": [
                          0.5130651764,
                          0.6797582605
                        ]
                      },
                      {
                        "iteration": 1485,
                        "learn": [
                          0.5350993381,
                          0.7130585153
                        ],
                        "passed_time": 102.6060322,
                        "remaining_time": 35.49091557,
                        "test": [
                          0.5130547756,
                          0.6797476991
                        ]
                      },
                      {
                        "iteration": 1490,
                        "learn": [
                          0.5350372205,
                          0.7129860685
                        ],
                        "passed_time": 102.8452909,
                        "remaining_time": 35.10949233,
                        "test": [
                          0.5130375254,
                          0.6797371749
                        ]
                      },
                      {
                        "iteration": 1495,
                        "learn": [
                          0.53499077,
                          0.7129458054
                        ],
                        "passed_time": 103.1408406,
                        "remaining_time": 34.74798372,
                        "test": [
                          0.5130064244,
                          0.6797159768
                        ]
                      },
                      {
                        "iteration": 1500,
                        "learn": [
                          0.5349612879,
                          0.7129191961
                        ],
                        "passed_time": 103.353514,
                        "remaining_time": 34.35936274,
                        "test": [
                          0.5129900367,
                          0.6797003763
                        ]
                      },
                      {
                        "iteration": 1505,
                        "learn": [
                          0.5348881083,
                          0.7128299177
                        ],
                        "passed_time": 103.6186739,
                        "remaining_time": 33.98912675,
                        "test": [
                          0.5129464547,
                          0.6796583502
                        ]
                      },
                      {
                        "iteration": 1510,
                        "learn": [
                          0.5348430092,
                          0.7127679465
                        ],
                        "passed_time": 103.8663697,
                        "remaining_time": 33.61393433,
                        "test": [
                          0.5129231162,
                          0.679639837
                        ]
                      },
                      {
                        "iteration": 1515,
                        "learn": [
                          0.5348175815,
                          0.7127235275
                        ],
                        "passed_time": 104.1304906,
                        "remaining_time": 33.24482682,
                        "test": [
                          0.5129136793,
                          0.6796309162
                        ]
                      },
                      {
                        "iteration": 1520,
                        "learn": [
                          0.5347754357,
                          0.7126649885
                        ],
                        "passed_time": 104.3777561,
                        "remaining_time": 32.87110135,
                        "test": [
                          0.5128964799,
                          0.6796208007
                        ]
                      },
                      {
                        "iteration": 1525,
                        "learn": [
                          0.5347168219,
                          0.7125743788
                        ],
                        "passed_time": 104.6263324,
                        "remaining_time": 32.49861177,
                        "test": [
                          0.5128743084,
                          0.6795954182
                        ]
                      },
                      {
                        "iteration": 1530,
                        "learn": [
                          0.534676428,
                          0.7125169867
                        ],
                        "passed_time": 104.8375276,
                        "remaining_time": 32.11548037,
                        "test": [
                          0.512865734,
                          0.6795843691
                        ]
                      },
                      {
                        "iteration": 1535,
                        "learn": [
                          0.5346257228,
                          0.7124643674
                        ],
                        "passed_time": 105.1478824,
                        "remaining_time": 31.7634228,
                        "test": [
                          0.5128277329,
                          0.6795593211
                        ]
                      },
                      {
                        "iteration": 1540,
                        "learn": [
                          0.5345671591,
                          0.7123775967
                        ],
                        "passed_time": 105.4004097,
                        "remaining_time": 31.39441145,
                        "test": [
                          0.5128029231,
                          0.6795355416
                        ]
                      },
                      {
                        "iteration": 1545,
                        "learn": [
                          0.5345454855,
                          0.7123425341
                        ],
                        "passed_time": 105.6193787,
                        "remaining_time": 31.01629878,
                        "test": [
                          0.5128082504,
                          0.679532891
                        ]
                      },
                      {
                        "iteration": 1550,
                        "learn": [
                          0.534502739,
                          0.7122845611
                        ],
                        "passed_time": 105.8439646,
                        "remaining_time": 30.64083823,
                        "test": [
                          0.5127987628,
                          0.6795216542
                        ]
                      },
                      {
                        "iteration": 1555,
                        "learn": [
                          0.5344478292,
                          0.7122292189
                        ],
                        "passed_time": 106.1048365,
                        "remaining_time": 30.27670142,
                        "test": [
                          0.5127556374,
                          0.6794883906
                        ]
                      },
                      {
                        "iteration": 1560,
                        "learn": [
                          0.534406284,
                          0.7121728884
                        ],
                        "passed_time": 106.3386924,
                        "remaining_time": 29.90562841,
                        "test": [
                          0.5127576161,
                          0.6794879799
                        ]
                      },
                      {
                        "iteration": 1565,
                        "learn": [
                          0.5343605843,
                          0.7121241798
                        ],
                        "passed_time": 106.5883584,
                        "remaining_time": 29.53981324,
                        "test": [
                          0.5127453887,
                          0.6794819318
                        ]
                      },
                      {
                        "iteration": 1570,
                        "learn": [
                          0.5343037225,
                          0.7120499508
                        ],
                        "passed_time": 106.8471907,
                        "remaining_time": 29.17724048,
                        "test": [
                          0.5127183465,
                          0.6794609497
                        ]
                      },
                      {
                        "iteration": 1575,
                        "learn": [
                          0.5342728388,
                          0.7120020774
                        ],
                        "passed_time": 107.0896343,
                        "remaining_time": 28.81091684,
                        "test": [
                          0.5127117509,
                          0.6794598296
                        ]
                      },
                      {
                        "iteration": 1580,
                        "learn": [
                          0.53424631,
                          0.7119586653
                        ],
                        "passed_time": 107.3967605,
                        "remaining_time": 28.46251906,
                        "test": [
                          0.5127130193,
                          0.6794608003
                        ]
                      },
                      {
                        "iteration": 1585,
                        "learn": [
                          0.5342226843,
                          0.711924707
                        ],
                        "passed_time": 107.6523834,
                        "remaining_time": 28.1009374,
                        "test": [
                          0.5127016545,
                          0.6794459781
                        ]
                      },
                      {
                        "iteration": 1590,
                        "learn": [
                          0.534196656,
                          0.7118848057
                        ],
                        "passed_time": 108.2514739,
                        "remaining_time": 27.82831731,
                        "test": [
                          0.5127013501,
                          0.6794445966
                        ]
                      },
                      {
                        "iteration": 1595,
                        "learn": [
                          0.5341680749,
                          0.7118494728
                        ],
                        "passed_time": 109.0889123,
                        "remaining_time": 27.61398531,
                        "test": [
                          0.5126962765,
                          0.6794361959
                        ]
                      },
                      {
                        "iteration": 1600,
                        "learn": [
                          0.5341058071,
                          0.7117637172
                        ],
                        "passed_time": 110.0681865,
                        "remaining_time": 27.43110957,
                        "test": [
                          0.5126896301,
                          0.67941749
                        ]
                      },
                      {
                        "iteration": 1605,
                        "learn": [
                          0.5340658637,
                          0.711702919
                        ],
                        "passed_time": 111.4134013,
                        "remaining_time": 27.33305114,
                        "test": [
                          0.5126836433,
                          0.6794100971
                        ]
                      },
                      {
                        "iteration": 1610,
                        "learn": [
                          0.5340209648,
                          0.7116477074
                        ],
                        "passed_time": 112.0192436,
                        "remaining_time": 27.04871867,
                        "test": [
                          0.5126768447,
                          0.6794033015
                        ]
                      },
                      {
                        "iteration": 1615,
                        "learn": [
                          0.5339509887,
                          0.7115617516
                        ],
                        "passed_time": 112.2726111,
                        "remaining_time": 26.67864027,
                        "test": [
                          0.5126438157,
                          0.6793695093
                        ]
                      },
                      {
                        "iteration": 1620,
                        "learn": [
                          0.533907191,
                          0.7114866197
                        ],
                        "passed_time": 112.5537277,
                        "remaining_time": 26.31576978,
                        "test": [
                          0.5126415833,
                          0.6793685758
                        ]
                      },
                      {
                        "iteration": 1625,
                        "learn": [
                          0.5338150908,
                          0.7113381968
                        ],
                        "passed_time": 112.7998807,
                        "remaining_time": 25.94536001,
                        "test": [
                          0.5126372708,
                          0.6793618918
                        ]
                      },
                      {
                        "iteration": 1630,
                        "learn": [
                          0.5337844575,
                          0.7112897829
                        ],
                        "passed_time": 113.048008,
                        "remaining_time": 25.57615878,
                        "test": [
                          0.5126192088,
                          0.6793413541
                        ]
                      },
                      {
                        "iteration": 1635,
                        "learn": [
                          0.5337444139,
                          0.7112341521
                        ],
                        "passed_time": 113.2931838,
                        "remaining_time": 25.20704089,
                        "test": [
                          0.5126032778,
                          0.6793240272
                        ]
                      },
                      {
                        "iteration": 1640,
                        "learn": [
                          0.5336962115,
                          0.7111691561
                        ],
                        "passed_time": 113.5699479,
                        "remaining_time": 24.84558885,
                        "test": [
                          0.5125964792,
                          0.679320629
                        ]
                      },
                      {
                        "iteration": 1645,
                        "learn": [
                          0.5336569688,
                          0.7111057731
                        ],
                        "passed_time": 113.8198477,
                        "remaining_time": 24.47887368,
                        "test": [
                          0.5126058146,
                          0.6793286577
                        ]
                      },
                      {
                        "iteration": 1650,
                        "learn": [
                          0.5336229317,
                          0.7110577657
                        ],
                        "passed_time": 114.0642402,
                        "remaining_time": 24.11170189,
                        "test": [
                          0.5126071844,
                          0.6793291432
                        ]
                      },
                      {
                        "iteration": 1655,
                        "learn": [
                          0.5335424442,
                          0.7109507231
                        ],
                        "passed_time": 114.3161143,
                        "remaining_time": 23.74682569,
                        "test": [
                          0.5126070322,
                          0.6793133471
                        ]
                      },
                      {
                        "iteration": 1660,
                        "learn": [
                          0.5334840807,
                          0.7108776037
                        ],
                        "passed_time": 114.6039234,
                        "remaining_time": 23.38996389,
                        "test": [
                          0.5125911519,
                          0.6793047581
                        ]
                      },
                      {
                        "iteration": 1665,
                        "learn": [
                          0.5334417847,
                          0.7108096879
                        ],
                        "passed_time": 114.8525784,
                        "remaining_time": 23.02566698,
                        "test": [
                          0.5125815121,
                          0.6792885506
                        ]
                      },
                      {
                        "iteration": 1670,
                        "learn": [
                          0.5334062961,
                          0.7107801818
                        ],
                        "passed_time": 115.0956839,
                        "remaining_time": 22.66096948,
                        "test": [
                          0.5125550788,
                          0.6792680107
                        ]
                      },
                      {
                        "iteration": 1675,
                        "learn": [
                          0.5333687552,
                          0.7107208137
                        ],
                        "passed_time": 115.3330863,
                        "remaining_time": 22.29589497,
                        "test": [
                          0.5125325521,
                          0.6792416066
                        ]
                      },
                      {
                        "iteration": 1680,
                        "learn": [
                          0.5333320152,
                          0.7106594685
                        ],
                        "passed_time": 115.5899262,
                        "remaining_time": 21.93526856,
                        "test": [
                          0.5125233182,
                          0.6792321203
                        ]
                      },
                      {
                        "iteration": 1685,
                        "learn": [
                          0.5333157475,
                          0.7106375632
                        ],
                        "passed_time": 115.8380586,
                        "remaining_time": 21.57363606,
                        "test": [
                          0.5125234196,
                          0.6792304023
                        ]
                      },
                      {
                        "iteration": 1690,
                        "learn": [
                          0.5332666942,
                          0.7105889607
                        ],
                        "passed_time": 116.09034,
                        "remaining_time": 21.21343291,
                        "test": [
                          0.5125018062,
                          0.6792162099
                        ]
                      },
                      {
                        "iteration": 1695,
                        "learn": [
                          0.5332447203,
                          0.7105488788
                        ],
                        "passed_time": 116.3301883,
                        "remaining_time": 20.85163753,
                        "test": [
                          0.5124907458,
                          0.6792087027
                        ]
                      },
                      {
                        "iteration": 1700,
                        "learn": [
                          0.5332015733,
                          0.7105054835
                        ],
                        "passed_time": 116.6060227,
                        "remaining_time": 20.49688465,
                        "test": [
                          0.5124696397,
                          0.6791903267
                        ]
                      },
                      {
                        "iteration": 1705,
                        "learn": [
                          0.5331900608,
                          0.7104940354
                        ],
                        "passed_time": 116.8413982,
                        "remaining_time": 20.13562196,
                        "test": [
                          0.5124736478,
                          0.6791909243
                        ]
                      },
                      {
                        "iteration": 1710,
                        "learn": [
                          0.5331781979,
                          0.7104832917
                        ],
                        "passed_time": 117.0610215,
                        "remaining_time": 19.77243437,
                        "test": [
                          0.5124712632,
                          0.6791914098
                        ]
                      },
                      {
                        "iteration": 1715,
                        "learn": [
                          0.5331481652,
                          0.7104433094
                        ],
                        "passed_time": 117.3003287,
                        "remaining_time": 19.41334111,
                        "test": [
                          0.5124667985,
                          0.6791768058
                        ]
                      },
                      {
                        "iteration": 1720,
                        "learn": [
                          0.5331281935,
                          0.7104218203
                        ],
                        "passed_time": 117.5389915,
                        "remaining_time": 19.0548394,
                        "test": [
                          0.5124676103,
                          0.6791716887
                        ]
                      },
                      {
                        "iteration": 1725,
                        "learn": [
                          0.5330943567,
                          0.7103758806
                        ],
                        "passed_time": 117.804558,
                        "remaining_time": 18.70130295,
                        "test": [
                          0.5124582241,
                          0.6791648907
                        ]
                      },
                      {
                        "iteration": 1730,
                        "learn": [
                          0.5330079126,
                          0.7102481568
                        ],
                        "passed_time": 118.1221463,
                        "remaining_time": 18.35635896,
                        "test": [
                          0.5124442718,
                          0.6791610809
                        ]
                      },
                      {
                        "iteration": 1735,
                        "learn": [
                          0.5329831857,
                          0.7102121081
                        ],
                        "passed_time": 118.3440945,
                        "remaining_time": 17.99702819,
                        "test": [
                          0.512447316,
                          0.6791567107
                        ]
                      },
                      {
                        "iteration": 1740,
                        "learn": [
                          0.5329590094,
                          0.7101847973
                        ],
                        "passed_time": 118.6245752,
                        "remaining_time": 17.64719412,
                        "test": [
                          0.5124451851,
                          0.6791536478
                        ]
                      },
                      {
                        "iteration": 1745,
                        "learn": [
                          0.5329138102,
                          0.7101259081
                        ],
                        "passed_time": 118.8521696,
                        "remaining_time": 17.29006362,
                        "test": [
                          0.5124366107,
                          0.6791458411
                        ]
                      },
                      {
                        "iteration": 1750,
                        "learn": [
                          0.5328938385,
                          0.7101001447
                        ],
                        "passed_time": 119.0757255,
                        "remaining_time": 16.93309861,
                        "test": [
                          0.5124098729,
                          0.6791214121
                        ]
                      },
                      {
                        "iteration": 1755,
                        "learn": [
                          0.5328508417,
                          0.7100480865
                        ],
                        "passed_time": 119.5732458,
                        "remaining_time": 16.61496126,
                        "test": [
                          0.5123721255,
                          0.679083422
                        ]
                      },
                      {
                        "iteration": 1760,
                        "learn": [
                          0.5328140016,
                          0.7099948612
                        ],
                        "passed_time": 119.9172156,
                        "remaining_time": 16.27496566,
                        "test": [
                          0.5123601519,
                          0.6790803961
                        ]
                      },
                      {
                        "iteration": 1765,
                        "learn": [
                          0.5327676012,
                          0.7099289056
                        ],
                        "passed_time": 120.1688773,
                        "remaining_time": 15.92271647,
                        "test": [
                          0.5123589342,
                          0.6790719162
                        ]
                      },
                      {
                        "iteration": 1770,
                        "learn": [
                          0.5327378187,
                          0.7098742611
                        ],
                        "passed_time": 120.7237186,
                        "remaining_time": 15.61023803,
                        "test": [
                          0.5123533533,
                          0.6790645943
                        ]
                      },
                      {
                        "iteration": 1775,
                        "learn": [
                          0.5326917186,
                          0.7098135832
                        ],
                        "passed_time": 120.9400897,
                        "remaining_time": 15.25370501,
                        "test": [
                          0.5123179397,
                          0.6790271988
                        ]
                      },
                      {
                        "iteration": 1780,
                        "learn": [
                          0.5326311527,
                          0.7097428856
                        ],
                        "passed_time": 121.1773653,
                        "remaining_time": 14.90052948,
                        "test": [
                          0.5123071837,
                          0.679021296
                        ]
                      },
                      {
                        "iteration": 1785,
                        "learn": [
                          0.5325805977,
                          0.7096827959
                        ],
                        "passed_time": 121.4120247,
                        "remaining_time": 14.5476894,
                        "test": [
                          0.5122634494,
                          0.6789836739
                        ]
                      },
                      {
                        "iteration": 1790,
                        "learn": [
                          0.5324966063,
                          0.7095561114
                        ],
                        "passed_time": 121.6801131,
                        "remaining_time": 14.19941018,
                        "test": [
                          0.5122676098,
                          0.6789796762
                        ]
                      },
                      {
                        "iteration": 1795,
                        "learn": [
                          0.5324657227,
                          0.7095152304
                        ],
                        "passed_time": 122.1300386,
                        "remaining_time": 13.87223155,
                        "test": [
                          0.5122601009,
                          0.678975417
                        ]
                      },
                      {
                        "iteration": 1800,
                        "learn": [
                          0.5323907411,
                          0.7094158574
                        ],
                        "passed_time": 122.9774641,
                        "remaining_time": 13.58829282,
                        "test": [
                          0.5122388933,
                          0.6789661138
                        ]
                      },
                      {
                        "iteration": 1805,
                        "learn": [
                          0.5323362819,
                          0.7093520707
                        ],
                        "passed_time": 123.7073132,
                        "remaining_time": 13.28860396,
                        "test": [
                          0.5122226071,
                          0.6789505334
                        ]
                      },
                      {
                        "iteration": 1810,
                        "learn": [
                          0.5322857269,
                          0.709280445
                        ],
                        "passed_time": 124.4778066,
                        "remaining_time": 12.99078159,
                        "test": [
                          0.5121953113,
                          0.6789302074
                        ]
                      },
                      {
                        "iteration": 1815,
                        "learn": [
                          0.5322439314,
                          0.709223104
                        ],
                        "passed_time": 125.4565052,
                        "remaining_time": 12.71145207,
                        "test": [
                          0.512159847,
                          0.6788857796
                        ]
                      },
                      {
                        "iteration": 1820,
                        "learn": [
                          0.5322231588,
                          0.7091898264
                        ],
                        "passed_time": 126.1633743,
                        "remaining_time": 12.40156178,
                        "test": [
                          0.5121613183,
                          0.6788883579
                        ]
                      },
                      {
                        "iteration": 1825,
                        "learn": [
                          0.5321878203,
                          0.7091368896
                        ],
                        "passed_time": 126.4069491,
                        "remaining_time": 12.04535003,
                        "test": [
                          0.5121418358,
                          0.6788681795
                        ]
                      },
                      {
                        "iteration": 1830,
                        "learn": [
                          0.5321673981,
                          0.7090997609
                        ],
                        "passed_time": 126.6411282,
                        "remaining_time": 11.68888622,
                        "test": [
                          0.5121369144,
                          0.6788611169
                        ]
                      },
                      {
                        "iteration": 1835,
                        "learn": [
                          0.532159039,
                          0.7090885372
                        ],
                        "passed_time": 126.8506963,
                        "remaining_time": 11.33089009,
                        "test": [
                          0.5121341747,
                          0.6788561469
                        ]
                      },
                      {
                        "iteration": 1840,
                        "learn": [
                          0.5321089345,
                          0.709009931
                        ],
                        "passed_time": 127.1284881,
                        "remaining_time": 10.9795924,
                        "test": [
                          0.5121353923,
                          0.6788512516
                        ]
                      },
                      {
                        "iteration": 1845,
                        "learn": [
                          0.5320591303,
                          0.7089454371
                        ],
                        "passed_time": 127.3777022,
                        "remaining_time": 10.62630885,
                        "test": [
                          0.5121284415,
                          0.6788438899
                        ]
                      },
                      {
                        "iteration": 1850,
                        "learn": [
                          0.5320329519,
                          0.708904309
                        ],
                        "passed_time": 127.6183473,
                        "remaining_time": 10.27289775,
                        "test": [
                          0.5121249407,
                          0.6788409004
                        ]
                      },
                      {
                        "iteration": 1855,
                        "learn": [
                          0.53200372,
                          0.7088747588
                        ],
                        "passed_time": 127.8498118,
                        "remaining_time": 9.919381949,
                        "test": [
                          0.5121037332,
                          0.6788320811
                        ]
                      },
                      {
                        "iteration": 1860,
                        "learn": [
                          0.5319631759,
                          0.7088149134
                        ],
                        "passed_time": 128.1403141,
                        "remaining_time": 9.570931574,
                        "test": [
                          0.5120572085,
                          0.6788003907
                        ]
                      },
                      {
                        "iteration": 1865,
                        "learn": [
                          0.5319280878,
                          0.7087643497
                        ],
                        "passed_time": 128.3525927,
                        "remaining_time": 9.217174393,
                        "test": [
                          0.5120636519,
                          0.6788079397
                        ]
                      },
                      {
                        "iteration": 1870,
                        "learn": [
                          0.531905363,
                          0.7087310859
                        ],
                        "passed_time": 128.6114802,
                        "remaining_time": 8.867386931,
                        "test": [
                          0.5120598467,
                          0.6787999796
                        ]
                      },
                      {
                        "iteration": 1875,
                        "learn": [
                          0.531867622,
                          0.7086797393
                        ],
                        "passed_time": 128.8581675,
                        "remaining_time": 8.517277599,
                        "test": [
                          0.5120634997,
                          0.6788044268
                        ]
                      },
                      {
                        "iteration": 1880,
                        "learn": [
                          0.5318192193,
                          0.7086276121
                        ],
                        "passed_time": 129.1504344,
                        "remaining_time": 8.170601643,
                        "test": [
                          0.5120308766,
                          0.6787745664
                        ]
                      },
                      {
                        "iteration": 1885,
                        "learn": [
                          0.5317814282,
                          0.7085808143
                        ],
                        "passed_time": 129.398001,
                        "remaining_time": 7.821512256,
                        "test": [
                          0.5120236721,
                          0.6787668301
                        ]
                      },
                      {
                        "iteration": 1890,
                        "learn": [
                          0.5317590038,
                          0.7085643196
                        ],
                        "passed_time": 129.6252099,
                        "remaining_time": 7.471786291,
                        "test": [
                          0.512006016,
                          0.6787570382
                        ]
                      },
                      {
                        "iteration": 1895,
                        "learn": [
                          0.5317412345,
                          0.7085465529
                        ],
                        "passed_time": 129.857511,
                        "remaining_time": 7.122985833,
                        "test": [
                          0.5120070815,
                          0.6787583089
                        ]
                      },
                      {
                        "iteration": 1900,
                        "learn": [
                          0.5317034934,
                          0.7084940625
                        ],
                        "passed_time": 130.1466589,
                        "remaining_time": 6.77775867,
                        "test": [
                          0.511981257,
                          0.6787346508
                        ]
                      },
                      {
                        "iteration": 1905,
                        "learn": [
                          0.5316541397,
                          0.7084402612
                        ],
                        "passed_time": 130.3907311,
                        "remaining_time": 6.430602689,
                        "test": [
                          0.5119571575,
                          0.6787171963
                        ]
                      },
                      {
                        "iteration": 1910,
                        "learn": [
                          0.5315833126,
                          0.7083259684
                        ],
                        "passed_time": 130.6502256,
                        "remaining_time": 6.084704383,
                        "test": [
                          0.5119514751,
                          0.6787097958
                        ]
                      },
                      {
                        "iteration": 1915,
                        "learn": [
                          0.531549626,
                          0.7082819776
                        ],
                        "passed_time": 130.8672487,
                        "remaining_time": 5.737395037,
                        "test": [
                          0.5119326014,
                          0.6786932751
                        ]
                      },
                      {
                        "iteration": 1920,
                        "learn": [
                          0.5315139372,
                          0.7082325067
                        ],
                        "passed_time": 131.1518856,
                        "remaining_time": 5.393544489,
                        "test": [
                          0.5119218454,
                          0.6786822112
                        ]
                      },
                      {
                        "iteration": 1925,
                        "learn": [
                          0.5314785987,
                          0.7081732077
                        ],
                        "passed_time": 131.3912258,
                        "remaining_time": 5.048261012,
                        "test": [
                          0.5119087555,
                          0.6786648675
                        ]
                      },
                      {
                        "iteration": 1930,
                        "learn": [
                          0.5314582766,
                          0.7081483629
                        ],
                        "passed_time": 131.6361038,
                        "remaining_time": 4.703724062,
                        "test": [
                          0.5119003334,
                          0.6786570179
                        ]
                      },
                      {
                        "iteration": 1935,
                        "learn": [
                          0.5314095236,
                          0.7080730809
                        ],
                        "passed_time": 131.8762172,
                        "remaining_time": 4.359544371,
                        "test": [
                          0.5118944988,
                          0.6786609053
                        ]
                      },
                      {
                        "iteration": 1940,
                        "learn": [
                          0.5313769381,
                          0.7080319021
                        ],
                        "passed_time": 132.1633667,
                        "remaining_time": 4.017330569,
                        "test": [
                          0.5118724794,
                          0.6786409819
                        ]
                      },
                      {
                        "iteration": 1945,
                        "learn": [
                          0.5313274342,
                          0.7079535675
                        ],
                        "passed_time": 132.3781498,
                        "remaining_time": 3.67339162,
                        "test": [
                          0.5118739,
                          0.6786375802
                        ]
                      },
                      {
                        "iteration": 1950,
                        "learn": [
                          0.531273926,
                          0.70787381
                        ],
                        "passed_time": 132.6347886,
                        "remaining_time": 3.331165885,
                        "test": [
                          0.5118573602,
                          0.6786376176
                        ]
                      },
                      {
                        "iteration": 1955,
                        "learn": [
                          0.5312213688,
                          0.7077951396
                        ],
                        "passed_time": 132.875082,
                        "remaining_time": 2.989010025,
                        "test": [
                          0.5118635499,
                          0.6786401221
                        ]
                      },
                      {
                        "iteration": 1960,
                        "learn": [
                          0.5311956409,
                          0.7077611584
                        ],
                        "passed_time": 133.1382621,
                        "remaining_time": 2.647828772,
                        "test": [
                          0.5118538087,
                          0.6786262164
                        ]
                      },
                      {
                        "iteration": 1965,
                        "learn": [
                          0.5311670097,
                          0.7077249477
                        ],
                        "passed_time": 133.3633535,
                        "remaining_time": 2.306385564,
                        "test": [
                          0.5118288467,
                          0.678597993
                        ]
                      },
                      {
                        "iteration": 1970,
                        "learn": [
                          0.5311417322,
                          0.7076790451
                        ],
                        "passed_time": 133.5784493,
                        "remaining_time": 1.965385606,
                        "test": [
                          0.511830318,
                          0.6785975818
                        ]
                      },
                      {
                        "iteration": 1975,
                        "learn": [
                          0.5310976342,
                          0.7076246513
                        ],
                        "passed_time": 133.8079384,
                        "remaining_time": 1.625197633,
                        "test": [
                          0.5117988111,
                          0.6785729834
                        ]
                      },
                      {
                        "iteration": 1980,
                        "learn": [
                          0.531078163,
                          0.7075986554
                        ],
                        "passed_time": 134.0573768,
                        "remaining_time": 1.285759797,
                        "test": [
                          0.5117936868,
                          0.6785670393
                        ]
                      },
                      {
                        "iteration": 1985,
                        "learn": [
                          0.5310261064,
                          0.7075411073
                        ],
                        "passed_time": 134.3326336,
                        "remaining_time": 0.946957135,
                        "test": [
                          0.511758121,
                          0.6785302146
                        ]
                      },
                      {
                        "iteration": 1990,
                        "learn": [
                          0.5309949725,
                          0.7074996146
                        ],
                        "passed_time": 134.5734655,
                        "remaining_time": 0.6083180257,
                        "test": [
                          0.511761774,
                          0.6785344393
                        ]
                      },
                      {
                        "iteration": 1995,
                        "learn": [
                          0.5309736493,
                          0.7074631428
                        ],
                        "passed_time": 134.8212255,
                        "remaining_time": 0.2701828166,
                        "test": [
                          0.5117540621,
                          0.6785273732
                        ]
                      },
                      {
                        "iteration": 1999,
                        "learn": [
                          0.5309451683,
                          0.707421504
                        ],
                        "passed_time": 135.0112312,
                        "remaining_time": 0,
                        "test": [
                          0.5117286942,
                          0.6785127922
                        ]
                      }
                    ],
                    "meta": {
                      "iteration_count": 2000,
                      "launch_mode": "Train",
                      "learn_metrics": [
                        {
                          "best_value": "Min",
                          "name": "MAE"
                        },
                        {
                          "best_value": "Min",
                          "name": "RMSE"
                        }
                      ],
                      "learn_sets": [
                        "learn"
                      ],
                      "name": "experiment",
                      "parameters": "",
                      "test_metrics": [
                        {
                          "best_value": "Min",
                          "name": "MAE"
                        },
                        {
                          "best_value": "Min",
                          "name": "RMSE"
                        }
                      ],
                      "test_sets": [
                        "test"
                      ]
                    }
                  },
                  "passed_iterations": 1999,
                  "total_iterations": 2000
                },
                "name": "catboost_info",
                "path": "catboost_info"
              }
            },
            "layout": "IPY_MODEL_d747a9b02ca14a10b351eb2d6a75c925"
          }
        }
      }
    }
  },
  "nbformat": 4,
  "nbformat_minor": 0
}
